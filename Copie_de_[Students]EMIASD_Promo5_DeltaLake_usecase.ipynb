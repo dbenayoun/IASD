{
  "nbformat": 4,
  "nbformat_minor": 0,
  "metadata": {
    "colab": {
      "provenance": [],
      "collapsed_sections": [
        "uEE-92qgTQ4p"
      ],
      "toc_visible": true,
      "include_colab_link": true
    },
    "kernelspec": {
      "name": "python3",
      "display_name": "Python 3"
    },
    "language_info": {
      "name": "python"
    }
  },
  "cells": [
    {
      "cell_type": "markdown",
      "metadata": {
        "id": "view-in-github",
        "colab_type": "text"
      },
      "source": [
        "<a href=\"https://colab.research.google.com/github/dbenayoun/IASD/blob/main/Copie_de_%5BStudents%5DEMIASD_Promo5_DeltaLake_usecase.ipynb\" target=\"_parent\"><img src=\"https://colab.research.google.com/assets/colab-badge.svg\" alt=\"Open In Colab\"/></a>"
      ]
    },
    {
      "cell_type": "markdown",
      "source": [
        "* Formation Continue EMIASD, Univ. Paris Dauphine, Promo 5\n",
        "* Author: Mohamed-Amine Baazizi\n",
        "* Affiliation: LIP6 - Faculté des Sciences - Sorbonne Université\n",
        "* Email: mohamed-amine.baazizi@lip6.fr\n",
        "* Reusing without consent of the author is strictly forbidden\n",
        "* October 2024\n",
        "\n"
      ],
      "metadata": {
        "id": "GwjrdGLoXzly"
      }
    },
    {
      "cell_type": "markdown",
      "source": [
        "# Homework\n"
      ],
      "metadata": {
        "id": "GunJfIR6YM_h"
      }
    },
    {
      "cell_type": "markdown",
      "source": [
        "## Outline"
      ],
      "metadata": {
        "id": "-kfCqy7EtbGd"
      }
    },
    {
      "cell_type": "markdown",
      "source": [
        "This homework is about building an effective data preparation pipeline.\n",
        "It covers the following aspects covered throughout the session:\n",
        "\n",
        "* ingest raw data, curate it, transform it\n",
        "* load the data into delta tables to enforce constraints and allow updates\n",
        "* chose an optimal data layout to speedup query evaluation\n",
        "\n",
        "It is based on raw data about car prices crawled from a public source.\n",
        "\n",
        "You are kindly asked to understand the data and decide about a relevant analysis (2 or 3 analytical queries) that can be performed on this data.\n",
        "For example, you could suggest to derive insights (min, max, avg) about the price per year of registration.\n",
        "You can use any other descriptive column that you may find useful.\n",
        "You are also kindly invited to briefly comment the choices you made at each phase.\n",
        "\n",
        "\n",
        "\n",
        "\n",
        "\n",
        "\n"
      ],
      "metadata": {
        "id": "GpI9l0JZYRdh"
      }
    },
    {
      "cell_type": "markdown",
      "source": [
        "## Prerequisite"
      ],
      "metadata": {
        "id": "csSU_SanYPJQ"
      }
    },
    {
      "cell_type": "markdown",
      "source": [
        "### System setup"
      ],
      "metadata": {
        "id": "BYxx4XY_TN0H"
      }
    },
    {
      "cell_type": "code",
      "execution_count": null,
      "metadata": {
        "id": "mW_DrY7ZlUj_"
      },
      "outputs": [],
      "source": [
        "%%capture\n",
        "!pip install -q pyspark\n",
        "!pip install -q delta-spark\n",
        "!pip install pyngrok"
      ]
    },
    {
      "cell_type": "code",
      "source": [
        "!pip list|grep spark"
      ],
      "metadata": {
        "colab": {
          "base_uri": "https://localhost:8080/"
        },
        "id": "o1YXYF4nWHNE",
        "outputId": "c75fca0c-a3fe-45eb-f205-dde7410295f3"
      },
      "execution_count": null,
      "outputs": [
        {
          "output_type": "stream",
          "name": "stdout",
          "text": [
            "delta-spark                        3.2.1\n",
            "pyspark                            3.5.3\n"
          ]
        }
      ]
    },
    {
      "cell_type": "code",
      "source": [
        "from pyspark import SparkConf\n",
        "from pyspark.context import SparkContext\n",
        "from pyspark.sql import SparkSession\n",
        "\n",
        "local = \"local[*]\"\n",
        "appName = \"Formation Continue EMIASD - Delta Lake \"\n",
        "localConfig = SparkConf().setAppName(appName).setMaster(local).\\\n",
        "  set(\"spark.executor.memory\", \"8G\").\\\n",
        "  set(\"spark.driver.memory\",\"8G\").\\\n",
        "  set(\"spark.sql.catalogImplementation\",\"in-memory\").\\\n",
        "  set(\"spark.sql.extensions\",\"io.delta.sql.DeltaSparkSessionExtension\").\\\n",
        "  set(\"spark.sql.catalog.spark_catalog\",\"org.apache.spark.sql.delta.catalog.DeltaCatalog\").\\\n",
        "  set(\"spark.jars.packages\",\"io.delta:delta-spark_2.12:3.1.0\").\\\n",
        "  set(\"spark.databricks.delta.schema.autoMerge.enabled\",\"true\")\n",
        "\n",
        "\n",
        "spark = SparkSession.builder.config(conf = localConfig).getOrCreate()\n",
        "sc = spark.sparkContext\n",
        "sc.setLogLevel(\"ERROR\")"
      ],
      "metadata": {
        "id": "ZGcYc-DKqpUi"
      },
      "execution_count": null,
      "outputs": []
    },
    {
      "cell_type": "code",
      "source": [
        "spark"
      ],
      "metadata": {
        "id": "tvPytoK4Xl3t",
        "colab": {
          "base_uri": "https://localhost:8080/",
          "height": 219
        },
        "outputId": "626fed7c-c94c-40fc-e4c9-efc99f9ee38c"
      },
      "execution_count": null,
      "outputs": [
        {
          "output_type": "execute_result",
          "data": {
            "text/plain": [
              "<pyspark.sql.session.SparkSession at 0x7f655a4a7070>"
            ],
            "text/html": [
              "\n",
              "            <div>\n",
              "                <p><b>SparkSession - in-memory</b></p>\n",
              "                \n",
              "        <div>\n",
              "            <p><b>SparkContext</b></p>\n",
              "\n",
              "            <p><a href=\"http://d9479896ecc6:4040\">Spark UI</a></p>\n",
              "\n",
              "            <dl>\n",
              "              <dt>Version</dt>\n",
              "                <dd><code>v3.5.3</code></dd>\n",
              "              <dt>Master</dt>\n",
              "                <dd><code>local[*]</code></dd>\n",
              "              <dt>AppName</dt>\n",
              "                <dd><code>Formation Continue EMIASD - Delta Lake </code></dd>\n",
              "            </dl>\n",
              "        </div>\n",
              "        \n",
              "            </div>\n",
              "        "
            ]
          },
          "metadata": {},
          "execution_count": 4
        }
      ]
    },
    {
      "cell_type": "markdown",
      "source": [
        "### Data import"
      ],
      "metadata": {
        "id": "uEE-92qgTQ4p"
      }
    },
    {
      "cell_type": "code",
      "source": [
        "%%capture\n",
        "!wget --no-verbose https://nuage.lip6.fr/s/89BG8HD9r3iE693/download/MLData.tgz -O /tmp/MLData.tgz\n",
        "!tar -xzvf /tmp/MLData.tgz  --directory /tmp/"
      ],
      "metadata": {
        "id": "95fudS-iTbB5"
      },
      "execution_count": null,
      "outputs": []
    },
    {
      "cell_type": "code",
      "source": [
        "!ls -hal /tmp/MLData"
      ],
      "metadata": {
        "colab": {
          "base_uri": "https://localhost:8080/"
        },
        "id": "qiJOcxz1bLJ2",
        "outputId": "cb526fb8-de66-45ef-b0f1-da0841917ffd"
      },
      "execution_count": null,
      "outputs": [
        {
          "output_type": "stream",
          "name": "stdout",
          "text": [
            "total 73M\n",
            "drwxr-xr-x 2  501 staff 4.0K Jan  6  2022 .\n",
            "drwxrwxrwt 1 root root  4.0K May 18 11:19 ..\n",
            "-rw-r--r-- 1  501 staff  66M Jan  6  2022 autos.csv\n",
            "-rw-r--r-- 1  501 staff  176 Jan  6  2022 ._loan.csv\n",
            "-rw-r--r-- 1  501 staff 6.8M Jan  6  2022 loan.csv\n"
          ]
        }
      ]
    },
    {
      "cell_type": "code",
      "source": [
        "query = \"\"\"\n",
        "CREATE TABLE IF NOT EXISTS raw_vehiculePrices\n",
        "USING csv\n",
        "OPTIONS (\n",
        "  header \"true\",\n",
        "  path \"/tmp/MLData/autos.csv\",\n",
        "  inferSchema \"true\"\n",
        ")\n",
        "\"\"\"\n",
        "spark.sql(query)"
      ],
      "metadata": {
        "id": "lDEBF-MkYhvh",
        "colab": {
          "base_uri": "https://localhost:8080/"
        },
        "outputId": "1e2f26a6-5a88-49b8-a7f5-ec2a6a42ee3a"
      },
      "execution_count": null,
      "outputs": [
        {
          "output_type": "execute_result",
          "data": {
            "text/plain": [
              "DataFrame[]"
            ]
          },
          "metadata": {},
          "execution_count": 6
        }
      ]
    },
    {
      "cell_type": "markdown",
      "source": [
        "## Phase 0: Understanding the data"
      ],
      "metadata": {
        "id": "0EKaX3uGYiJg"
      }
    },
    {
      "cell_type": "markdown",
      "source": [
        "In this part, you are invited to get some knowledge about the data by reading its schema and extracting  some basic statistical information about the values of columns that you will find interesting."
      ],
      "metadata": {
        "id": "h9yzUuD7uvrD"
      }
    },
    {
      "cell_type": "code",
      "source": [
        "query = \"\"\"\n",
        "DESCRIBE raw_vehiculePrices\n",
        "\"\"\"\n",
        "spark.sql(query).show()"
      ],
      "metadata": {
        "colab": {
          "base_uri": "https://localhost:8080/"
        },
        "id": "Eb6-J0azcBma",
        "outputId": "049f411c-228e-43f6-e5a5-8ad7e3fdb1b7"
      },
      "execution_count": null,
      "outputs": [
        {
          "output_type": "stream",
          "name": "stdout",
          "text": [
            "+-------------------+---------+-------+\n",
            "|           col_name|data_type|comment|\n",
            "+-------------------+---------+-------+\n",
            "|        dateCrawled|timestamp|   NULL|\n",
            "|               name|   string|   NULL|\n",
            "|             seller|   string|   NULL|\n",
            "|          offerType|   string|   NULL|\n",
            "|              price|      int|   NULL|\n",
            "|             abtest|   string|   NULL|\n",
            "|        vehicleType|   string|   NULL|\n",
            "| yearOfRegistration|      int|   NULL|\n",
            "|            gearbox|   string|   NULL|\n",
            "|            powerPS|      int|   NULL|\n",
            "|              model|   string|   NULL|\n",
            "|          kilometer|      int|   NULL|\n",
            "|monthOfRegistration|      int|   NULL|\n",
            "|           fuelType|   string|   NULL|\n",
            "|              brand|   string|   NULL|\n",
            "|  notRepairedDamage|   string|   NULL|\n",
            "|        dateCreated|timestamp|   NULL|\n",
            "|       nrOfPictures|      int|   NULL|\n",
            "|         postalCode|      int|   NULL|\n",
            "|           lastSeen|timestamp|   NULL|\n",
            "+-------------------+---------+-------+\n",
            "\n"
          ]
        }
      ]
    },
    {
      "cell_type": "code",
      "source": [
        "query = \"\"\"\n",
        "SELECT * FROM raw_vehiculePrices TABLESAMPLE (5 ROWS);\n",
        "\"\"\"\n",
        "spark.sql(query).show()\n"
      ],
      "metadata": {
        "colab": {
          "base_uri": "https://localhost:8080/"
        },
        "id": "XeJDgTnicSx0",
        "outputId": "5f57fbc5-35c1-4387-d901-99982afebbe1"
      },
      "execution_count": null,
      "outputs": [
        {
          "output_type": "stream",
          "name": "stdout",
          "text": [
            "+-------------------+--------------------+------+---------+-----+------+-----------+------------------+---------+-------+-----+---------+-------------------+--------+----------+-----------------+-------------------+------------+----------+-------------------+\n",
            "|        dateCrawled|                name|seller|offerType|price|abtest|vehicleType|yearOfRegistration|  gearbox|powerPS|model|kilometer|monthOfRegistration|fuelType|     brand|notRepairedDamage|        dateCreated|nrOfPictures|postalCode|           lastSeen|\n",
            "+-------------------+--------------------+------+---------+-----+------+-----------+------------------+---------+-------+-----+---------+-------------------+--------+----------+-----------------+-------------------+------------+----------+-------------------+\n",
            "|2016-03-24 11:52:17|          Golf_3_1.6|privat|  Angebot|  480|  test|       NULL|              1993|  manuell|      0| golf|   150000|                  0|  benzin|volkswagen|             NULL|2016-03-24 00:00:00|           0|     70435|2016-04-07 03:16:57|\n",
            "|2016-03-24 10:58:45|A5_Sportback_2.7_Tdi|privat|  Angebot|18300|  test|      coupe|              2011|  manuell|    190| NULL|   125000|                  5|  diesel|      audi|               ja|2016-03-24 00:00:00|           0|     66954|2016-04-07 01:46:50|\n",
            "|2016-03-14 12:52:21|Jeep_Grand_Cherok...|privat|  Angebot| 9800|  test|        suv|              2004|automatik|    163|grand|   125000|                  8|  diesel|      jeep|             NULL|2016-03-14 00:00:00|           0|     90480|2016-04-05 12:47:46|\n",
            "|2016-03-17 16:54:04|  GOLF_4_1_4__3T�RER|privat|  Angebot| 1500|  test| kleinwagen|              2001|  manuell|     75| golf|   150000|                  6|  benzin|volkswagen|             nein|2016-03-17 00:00:00|           0|     91074|2016-03-17 17:40:17|\n",
            "|2016-03-31 17:25:20|Skoda_Fabia_1.4_T...|privat|  Angebot| 3600|  test| kleinwagen|              2008|  manuell|     69|fabia|    90000|                  7|  diesel|     skoda|             nein|2016-03-31 00:00:00|           0|     60437|2016-04-06 10:17:21|\n",
            "+-------------------+--------------------+------+---------+-----+------+-----------+------------------+---------+-------+-----+---------+-------------------+--------+----------+-----------------+-------------------+------------+----------+-------------------+\n",
            "\n"
          ]
        }
      ]
    },
    {
      "cell_type": "code",
      "source": [
        "query = \"\"\"\n",
        "SELECT  min(yearOfRegistration), max(yearOfRegistration),\n",
        "          avg(yearOfRegistration), median(yearOfRegistration)\n",
        "FROM raw_vehiculePrices\n",
        "\"\"\"\n",
        "spark.sql(query).show()"
      ],
      "metadata": {
        "colab": {
          "base_uri": "https://localhost:8080/"
        },
        "id": "OHSwz3vShMMx",
        "outputId": "6d33ac5e-3dbb-4ea0-abc7-d6c37ba87700"
      },
      "execution_count": null,
      "outputs": [
        {
          "output_type": "stream",
          "name": "stdout",
          "text": [
            "+-----------------------+-----------------------+-----------------------+--------------------------+\n",
            "|min(yearOfRegistration)|max(yearOfRegistration)|avg(yearOfRegistration)|median(yearOfRegistration)|\n",
            "+-----------------------+-----------------------+-----------------------+--------------------------+\n",
            "|                   1000|                   9999|     2004.5767206439623|                    2003.0|\n",
            "+-----------------------+-----------------------+-----------------------+--------------------------+\n",
            "\n"
          ]
        }
      ]
    },
    {
      "cell_type": "code",
      "source": [
        "# query = \"\"\"\n",
        "# SELECT  yearOfRegistration, count(*)\n",
        "# FROM vehiculePrices\n",
        "# GROUP BY yearOfRegistration\n",
        "# order by 1 desc,2 desc\n",
        "# \"\"\"\n",
        "# spark.sql(query).show(150)"
      ],
      "metadata": {
        "id": "y43pSPgweGPF"
      },
      "execution_count": null,
      "outputs": []
    },
    {
      "cell_type": "code",
      "source": [
        "query = \"\"\"\n",
        "SELECT  min(price), max(price),\n",
        "          avg(price), median(price)\n",
        "FROM raw_vehiculePrices\n",
        "\"\"\"\n",
        "spark.sql(query).show()"
      ],
      "metadata": {
        "colab": {
          "base_uri": "https://localhost:8080/"
        },
        "id": "L07JiYkMe8Ss",
        "outputId": "e9c6aa85-6b10-4393-d237-3df4f3bf9a32"
      },
      "execution_count": null,
      "outputs": [
        {
          "output_type": "stream",
          "name": "stdout",
          "text": [
            "+----------+----------+------------------+-------------+\n",
            "|min(price)|max(price)|        avg(price)|median(price)|\n",
            "+----------+----------+------------------+-------------+\n",
            "|         0|2147483647|17286.338865535483|       2950.0|\n",
            "+----------+----------+------------------+-------------+\n",
            "\n"
          ]
        }
      ]
    },
    {
      "cell_type": "code",
      "source": [
        "query = \"\"\"\n",
        "SELECT  min(kilometer), max(kilometer),\n",
        "          avg(kilometer), median(kilometer)\n",
        "FROM raw_vehiculePrices\n",
        "\"\"\"\n",
        "spark.sql(query).show()"
      ],
      "metadata": {
        "colab": {
          "base_uri": "https://localhost:8080/"
        },
        "id": "1i5aH7TuiB7U",
        "outputId": "ae277fb6-08d7-4015-901b-f726f8f1c5f8"
      },
      "execution_count": null,
      "outputs": [
        {
          "output_type": "stream",
          "name": "stdout",
          "text": [
            "+--------------+--------------+------------------+-----------------+\n",
            "|min(kilometer)|max(kilometer)|    avg(kilometer)|median(kilometer)|\n",
            "+--------------+--------------+------------------+-----------------+\n",
            "|          5000|        150000|125618.56044408226|         150000.0|\n",
            "+--------------+--------------+------------------+-----------------+\n",
            "\n"
          ]
        }
      ]
    },
    {
      "cell_type": "markdown",
      "source": [],
      "metadata": {
        "id": "FN-QFBVmwL-X"
      }
    },
    {
      "cell_type": "markdown",
      "source": [
        "## Phase 1: Cleaning the data and selecting relevant columns"
      ],
      "metadata": {
        "id": "5eQ7H8YNvJ-C"
      }
    },
    {
      "cell_type": "markdown",
      "source": [
        "In this part you are invited to decide which columns are useful for you analysis and to perform some cleaning on the data by removing outlier values (e.g. remove records with strange values for a specific column).\n",
        "The result of your cleaning and selection should be stored in a table called `phase1`"
      ],
      "metadata": {
        "id": "aElQN6zKvLrO"
      }
    },
    {
      "cell_type": "code",
      "source": [
        "#sanity check\n",
        "query = \"\"\"\n",
        "SELECT * FROM raw_vehiculePrices TABLESAMPLE (5 ROWS);\n",
        "\"\"\"\n",
        "spark.sql(query).show()"
      ],
      "metadata": {
        "colab": {
          "base_uri": "https://localhost:8080/"
        },
        "id": "uGMTTv5uo5sx",
        "outputId": "7c68525f-4cd6-49c1-b3ef-bd54898fb135"
      },
      "execution_count": null,
      "outputs": [
        {
          "output_type": "stream",
          "name": "stdout",
          "text": [
            "+-------------------+--------------------+------+---------+-----+------+-----------+------------------+---------+-------+-----+---------+-------------------+--------+----------+-----------------+-------------------+------------+----------+-------------------+\n",
            "|        dateCrawled|                name|seller|offerType|price|abtest|vehicleType|yearOfRegistration|  gearbox|powerPS|model|kilometer|monthOfRegistration|fuelType|     brand|notRepairedDamage|        dateCreated|nrOfPictures|postalCode|           lastSeen|\n",
            "+-------------------+--------------------+------+---------+-----+------+-----------+------------------+---------+-------+-----+---------+-------------------+--------+----------+-----------------+-------------------+------------+----------+-------------------+\n",
            "|2016-03-24 11:52:17|          Golf_3_1.6|privat|  Angebot|  480|  test|       NULL|              1993|  manuell|      0| golf|   150000|                  0|  benzin|volkswagen|             NULL|2016-03-24 00:00:00|           0|     70435|2016-04-07 03:16:57|\n",
            "|2016-03-24 10:58:45|A5_Sportback_2.7_Tdi|privat|  Angebot|18300|  test|      coupe|              2011|  manuell|    190| NULL|   125000|                  5|  diesel|      audi|               ja|2016-03-24 00:00:00|           0|     66954|2016-04-07 01:46:50|\n",
            "|2016-03-14 12:52:21|Jeep_Grand_Cherok...|privat|  Angebot| 9800|  test|        suv|              2004|automatik|    163|grand|   125000|                  8|  diesel|      jeep|             NULL|2016-03-14 00:00:00|           0|     90480|2016-04-05 12:47:46|\n",
            "|2016-03-17 16:54:04|  GOLF_4_1_4__3T�RER|privat|  Angebot| 1500|  test| kleinwagen|              2001|  manuell|     75| golf|   150000|                  6|  benzin|volkswagen|             nein|2016-03-17 00:00:00|           0|     91074|2016-03-17 17:40:17|\n",
            "|2016-03-31 17:25:20|Skoda_Fabia_1.4_T...|privat|  Angebot| 3600|  test| kleinwagen|              2008|  manuell|     69|fabia|    90000|                  7|  diesel|     skoda|             nein|2016-03-31 00:00:00|           0|     60437|2016-04-06 10:17:21|\n",
            "+-------------------+--------------------+------+---------+-----+------+-----------+------------------+---------+-------+-----+---------+-------------------+--------+----------+-----------------+-------------------+------------+----------+-------------------+\n",
            "\n"
          ]
        }
      ]
    },
    {
      "cell_type": "code",
      "source": [
        "query = \"\"\"\n",
        "SELECT DISTINCT vehicletype FROM raw_vehiculePrices\n",
        "\"\"\"\n",
        "spark.sql(query).show()\n",
        "\n",
        "#replace kleinwagen with compact\n",
        "#replace andere or NULL with other\n",
        "#replace kombi with break\n"
      ],
      "metadata": {
        "colab": {
          "base_uri": "https://localhost:8080/"
        },
        "id": "_bYZ0AfZpA89",
        "outputId": "f337cdc5-7be6-47cc-bb70-1e84e0f67734"
      },
      "execution_count": null,
      "outputs": [
        {
          "output_type": "stream",
          "name": "stdout",
          "text": [
            "+-----------+\n",
            "|vehicletype|\n",
            "+-----------+\n",
            "|      coupe|\n",
            "| kleinwagen|\n",
            "|        bus|\n",
            "|     andere|\n",
            "|  limousine|\n",
            "|     cabrio|\n",
            "|        suv|\n",
            "|      kombi|\n",
            "|       NULL|\n",
            "+-----------+\n",
            "\n"
          ]
        }
      ]
    },
    {
      "cell_type": "code",
      "source": [
        "query = \"\"\"\n",
        "SELECT DISTINCT gearbox FROM raw_vehiculePrices\n",
        "\"\"\"\n",
        "spark.sql(query).show()\n"
      ],
      "metadata": {
        "colab": {
          "base_uri": "https://localhost:8080/"
        },
        "id": "hex5dkJgri5w",
        "outputId": "cf33c4fa-e8e8-4574-ae16-32021e07316e"
      },
      "execution_count": null,
      "outputs": [
        {
          "output_type": "stream",
          "name": "stdout",
          "text": [
            "+---------+\n",
            "|  gearbox|\n",
            "+---------+\n",
            "|automatik|\n",
            "|  manuell|\n",
            "|     NULL|\n",
            "+---------+\n",
            "\n"
          ]
        }
      ]
    },
    {
      "cell_type": "code",
      "source": [
        "query = \"\"\"\n",
        "SELECT DISTINCT Yearofregistration FROM raw_vehiculePrices\n",
        "where Yearofregistration > 2024\n",
        "Order by Yearofregistration asc\n",
        "Limit 10\n",
        "\"\"\"\n",
        "spark.sql(query).show()\n",
        "\n",
        "# keep between 1900 and 2030"
      ],
      "metadata": {
        "colab": {
          "base_uri": "https://localhost:8080/"
        },
        "id": "tq7hihgzqlRM",
        "outputId": "67d594a6-6ea9-4819-8a02-c8993c4d294b"
      },
      "execution_count": null,
      "outputs": [
        {
          "output_type": "stream",
          "name": "stdout",
          "text": [
            "+------------------+\n",
            "|Yearofregistration|\n",
            "+------------------+\n",
            "|              2066|\n",
            "|              2200|\n",
            "|              2222|\n",
            "|              2290|\n",
            "|              2500|\n",
            "|              2800|\n",
            "|              2900|\n",
            "|              3000|\n",
            "|              3200|\n",
            "|              3500|\n",
            "+------------------+\n",
            "\n"
          ]
        }
      ]
    },
    {
      "cell_type": "code",
      "source": [
        "# Drop rows with null values in 'price', 'yearOfRegistration', 'kilometer'\n",
        "query = \"\"\"\n",
        "CREATE OR REPLACE TEMPORARY VIEW phase1 AS\n",
        "SELECT\n",
        "  dateCrawled,\n",
        "  name,\n",
        "  seller,\n",
        "  offerType,\n",
        "  price,\n",
        "  abtest,\n",
        "  vehicleType,\n",
        "  yearOfRegistration,\n",
        "  gearbox,\n",
        "  powerPS,\n",
        "  model,\n",
        "  kilometer,\n",
        "  monthOfRegistration,\n",
        "  fuelType,\n",
        "  brand,\n",
        "  notRepairedDamage,\n",
        "  dateCreated,\n",
        "  nrOfPictures,\n",
        "  postalCode,\n",
        "  lastSeen\n",
        "FROM\n",
        "    raw_vehiculePrices\n",
        "WHERE\n",
        "\n",
        "    price IS NOT NULL\n",
        "    AND yearOfRegistration between 1900 and year(CURRENT_DATE)\n",
        "    AND price > 0\n",
        "    AND kilometer > 0\n",
        "\"\"\"\n",
        "spark.sql(query)\n",
        "\n",
        "# Show the first 20 rows of the 'phase1' table\n",
        "spark.sql(\"SELECT * FROM phase1 LIMIT 20\").show()"
      ],
      "metadata": {
        "id": "EPN6EUQGwpgJ",
        "colab": {
          "base_uri": "https://localhost:8080/"
        },
        "outputId": "1e09c0fb-3ab2-4269-9959-0d5a04303286"
      },
      "execution_count": null,
      "outputs": [
        {
          "output_type": "stream",
          "name": "stdout",
          "text": [
            "+-------------------+--------------------+------+---------+-----+-------+-----------+------------------+---------+-------+--------+---------+-------------------+--------+-------------+-----------------+-------------------+------------+----------+-------------------+\n",
            "|        dateCrawled|                name|seller|offerType|price| abtest|vehicleType|yearOfRegistration|  gearbox|powerPS|   model|kilometer|monthOfRegistration|fuelType|        brand|notRepairedDamage|        dateCreated|nrOfPictures|postalCode|           lastSeen|\n",
            "+-------------------+--------------------+------+---------+-----+-------+-----------+------------------+---------+-------+--------+---------+-------------------+--------+-------------+-----------------+-------------------+------------+----------+-------------------+\n",
            "|2016-03-24 11:52:17|          Golf_3_1.6|privat|  Angebot|  480|   test|       NULL|              1993|  manuell|      0|    golf|   150000|                  0|  benzin|   volkswagen|             NULL|2016-03-24 00:00:00|           0|     70435|2016-04-07 03:16:57|\n",
            "|2016-03-24 10:58:45|A5_Sportback_2.7_Tdi|privat|  Angebot|18300|   test|      coupe|              2011|  manuell|    190|    NULL|   125000|                  5|  diesel|         audi|               ja|2016-03-24 00:00:00|           0|     66954|2016-04-07 01:46:50|\n",
            "|2016-03-14 12:52:21|Jeep_Grand_Cherok...|privat|  Angebot| 9800|   test|        suv|              2004|automatik|    163|   grand|   125000|                  8|  diesel|         jeep|             NULL|2016-03-14 00:00:00|           0|     90480|2016-04-05 12:47:46|\n",
            "|2016-03-17 16:54:04|  GOLF_4_1_4__3T�RER|privat|  Angebot| 1500|   test| kleinwagen|              2001|  manuell|     75|    golf|   150000|                  6|  benzin|   volkswagen|             nein|2016-03-17 00:00:00|           0|     91074|2016-03-17 17:40:17|\n",
            "|2016-03-31 17:25:20|Skoda_Fabia_1.4_T...|privat|  Angebot| 3600|   test| kleinwagen|              2008|  manuell|     69|   fabia|    90000|                  7|  diesel|        skoda|             nein|2016-03-31 00:00:00|           0|     60437|2016-04-06 10:17:21|\n",
            "|2016-04-04 17:36:23|BMW_316i___e36_Li...|privat|  Angebot|  650|   test|  limousine|              1995|  manuell|    102|     3er|   150000|                 10|  benzin|          bmw|               ja|2016-04-04 00:00:00|           0|     33775|2016-04-06 19:17:07|\n",
            "|2016-04-01 20:48:51|Peugeot_206_CC_11...|privat|  Angebot| 2200|   test|     cabrio|              2004|  manuell|    109| 2_reihe|   150000|                  8|  benzin|      peugeot|             nein|2016-04-01 00:00:00|           0|     67112|2016-04-05 18:18:39|\n",
            "|2016-04-04 23:42:13|Ford_C___Max_Tita...|privat|  Angebot|14500|control|        bus|              2014|  manuell|    125|   c_max|    30000|                  8|  benzin|         ford|             NULL|2016-04-04 00:00:00|           0|     94505|2016-04-04 23:42:13|\n",
            "|2016-03-17 10:53:50|VW_Golf_4_5_tueri...|privat|  Angebot|  999|   test| kleinwagen|              1998|  manuell|    101|    golf|   150000|                  0|    NULL|   volkswagen|             NULL|2016-03-17 00:00:00|           0|     27472|2016-03-31 17:17:06|\n",
            "|2016-03-26 19:54:18|   Mazda_3_1.6_Sport|privat|  Angebot| 2000|control|  limousine|              2004|  manuell|    105| 3_reihe|   150000|                 12|  benzin|        mazda|             nein|2016-03-26 00:00:00|           0|     96224|2016-04-06 10:45:34|\n",
            "|2016-04-07 10:06:22|Volkswagen_Passat...|privat|  Angebot| 2799|control|      kombi|              2005|  manuell|    140|  passat|   150000|                 12|  diesel|   volkswagen|               ja|2016-04-07 00:00:00|           0|     57290|2016-04-07 10:25:17|\n",
            "|2016-03-15 22:49:09|VW_Passat_Facelif...|privat|  Angebot|  999|control|      kombi|              1995|  manuell|    115|  passat|   150000|                 11|  benzin|   volkswagen|             NULL|2016-03-15 00:00:00|           0|     37269|2016-04-01 13:16:16|\n",
            "|2016-03-21 21:37:40|VW_PASSAT_1.9_TDI...|privat|  Angebot| 2500|control|      kombi|              2004|  manuell|    131|  passat|   150000|                  2|    NULL|   volkswagen|             nein|2016-03-21 00:00:00|           0|     90762|2016-03-23 02:50:54|\n",
            "|2016-03-21 12:57:01|Nissan_Navara_2.5...|privat|  Angebot|17999|control|        suv|              2011|  manuell|    190|  navara|    70000|                  3|  diesel|       nissan|             nein|2016-03-21 00:00:00|           0|      4177|2016-04-06 07:45:42|\n",
            "|2016-04-01 12:46:46|         Polo_6n_1_4|privat|  Angebot|  300|   test|       NULL|              2016|     NULL|     60|    polo|   150000|                  0|  benzin|   volkswagen|             NULL|2016-04-01 00:00:00|           0|     38871|2016-04-01 12:46:46|\n",
            "|2016-03-20 10:25:19|Renault_Twingo_1....|privat|  Angebot| 1750|control| kleinwagen|              2004|automatik|     75|  twingo|   150000|                  2|  benzin|      renault|             nein|2016-03-20 00:00:00|           0|     65599|2016-04-06 13:16:07|\n",
            "|2016-03-23 15:48:05|Ford_C_MAX_2.0_TD...|privat|  Angebot| 7550|   test|        bus|              2007|  manuell|    136|   c_max|   150000|                  6|  diesel|         ford|             nein|2016-03-23 00:00:00|           0|     88361|2016-04-05 18:45:11|\n",
            "|2016-04-01 22:55:47|Mercedes_Benz_A_1...|privat|  Angebot| 1850|   test|        bus|              2004|  manuell|    102|a_klasse|   150000|                  1|  benzin|mercedes_benz|             nein|2016-04-01 00:00:00|           0|     49565|2016-04-05 22:46:05|\n",
            "|2016-04-01 19:56:48|Volkswagen_Sciroc...|privat|  Angebot|10400|control|      coupe|              2009|  manuell|    160|scirocco|   100000|                  4|  benzin|   volkswagen|             nein|2016-04-01 00:00:00|           0|     75365|2016-04-05 16:45:49|\n",
            "|2016-03-27 11:38:00|BMW_530i_T�V_7/17...|privat|  Angebot| 3699|   test|  limousine|              2002|automatik|    231|     5er|   150000|                  7|  benzin|          bmw|             nein|2016-03-27 00:00:00|           0|     68309|2016-04-07 06:44:26|\n",
            "+-------------------+--------------------+------+---------+-----+-------+-----------+------------------+---------+-------+--------+---------+-------------------+--------+-------------+-----------------+-------------------+------------+----------+-------------------+\n",
            "\n"
          ]
        }
      ]
    },
    {
      "cell_type": "markdown",
      "source": [
        "Give a brief summary of your choices"
      ],
      "metadata": {
        "id": "Bi9Ni16awq_N"
      }
    },
    {
      "cell_type": "markdown",
      "source": [
        "## Phase 2: Organizing the data"
      ],
      "metadata": {
        "id": "imiDhnt7Ymi3"
      }
    },
    {
      "cell_type": "markdown",
      "source": [
        "In this part you are invited to load the data into delta tables where you will define meaningful constraints and conditions to be fulfiled by any future incoming data.\n",
        "The result of this phase should a delta table called `deltaPrices`"
      ],
      "metadata": {
        "id": "9EEhbLS3w5G4"
      }
    },
    {
      "cell_type": "code",
      "source": [
        "# prompt: In this part you are invited to load the data into delta tables where you will define meaningful constraints and conditions to be fulfiled by any future incoming data. The result of this phase should a delta table called deltaPrices\n",
        "\n",
        "# Create a Delta table with constraints\n",
        "query = \"\"\"\n",
        "CREATE OR REPLACE TABLE deltaPrices\n",
        "USING DELTA\n",
        "AS\n",
        "SELECT * FROM phase1\n",
        "\"\"\"\n",
        "spark.sql(query)\n",
        "\n",
        "# Add constraints (you can add more as needed)\n",
        "spark.sql(\"\"\"\n",
        "ALTER TABLE deltaPrices ADD CONSTRAINT price_positive CHECK (price > 0)\n",
        "\"\"\")\n",
        "spark.sql(\"\"\"\n",
        "ALTER TABLE deltaPrices ADD CONSTRAINT year_valid CHECK (yearOfRegistration BETWEEN 1950 AND year(CURRENT_DATE))\n",
        "\"\"\")\n",
        "spark.sql(\"\"\"\n",
        "ALTER TABLE deltaPrices ADD CONSTRAINT kilometer_positive CHECK (kilometer > 0)\n",
        "\"\"\")"
      ],
      "metadata": {
        "id": "BkWSLKNFYrmb",
        "colab": {
          "base_uri": "https://localhost:8080/"
        },
        "outputId": "bcf48ef9-75cf-4e5b-cb4a-46866d19dd3c"
      },
      "execution_count": null,
      "outputs": [
        {
          "output_type": "execute_result",
          "data": {
            "text/plain": [
              "DataFrame[]"
            ]
          },
          "metadata": {},
          "execution_count": 47
        }
      ]
    },
    {
      "cell_type": "code",
      "source": [],
      "metadata": {
        "id": "kjuBWpDSxZmV"
      },
      "execution_count": null,
      "outputs": []
    },
    {
      "cell_type": "markdown",
      "source": [
        "Comment on the constraints you added\n",
        "\n",
        "...."
      ],
      "metadata": {
        "id": "C0YP77iE0-O6"
      }
    },
    {
      "cell_type": "markdown",
      "source": [
        "## Phase 3: Analysing the data and ensuring query evaluation effeciency"
      ],
      "metadata": {
        "id": "fki_wgyWxL1C"
      }
    },
    {
      "cell_type": "markdown",
      "source": [
        "Suggest 2 or 3 meaningfull queries as described above and suggest a data organization scheme for optimizing one such query of your choice."
      ],
      "metadata": {
        "id": "t4BJIJ4y0Y8b"
      }
    },
    {
      "cell_type": "code",
      "source": [
        "#2mTufPgT05aKRe6NI5bFGNHW3nj_3ExvRo7V3MvMwfPBUrVpi"
      ],
      "metadata": {
        "id": "Q93HLbVgwVSV"
      },
      "execution_count": null,
      "outputs": []
    },
    {
      "cell_type": "code",
      "source": [
        "from pyngrok import ngrok, conf\n",
        "import getpass\n",
        "\n",
        "print(\"Enter your authtoken, which can be copied \"\n",
        "\"from https://dashboard.ngrok.com/get-started/your-authtoken\")\n",
        "conf.get_default().auth_token = getpass.getpass()\n",
        "\n",
        "ui_port = 4040\n",
        "public_url = ngrok.connect(ui_port).public_url\n",
        "print(f\" * ngrok tunnel \\\"{public_url}\\\" -> \\\"http://127.0.0.1:{ui_port}\\\"\")"
      ],
      "metadata": {
        "id": "CTP7VHrjxVKX",
        "colab": {
          "base_uri": "https://localhost:8080/"
        },
        "outputId": "ce5003e3-532b-40b3-c3e0-f04bb85415d2"
      },
      "execution_count": null,
      "outputs": [
        {
          "output_type": "stream",
          "name": "stdout",
          "text": [
            "Enter your authtoken, which can be copied from https://dashboard.ngrok.com/get-started/your-authtoken\n",
            "··········\n"
          ]
        },
        {
          "output_type": "stream",
          "name": "stderr",
          "text": [
            "WARNING:pyngrok.process.ngrok:t=2024-10-17T18:33:28+0000 lvl=warn msg=\"can't bind default web address, trying alternatives\" obj=web addr=127.0.0.1:4040\n"
          ]
        },
        {
          "output_type": "stream",
          "name": "stdout",
          "text": [
            " * ngrok tunnel \"https://5ac7-35-230-118-30.ngrok-free.app\" -> \"http://127.0.0.1:4040\"\n"
          ]
        }
      ]
    },
    {
      "cell_type": "code",
      "source": [
        "spark.sparkContext.setJobDescription('AVG PRICE')\n",
        "query = \"\"\"\n",
        "select AVG(price) from phase1\n",
        "\"\"\"\n",
        "spark.sql(query).collect()"
      ],
      "metadata": {
        "id": "Zp1zEzkZxOaY",
        "colab": {
          "base_uri": "https://localhost:8080/"
        },
        "outputId": "262d1216-f9e0-455f-e687-f8c20e235811"
      },
      "execution_count": null,
      "outputs": [
        {
          "output_type": "execute_result",
          "data": {
            "text/plain": [
              "[Row(avg(price)=17775.125968949265)]"
            ]
          },
          "metadata": {},
          "execution_count": 57
        }
      ]
    },
    {
      "cell_type": "markdown",
      "source": [
        "## Ingesting new data and reruning analytics  "
      ],
      "metadata": {
        "id": "BOfKxBYryX8Y"
      }
    },
    {
      "cell_type": "markdown",
      "source": [
        "In this part you are invited to suggest the insertion of fictious new data that conforms to the schema established in phase 2 and to rerun some queries of phase 3 to see the evolution of the result. Ideally, write a query that compares an aggregation value in two different versions of the data by exploiting the delta history feature."
      ],
      "metadata": {
        "id": "QSfuBf4KyiuZ"
      }
    },
    {
      "cell_type": "code",
      "source": [],
      "metadata": {
        "id": "DVOHuzPWyiGp"
      },
      "execution_count": null,
      "outputs": []
    },
    {
      "cell_type": "code",
      "source": [],
      "metadata": {
        "id": "Aa7FU_EOzQ7O"
      },
      "execution_count": null,
      "outputs": []
    }
  ]
}