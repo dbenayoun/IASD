{
  "cells": [
    {
      "cell_type": "markdown",
      "metadata": {
        "id": "view-in-github",
        "colab_type": "text"
      },
      "source": [
        "<a href=\"https://colab.research.google.com/github/dbenayoun/IASD/blob/main/Copy_of_importGolois.ipynb\" target=\"_parent\"><img src=\"https://colab.research.google.com/assets/colab-badge.svg\" alt=\"Open In Colab\"/></a>"
      ]
    },
    {
      "cell_type": "code",
      "execution_count": null,
      "metadata": {
        "colab": {
          "base_uri": "https://localhost:8080/"
        },
        "id": "ks7AjhAto2dV",
        "outputId": "9d8199bb-c946-486a-84fc-91f2ea232fb3"
      },
      "outputs": [
        {
          "output_type": "stream",
          "name": "stdout",
          "text": [
            "--2024-06-03 18:35:02--  https://www.lamsade.dauphine.fr/~cazenave/project2022.zip\n",
            "Resolving www.lamsade.dauphine.fr (www.lamsade.dauphine.fr)... 193.48.71.250\n",
            "Connecting to www.lamsade.dauphine.fr (www.lamsade.dauphine.fr)|193.48.71.250|:443... connected.\n",
            "HTTP request sent, awaiting response... 200 OK\n",
            "Length: 138884468 (132M) [application/zip]\n",
            "Saving to: ‘project2022.zip’\n",
            "\n",
            "project2022.zip     100%[===================>] 132.45M  21.3MB/s    in 7.2s    \n",
            "\n",
            "2024-06-03 18:35:10 (18.4 MB/s) - ‘project2022.zip’ saved [138884468/138884468]\n",
            "\n",
            "Archive:  project2022.zip\n",
            "  inflating: Board.h                 \n",
            "  inflating: Game.h                  \n",
            "  inflating: Rzone.h                 \n",
            "  inflating: compile.sh              \n",
            "  inflating: compileMAC.sh           \n",
            "  inflating: games.data              \n",
            "  inflating: golois.cpp              \n",
            "  inflating: golois.cpython-310-x86_64-linux-gnu.so  \n",
            "  inflating: golois.cpython-37m-x86_64-linux-gnu.so  \n",
            "  inflating: golois.cpython-38-x86_64-linux-gnu.so  \n",
            "  inflating: golois.cpython-39-x86_64-linux-gnu.so  \n",
            "  inflating: golois.py               \n",
            "  inflating: importGolois.ipynb      \n",
            "  inflating: zip.sh                  \n"
          ]
        }
      ],
      "source": [
        "!wget https://www.lamsade.dauphine.fr/~cazenave/project2022.zip\n",
        "!unzip project2022.zip"
      ]
    },
    {
      "cell_type": "code",
      "execution_count": null,
      "metadata": {
        "colab": {
          "base_uri": "https://localhost:8080/"
        },
        "id": "SNxDy5hTfHs_",
        "outputId": "1899137a-0162-4fd1-9350-aeb4bc301a4d"
      },
      "outputs": [
        {
          "output_type": "stream",
          "name": "stdout",
          "text": [
            "2024-05-31 09:50:28.559491: E external/local_xla/xla/stream_executor/cuda/cuda_dnn.cc:9261] Unable to register cuDNN factory: Attempting to register factory for plugin cuDNN when one has already been registered\n",
            "2024-05-31 09:50:28.559546: E external/local_xla/xla/stream_executor/cuda/cuda_fft.cc:607] Unable to register cuFFT factory: Attempting to register factory for plugin cuFFT when one has already been registered\n",
            "2024-05-31 09:50:28.561592: E external/local_xla/xla/stream_executor/cuda/cuda_blas.cc:1515] Unable to register cuBLAS factory: Attempting to register factory for plugin cuBLAS when one has already been registered\n",
            "2024-05-31 09:50:28.577077: I tensorflow/core/platform/cpu_feature_guard.cc:182] This TensorFlow binary is optimized to use available CPU instructions in performance-critical operations.\n",
            "To enable the following instructions: AVX2 FMA, in other operations, rebuild TensorFlow with the appropriate compiler flags.\n",
            "2024-05-31 09:50:30.383233: W tensorflow/compiler/tf2tensorrt/utils/py_utils.cc:38] TF-TRT Warning: Could not find TensorRT\n",
            "getValidation\n",
            "r.shape = (10000, 19, 19, 31)\n",
            "nbExamples = 10000\n",
            "nbPositionsSGF = 29425326\n",
            "nbPositionsSGF = 29425326\n",
            "generating validation.data\n",
            "2024-05-31 09:51:00.134268: I external/local_xla/xla/stream_executor/cuda/cuda_executor.cc:901] successful NUMA node read from SysFS had negative value (-1), but there must be at least one NUMA node, so returning NUMA node zero. See more at https://github.com/torvalds/linux/blob/v6.0/Documentation/ABI/testing/sysfs-bus-pci#L344-L355\n",
            "2024-05-31 09:51:00.736466: I external/local_xla/xla/stream_executor/cuda/cuda_executor.cc:901] successful NUMA node read from SysFS had negative value (-1), but there must be at least one NUMA node, so returning NUMA node zero. See more at https://github.com/torvalds/linux/blob/v6.0/Documentation/ABI/testing/sysfs-bus-pci#L344-L355\n",
            "2024-05-31 09:51:00.736865: I external/local_xla/xla/stream_executor/cuda/cuda_executor.cc:901] successful NUMA node read from SysFS had negative value (-1), but there must be at least one NUMA node, so returning NUMA node zero. See more at https://github.com/torvalds/linux/blob/v6.0/Documentation/ABI/testing/sysfs-bus-pci#L344-L355\n",
            "2024-05-31 09:51:00.737742: I external/local_xla/xla/stream_executor/cuda/cuda_executor.cc:901] successful NUMA node read from SysFS had negative value (-1), but there must be at least one NUMA node, so returning NUMA node zero. See more at https://github.com/torvalds/linux/blob/v6.0/Documentation/ABI/testing/sysfs-bus-pci#L344-L355\n",
            "2024-05-31 09:51:00.738040: I external/local_xla/xla/stream_executor/cuda/cuda_executor.cc:901] successful NUMA node read from SysFS had negative value (-1), but there must be at least one NUMA node, so returning NUMA node zero. See more at https://github.com/torvalds/linux/blob/v6.0/Documentation/ABI/testing/sysfs-bus-pci#L344-L355\n",
            "2024-05-31 09:51:00.738297: I external/local_xla/xla/stream_executor/cuda/cuda_executor.cc:901] successful NUMA node read from SysFS had negative value (-1), but there must be at least one NUMA node, so returning NUMA node zero. See more at https://github.com/torvalds/linux/blob/v6.0/Documentation/ABI/testing/sysfs-bus-pci#L344-L355\n",
            "2024-05-31 09:51:01.007958: I external/local_xla/xla/stream_executor/cuda/cuda_executor.cc:901] successful NUMA node read from SysFS had negative value (-1), but there must be at least one NUMA node, so returning NUMA node zero. See more at https://github.com/torvalds/linux/blob/v6.0/Documentation/ABI/testing/sysfs-bus-pci#L344-L355\n",
            "2024-05-31 09:51:01.008361: I external/local_xla/xla/stream_executor/cuda/cuda_executor.cc:901] successful NUMA node read from SysFS had negative value (-1), but there must be at least one NUMA node, so returning NUMA node zero. See more at https://github.com/torvalds/linux/blob/v6.0/Documentation/ABI/testing/sysfs-bus-pci#L344-L355\n",
            "2024-05-31 09:51:01.008549: W tensorflow/core/common_runtime/gpu/gpu_bfc_allocator.cc:47] Overriding orig_value setting because the TF_FORCE_GPU_ALLOW_GROWTH environment variable is set. Original config value was 0.\n",
            "2024-05-31 09:51:01.008735: I external/local_xla/xla/stream_executor/cuda/cuda_executor.cc:901] successful NUMA node read from SysFS had negative value (-1), but there must be at least one NUMA node, so returning NUMA node zero. See more at https://github.com/torvalds/linux/blob/v6.0/Documentation/ABI/testing/sysfs-bus-pci#L344-L355\n",
            "2024-05-31 09:51:01.008940: I tensorflow/core/common_runtime/gpu/gpu_device.cc:1929] Created device /job:localhost/replica:0/task:0/device:GPU:0 with 13949 MB memory:  -> device: 0, name: Tesla T4, pci bus id: 0000:00:04.0, compute capability: 7.5\n",
            "Model: \"model\"\n",
            "__________________________________________________________________________________________________\n",
            " Layer (type)                Output Shape                 Param #   Connected to                  \n",
            "==================================================================================================\n",
            " board (InputLayer)          [(None, 19, 19, 31)]         0         []                            \n",
            "                                                                                                  \n",
            " conv2d (Conv2D)             (None, 19, 19, 32)           1024      ['board[0][0]']               \n",
            "                                                                                                  \n",
            " conv2d_1 (Conv2D)           (None, 19, 19, 32)           9248      ['conv2d[0][0]']              \n",
            "                                                                                                  \n",
            " conv2d_2 (Conv2D)           (None, 19, 19, 32)           9248      ['conv2d_1[0][0]']            \n",
            "                                                                                                  \n",
            " conv2d_3 (Conv2D)           (None, 19, 19, 32)           9248      ['conv2d_2[0][0]']            \n",
            "                                                                                                  \n",
            " conv2d_4 (Conv2D)           (None, 19, 19, 32)           9248      ['conv2d_3[0][0]']            \n",
            "                                                                                                  \n",
            " conv2d_5 (Conv2D)           (None, 19, 19, 32)           9248      ['conv2d_4[0][0]']            \n",
            "                                                                                                  \n",
            " conv2d_7 (Conv2D)           (None, 19, 19, 1)            32        ['conv2d_5[0][0]']            \n",
            "                                                                                                  \n",
            " conv2d_6 (Conv2D)           (None, 19, 19, 1)            32        ['conv2d_5[0][0]']            \n",
            "                                                                                                  \n",
            " flatten_1 (Flatten)         (None, 361)                  0         ['conv2d_7[0][0]']            \n",
            "                                                                                                  \n",
            " flatten (Flatten)           (None, 361)                  0         ['conv2d_6[0][0]']            \n",
            "                                                                                                  \n",
            " dense (Dense)               (None, 50)                   18100     ['flatten_1[0][0]']           \n",
            "                                                                                                  \n",
            " policy (Activation)         (None, 361)                  0         ['flatten[0][0]']             \n",
            "                                                                                                  \n",
            " value (Dense)               (None, 1)                    51        ['dense[0][0]']               \n",
            "                                                                                                  \n",
            "==================================================================================================\n",
            "Total params: 65479 (255.78 KB)\n",
            "Trainable params: 65479 (255.78 KB)\n",
            "Non-trainable params: 0 (0.00 Byte)\n",
            "__________________________________________________________________________________________________\n",
            "epoch 1\n",
            "r.shape = (10000, 19, 19, 31)\n",
            "nbExamples = 10000\n",
            "2024-05-31 09:51:05.360251: I external/local_xla/xla/stream_executor/cuda/cuda_dnn.cc:454] Loaded cuDNN version 8906\n",
            "2024-05-31 09:51:07.622842: I external/local_xla/xla/service/service.cc:168] XLA service 0x79d9223ee550 initialized for platform CUDA (this does not guarantee that XLA will be used). Devices:\n",
            "2024-05-31 09:51:07.622903: I external/local_xla/xla/service/service.cc:176]   StreamExecutor device (0): Tesla T4, Compute Capability 7.5\n",
            "WARNING: All log messages before absl::InitializeLog() is called are written to STDERR\n",
            "I0000 00:00:1717149067.755715     560 device_compiler.h:186] Compiled cluster using XLA!  This line is logged at most once for the lifetime of the process.\n",
            "79/79 [==============================] - 7s 16ms/step - loss: 6.5890 - policy_loss: 5.8867 - value_loss: 0.6931 - policy_categorical_accuracy: 0.0040 - value_mse: 0.1215\n",
            "epoch 2\n",
            "r.shape = (10000, 19, 19, 31)\n",
            "nbExamples = 10000\n",
            "79/79 [==============================] - 1s 17ms/step - loss: 6.5855 - policy_loss: 5.8832 - value_loss: 0.6930 - policy_categorical_accuracy: 0.0056 - value_mse: 0.1194\n",
            "epoch 3\n",
            "r.shape = (10000, 19, 19, 31)\n",
            "nbExamples = 10000\n",
            "79/79 [==============================] - 1s 12ms/step - loss: 6.5799 - policy_loss: 5.8776 - value_loss: 0.6930 - policy_categorical_accuracy: 0.0061 - value_mse: 0.1204\n",
            "epoch 4\n",
            "r.shape = (10000, 19, 19, 31)\n",
            "nbExamples = 10000\n",
            "79/79 [==============================] - 1s 13ms/step - loss: 6.5711 - policy_loss: 5.8687 - value_loss: 0.6931 - policy_categorical_accuracy: 0.0089 - value_mse: 0.1207\n",
            "epoch 5\n",
            "r.shape = (10000, 19, 19, 31)\n",
            "nbExamples = 10000\n",
            "79/79 [==============================] - 1s 12ms/step - loss: 6.5573 - policy_loss: 5.8549 - value_loss: 0.6931 - policy_categorical_accuracy: 0.0078 - value_mse: 0.1195\n",
            "epoch 6\n",
            "r.shape = (10000, 19, 19, 31)\n",
            "nbExamples = 10000\n",
            "79/79 [==============================] - 1s 16ms/step - loss: 6.5318 - policy_loss: 5.8295 - value_loss: 0.6929 - policy_categorical_accuracy: 0.0100 - value_mse: 0.1179\n",
            "epoch 7\n",
            "r.shape = (10000, 19, 19, 31)\n",
            "nbExamples = 10000\n",
            "79/79 [==============================] - 1s 17ms/step - loss: 6.4859 - policy_loss: 5.7835 - value_loss: 0.6930 - policy_categorical_accuracy: 0.0107 - value_mse: 0.1202\n",
            "epoch 8\n",
            "r.shape = (10000, 19, 19, 31)\n",
            "nbExamples = 10000\n",
            "79/79 [==============================] - 1s 13ms/step - loss: 6.4158 - policy_loss: 5.7135 - value_loss: 0.6929 - policy_categorical_accuracy: 0.0100 - value_mse: 0.1197\n",
            "epoch 9\n",
            "r.shape = (10000, 19, 19, 31)\n",
            "nbExamples = 10000\n",
            "79/79 [==============================] - 1s 15ms/step - loss: 6.2967 - policy_loss: 5.5944 - value_loss: 0.6930 - policy_categorical_accuracy: 0.0127 - value_mse: 0.1189\n",
            "epoch 10\n",
            "r.shape = (10000, 19, 19, 31)\n",
            "nbExamples = 10000\n",
            "79/79 [==============================] - 1s 16ms/step - loss: 6.1419 - policy_loss: 5.4397 - value_loss: 0.6928 - policy_categorical_accuracy: 0.0132 - value_mse: 0.1189\n",
            "epoch 11\n",
            "r.shape = (10000, 19, 19, 31)\n",
            "nbExamples = 10000\n",
            "79/79 [==============================] - 1s 13ms/step - loss: 5.9486 - policy_loss: 5.2460 - value_loss: 0.6932 - policy_categorical_accuracy: 0.0199 - value_mse: 0.1212\n",
            "epoch 12\n",
            "r.shape = (10000, 19, 19, 31)\n",
            "nbExamples = 10000\n",
            "79/79 [==============================] - 1s 13ms/step - loss: 5.8209 - policy_loss: 5.1186 - value_loss: 0.6929 - policy_categorical_accuracy: 0.0202 - value_mse: 0.1202\n",
            "epoch 13\n",
            "r.shape = (10000, 19, 19, 31)\n",
            "nbExamples = 10000\n",
            "79/79 [==============================] - 1s 14ms/step - loss: 5.6918 - policy_loss: 4.9896 - value_loss: 0.6928 - policy_categorical_accuracy: 0.0304 - value_mse: 0.1189\n",
            "epoch 14\n",
            "r.shape = (10000, 19, 19, 31)\n",
            "nbExamples = 10000\n",
            "79/79 [==============================] - 2s 27ms/step - loss: 5.5867 - policy_loss: 4.8842 - value_loss: 0.6930 - policy_categorical_accuracy: 0.0426 - value_mse: 0.1176\n",
            "epoch 15\n",
            "r.shape = (10000, 19, 19, 31)\n",
            "nbExamples = 10000\n",
            "79/79 [==============================] - 1s 13ms/step - loss: 5.4128 - policy_loss: 4.7105 - value_loss: 0.6930 - policy_categorical_accuracy: 0.0644 - value_mse: 0.1202\n",
            "epoch 16\n",
            "r.shape = (10000, 19, 19, 31)\n",
            "nbExamples = 10000\n",
            "79/79 [==============================] - 1s 13ms/step - loss: 5.2139 - policy_loss: 4.5115 - value_loss: 0.6930 - policy_categorical_accuracy: 0.0862 - value_mse: 0.1182\n",
            "epoch 17\n",
            "r.shape = (10000, 19, 19, 31)\n",
            "nbExamples = 10000\n",
            "79/79 [==============================] - 1s 15ms/step - loss: 5.1055 - policy_loss: 4.4032 - value_loss: 0.6929 - policy_categorical_accuracy: 0.0962 - value_mse: 0.1183\n",
            "epoch 18\n",
            "r.shape = (10000, 19, 19, 31)\n",
            "nbExamples = 10000\n",
            "79/79 [==============================] - 1s 14ms/step - loss: 4.9964 - policy_loss: 4.2939 - value_loss: 0.6930 - policy_categorical_accuracy: 0.1112 - value_mse: 0.1210\n",
            "epoch 19\n",
            "r.shape = (10000, 19, 19, 31)\n",
            "nbExamples = 10000\n",
            "79/79 [==============================] - 1s 13ms/step - loss: 4.9249 - policy_loss: 4.2228 - value_loss: 0.6927 - policy_categorical_accuracy: 0.1253 - value_mse: 0.1173\n",
            "epoch 20\n",
            "r.shape = (10000, 19, 19, 31)\n",
            "nbExamples = 10000\n",
            "79/79 [==============================] - 1s 13ms/step - loss: 4.8517 - policy_loss: 4.1495 - value_loss: 0.6927 - policy_categorical_accuracy: 0.1299 - value_mse: 0.1204\n",
            "r.shape = (10000, 19, 19, 31)\n",
            "nbExamples = 10000\n",
            "val = [4.86825704574585, 4.165775775909424, 0.6930462121963501, 0.13760000467300415, 0.1199965700507164]\n",
            "/usr/local/lib/python3.10/dist-packages/keras/src/engine/training.py:3103: UserWarning: You are saving your model as an HDF5 file via `model.save()`. This file format is considered legacy. We recommend using instead the native Keras format, e.g. `model.save('my_model.keras')`.\n",
            "  saving_api.save_model(\n"
          ]
        }
      ],
      "source": [
        "!python golois.py"
      ]
    },
    {
      "cell_type": "code",
      "source": [
        "import tensorflow as tf\n",
        "import tensorflow.keras as keras\n",
        "import numpy as np\n",
        "from tensorflow.keras import layers\n",
        "from tensorflow.keras import regularizers\n",
        "import gc\n",
        "import pandas as pd\n",
        "from keras.callbacks import LearningRateScheduler\n"
      ],
      "metadata": {
        "id": "G8qzxt_BJHk2"
      },
      "execution_count": null,
      "outputs": []
    },
    {
      "cell_type": "code",
      "source": [
        "import golois\n"
      ],
      "metadata": {
        "id": "l54nCZ20K0sI"
      },
      "execution_count": null,
      "outputs": []
    },
    {
      "cell_type": "code",
      "source": [
        "planes = 31\n",
        "moves = 361\n",
        "N = 10000\n",
        "epochs = 50\n",
        "batch = 128\n",
        "filters = 32"
      ],
      "metadata": {
        "id": "BUdTpO43K3JU"
      },
      "execution_count": null,
      "outputs": []
    },
    {
      "cell_type": "code",
      "source": [
        "input_data = np.random.randint(2, size=(N, 19, 19, planes))\n",
        "input_data = input_data.astype ('float32')\n",
        "\n",
        "policy = np.random.randint(moves, size=(N,))\n",
        "policy = keras.utils.to_categorical (policy)\n",
        "\n",
        "value = np.random.randint(2, size=(N,))\n",
        "value = value.astype ('float32')\n",
        "\n",
        "end = np.random.randint(2, size=(N, 19, 19, 2))\n",
        "end = end.astype ('float32')\n",
        "\n",
        "groups = np.zeros((N, 19, 19, 1))\n",
        "groups = groups.astype ('float32')\n",
        "\n",
        "print (\"getValidation\", flush = True)\n",
        "golois.getValidation (input_data, policy, value, end)"
      ],
      "metadata": {
        "id": "UiuNhKURK-Xj",
        "outputId": "68f64a89-83f9-4ded-b595-6a7390f0913c",
        "colab": {
          "base_uri": "https://localhost:8080/"
        }
      },
      "execution_count": null,
      "outputs": [
        {
          "output_type": "stream",
          "name": "stdout",
          "text": [
            "getValidation\n"
          ]
        }
      ]
    },
    {
      "cell_type": "markdown",
      "source": [
        "# Best Model so far"
      ],
      "metadata": {
        "id": "SRyTkGC-CoVJ"
      }
    },
    {
      "cell_type": "code",
      "source": [
        "input = keras.Input(shape=(19, 19, planes), name='board')\n",
        "x = layers.Conv2D(filters, 1, activation='relu', padding='same')(input)\n",
        "x = layers.BatchNormalization()(x)\n",
        "\n",
        "for i in range (4):\n",
        "    ident = x\n",
        "    x = layers.Conv2D(filters, 3, activation='relu', padding='same')(x)\n",
        "    x = layers.BatchNormalization()(x) #added batch normalization\n",
        "    x = layers.Conv2D(filters, 3, activation='relu', padding='same')(x)\n",
        "    x = layers.BatchNormalization()(x) #added batch normalization\n",
        "    x = layers.add([x, ident])\n",
        "\n",
        "# Policy head\n",
        "policy_head = layers.Conv2D(1, 1, activation='relu', padding='same', use_bias = False, kernel_regularizer=regularizers.l2(0.0001))(x)\n",
        "policy_head = layers.BatchNormalization()(policy_head)\n",
        "policy_head = layers.Flatten()(policy_head)\n",
        "policy_head = layers.Activation('softmax', name='policy')(policy_head)\n",
        "\n",
        "# Value head\n",
        "value_head = layers.Conv2D(1, 1, activation='relu', padding='same', use_bias = False, kernel_regularizer=regularizers.l2(0.0001))(x)\n",
        "value_head = layers.BatchNormalization()(value_head)\n",
        "value_head = layers.Flatten()(value_head)\n",
        "value_head = layers.Dense(50, activation='relu', kernel_regularizer=regularizers.l2(0.0001))(value_head)\n",
        "value_head = layers.Dropout(0.5)(value_head)\n",
        "value_head = layers.Dense(1, activation='sigmoid', name='value', kernel_regularizer=regularizers.l2(0.0001))(value_head)\n",
        "\n",
        "model = keras.Model(inputs=input, outputs=[policy_head, value_head])\n",
        "\n"
      ],
      "metadata": {
        "id": "M_2vfvHyCnsL"
      },
      "execution_count": null,
      "outputs": []
    },
    {
      "cell_type": "code",
      "source": [
        "model.count_params()"
      ],
      "metadata": {
        "id": "YXTs_I6DD_CD",
        "outputId": "1d416e89-c70d-4611-8156-27f7acf25a4a",
        "colab": {
          "base_uri": "https://localhost:8080/"
        }
      },
      "execution_count": null,
      "outputs": [
        {
          "output_type": "execute_result",
          "data": {
            "text/plain": [
              "94383"
            ]
          },
          "metadata": {},
          "execution_count": 9
        }
      ]
    },
    {
      "cell_type": "markdown",
      "source": [
        "# Testing Model\n"
      ],
      "metadata": {
        "id": "nrg0uSvpCjOS"
      }
    },
    {
      "cell_type": "code",
      "source": [
        "input = keras.Input(shape=(19, 19, planes), name='board')\n",
        "x = layers.Conv2D(filters, 1, activation='relu', padding='same')(input)\n",
        "x = layers.BatchNormalization()(x)\n",
        "\n",
        "def bottleneck_block(x, expand=96, squeeze=32):\n",
        "  m = layers.Conv2D(expand, (1,1), kernel_regularizer=regularizers.l2(0.0001), use_bias = False)(x)\n",
        "  m = layers.BatchNormalization()(m)\n",
        "  m = layers.Activation('relu')(m)\n",
        "  m = layers.DepthwiseConv2D((3,3), padding='same', kernel_regularizer=regularizers.l2(0.0001), use_bias = False)(m)\n",
        "  m = layers.BatchNormalization()(m)\n",
        "  m = layers.Activation('relu')(m)\n",
        "  m = layers.Conv2D(squeeze, (1,1), kernel_regularizer=regularizers.l2(0.0001), use_bias = False)(m)\n",
        "  m = layers.BatchNormalization()(m)\n",
        "  return layers.Add()([m, x])\n",
        "\n",
        "def convnext(x, filters):\n",
        "  x1 = layers.DepthwiseConv2D((7,7), padding='same', use_bias = False)(x)\n",
        "  x1 = layers.LayerNormalization()(x1)\n",
        "  x1 = layers.Conv2D(4 * filters, 1, padding='same', activation='gelu')(x1)\n",
        "  x1 = layers.Conv2D(filters, 1, padding='same')(x1)\n",
        "  x = layers.add([x1,x])\n",
        "  return x\n",
        "\n",
        "\n",
        "for i in range (8):\n",
        "  x = convnext(x, filters)\n",
        "x = tf.keras.layers.BatchNormalization()(x)\n",
        "\n",
        "# Policy head\n",
        "policy_head = layers.Conv2D(1, 1, activation='relu', padding='same', use_bias = False, kernel_regularizer=regularizers.l2(0.0001))(x)\n",
        "policy_head = layers.BatchNormalization()(policy_head)\n",
        "policy_head = layers.Flatten()(policy_head)\n",
        "policy_head = layers.Activation('softmax', name='policy')(policy_head)\n",
        "\n",
        "# Value head\n",
        "value_head = layers.Conv2D(1, 1, activation='relu', padding='same', use_bias = False, kernel_regularizer=regularizers.l2(0.0001))(x)\n",
        "value_head = layers.BatchNormalization()(value_head)\n",
        "value_head = layers.Flatten()(value_head)\n",
        "value_head = layers.Dense(50, activation='relu', kernel_regularizer=regularizers.l2(0.0001))(value_head)\n",
        "value_head = layers.Dropout(0.5)(value_head)\n",
        "value_head = layers.Dense(1, activation='sigmoid', name='value', kernel_regularizer=regularizers.l2(0.0001))(value_head)\n",
        "\n",
        "model = keras.Model(inputs=input, outputs=[policy_head, value_head])\n",
        "\n"
      ],
      "metadata": {
        "id": "0z54-sdFK8z-"
      },
      "execution_count": null,
      "outputs": []
    },
    {
      "cell_type": "code",
      "source": [
        "model.count_params()"
      ],
      "metadata": {
        "id": "umKbj1qfLf3O",
        "outputId": "8782084e-22a7-45e9-d4d9-4abb9c6cae9f",
        "colab": {
          "base_uri": "https://localhost:8080/"
        }
      },
      "execution_count": null,
      "outputs": [
        {
          "output_type": "execute_result",
          "data": {
            "text/plain": [
              "99375"
            ]
          },
          "metadata": {},
          "execution_count": 44
        }
      ]
    },
    {
      "cell_type": "markdown",
      "source": [
        "1. added a residual layer\n"
      ],
      "metadata": {
        "id": "wyOE9gvoNkfx"
      }
    },
    {
      "cell_type": "markdown",
      "source": [
        "# Summary"
      ],
      "metadata": {
        "id": "Eutryg_mG7Z_"
      }
    },
    {
      "cell_type": "code",
      "source": [
        "model.summary ()"
      ],
      "metadata": {
        "colab": {
          "base_uri": "https://localhost:8080/"
        },
        "id": "hfX8tJ5r0svt",
        "outputId": "49a42a3d-685c-485d-b4aa-7c24439789e2"
      },
      "execution_count": null,
      "outputs": [
        {
          "output_type": "stream",
          "name": "stdout",
          "text": [
            "Model: \"model\"\n",
            "__________________________________________________________________________________________________\n",
            " Layer (type)                Output Shape                 Param #   Connected to                  \n",
            "==================================================================================================\n",
            " board (InputLayer)          [(None, 19, 19, 31)]         0         []                            \n",
            "                                                                                                  \n",
            " conv2d (Conv2D)             (None, 19, 19, 32)           1024      ['board[0][0]']               \n",
            "                                                                                                  \n",
            " batch_normalization (Batch  (None, 19, 19, 32)           128       ['conv2d[0][0]']              \n",
            " Normalization)                                                                                   \n",
            "                                                                                                  \n",
            " conv2d_1 (Conv2D)           (None, 19, 19, 32)           9248      ['batch_normalization[0][0]'] \n",
            "                                                                                                  \n",
            " batch_normalization_1 (Bat  (None, 19, 19, 32)           128       ['conv2d_1[0][0]']            \n",
            " chNormalization)                                                                                 \n",
            "                                                                                                  \n",
            " conv2d_2 (Conv2D)           (None, 19, 19, 32)           9248      ['batch_normalization_1[0][0]'\n",
            "                                                                    ]                             \n",
            "                                                                                                  \n",
            " batch_normalization_2 (Bat  (None, 19, 19, 32)           128       ['conv2d_2[0][0]']            \n",
            " chNormalization)                                                                                 \n",
            "                                                                                                  \n",
            " add (Add)                   (None, 19, 19, 32)           0         ['batch_normalization_2[0][0]'\n",
            "                                                                    , 'batch_normalization[0][0]']\n",
            "                                                                                                  \n",
            " conv2d_3 (Conv2D)           (None, 19, 19, 32)           9248      ['add[0][0]']                 \n",
            "                                                                                                  \n",
            " batch_normalization_3 (Bat  (None, 19, 19, 32)           128       ['conv2d_3[0][0]']            \n",
            " chNormalization)                                                                                 \n",
            "                                                                                                  \n",
            " conv2d_4 (Conv2D)           (None, 19, 19, 32)           9248      ['batch_normalization_3[0][0]'\n",
            "                                                                    ]                             \n",
            "                                                                                                  \n",
            " batch_normalization_4 (Bat  (None, 19, 19, 32)           128       ['conv2d_4[0][0]']            \n",
            " chNormalization)                                                                                 \n",
            "                                                                                                  \n",
            " add_1 (Add)                 (None, 19, 19, 32)           0         ['batch_normalization_4[0][0]'\n",
            "                                                                    , 'add[0][0]']                \n",
            "                                                                                                  \n",
            " conv2d_5 (Conv2D)           (None, 19, 19, 32)           9248      ['add_1[0][0]']               \n",
            "                                                                                                  \n",
            " batch_normalization_5 (Bat  (None, 19, 19, 32)           128       ['conv2d_5[0][0]']            \n",
            " chNormalization)                                                                                 \n",
            "                                                                                                  \n",
            " conv2d_6 (Conv2D)           (None, 19, 19, 32)           9248      ['batch_normalization_5[0][0]'\n",
            "                                                                    ]                             \n",
            "                                                                                                  \n",
            " batch_normalization_6 (Bat  (None, 19, 19, 32)           128       ['conv2d_6[0][0]']            \n",
            " chNormalization)                                                                                 \n",
            "                                                                                                  \n",
            " add_2 (Add)                 (None, 19, 19, 32)           0         ['batch_normalization_6[0][0]'\n",
            "                                                                    , 'add_1[0][0]']              \n",
            "                                                                                                  \n",
            " conv2d_7 (Conv2D)           (None, 19, 19, 32)           9248      ['add_2[0][0]']               \n",
            "                                                                                                  \n",
            " batch_normalization_7 (Bat  (None, 19, 19, 32)           128       ['conv2d_7[0][0]']            \n",
            " chNormalization)                                                                                 \n",
            "                                                                                                  \n",
            " conv2d_8 (Conv2D)           (None, 19, 19, 32)           9248      ['batch_normalization_7[0][0]'\n",
            "                                                                    ]                             \n",
            "                                                                                                  \n",
            " batch_normalization_8 (Bat  (None, 19, 19, 32)           128       ['conv2d_8[0][0]']            \n",
            " chNormalization)                                                                                 \n",
            "                                                                                                  \n",
            " add_3 (Add)                 (None, 19, 19, 32)           0         ['batch_normalization_8[0][0]'\n",
            "                                                                    , 'add_2[0][0]']              \n",
            "                                                                                                  \n",
            " conv2d_10 (Conv2D)          (None, 19, 19, 1)            32        ['add_3[0][0]']               \n",
            "                                                                                                  \n",
            " batch_normalization_10 (Ba  (None, 19, 19, 1)            4         ['conv2d_10[0][0]']           \n",
            " tchNormalization)                                                                                \n",
            "                                                                                                  \n",
            " conv2d_9 (Conv2D)           (None, 19, 19, 1)            32        ['add_3[0][0]']               \n",
            "                                                                                                  \n",
            " flatten_1 (Flatten)         (None, 361)                  0         ['batch_normalization_10[0][0]\n",
            "                                                                    ']                            \n",
            "                                                                                                  \n",
            " batch_normalization_9 (Bat  (None, 19, 19, 1)            4         ['conv2d_9[0][0]']            \n",
            " chNormalization)                                                                                 \n",
            "                                                                                                  \n",
            " dense (Dense)               (None, 50)                   18100     ['flatten_1[0][0]']           \n",
            "                                                                                                  \n",
            " flatten (Flatten)           (None, 361)                  0         ['batch_normalization_9[0][0]'\n",
            "                                                                    ]                             \n",
            "                                                                                                  \n",
            " dropout (Dropout)           (None, 50)                   0         ['dense[0][0]']               \n",
            "                                                                                                  \n",
            " policy (Activation)         (None, 361)                  0         ['flatten[0][0]']             \n",
            "                                                                                                  \n",
            " value (Dense)               (None, 1)                    51        ['dropout[0][0]']             \n",
            "                                                                                                  \n",
            "==================================================================================================\n",
            "Total params: 94383 (368.68 KB)\n",
            "Trainable params: 93803 (366.42 KB)\n",
            "Non-trainable params: 580 (2.27 KB)\n",
            "__________________________________________________________________________________________________\n"
          ]
        }
      ]
    },
    {
      "cell_type": "markdown",
      "source": [
        "# Compile"
      ],
      "metadata": {
        "id": "N2RolyCyDPX8"
      }
    },
    {
      "cell_type": "code",
      "source": [
        "planes = 31\n",
        "moves = 361\n",
        "N = 10000\n",
        "epochs = 50\n",
        "batch = 128\n",
        "filters = 32\n",
        "lr = 0.0005"
      ],
      "metadata": {
        "id": "PMg1E81ViwYv"
      },
      "execution_count": null,
      "outputs": []
    },
    {
      "cell_type": "code",
      "source": [
        "def step_decay(epoch):\n",
        "  #use cosine\n",
        "    initial_lr = 0.0005\n",
        "    drop = 0.5\n",
        "    epochs_drop = 10.0\n",
        "    lr = initial_lr * (drop ** np.floor((1 + epoch) / epochs_drop))\n",
        "    return lr\n",
        "\n",
        "def cosine_decay(epoch, initial_lr=0.0005, total_epochs=100):\n",
        "    \"\"\"\n",
        "    Cosine decay function for learning rate.\n",
        "    :param epoch: Current epoch number.\n",
        "    :param initial_lr: Initial learning rate.\n",
        "    :param total_epochs: Total number of epochs.\n",
        "    :return: Adjusted learning rate.\n",
        "    \"\"\"\n",
        "    cosine_decay = 0.5 * (1 + np.cos(np.pi * epoch / total_epochs))\n",
        "    lr = initial_lr * cosine_decay\n",
        "    return lr\n",
        "\n",
        "lr_scheduler = LearningRateScheduler(step_decay)\n",
        "\n",
        "model.compile(optimizer=keras.optimizers.SGD(learning_rate=0.0005, momentum=0.9),\n",
        "              loss={'policy': 'categorical_crossentropy', 'value': 'binary_crossentropy'},\n",
        "              loss_weights={'policy' : 1.0, 'value' : 1.0},\n",
        "              metrics={'policy': 'categorical_accuracy', 'value': 'mse'})\n",
        "\n",
        "for i in range (1, epochs + 1):\n",
        "    print ('epoch ' + str (i))\n",
        "    golois.getBatch (input_data, policy, value, end, groups, i * N)\n",
        "    history = model.fit(input_data,\n",
        "                        {'policy': policy, 'value': value},\n",
        "                        epochs=1, batch_size=batch\n",
        "                        ,callbacks=[lr_scheduler]\n",
        "                        )\n",
        "    if (i % 5 == 0):\n",
        "        gc.collect ()\n",
        "    if (i % epochs == 0):\n",
        "        golois.getValidation (input_data, policy, value, end)\n",
        "        val = model.evaluate (input_data,\n",
        "                              [policy, value], verbose = 0, batch_size=batch)\n",
        "        print (\"val =\", val)\n",
        "        model.save ('test.h5')"
      ],
      "metadata": {
        "id": "g1ZcSYgGL5zr",
        "outputId": "1a130d8e-2f83-4a8d-c738-c8ef909508e7",
        "colab": {
          "base_uri": "https://localhost:8080/",
          "height": 1000
        }
      },
      "execution_count": null,
      "outputs": [
        {
          "output_type": "stream",
          "name": "stdout",
          "text": [
            "epoch 1\n",
            "79/79 [==============================] - 16s 109ms/step - loss: 6.6425 - policy_loss: 5.8215 - value_loss: 0.8117 - policy_categorical_accuracy: 0.0046 - value_mse: 0.1580\n",
            "epoch 2\n",
            "79/79 [==============================] - 8s 102ms/step - loss: 6.3651 - policy_loss: 5.6099 - value_loss: 0.7459 - policy_categorical_accuracy: 0.0129 - value_mse: 0.1385\n",
            "epoch 3\n",
            "79/79 [==============================] - 8s 101ms/step - loss: 5.7181 - policy_loss: 4.9866 - value_loss: 0.7222 - policy_categorical_accuracy: 0.0499 - value_mse: 0.1325\n",
            "epoch 4\n",
            "79/79 [==============================] - 8s 104ms/step - loss: 5.0849 - policy_loss: 4.3620 - value_loss: 0.7136 - policy_categorical_accuracy: 0.1100 - value_mse: 0.1297\n",
            "epoch 5\n",
            "79/79 [==============================] - 8s 104ms/step - loss: 4.9115 - policy_loss: 4.1944 - value_loss: 0.7078 - policy_categorical_accuracy: 0.1242 - value_mse: 0.1261\n",
            "epoch 6\n",
            "79/79 [==============================] - 8s 105ms/step - loss: 4.7921 - policy_loss: 4.0794 - value_loss: 0.7034 - policy_categorical_accuracy: 0.1398 - value_mse: 0.1226\n",
            "epoch 7\n",
            "79/79 [==============================] - 8s 103ms/step - loss: 4.7414 - policy_loss: 4.0299 - value_loss: 0.7022 - policy_categorical_accuracy: 0.1488 - value_mse: 0.1244\n",
            "epoch 8\n",
            "79/79 [==============================] - 8s 102ms/step - loss: 4.6843 - policy_loss: 3.9747 - value_loss: 0.7003 - policy_categorical_accuracy: 0.1532 - value_mse: 0.1232\n",
            "epoch 9\n",
            "79/79 [==============================] - 8s 107ms/step - loss: 4.6393 - policy_loss: 3.9326 - value_loss: 0.6975 - policy_categorical_accuracy: 0.1645 - value_mse: 0.1210\n",
            "epoch 10\n",
            "79/79 [==============================] - 8s 104ms/step - loss: 4.6026 - policy_loss: 3.8963 - value_loss: 0.6970 - policy_categorical_accuracy: 0.1719 - value_mse: 0.1209\n",
            "epoch 11\n",
            "79/79 [==============================] - 8s 103ms/step - loss: 4.5527 - policy_loss: 3.8478 - value_loss: 0.6957 - policy_categorical_accuracy: 0.1860 - value_mse: 0.1223\n",
            "epoch 12\n",
            "79/79 [==============================] - 8s 100ms/step - loss: 4.5427 - policy_loss: 3.8360 - value_loss: 0.6974 - policy_categorical_accuracy: 0.1877 - value_mse: 0.1223\n",
            "epoch 13\n",
            "79/79 [==============================] - 8s 102ms/step - loss: 4.4952 - policy_loss: 3.7918 - value_loss: 0.6942 - policy_categorical_accuracy: 0.1864 - value_mse: 0.1195\n",
            "epoch 14\n",
            "79/79 [==============================] - 8s 106ms/step - loss: 4.5034 - policy_loss: 3.7993 - value_loss: 0.6949 - policy_categorical_accuracy: 0.1956 - value_mse: 0.1184\n",
            "epoch 15\n",
            "79/79 [==============================] - 8s 102ms/step - loss: 4.5003 - policy_loss: 3.7981 - value_loss: 0.6930 - policy_categorical_accuracy: 0.1917 - value_mse: 0.1201\n",
            "epoch 16\n",
            "79/79 [==============================] - 8s 100ms/step - loss: 4.4545 - policy_loss: 3.7506 - value_loss: 0.6947 - policy_categorical_accuracy: 0.1946 - value_mse: 0.1190\n",
            "epoch 17\n",
            "79/79 [==============================] - 8s 99ms/step - loss: 4.4724 - policy_loss: 3.7698 - value_loss: 0.6934 - policy_categorical_accuracy: 0.1981 - value_mse: 0.1185\n",
            "epoch 18\n",
            "79/79 [==============================] - 8s 104ms/step - loss: 4.4463 - policy_loss: 3.7406 - value_loss: 0.6965 - policy_categorical_accuracy: 0.1981 - value_mse: 0.1226\n",
            "epoch 19\n",
            "79/79 [==============================] - 8s 105ms/step - loss: 4.4131 - policy_loss: 3.7103 - value_loss: 0.6935 - policy_categorical_accuracy: 0.2099 - value_mse: 0.1176\n",
            "epoch 20\n",
            "79/79 [==============================] - 8s 102ms/step - loss: 4.3842 - policy_loss: 3.6813 - value_loss: 0.6937 - policy_categorical_accuracy: 0.2088 - value_mse: 0.1208\n",
            "epoch 21\n",
            "79/79 [==============================] - 8s 100ms/step - loss: 4.3546 - policy_loss: 3.6529 - value_loss: 0.6925 - policy_categorical_accuracy: 0.2073 - value_mse: 0.1188\n",
            "epoch 22\n",
            "79/79 [==============================] - 8s 101ms/step - loss: 4.3559 - policy_loss: 3.6527 - value_loss: 0.6940 - policy_categorical_accuracy: 0.2103 - value_mse: 0.1207\n",
            "epoch 23\n",
            "79/79 [==============================] - 8s 103ms/step - loss: 4.3426 - policy_loss: 3.6407 - value_loss: 0.6927 - policy_categorical_accuracy: 0.2150 - value_mse: 0.1198\n",
            "epoch 24\n",
            "79/79 [==============================] - 8s 103ms/step - loss: 4.3269 - policy_loss: 3.6255 - value_loss: 0.6922 - policy_categorical_accuracy: 0.2203 - value_mse: 0.1196\n",
            "epoch 25\n",
            "79/79 [==============================] - 8s 100ms/step - loss: 4.3170 - policy_loss: 3.6144 - value_loss: 0.6933 - policy_categorical_accuracy: 0.2208 - value_mse: 0.1190\n",
            "epoch 26\n",
            "79/79 [==============================] - 8s 100ms/step - loss: 4.3052 - policy_loss: 3.6046 - value_loss: 0.6914 - policy_categorical_accuracy: 0.2197 - value_mse: 0.1174\n",
            "epoch 27\n",
            "79/79 [==============================] - 8s 100ms/step - loss: 4.2361 - policy_loss: 3.5341 - value_loss: 0.6928 - policy_categorical_accuracy: 0.2277 - value_mse: 0.1206\n",
            "epoch 28\n",
            "79/79 [==============================] - 8s 100ms/step - loss: 4.2308 - policy_loss: 3.5286 - value_loss: 0.6930 - policy_categorical_accuracy: 0.2321 - value_mse: 0.1190\n",
            "epoch 29\n",
            "79/79 [==============================] - 8s 104ms/step - loss: 4.2368 - policy_loss: 3.5355 - value_loss: 0.6921 - policy_categorical_accuracy: 0.2336 - value_mse: 0.1183\n",
            "epoch 30\n",
            "79/79 [==============================] - 8s 104ms/step - loss: 4.1502 - policy_loss: 3.4494 - value_loss: 0.6916 - policy_categorical_accuracy: 0.2368 - value_mse: 0.1189\n",
            "epoch 31\n",
            "79/79 [==============================] - 8s 101ms/step - loss: 4.1992 - policy_loss: 3.4982 - value_loss: 0.6919 - policy_categorical_accuracy: 0.2353 - value_mse: 0.1177\n",
            "epoch 32\n",
            "69/79 [=========================>....] - ETA: 1s - loss: 4.1743 - policy_loss: 3.4719 - value_loss: 0.6932 - policy_categorical_accuracy: 0.2387 - value_mse: 0.1176"
          ]
        },
        {
          "output_type": "error",
          "ename": "KeyboardInterrupt",
          "evalue": "",
          "traceback": [
            "\u001b[0;31m---------------------------------------------------------------------------\u001b[0m",
            "\u001b[0;31mKeyboardInterrupt\u001b[0m                         Traceback (most recent call last)",
            "\u001b[0;32m<ipython-input-46-6a1106e93292>\u001b[0m in \u001b[0;36m<cell line: 16>\u001b[0;34m()\u001b[0m\n\u001b[1;32m     17\u001b[0m     \u001b[0mprint\u001b[0m \u001b[0;34m(\u001b[0m\u001b[0;34m'epoch '\u001b[0m \u001b[0;34m+\u001b[0m \u001b[0mstr\u001b[0m \u001b[0;34m(\u001b[0m\u001b[0mi\u001b[0m\u001b[0;34m)\u001b[0m\u001b[0;34m)\u001b[0m\u001b[0;34m\u001b[0m\u001b[0;34m\u001b[0m\u001b[0m\n\u001b[1;32m     18\u001b[0m     \u001b[0mgolois\u001b[0m\u001b[0;34m.\u001b[0m\u001b[0mgetBatch\u001b[0m \u001b[0;34m(\u001b[0m\u001b[0minput_data\u001b[0m\u001b[0;34m,\u001b[0m \u001b[0mpolicy\u001b[0m\u001b[0;34m,\u001b[0m \u001b[0mvalue\u001b[0m\u001b[0;34m,\u001b[0m \u001b[0mend\u001b[0m\u001b[0;34m,\u001b[0m \u001b[0mgroups\u001b[0m\u001b[0;34m,\u001b[0m \u001b[0mi\u001b[0m \u001b[0;34m*\u001b[0m \u001b[0mN\u001b[0m\u001b[0;34m)\u001b[0m\u001b[0;34m\u001b[0m\u001b[0;34m\u001b[0m\u001b[0m\n\u001b[0;32m---> 19\u001b[0;31m     history = model.fit(input_data,\n\u001b[0m\u001b[1;32m     20\u001b[0m                         \u001b[0;34m{\u001b[0m\u001b[0;34m'policy'\u001b[0m\u001b[0;34m:\u001b[0m \u001b[0mpolicy\u001b[0m\u001b[0;34m,\u001b[0m \u001b[0;34m'value'\u001b[0m\u001b[0;34m:\u001b[0m \u001b[0mvalue\u001b[0m\u001b[0;34m}\u001b[0m\u001b[0;34m,\u001b[0m\u001b[0;34m\u001b[0m\u001b[0;34m\u001b[0m\u001b[0m\n\u001b[1;32m     21\u001b[0m                         \u001b[0mepochs\u001b[0m\u001b[0;34m=\u001b[0m\u001b[0;36m1\u001b[0m\u001b[0;34m,\u001b[0m \u001b[0mbatch_size\u001b[0m\u001b[0;34m=\u001b[0m\u001b[0mbatch\u001b[0m\u001b[0;34m\u001b[0m\u001b[0;34m\u001b[0m\u001b[0m\n",
            "\u001b[0;32m/usr/local/lib/python3.10/dist-packages/keras/src/utils/traceback_utils.py\u001b[0m in \u001b[0;36merror_handler\u001b[0;34m(*args, **kwargs)\u001b[0m\n\u001b[1;32m     63\u001b[0m         \u001b[0mfiltered_tb\u001b[0m \u001b[0;34m=\u001b[0m \u001b[0;32mNone\u001b[0m\u001b[0;34m\u001b[0m\u001b[0;34m\u001b[0m\u001b[0m\n\u001b[1;32m     64\u001b[0m         \u001b[0;32mtry\u001b[0m\u001b[0;34m:\u001b[0m\u001b[0;34m\u001b[0m\u001b[0;34m\u001b[0m\u001b[0m\n\u001b[0;32m---> 65\u001b[0;31m             \u001b[0;32mreturn\u001b[0m \u001b[0mfn\u001b[0m\u001b[0;34m(\u001b[0m\u001b[0;34m*\u001b[0m\u001b[0margs\u001b[0m\u001b[0;34m,\u001b[0m \u001b[0;34m**\u001b[0m\u001b[0mkwargs\u001b[0m\u001b[0;34m)\u001b[0m\u001b[0;34m\u001b[0m\u001b[0;34m\u001b[0m\u001b[0m\n\u001b[0m\u001b[1;32m     66\u001b[0m         \u001b[0;32mexcept\u001b[0m \u001b[0mException\u001b[0m \u001b[0;32mas\u001b[0m \u001b[0me\u001b[0m\u001b[0;34m:\u001b[0m\u001b[0;34m\u001b[0m\u001b[0;34m\u001b[0m\u001b[0m\n\u001b[1;32m     67\u001b[0m             \u001b[0mfiltered_tb\u001b[0m \u001b[0;34m=\u001b[0m \u001b[0m_process_traceback_frames\u001b[0m\u001b[0;34m(\u001b[0m\u001b[0me\u001b[0m\u001b[0;34m.\u001b[0m\u001b[0m__traceback__\u001b[0m\u001b[0;34m)\u001b[0m\u001b[0;34m\u001b[0m\u001b[0;34m\u001b[0m\u001b[0m\n",
            "\u001b[0;32m/usr/local/lib/python3.10/dist-packages/keras/src/engine/training.py\u001b[0m in \u001b[0;36mfit\u001b[0;34m(self, x, y, batch_size, epochs, verbose, callbacks, validation_split, validation_data, shuffle, class_weight, sample_weight, initial_epoch, steps_per_epoch, validation_steps, validation_batch_size, validation_freq, max_queue_size, workers, use_multiprocessing)\u001b[0m\n\u001b[1;32m   1811\u001b[0m                             \u001b[0mlogs\u001b[0m \u001b[0;34m=\u001b[0m \u001b[0mtmp_logs\u001b[0m\u001b[0;34m\u001b[0m\u001b[0;34m\u001b[0m\u001b[0m\n\u001b[1;32m   1812\u001b[0m                             \u001b[0mend_step\u001b[0m \u001b[0;34m=\u001b[0m \u001b[0mstep\u001b[0m \u001b[0;34m+\u001b[0m \u001b[0mdata_handler\u001b[0m\u001b[0;34m.\u001b[0m\u001b[0mstep_increment\u001b[0m\u001b[0;34m\u001b[0m\u001b[0;34m\u001b[0m\u001b[0m\n\u001b[0;32m-> 1813\u001b[0;31m                             \u001b[0mcallbacks\u001b[0m\u001b[0;34m.\u001b[0m\u001b[0mon_train_batch_end\u001b[0m\u001b[0;34m(\u001b[0m\u001b[0mend_step\u001b[0m\u001b[0;34m,\u001b[0m \u001b[0mlogs\u001b[0m\u001b[0;34m)\u001b[0m\u001b[0;34m\u001b[0m\u001b[0;34m\u001b[0m\u001b[0m\n\u001b[0m\u001b[1;32m   1814\u001b[0m                             \u001b[0;32mif\u001b[0m \u001b[0mself\u001b[0m\u001b[0;34m.\u001b[0m\u001b[0mstop_training\u001b[0m\u001b[0;34m:\u001b[0m\u001b[0;34m\u001b[0m\u001b[0;34m\u001b[0m\u001b[0m\n\u001b[1;32m   1815\u001b[0m                                 \u001b[0;32mbreak\u001b[0m\u001b[0;34m\u001b[0m\u001b[0;34m\u001b[0m\u001b[0m\n",
            "\u001b[0;32m/usr/local/lib/python3.10/dist-packages/keras/src/callbacks.py\u001b[0m in \u001b[0;36mon_train_batch_end\u001b[0;34m(self, batch, logs)\u001b[0m\n\u001b[1;32m    473\u001b[0m         \"\"\"\n\u001b[1;32m    474\u001b[0m         \u001b[0;32mif\u001b[0m \u001b[0mself\u001b[0m\u001b[0;34m.\u001b[0m\u001b[0m_should_call_train_batch_hooks\u001b[0m\u001b[0;34m:\u001b[0m\u001b[0;34m\u001b[0m\u001b[0;34m\u001b[0m\u001b[0m\n\u001b[0;32m--> 475\u001b[0;31m             \u001b[0mself\u001b[0m\u001b[0;34m.\u001b[0m\u001b[0m_call_batch_hook\u001b[0m\u001b[0;34m(\u001b[0m\u001b[0mModeKeys\u001b[0m\u001b[0;34m.\u001b[0m\u001b[0mTRAIN\u001b[0m\u001b[0;34m,\u001b[0m \u001b[0;34m\"end\"\u001b[0m\u001b[0;34m,\u001b[0m \u001b[0mbatch\u001b[0m\u001b[0;34m,\u001b[0m \u001b[0mlogs\u001b[0m\u001b[0;34m=\u001b[0m\u001b[0mlogs\u001b[0m\u001b[0;34m)\u001b[0m\u001b[0;34m\u001b[0m\u001b[0;34m\u001b[0m\u001b[0m\n\u001b[0m\u001b[1;32m    476\u001b[0m \u001b[0;34m\u001b[0m\u001b[0m\n\u001b[1;32m    477\u001b[0m     \u001b[0;32mdef\u001b[0m \u001b[0mon_test_batch_begin\u001b[0m\u001b[0;34m(\u001b[0m\u001b[0mself\u001b[0m\u001b[0;34m,\u001b[0m \u001b[0mbatch\u001b[0m\u001b[0;34m,\u001b[0m \u001b[0mlogs\u001b[0m\u001b[0;34m=\u001b[0m\u001b[0;32mNone\u001b[0m\u001b[0;34m)\u001b[0m\u001b[0;34m:\u001b[0m\u001b[0;34m\u001b[0m\u001b[0;34m\u001b[0m\u001b[0m\n",
            "\u001b[0;32m/usr/local/lib/python3.10/dist-packages/keras/src/callbacks.py\u001b[0m in \u001b[0;36m_call_batch_hook\u001b[0;34m(self, mode, hook, batch, logs)\u001b[0m\n\u001b[1;32m    320\u001b[0m             \u001b[0mself\u001b[0m\u001b[0;34m.\u001b[0m\u001b[0m_call_batch_begin_hook\u001b[0m\u001b[0;34m(\u001b[0m\u001b[0mmode\u001b[0m\u001b[0;34m,\u001b[0m \u001b[0mbatch\u001b[0m\u001b[0;34m,\u001b[0m \u001b[0mlogs\u001b[0m\u001b[0;34m)\u001b[0m\u001b[0;34m\u001b[0m\u001b[0;34m\u001b[0m\u001b[0m\n\u001b[1;32m    321\u001b[0m         \u001b[0;32melif\u001b[0m \u001b[0mhook\u001b[0m \u001b[0;34m==\u001b[0m \u001b[0;34m\"end\"\u001b[0m\u001b[0;34m:\u001b[0m\u001b[0;34m\u001b[0m\u001b[0;34m\u001b[0m\u001b[0m\n\u001b[0;32m--> 322\u001b[0;31m             \u001b[0mself\u001b[0m\u001b[0;34m.\u001b[0m\u001b[0m_call_batch_end_hook\u001b[0m\u001b[0;34m(\u001b[0m\u001b[0mmode\u001b[0m\u001b[0;34m,\u001b[0m \u001b[0mbatch\u001b[0m\u001b[0;34m,\u001b[0m \u001b[0mlogs\u001b[0m\u001b[0;34m)\u001b[0m\u001b[0;34m\u001b[0m\u001b[0;34m\u001b[0m\u001b[0m\n\u001b[0m\u001b[1;32m    323\u001b[0m         \u001b[0;32melse\u001b[0m\u001b[0;34m:\u001b[0m\u001b[0;34m\u001b[0m\u001b[0;34m\u001b[0m\u001b[0m\n\u001b[1;32m    324\u001b[0m             raise ValueError(\n",
            "\u001b[0;32m/usr/local/lib/python3.10/dist-packages/keras/src/callbacks.py\u001b[0m in \u001b[0;36m_call_batch_end_hook\u001b[0;34m(self, mode, batch, logs)\u001b[0m\n\u001b[1;32m    343\u001b[0m             \u001b[0mself\u001b[0m\u001b[0;34m.\u001b[0m\u001b[0m_batch_times\u001b[0m\u001b[0;34m.\u001b[0m\u001b[0mappend\u001b[0m\u001b[0;34m(\u001b[0m\u001b[0mbatch_time\u001b[0m\u001b[0;34m)\u001b[0m\u001b[0;34m\u001b[0m\u001b[0;34m\u001b[0m\u001b[0m\n\u001b[1;32m    344\u001b[0m \u001b[0;34m\u001b[0m\u001b[0m\n\u001b[0;32m--> 345\u001b[0;31m         \u001b[0mself\u001b[0m\u001b[0;34m.\u001b[0m\u001b[0m_call_batch_hook_helper\u001b[0m\u001b[0;34m(\u001b[0m\u001b[0mhook_name\u001b[0m\u001b[0;34m,\u001b[0m \u001b[0mbatch\u001b[0m\u001b[0;34m,\u001b[0m \u001b[0mlogs\u001b[0m\u001b[0;34m)\u001b[0m\u001b[0;34m\u001b[0m\u001b[0;34m\u001b[0m\u001b[0m\n\u001b[0m\u001b[1;32m    346\u001b[0m \u001b[0;34m\u001b[0m\u001b[0m\n\u001b[1;32m    347\u001b[0m         \u001b[0;32mif\u001b[0m \u001b[0mlen\u001b[0m\u001b[0;34m(\u001b[0m\u001b[0mself\u001b[0m\u001b[0;34m.\u001b[0m\u001b[0m_batch_times\u001b[0m\u001b[0;34m)\u001b[0m \u001b[0;34m>=\u001b[0m \u001b[0mself\u001b[0m\u001b[0;34m.\u001b[0m\u001b[0m_num_batches_for_timing_check\u001b[0m\u001b[0;34m:\u001b[0m\u001b[0;34m\u001b[0m\u001b[0;34m\u001b[0m\u001b[0m\n",
            "\u001b[0;32m/usr/local/lib/python3.10/dist-packages/keras/src/callbacks.py\u001b[0m in \u001b[0;36m_call_batch_hook_helper\u001b[0;34m(self, hook_name, batch, logs)\u001b[0m\n\u001b[1;32m    391\u001b[0m         \u001b[0;32mfor\u001b[0m \u001b[0mcallback\u001b[0m \u001b[0;32min\u001b[0m \u001b[0mself\u001b[0m\u001b[0;34m.\u001b[0m\u001b[0mcallbacks\u001b[0m\u001b[0;34m:\u001b[0m\u001b[0;34m\u001b[0m\u001b[0;34m\u001b[0m\u001b[0m\n\u001b[1;32m    392\u001b[0m             \u001b[0mhook\u001b[0m \u001b[0;34m=\u001b[0m \u001b[0mgetattr\u001b[0m\u001b[0;34m(\u001b[0m\u001b[0mcallback\u001b[0m\u001b[0;34m,\u001b[0m \u001b[0mhook_name\u001b[0m\u001b[0;34m)\u001b[0m\u001b[0;34m\u001b[0m\u001b[0;34m\u001b[0m\u001b[0m\n\u001b[0;32m--> 393\u001b[0;31m             \u001b[0mhook\u001b[0m\u001b[0;34m(\u001b[0m\u001b[0mbatch\u001b[0m\u001b[0;34m,\u001b[0m \u001b[0mlogs\u001b[0m\u001b[0;34m)\u001b[0m\u001b[0;34m\u001b[0m\u001b[0;34m\u001b[0m\u001b[0m\n\u001b[0m\u001b[1;32m    394\u001b[0m \u001b[0;34m\u001b[0m\u001b[0m\n\u001b[1;32m    395\u001b[0m         \u001b[0;32mif\u001b[0m \u001b[0mself\u001b[0m\u001b[0;34m.\u001b[0m\u001b[0m_check_timing\u001b[0m\u001b[0;34m:\u001b[0m\u001b[0;34m\u001b[0m\u001b[0;34m\u001b[0m\u001b[0m\n",
            "\u001b[0;32m/usr/local/lib/python3.10/dist-packages/keras/src/callbacks.py\u001b[0m in \u001b[0;36mon_train_batch_end\u001b[0;34m(self, batch, logs)\u001b[0m\n\u001b[1;32m   1091\u001b[0m \u001b[0;34m\u001b[0m\u001b[0m\n\u001b[1;32m   1092\u001b[0m     \u001b[0;32mdef\u001b[0m \u001b[0mon_train_batch_end\u001b[0m\u001b[0;34m(\u001b[0m\u001b[0mself\u001b[0m\u001b[0;34m,\u001b[0m \u001b[0mbatch\u001b[0m\u001b[0;34m,\u001b[0m \u001b[0mlogs\u001b[0m\u001b[0;34m=\u001b[0m\u001b[0;32mNone\u001b[0m\u001b[0;34m)\u001b[0m\u001b[0;34m:\u001b[0m\u001b[0;34m\u001b[0m\u001b[0;34m\u001b[0m\u001b[0m\n\u001b[0;32m-> 1093\u001b[0;31m         \u001b[0mself\u001b[0m\u001b[0;34m.\u001b[0m\u001b[0m_batch_update_progbar\u001b[0m\u001b[0;34m(\u001b[0m\u001b[0mbatch\u001b[0m\u001b[0;34m,\u001b[0m \u001b[0mlogs\u001b[0m\u001b[0;34m)\u001b[0m\u001b[0;34m\u001b[0m\u001b[0;34m\u001b[0m\u001b[0m\n\u001b[0m\u001b[1;32m   1094\u001b[0m \u001b[0;34m\u001b[0m\u001b[0m\n\u001b[1;32m   1095\u001b[0m     \u001b[0;32mdef\u001b[0m \u001b[0mon_test_batch_end\u001b[0m\u001b[0;34m(\u001b[0m\u001b[0mself\u001b[0m\u001b[0;34m,\u001b[0m \u001b[0mbatch\u001b[0m\u001b[0;34m,\u001b[0m \u001b[0mlogs\u001b[0m\u001b[0;34m=\u001b[0m\u001b[0;32mNone\u001b[0m\u001b[0;34m)\u001b[0m\u001b[0;34m:\u001b[0m\u001b[0;34m\u001b[0m\u001b[0;34m\u001b[0m\u001b[0m\n",
            "\u001b[0;32m/usr/local/lib/python3.10/dist-packages/keras/src/callbacks.py\u001b[0m in \u001b[0;36m_batch_update_progbar\u001b[0;34m(self, batch, logs)\u001b[0m\n\u001b[1;32m   1167\u001b[0m         \u001b[0;32mif\u001b[0m \u001b[0mself\u001b[0m\u001b[0;34m.\u001b[0m\u001b[0mverbose\u001b[0m \u001b[0;34m==\u001b[0m \u001b[0;36m1\u001b[0m\u001b[0;34m:\u001b[0m\u001b[0;34m\u001b[0m\u001b[0;34m\u001b[0m\u001b[0m\n\u001b[1;32m   1168\u001b[0m             \u001b[0;31m# Only block async when verbose = 1.\u001b[0m\u001b[0;34m\u001b[0m\u001b[0;34m\u001b[0m\u001b[0m\n\u001b[0;32m-> 1169\u001b[0;31m             \u001b[0mlogs\u001b[0m \u001b[0;34m=\u001b[0m \u001b[0mtf_utils\u001b[0m\u001b[0;34m.\u001b[0m\u001b[0msync_to_numpy_or_python_type\u001b[0m\u001b[0;34m(\u001b[0m\u001b[0mlogs\u001b[0m\u001b[0;34m)\u001b[0m\u001b[0;34m\u001b[0m\u001b[0;34m\u001b[0m\u001b[0m\n\u001b[0m\u001b[1;32m   1170\u001b[0m             \u001b[0mself\u001b[0m\u001b[0;34m.\u001b[0m\u001b[0mprogbar\u001b[0m\u001b[0;34m.\u001b[0m\u001b[0mupdate\u001b[0m\u001b[0;34m(\u001b[0m\u001b[0mself\u001b[0m\u001b[0;34m.\u001b[0m\u001b[0mseen\u001b[0m\u001b[0;34m,\u001b[0m \u001b[0mlist\u001b[0m\u001b[0;34m(\u001b[0m\u001b[0mlogs\u001b[0m\u001b[0;34m.\u001b[0m\u001b[0mitems\u001b[0m\u001b[0;34m(\u001b[0m\u001b[0;34m)\u001b[0m\u001b[0;34m)\u001b[0m\u001b[0;34m,\u001b[0m \u001b[0mfinalize\u001b[0m\u001b[0;34m=\u001b[0m\u001b[0;32mFalse\u001b[0m\u001b[0;34m)\u001b[0m\u001b[0;34m\u001b[0m\u001b[0;34m\u001b[0m\u001b[0m\n\u001b[1;32m   1171\u001b[0m \u001b[0;34m\u001b[0m\u001b[0m\n",
            "\u001b[0;32m/usr/local/lib/python3.10/dist-packages/keras/src/utils/tf_utils.py\u001b[0m in \u001b[0;36msync_to_numpy_or_python_type\u001b[0;34m(tensors)\u001b[0m\n\u001b[1;32m    692\u001b[0m         \u001b[0;32mreturn\u001b[0m \u001b[0mt\u001b[0m\u001b[0;34m.\u001b[0m\u001b[0mitem\u001b[0m\u001b[0;34m(\u001b[0m\u001b[0;34m)\u001b[0m \u001b[0;32mif\u001b[0m \u001b[0mnp\u001b[0m\u001b[0;34m.\u001b[0m\u001b[0mndim\u001b[0m\u001b[0;34m(\u001b[0m\u001b[0mt\u001b[0m\u001b[0;34m)\u001b[0m \u001b[0;34m==\u001b[0m \u001b[0;36m0\u001b[0m \u001b[0;32melse\u001b[0m \u001b[0mt\u001b[0m\u001b[0;34m\u001b[0m\u001b[0;34m\u001b[0m\u001b[0m\n\u001b[1;32m    693\u001b[0m \u001b[0;34m\u001b[0m\u001b[0m\n\u001b[0;32m--> 694\u001b[0;31m     \u001b[0;32mreturn\u001b[0m \u001b[0mtf\u001b[0m\u001b[0;34m.\u001b[0m\u001b[0mnest\u001b[0m\u001b[0;34m.\u001b[0m\u001b[0mmap_structure\u001b[0m\u001b[0;34m(\u001b[0m\u001b[0m_to_single_numpy_or_python_type\u001b[0m\u001b[0;34m,\u001b[0m \u001b[0mtensors\u001b[0m\u001b[0;34m)\u001b[0m\u001b[0;34m\u001b[0m\u001b[0;34m\u001b[0m\u001b[0m\n\u001b[0m\u001b[1;32m    695\u001b[0m \u001b[0;34m\u001b[0m\u001b[0m\n\u001b[1;32m    696\u001b[0m \u001b[0;34m\u001b[0m\u001b[0m\n",
            "\u001b[0;32m/usr/local/lib/python3.10/dist-packages/tensorflow/python/util/nest.py\u001b[0m in \u001b[0;36mmap_structure\u001b[0;34m(func, *structure, **kwargs)\u001b[0m\n\u001b[1;32m    629\u001b[0m     \u001b[0mValueError\u001b[0m\u001b[0;34m:\u001b[0m \u001b[0mIf\u001b[0m \u001b[0mwrong\u001b[0m \u001b[0mkeyword\u001b[0m \u001b[0marguments\u001b[0m \u001b[0mare\u001b[0m \u001b[0mprovided\u001b[0m\u001b[0;34m.\u001b[0m\u001b[0;34m\u001b[0m\u001b[0;34m\u001b[0m\u001b[0m\n\u001b[1;32m    630\u001b[0m   \"\"\"\n\u001b[0;32m--> 631\u001b[0;31m   return nest_util.map_structure(\n\u001b[0m\u001b[1;32m    632\u001b[0m       \u001b[0mnest_util\u001b[0m\u001b[0;34m.\u001b[0m\u001b[0mModality\u001b[0m\u001b[0;34m.\u001b[0m\u001b[0mCORE\u001b[0m\u001b[0;34m,\u001b[0m \u001b[0mfunc\u001b[0m\u001b[0;34m,\u001b[0m \u001b[0;34m*\u001b[0m\u001b[0mstructure\u001b[0m\u001b[0;34m,\u001b[0m \u001b[0;34m**\u001b[0m\u001b[0mkwargs\u001b[0m\u001b[0;34m\u001b[0m\u001b[0;34m\u001b[0m\u001b[0m\n\u001b[1;32m    633\u001b[0m   )\n",
            "\u001b[0;32m/usr/local/lib/python3.10/dist-packages/tensorflow/python/util/nest_util.py\u001b[0m in \u001b[0;36mmap_structure\u001b[0;34m(modality, func, *structure, **kwargs)\u001b[0m\n\u001b[1;32m   1064\u001b[0m   \"\"\"\n\u001b[1;32m   1065\u001b[0m   \u001b[0;32mif\u001b[0m \u001b[0mmodality\u001b[0m \u001b[0;34m==\u001b[0m \u001b[0mModality\u001b[0m\u001b[0;34m.\u001b[0m\u001b[0mCORE\u001b[0m\u001b[0;34m:\u001b[0m\u001b[0;34m\u001b[0m\u001b[0;34m\u001b[0m\u001b[0m\n\u001b[0;32m-> 1066\u001b[0;31m     \u001b[0;32mreturn\u001b[0m \u001b[0m_tf_core_map_structure\u001b[0m\u001b[0;34m(\u001b[0m\u001b[0mfunc\u001b[0m\u001b[0;34m,\u001b[0m \u001b[0;34m*\u001b[0m\u001b[0mstructure\u001b[0m\u001b[0;34m,\u001b[0m \u001b[0;34m**\u001b[0m\u001b[0mkwargs\u001b[0m\u001b[0;34m)\u001b[0m\u001b[0;34m\u001b[0m\u001b[0;34m\u001b[0m\u001b[0m\n\u001b[0m\u001b[1;32m   1067\u001b[0m   \u001b[0;32melif\u001b[0m \u001b[0mmodality\u001b[0m \u001b[0;34m==\u001b[0m \u001b[0mModality\u001b[0m\u001b[0;34m.\u001b[0m\u001b[0mDATA\u001b[0m\u001b[0;34m:\u001b[0m\u001b[0;34m\u001b[0m\u001b[0;34m\u001b[0m\u001b[0m\n\u001b[1;32m   1068\u001b[0m     \u001b[0;32mreturn\u001b[0m \u001b[0m_tf_data_map_structure\u001b[0m\u001b[0;34m(\u001b[0m\u001b[0mfunc\u001b[0m\u001b[0;34m,\u001b[0m \u001b[0;34m*\u001b[0m\u001b[0mstructure\u001b[0m\u001b[0;34m,\u001b[0m \u001b[0;34m**\u001b[0m\u001b[0mkwargs\u001b[0m\u001b[0;34m)\u001b[0m\u001b[0;34m\u001b[0m\u001b[0;34m\u001b[0m\u001b[0m\n",
            "\u001b[0;32m/usr/local/lib/python3.10/dist-packages/tensorflow/python/util/nest_util.py\u001b[0m in \u001b[0;36m_tf_core_map_structure\u001b[0;34m(func, *structure, **kwargs)\u001b[0m\n\u001b[1;32m   1104\u001b[0m   return _tf_core_pack_sequence_as(\n\u001b[1;32m   1105\u001b[0m       \u001b[0mstructure\u001b[0m\u001b[0;34m[\u001b[0m\u001b[0;36m0\u001b[0m\u001b[0;34m]\u001b[0m\u001b[0;34m,\u001b[0m\u001b[0;34m\u001b[0m\u001b[0;34m\u001b[0m\u001b[0m\n\u001b[0;32m-> 1106\u001b[0;31m       \u001b[0;34m[\u001b[0m\u001b[0mfunc\u001b[0m\u001b[0;34m(\u001b[0m\u001b[0;34m*\u001b[0m\u001b[0mx\u001b[0m\u001b[0;34m)\u001b[0m \u001b[0;32mfor\u001b[0m \u001b[0mx\u001b[0m \u001b[0;32min\u001b[0m \u001b[0mentries\u001b[0m\u001b[0;34m]\u001b[0m\u001b[0;34m,\u001b[0m\u001b[0;34m\u001b[0m\u001b[0;34m\u001b[0m\u001b[0m\n\u001b[0m\u001b[1;32m   1107\u001b[0m       \u001b[0mexpand_composites\u001b[0m\u001b[0;34m=\u001b[0m\u001b[0mexpand_composites\u001b[0m\u001b[0;34m,\u001b[0m\u001b[0;34m\u001b[0m\u001b[0;34m\u001b[0m\u001b[0m\n\u001b[1;32m   1108\u001b[0m   )\n",
            "\u001b[0;32m/usr/local/lib/python3.10/dist-packages/tensorflow/python/util/nest_util.py\u001b[0m in \u001b[0;36m<listcomp>\u001b[0;34m(.0)\u001b[0m\n\u001b[1;32m   1104\u001b[0m   return _tf_core_pack_sequence_as(\n\u001b[1;32m   1105\u001b[0m       \u001b[0mstructure\u001b[0m\u001b[0;34m[\u001b[0m\u001b[0;36m0\u001b[0m\u001b[0;34m]\u001b[0m\u001b[0;34m,\u001b[0m\u001b[0;34m\u001b[0m\u001b[0;34m\u001b[0m\u001b[0m\n\u001b[0;32m-> 1106\u001b[0;31m       \u001b[0;34m[\u001b[0m\u001b[0mfunc\u001b[0m\u001b[0;34m(\u001b[0m\u001b[0;34m*\u001b[0m\u001b[0mx\u001b[0m\u001b[0;34m)\u001b[0m \u001b[0;32mfor\u001b[0m \u001b[0mx\u001b[0m \u001b[0;32min\u001b[0m \u001b[0mentries\u001b[0m\u001b[0;34m]\u001b[0m\u001b[0;34m,\u001b[0m\u001b[0;34m\u001b[0m\u001b[0;34m\u001b[0m\u001b[0m\n\u001b[0m\u001b[1;32m   1107\u001b[0m       \u001b[0mexpand_composites\u001b[0m\u001b[0;34m=\u001b[0m\u001b[0mexpand_composites\u001b[0m\u001b[0;34m,\u001b[0m\u001b[0;34m\u001b[0m\u001b[0;34m\u001b[0m\u001b[0m\n\u001b[1;32m   1108\u001b[0m   )\n",
            "\u001b[0;32m/usr/local/lib/python3.10/dist-packages/keras/src/utils/tf_utils.py\u001b[0m in \u001b[0;36m_to_single_numpy_or_python_type\u001b[0;34m(t)\u001b[0m\n\u001b[1;32m    685\u001b[0m         \u001b[0;31m# Don't turn ragged or sparse tensors to NumPy.\u001b[0m\u001b[0;34m\u001b[0m\u001b[0;34m\u001b[0m\u001b[0m\n\u001b[1;32m    686\u001b[0m         \u001b[0;32mif\u001b[0m \u001b[0misinstance\u001b[0m\u001b[0;34m(\u001b[0m\u001b[0mt\u001b[0m\u001b[0;34m,\u001b[0m \u001b[0mtf\u001b[0m\u001b[0;34m.\u001b[0m\u001b[0mTensor\u001b[0m\u001b[0;34m)\u001b[0m\u001b[0;34m:\u001b[0m\u001b[0;34m\u001b[0m\u001b[0;34m\u001b[0m\u001b[0m\n\u001b[0;32m--> 687\u001b[0;31m             \u001b[0mt\u001b[0m \u001b[0;34m=\u001b[0m \u001b[0mt\u001b[0m\u001b[0;34m.\u001b[0m\u001b[0mnumpy\u001b[0m\u001b[0;34m(\u001b[0m\u001b[0;34m)\u001b[0m\u001b[0;34m\u001b[0m\u001b[0;34m\u001b[0m\u001b[0m\n\u001b[0m\u001b[1;32m    688\u001b[0m         \u001b[0;31m# Strings, ragged and sparse tensors don't have .item(). Return them\u001b[0m\u001b[0;34m\u001b[0m\u001b[0;34m\u001b[0m\u001b[0m\n\u001b[1;32m    689\u001b[0m         \u001b[0;31m# as-is.\u001b[0m\u001b[0;34m\u001b[0m\u001b[0;34m\u001b[0m\u001b[0m\n",
            "\u001b[0;32m/usr/local/lib/python3.10/dist-packages/tensorflow/python/framework/ops.py\u001b[0m in \u001b[0;36mnumpy\u001b[0;34m(self)\u001b[0m\n\u001b[1;32m    392\u001b[0m     \"\"\"\n\u001b[1;32m    393\u001b[0m     \u001b[0;31m# TODO(slebedev): Consider avoiding a copy for non-CPU or remote tensors.\u001b[0m\u001b[0;34m\u001b[0m\u001b[0;34m\u001b[0m\u001b[0m\n\u001b[0;32m--> 394\u001b[0;31m     \u001b[0mmaybe_arr\u001b[0m \u001b[0;34m=\u001b[0m \u001b[0mself\u001b[0m\u001b[0;34m.\u001b[0m\u001b[0m_numpy\u001b[0m\u001b[0;34m(\u001b[0m\u001b[0;34m)\u001b[0m  \u001b[0;31m# pylint: disable=protected-access\u001b[0m\u001b[0;34m\u001b[0m\u001b[0;34m\u001b[0m\u001b[0m\n\u001b[0m\u001b[1;32m    395\u001b[0m     \u001b[0;32mreturn\u001b[0m \u001b[0mmaybe_arr\u001b[0m\u001b[0;34m.\u001b[0m\u001b[0mcopy\u001b[0m\u001b[0;34m(\u001b[0m\u001b[0;34m)\u001b[0m \u001b[0;32mif\u001b[0m \u001b[0misinstance\u001b[0m\u001b[0;34m(\u001b[0m\u001b[0mmaybe_arr\u001b[0m\u001b[0;34m,\u001b[0m \u001b[0mnp\u001b[0m\u001b[0;34m.\u001b[0m\u001b[0mndarray\u001b[0m\u001b[0;34m)\u001b[0m \u001b[0;32melse\u001b[0m \u001b[0mmaybe_arr\u001b[0m\u001b[0;34m\u001b[0m\u001b[0;34m\u001b[0m\u001b[0m\n\u001b[1;32m    396\u001b[0m \u001b[0;34m\u001b[0m\u001b[0m\n",
            "\u001b[0;32m/usr/local/lib/python3.10/dist-packages/tensorflow/python/framework/ops.py\u001b[0m in \u001b[0;36m_numpy\u001b[0;34m(self)\u001b[0m\n\u001b[1;32m    358\u001b[0m   \u001b[0;32mdef\u001b[0m \u001b[0m_numpy\u001b[0m\u001b[0;34m(\u001b[0m\u001b[0mself\u001b[0m\u001b[0;34m)\u001b[0m\u001b[0;34m:\u001b[0m\u001b[0;34m\u001b[0m\u001b[0;34m\u001b[0m\u001b[0m\n\u001b[1;32m    359\u001b[0m     \u001b[0;32mtry\u001b[0m\u001b[0;34m:\u001b[0m\u001b[0;34m\u001b[0m\u001b[0;34m\u001b[0m\u001b[0m\n\u001b[0;32m--> 360\u001b[0;31m       \u001b[0;32mreturn\u001b[0m \u001b[0mself\u001b[0m\u001b[0;34m.\u001b[0m\u001b[0m_numpy_internal\u001b[0m\u001b[0;34m(\u001b[0m\u001b[0;34m)\u001b[0m\u001b[0;34m\u001b[0m\u001b[0;34m\u001b[0m\u001b[0m\n\u001b[0m\u001b[1;32m    361\u001b[0m     \u001b[0;32mexcept\u001b[0m \u001b[0mcore\u001b[0m\u001b[0;34m.\u001b[0m\u001b[0m_NotOkStatusException\u001b[0m \u001b[0;32mas\u001b[0m \u001b[0me\u001b[0m\u001b[0;34m:\u001b[0m  \u001b[0;31m# pylint: disable=protected-access\u001b[0m\u001b[0;34m\u001b[0m\u001b[0;34m\u001b[0m\u001b[0m\n\u001b[1;32m    362\u001b[0m       \u001b[0;32mraise\u001b[0m \u001b[0mcore\u001b[0m\u001b[0;34m.\u001b[0m\u001b[0m_status_to_exception\u001b[0m\u001b[0;34m(\u001b[0m\u001b[0me\u001b[0m\u001b[0;34m)\u001b[0m \u001b[0;32mfrom\u001b[0m \u001b[0;32mNone\u001b[0m  \u001b[0;31m# pylint: disable=protected-access\u001b[0m\u001b[0;34m\u001b[0m\u001b[0;34m\u001b[0m\u001b[0m\n",
            "\u001b[0;31mKeyboardInterrupt\u001b[0m: "
          ]
        }
      ]
    },
    {
      "cell_type": "code",
      "source": [
        "from google.colab import drive\n",
        "drive.mount('/content/drive')"
      ],
      "metadata": {
        "id": "Udq9DJW0RNnx",
        "outputId": "7bee10df-f391-412f-f51c-2b5878d0f5a0",
        "colab": {
          "base_uri": "https://localhost:8080/"
        }
      },
      "execution_count": null,
      "outputs": [
        {
          "output_type": "stream",
          "name": "stdout",
          "text": [
            "Mounted at /content/drive\n"
          ]
        }
      ]
    },
    {
      "cell_type": "code",
      "source": [
        "results = {'Metrics': ['loss', 'policy_loss', 'value_loss', 'policy_categorical_accuracy', 'value_mse'], 'Prev_val': prev_val, 'val': val}\n",
        "pd.DataFrame(results)"
      ],
      "metadata": {
        "id": "YdcpS3lmMhYQ",
        "outputId": "1b15e791-7ad7-4480-f8e6-6cd0850984c7",
        "colab": {
          "base_uri": "https://localhost:8080/",
          "height": 206
        }
      },
      "execution_count": null,
      "outputs": [
        {
          "output_type": "execute_result",
          "data": {
            "text/plain": [
              "                       Metrics  Prev_val       val\n",
              "0                         loss  3.598189  3.682681\n",
              "1                  policy_loss  2.895999  2.887513\n",
              "2                   value_loss  0.693104  0.690938\n",
              "3  policy_categorical_accuracy  0.322900  0.327300\n",
              "4                    value_mse  0.120026  0.118950"
            ],
            "text/html": [
              "\n",
              "  <div id=\"df-894b10da-286a-47e6-9a6c-b91794a589d2\" class=\"colab-df-container\">\n",
              "    <div>\n",
              "<style scoped>\n",
              "    .dataframe tbody tr th:only-of-type {\n",
              "        vertical-align: middle;\n",
              "    }\n",
              "\n",
              "    .dataframe tbody tr th {\n",
              "        vertical-align: top;\n",
              "    }\n",
              "\n",
              "    .dataframe thead th {\n",
              "        text-align: right;\n",
              "    }\n",
              "</style>\n",
              "<table border=\"1\" class=\"dataframe\">\n",
              "  <thead>\n",
              "    <tr style=\"text-align: right;\">\n",
              "      <th></th>\n",
              "      <th>Metrics</th>\n",
              "      <th>Prev_val</th>\n",
              "      <th>val</th>\n",
              "    </tr>\n",
              "  </thead>\n",
              "  <tbody>\n",
              "    <tr>\n",
              "      <th>0</th>\n",
              "      <td>loss</td>\n",
              "      <td>3.598189</td>\n",
              "      <td>3.682681</td>\n",
              "    </tr>\n",
              "    <tr>\n",
              "      <th>1</th>\n",
              "      <td>policy_loss</td>\n",
              "      <td>2.895999</td>\n",
              "      <td>2.887513</td>\n",
              "    </tr>\n",
              "    <tr>\n",
              "      <th>2</th>\n",
              "      <td>value_loss</td>\n",
              "      <td>0.693104</td>\n",
              "      <td>0.690938</td>\n",
              "    </tr>\n",
              "    <tr>\n",
              "      <th>3</th>\n",
              "      <td>policy_categorical_accuracy</td>\n",
              "      <td>0.322900</td>\n",
              "      <td>0.327300</td>\n",
              "    </tr>\n",
              "    <tr>\n",
              "      <th>4</th>\n",
              "      <td>value_mse</td>\n",
              "      <td>0.120026</td>\n",
              "      <td>0.118950</td>\n",
              "    </tr>\n",
              "  </tbody>\n",
              "</table>\n",
              "</div>\n",
              "    <div class=\"colab-df-buttons\">\n",
              "\n",
              "  <div class=\"colab-df-container\">\n",
              "    <button class=\"colab-df-convert\" onclick=\"convertToInteractive('df-894b10da-286a-47e6-9a6c-b91794a589d2')\"\n",
              "            title=\"Convert this dataframe to an interactive table.\"\n",
              "            style=\"display:none;\">\n",
              "\n",
              "  <svg xmlns=\"http://www.w3.org/2000/svg\" height=\"24px\" viewBox=\"0 -960 960 960\">\n",
              "    <path d=\"M120-120v-720h720v720H120Zm60-500h600v-160H180v160Zm220 220h160v-160H400v160Zm0 220h160v-160H400v160ZM180-400h160v-160H180v160Zm440 0h160v-160H620v160ZM180-180h160v-160H180v160Zm440 0h160v-160H620v160Z\"/>\n",
              "  </svg>\n",
              "    </button>\n",
              "\n",
              "  <style>\n",
              "    .colab-df-container {\n",
              "      display:flex;\n",
              "      gap: 12px;\n",
              "    }\n",
              "\n",
              "    .colab-df-convert {\n",
              "      background-color: #E8F0FE;\n",
              "      border: none;\n",
              "      border-radius: 50%;\n",
              "      cursor: pointer;\n",
              "      display: none;\n",
              "      fill: #1967D2;\n",
              "      height: 32px;\n",
              "      padding: 0 0 0 0;\n",
              "      width: 32px;\n",
              "    }\n",
              "\n",
              "    .colab-df-convert:hover {\n",
              "      background-color: #E2EBFA;\n",
              "      box-shadow: 0px 1px 2px rgba(60, 64, 67, 0.3), 0px 1px 3px 1px rgba(60, 64, 67, 0.15);\n",
              "      fill: #174EA6;\n",
              "    }\n",
              "\n",
              "    .colab-df-buttons div {\n",
              "      margin-bottom: 4px;\n",
              "    }\n",
              "\n",
              "    [theme=dark] .colab-df-convert {\n",
              "      background-color: #3B4455;\n",
              "      fill: #D2E3FC;\n",
              "    }\n",
              "\n",
              "    [theme=dark] .colab-df-convert:hover {\n",
              "      background-color: #434B5C;\n",
              "      box-shadow: 0px 1px 3px 1px rgba(0, 0, 0, 0.15);\n",
              "      filter: drop-shadow(0px 1px 2px rgba(0, 0, 0, 0.3));\n",
              "      fill: #FFFFFF;\n",
              "    }\n",
              "  </style>\n",
              "\n",
              "    <script>\n",
              "      const buttonEl =\n",
              "        document.querySelector('#df-894b10da-286a-47e6-9a6c-b91794a589d2 button.colab-df-convert');\n",
              "      buttonEl.style.display =\n",
              "        google.colab.kernel.accessAllowed ? 'block' : 'none';\n",
              "\n",
              "      async function convertToInteractive(key) {\n",
              "        const element = document.querySelector('#df-894b10da-286a-47e6-9a6c-b91794a589d2');\n",
              "        const dataTable =\n",
              "          await google.colab.kernel.invokeFunction('convertToInteractive',\n",
              "                                                    [key], {});\n",
              "        if (!dataTable) return;\n",
              "\n",
              "        const docLinkHtml = 'Like what you see? Visit the ' +\n",
              "          '<a target=\"_blank\" href=https://colab.research.google.com/notebooks/data_table.ipynb>data table notebook</a>'\n",
              "          + ' to learn more about interactive tables.';\n",
              "        element.innerHTML = '';\n",
              "        dataTable['output_type'] = 'display_data';\n",
              "        await google.colab.output.renderOutput(dataTable, element);\n",
              "        const docLink = document.createElement('div');\n",
              "        docLink.innerHTML = docLinkHtml;\n",
              "        element.appendChild(docLink);\n",
              "      }\n",
              "    </script>\n",
              "  </div>\n",
              "\n",
              "\n",
              "<div id=\"df-73b99670-1d91-480c-8c31-d23a997f03d4\">\n",
              "  <button class=\"colab-df-quickchart\" onclick=\"quickchart('df-73b99670-1d91-480c-8c31-d23a997f03d4')\"\n",
              "            title=\"Suggest charts\"\n",
              "            style=\"display:none;\">\n",
              "\n",
              "<svg xmlns=\"http://www.w3.org/2000/svg\" height=\"24px\"viewBox=\"0 0 24 24\"\n",
              "     width=\"24px\">\n",
              "    <g>\n",
              "        <path d=\"M19 3H5c-1.1 0-2 .9-2 2v14c0 1.1.9 2 2 2h14c1.1 0 2-.9 2-2V5c0-1.1-.9-2-2-2zM9 17H7v-7h2v7zm4 0h-2V7h2v10zm4 0h-2v-4h2v4z\"/>\n",
              "    </g>\n",
              "</svg>\n",
              "  </button>\n",
              "\n",
              "<style>\n",
              "  .colab-df-quickchart {\n",
              "      --bg-color: #E8F0FE;\n",
              "      --fill-color: #1967D2;\n",
              "      --hover-bg-color: #E2EBFA;\n",
              "      --hover-fill-color: #174EA6;\n",
              "      --disabled-fill-color: #AAA;\n",
              "      --disabled-bg-color: #DDD;\n",
              "  }\n",
              "\n",
              "  [theme=dark] .colab-df-quickchart {\n",
              "      --bg-color: #3B4455;\n",
              "      --fill-color: #D2E3FC;\n",
              "      --hover-bg-color: #434B5C;\n",
              "      --hover-fill-color: #FFFFFF;\n",
              "      --disabled-bg-color: #3B4455;\n",
              "      --disabled-fill-color: #666;\n",
              "  }\n",
              "\n",
              "  .colab-df-quickchart {\n",
              "    background-color: var(--bg-color);\n",
              "    border: none;\n",
              "    border-radius: 50%;\n",
              "    cursor: pointer;\n",
              "    display: none;\n",
              "    fill: var(--fill-color);\n",
              "    height: 32px;\n",
              "    padding: 0;\n",
              "    width: 32px;\n",
              "  }\n",
              "\n",
              "  .colab-df-quickchart:hover {\n",
              "    background-color: var(--hover-bg-color);\n",
              "    box-shadow: 0 1px 2px rgba(60, 64, 67, 0.3), 0 1px 3px 1px rgba(60, 64, 67, 0.15);\n",
              "    fill: var(--button-hover-fill-color);\n",
              "  }\n",
              "\n",
              "  .colab-df-quickchart-complete:disabled,\n",
              "  .colab-df-quickchart-complete:disabled:hover {\n",
              "    background-color: var(--disabled-bg-color);\n",
              "    fill: var(--disabled-fill-color);\n",
              "    box-shadow: none;\n",
              "  }\n",
              "\n",
              "  .colab-df-spinner {\n",
              "    border: 2px solid var(--fill-color);\n",
              "    border-color: transparent;\n",
              "    border-bottom-color: var(--fill-color);\n",
              "    animation:\n",
              "      spin 1s steps(1) infinite;\n",
              "  }\n",
              "\n",
              "  @keyframes spin {\n",
              "    0% {\n",
              "      border-color: transparent;\n",
              "      border-bottom-color: var(--fill-color);\n",
              "      border-left-color: var(--fill-color);\n",
              "    }\n",
              "    20% {\n",
              "      border-color: transparent;\n",
              "      border-left-color: var(--fill-color);\n",
              "      border-top-color: var(--fill-color);\n",
              "    }\n",
              "    30% {\n",
              "      border-color: transparent;\n",
              "      border-left-color: var(--fill-color);\n",
              "      border-top-color: var(--fill-color);\n",
              "      border-right-color: var(--fill-color);\n",
              "    }\n",
              "    40% {\n",
              "      border-color: transparent;\n",
              "      border-right-color: var(--fill-color);\n",
              "      border-top-color: var(--fill-color);\n",
              "    }\n",
              "    60% {\n",
              "      border-color: transparent;\n",
              "      border-right-color: var(--fill-color);\n",
              "    }\n",
              "    80% {\n",
              "      border-color: transparent;\n",
              "      border-right-color: var(--fill-color);\n",
              "      border-bottom-color: var(--fill-color);\n",
              "    }\n",
              "    90% {\n",
              "      border-color: transparent;\n",
              "      border-bottom-color: var(--fill-color);\n",
              "    }\n",
              "  }\n",
              "</style>\n",
              "\n",
              "  <script>\n",
              "    async function quickchart(key) {\n",
              "      const quickchartButtonEl =\n",
              "        document.querySelector('#' + key + ' button');\n",
              "      quickchartButtonEl.disabled = true;  // To prevent multiple clicks.\n",
              "      quickchartButtonEl.classList.add('colab-df-spinner');\n",
              "      try {\n",
              "        const charts = await google.colab.kernel.invokeFunction(\n",
              "            'suggestCharts', [key], {});\n",
              "      } catch (error) {\n",
              "        console.error('Error during call to suggestCharts:', error);\n",
              "      }\n",
              "      quickchartButtonEl.classList.remove('colab-df-spinner');\n",
              "      quickchartButtonEl.classList.add('colab-df-quickchart-complete');\n",
              "    }\n",
              "    (() => {\n",
              "      let quickchartButtonEl =\n",
              "        document.querySelector('#df-73b99670-1d91-480c-8c31-d23a997f03d4 button');\n",
              "      quickchartButtonEl.style.display =\n",
              "        google.colab.kernel.accessAllowed ? 'block' : 'none';\n",
              "    })();\n",
              "  </script>\n",
              "</div>\n",
              "    </div>\n",
              "  </div>\n"
            ],
            "application/vnd.google.colaboratory.intrinsic+json": {
              "type": "dataframe",
              "summary": "{\n  \"name\": \"pd\",\n  \"rows\": 5,\n  \"fields\": [\n    {\n      \"column\": \"Metrics\",\n      \"properties\": {\n        \"dtype\": \"string\",\n        \"num_unique_values\": 5,\n        \"samples\": [\n          \"policy_loss\",\n          \"value_mse\",\n          \"value_loss\"\n        ],\n        \"semantic_type\": \"\",\n        \"description\": \"\"\n      }\n    },\n    {\n      \"column\": \"Prev_val\",\n      \"properties\": {\n        \"dtype\": \"number\",\n        \"std\": 1.6038075669294507,\n        \"min\": 0.12002557516098022,\n        \"max\": 3.598189353942871,\n        \"num_unique_values\": 5,\n        \"samples\": [\n          2.895998954772949,\n          0.12002557516098022,\n          0.6931042671203613\n        ],\n        \"semantic_type\": \"\",\n        \"description\": \"\"\n      }\n    },\n    {\n      \"column\": \"val\",\n      \"properties\": {\n        \"dtype\": \"number\",\n        \"std\": 1.6292478402928245,\n        \"min\": 0.1189500093460083,\n        \"max\": 3.68268084526062,\n        \"num_unique_values\": 5,\n        \"samples\": [\n          2.8875133991241455,\n          0.1189500093460083,\n          0.6909375190734863\n        ],\n        \"semantic_type\": \"\",\n        \"description\": \"\"\n      }\n    }\n  ]\n}"
            }
          },
          "metadata": {},
          "execution_count": 29
        }
      ]
    },
    {
      "cell_type": "code",
      "source": [
        "prev_val = val.copy()"
      ],
      "metadata": {
        "id": "xqbiK4J6NQgi"
      },
      "execution_count": null,
      "outputs": []
    },
    {
      "cell_type": "code",
      "source": [
        "model.save('test_{0}.h5'.format(round(val[3],2)))\n",
        "model.save('/content/drive/MyDrive/Colab Notebooks/Models/David_Benayoun.h5', save_format=\"h5\")\n"
      ],
      "metadata": {
        "colab": {
          "base_uri": "https://localhost:8080/"
        },
        "id": "dwXXeIRO5mjB",
        "outputId": "15e54ff4-397d-4607-ad82-ee7b9956be15"
      },
      "execution_count": null,
      "outputs": [
        {
          "output_type": "stream",
          "name": "stderr",
          "text": [
            "/usr/local/lib/python3.10/dist-packages/keras/src/engine/training.py:3103: UserWarning: You are saving your model as an HDF5 file via `model.save()`. This file format is considered legacy. We recommend using instead the native Keras format, e.g. `model.save('my_model.keras')`.\n",
            "  saving_api.save_model(\n"
          ]
        }
      ]
    },
    {
      "cell_type": "code",
      "source": [
        "model = keras.models.load_model('/content/test_0.35.h5')"
      ],
      "metadata": {
        "id": "3F7VUjrJ8Ij3"
      },
      "execution_count": null,
      "outputs": []
    },
    {
      "cell_type": "code",
      "source": [
        "model.summary()"
      ],
      "metadata": {
        "colab": {
          "base_uri": "https://localhost:8080/"
        },
        "id": "9HbaAX4LAnDy",
        "outputId": "e4c438fd-eda3-4f1c-a7ec-deb60999fd2d"
      },
      "execution_count": null,
      "outputs": [
        {
          "output_type": "stream",
          "name": "stdout",
          "text": [
            "Model: \"model_11\"\n",
            "__________________________________________________________________________________________________\n",
            " Layer (type)                Output Shape                 Param #   Connected to                  \n",
            "==================================================================================================\n",
            " board (InputLayer)          [(None, 19, 19, 31)]         0         []                            \n",
            "                                                                                                  \n",
            " conv2d_100 (Conv2D)         (None, 19, 19, 32)           1024      ['board[0][0]']               \n",
            "                                                                                                  \n",
            " conv2d_101 (Conv2D)         (None, 19, 19, 32)           9248      ['conv2d_100[0][0]']          \n",
            "                                                                                                  \n",
            " batch_normalization_47 (Ba  (None, 19, 19, 32)           128       ['conv2d_101[0][0]']          \n",
            " tchNormalization)                                                                                \n",
            "                                                                                                  \n",
            " add_52 (Add)                (None, 19, 19, 32)           0         ['batch_normalization_47[0][0]\n",
            "                                                                    ',                            \n",
            "                                                                     'conv2d_100[0][0]']          \n",
            "                                                                                                  \n",
            " conv2d_102 (Conv2D)         (None, 19, 19, 32)           9248      ['add_52[0][0]']              \n",
            "                                                                                                  \n",
            " batch_normalization_48 (Ba  (None, 19, 19, 32)           128       ['conv2d_102[0][0]']          \n",
            " tchNormalization)                                                                                \n",
            "                                                                                                  \n",
            " add_53 (Add)                (None, 19, 19, 32)           0         ['batch_normalization_48[0][0]\n",
            "                                                                    ',                            \n",
            "                                                                     'add_52[0][0]']              \n",
            "                                                                                                  \n",
            " conv2d_103 (Conv2D)         (None, 19, 19, 32)           9248      ['add_53[0][0]']              \n",
            "                                                                                                  \n",
            " batch_normalization_49 (Ba  (None, 19, 19, 32)           128       ['conv2d_103[0][0]']          \n",
            " tchNormalization)                                                                                \n",
            "                                                                                                  \n",
            " add_54 (Add)                (None, 19, 19, 32)           0         ['batch_normalization_49[0][0]\n",
            "                                                                    ',                            \n",
            "                                                                     'add_53[0][0]']              \n",
            "                                                                                                  \n",
            " conv2d_104 (Conv2D)         (None, 19, 19, 32)           9248      ['add_54[0][0]']              \n",
            "                                                                                                  \n",
            " batch_normalization_50 (Ba  (None, 19, 19, 32)           128       ['conv2d_104[0][0]']          \n",
            " tchNormalization)                                                                                \n",
            "                                                                                                  \n",
            " add_55 (Add)                (None, 19, 19, 32)           0         ['batch_normalization_50[0][0]\n",
            "                                                                    ',                            \n",
            "                                                                     'add_54[0][0]']              \n",
            "                                                                                                  \n",
            " conv2d_105 (Conv2D)         (None, 19, 19, 1)            32        ['add_55[0][0]']              \n",
            "                                                                                                  \n",
            " conv2d_106 (Conv2D)         (None, 19, 19, 1)            32        ['add_55[0][0]']              \n",
            "                                                                                                  \n",
            " batch_normalization_51 (Ba  (None, 19, 19, 1)            4         ['conv2d_105[0][0]']          \n",
            " tchNormalization)                                                                                \n",
            "                                                                                                  \n",
            " flatten_23 (Flatten)        (None, 361)                  0         ['conv2d_106[0][0]']          \n",
            "                                                                                                  \n",
            " flatten_22 (Flatten)        (None, 361)                  0         ['batch_normalization_51[0][0]\n",
            "                                                                    ']                            \n",
            "                                                                                                  \n",
            " dense_11 (Dense)            (None, 50)                   18100     ['flatten_23[0][0]']          \n",
            "                                                                                                  \n",
            " policy (Activation)         (None, 361)                  0         ['flatten_22[0][0]']          \n",
            "                                                                                                  \n",
            " value (Dense)               (None, 1)                    51        ['dense_11[0][0]']            \n",
            "                                                                                                  \n",
            "==================================================================================================\n",
            "Total params: 56747 (221.67 KB)\n",
            "Trainable params: 56489 (220.66 KB)\n",
            "Non-trainable params: 258 (1.01 KB)\n",
            "__________________________________________________________________________________________________\n"
          ]
        }
      ]
    },
    {
      "cell_type": "code",
      "source": [],
      "metadata": {
        "id": "6IQe3FCTA5tD"
      },
      "execution_count": null,
      "outputs": []
    }
  ],
  "metadata": {
    "accelerator": "GPU",
    "colab": {
      "provenance": [],
      "include_colab_link": true
    },
    "kernelspec": {
      "display_name": "Python 3 (ipykernel)",
      "language": "python",
      "name": "python3"
    },
    "language_info": {
      "codemirror_mode": {
        "name": "ipython",
        "version": 3
      },
      "file_extension": ".py",
      "mimetype": "text/x-python",
      "name": "python",
      "nbconvert_exporter": "python",
      "pygments_lexer": "ipython3",
      "version": "3.10.6"
    }
  },
  "nbformat": 4,
  "nbformat_minor": 0
}