{
  "cells": [
    {
      "cell_type": "markdown",
      "metadata": {
        "id": "view-in-github",
        "colab_type": "text"
      },
      "source": [
        "<a href=\"https://colab.research.google.com/github/dbenayoun/IASD/blob/main/DeepLearning_Caz01.ipynb\" target=\"_parent\"><img src=\"https://colab.research.google.com/assets/colab-badge.svg\" alt=\"Open In Colab\"/></a>"
      ]
    },
    {
      "cell_type": "markdown",
      "metadata": {
        "id": "BH57b4f4BOGV"
      },
      "source": [
        "# XOR"
      ]
    },
    {
      "cell_type": "code",
      "execution_count": null,
      "metadata": {
        "id": "-guXpRAY4S8N"
      },
      "outputs": [],
      "source": [
        "import numpy as np\n",
        "from tensorflow import keras\n",
        "from tensorflow.keras.models import Sequential\n",
        "from tensorflow.keras.layers import Dense, Conv2D\n",
        "from tensorflow.keras.optimizers import Adam, SGD"
      ]
    },
    {
      "cell_type": "code",
      "execution_count": null,
      "metadata": {
        "id": "HlD62UPh4Uuh"
      },
      "outputs": [],
      "source": [
        "# Input and output data for XOR\n",
        "inputs = np.array([[0, 0], [0, 1], [1, 0], [1, 1]])\n",
        "outputs = np.array([[0], [1], [1], [0]])"
      ]
    },
    {
      "cell_type": "code",
      "execution_count": null,
      "metadata": {
        "colab": {
          "base_uri": "https://localhost:8080/"
        },
        "id": "bUBKYNKe6Q-c",
        "outputId": "94cb69a2-41d2-4462-ca92-45add40e3cbf"
      },
      "outputs": [
        {
          "name": "stdout",
          "output_type": "stream",
          "text": [
            "1/1 [==============================] - 0s 51ms/step\n",
            "[[0.02837612]\n",
            " [0.9531352 ]\n",
            " [0.95738196]\n",
            " [0.05089878]]\n"
          ]
        }
      ],
      "source": [
        "# Create the model\n",
        "model = Sequential([\n",
        "    Dense(10, input_dim=2, activation='tanh'),  # Hidden layer with 5 neurons\n",
        "    Dense(1, activation='sigmoid')             # Output layer with 1 neuron\n",
        "])\n",
        "\n",
        "sgd = SGD(learning_rate=0.1)\n",
        "# Compile the model\n",
        "model.compile(optimizer=sgd, loss='mse')\n",
        "\n",
        "# Train the model\n",
        "model.fit(inputs, outputs, epochs=1000, verbose=0, batch_size=1)\n",
        "\n",
        "print(model.predict(inputs))"
      ]
    },
    {
      "cell_type": "markdown",
      "metadata": {
        "id": "mbnkou4iBEP_"
      },
      "source": [
        "# MNIST"
      ]
    },
    {
      "cell_type": "code",
      "execution_count": null,
      "metadata": {
        "id": "YYmGgiNhAtxr"
      },
      "outputs": [],
      "source": [
        "import tensorflow as tf\n",
        "from tensorflow import keras\n",
        "import numpy as np\n",
        "\n",
        "from tensorflow.keras.datasets import mnist\n",
        "\n",
        "(train_images, train_labels), (test_images, test_labels) = mnist.load_data()"
      ]
    },
    {
      "cell_type": "code",
      "execution_count": null,
      "metadata": {
        "id": "ZpSybbvABjFT"
      },
      "outputs": [],
      "source": [
        "train_images = train_images.reshape((60000, 28 * 28))\n",
        "train_images = train_images.astype('float32') / 255\n",
        "test_images = test_images.reshape((10000, 28 * 28))\n",
        "test_images = test_images.astype('float32') / 255\n",
        "\n",
        "from tensorflow.keras.utils import to_categorical\n",
        "train_labels = to_categorical(train_labels)\n",
        "test_labels = to_categorical(test_labels)"
      ]
    },
    {
      "cell_type": "code",
      "execution_count": null,
      "metadata": {
        "colab": {
          "base_uri": "https://localhost:8080/"
        },
        "id": "93aR24cnCqmR",
        "outputId": "074381e7-f7d8-44cb-c086-dcb69c05ebb3"
      },
      "outputs": [
        {
          "data": {
            "text/plain": [
              "array([0., 0., 0., 0., 0., 1., 0., 0., 0., 0.], dtype=float32)"
            ]
          },
          "execution_count": 49,
          "metadata": {},
          "output_type": "execute_result"
        }
      ],
      "source": [
        "train_labels[0]"
      ]
    },
    {
      "cell_type": "code",
      "execution_count": null,
      "metadata": {
        "id": "VPGmZSiXCA2K"
      },
      "outputs": [],
      "source": [
        "from tensorflow.keras import Sequential\n",
        "from tensorflow.keras.layers import Dense, Activation\n",
        "\n",
        "network = Sequential()\n",
        "network.add(Dense(512, activation='relu', input_shape=(28 * 28,)))\n",
        "network.add(Dense(10, activation='softmax'))"
      ]
    },
    {
      "cell_type": "code",
      "execution_count": null,
      "metadata": {
        "colab": {
          "base_uri": "https://localhost:8080/"
        },
        "id": "WERh8DjTCSf6",
        "outputId": "38a85f34-4c2b-410f-e642-256b56797b8c"
      },
      "outputs": [
        {
          "name": "stdout",
          "output_type": "stream",
          "text": [
            "Epoch 1/5\n",
            "469/469 [==============================] - 5s 10ms/step - loss: 0.2623 - accuracy: 0.9243\n",
            "Epoch 2/5\n",
            "469/469 [==============================] - 6s 12ms/step - loss: 0.1077 - accuracy: 0.9677\n",
            "Epoch 3/5\n",
            "469/469 [==============================] - 5s 10ms/step - loss: 0.0704 - accuracy: 0.9793\n",
            "Epoch 4/5\n",
            "469/469 [==============================] - 5s 11ms/step - loss: 0.0516 - accuracy: 0.9845\n",
            "Epoch 5/5\n",
            "469/469 [==============================] - 5s 11ms/step - loss: 0.0382 - accuracy: 0.9887\n",
            "313/313 [==============================] - 1s 2ms/step - loss: 0.0670 - accuracy: 0.9793\n",
            "test_acc: 0.9793000221252441\n"
          ]
        }
      ],
      "source": [
        "network.compile(optimizer='rmsprop', loss='categorical_crossentropy', metrics=['accuracy'])\n",
        "network.fit(train_images, train_labels, epochs=5, batch_size=128)\n",
        "test_loss, test_acc = network.evaluate(test_images, test_labels)\n",
        "print('test_acc:', test_acc)"
      ]
    },
    {
      "cell_type": "code",
      "execution_count": null,
      "metadata": {
        "colab": {
          "base_uri": "https://localhost:8080/",
          "height": 485
        },
        "id": "2UiPGb3cGgeV",
        "outputId": "8a210f7a-6fcd-4268-bf81-76d1dc56e6c3"
      },
      "outputs": [
        {
          "name": "stdout",
          "output_type": "stream",
          "text": [
            "1/1 [==============================] - 0s 21ms/step\n",
            "[[7.1790041e-08 2.9197517e-08 5.3839918e-05 5.9052290e-05 3.0551915e-11\n",
            "  1.2919945e-08 5.4070502e-12 9.9988556e-01 2.9212882e-07 1.2026898e-06]]\n"
          ]
        },
        {
          "data": {
            "image/png": "[encoded data removed]",
            "text/plain": [
              "<Figure size 640x480 with 1 Axes>"
            ]
          },
          "metadata": {},
          "output_type": "display_data"
        }
      ],
      "source": [
        "import matplotlib.pyplot as plt\n",
        "\n",
        "(train_images, train_labels), (test_images, test_labels) = mnist.load_data()\n",
        "plt.imshow(test_images [0])\n",
        "test_images = test_images.reshape((10000, 28 * 28))\n",
        "test_images = test_images.astype('float32') / 255\n",
        "img = test_images [0].reshape ((1, 28*28))\n",
        "print(network.predict(img))"
      ]
    },
    {
      "cell_type": "markdown",
      "metadata": {
        "id": "2YhYUVxJPY8w"
      },
      "source": [
        "# IMBD"
      ]
    },
    {
      "cell_type": "code",
      "execution_count": null,
      "metadata": {
        "colab": {
          "base_uri": "https://localhost:8080/"
        },
        "id": "NnmJWGkZM4Ta",
        "outputId": "067196d0-0ce9-4a02-e3d5-980130b7b905"
      },
      "outputs": [
        {
          "name": "stdout",
          "output_type": "stream",
          "text": [
            "Downloading data from https://storage.googleapis.com/tensorflow/tf-keras-datasets/imdb.npz\n",
            "17464789/17464789 [==============================] - 0s 0us/step\n"
          ]
        }
      ],
      "source": [
        "import tensorflow as tf\n",
        "import numpy as np\n",
        "from tensorflow import keras\n",
        "from tensorflow.keras.datasets import imdb\n",
        "\n",
        "(train_data, train_labels), (test_data, test_labels) = imdb.load_data(num_words=10000)\n",
        "\n",
        "def vectorize_sequences(sequences, dimension=10000):\n",
        "    results = np.zeros((len(sequences), dimension))\n",
        "    for i in range (len (sequences)):\n",
        "        for j in range (len (sequences [i])):\n",
        "            results [i] [sequences [i] [j]] = 1.\n",
        "    return results\n",
        "\n",
        "x_train = vectorize_sequences(train_data)\n",
        "x_test = vectorize_sequences(test_data)"
      ]
    },
    {
      "cell_type": "code",
      "execution_count": null,
      "metadata": {
        "id": "e9CaL9QkPm7j"
      },
      "outputs": [],
      "source": [
        "y_train = np.asarray(train_labels).astype('float32')\n",
        "y_test = np.asarray(test_labels).astype('float32')"
      ]
    },
    {
      "cell_type": "code",
      "execution_count": null,
      "metadata": {
        "colab": {
          "base_uri": "https://localhost:8080/"
        },
        "id": "pYpFslbXP1Nk",
        "outputId": "b75c6936-b200-4d73-d5e9-add14d0ed7be"
      },
      "outputs": [
        {
          "name": "stdout",
          "output_type": "stream",
          "text": [
            "Downloading data from https://storage.googleapis.com/tensorflow/tf-keras-datasets/imdb_word_index.json\n",
            "1641221/1641221 [==============================] - 0s 0us/step\n"
          ]
        }
      ],
      "source": [
        "word_index = imdb.get_word_index()\n",
        "\n",
        "reverse_word_index = dict(\n",
        "    [(value, key) for (key, value) in word_index.items()])\n",
        "\n",
        "decoded_review = ' '.join(\n",
        "    [reverse_word_index.get(i - 3, '?') for i in train_data[0]])"
      ]
    },
    {
      "cell_type": "code",
      "execution_count": null,
      "metadata": {
        "colab": {
          "base_uri": "https://localhost:8080/",
          "height": 91
        },
        "id": "QK3nN5BsP-bE",
        "outputId": "c622e76a-7322-483d-eafa-21619dc26bcd"
      },
      "outputs": [
        {
          "data": {
            "application/vnd.google.colaboratory.intrinsic+json": {
              "type": "string"
            },
            "text/plain": [
              "\"? this film was just brilliant casting location scenery story direction everyone's really suited the part they played and you could just imagine being there robert ? is an amazing actor and now the same being director ? father came from the same scottish island as myself so i loved the fact there was a real connection with this film the witty remarks throughout the film were great it was just brilliant so much that i bought the film as soon as it was released for ? and would recommend it to everyone to watch and the fly fishing was amazing really cried at the end it was so sad and you know what they say if you cry at a film it must have been good and this definitely was also ? to the two little boy's that played the ? of norman and paul they were just brilliant children are often left out of the ? list i think because the stars that play them all grown up are such a big profile for the whole film but these children are amazing and should be praised for what they have done don't you think the whole story was so lovely because it was true and was someone's life after all that was shared with us all\""
            ]
          },
          "execution_count": 61,
          "metadata": {},
          "output_type": "execute_result"
        }
      ],
      "source": [
        "decoded_review"
      ]
    },
    {
      "cell_type": "code",
      "execution_count": null,
      "metadata": {
        "id": "P_N_MORkRvqF"
      },
      "outputs": [],
      "source": [
        "from tensorflow.keras import Sequential\n",
        "\n",
        "from tensorflow.keras.layers import Dense\n",
        "\n",
        "model = Sequential()\n",
        "\n",
        "model.add(Dense(16, activation='relu', input_shape=(10000,)))\n",
        "\n",
        "model.add(Dense(16, activation='relu'))\n",
        "\n",
        "model.add(Dense(1, activation='sigmoid'))\n",
        "\n",
        "x_val = x_train[:10000]\n",
        "\n",
        "partial_x_train = x_train[10000:]\n",
        "\n",
        "y_val = y_train[:10000]\n",
        "\n",
        "partial_y_train = y_train[10000:]\n"
      ]
    },
    {
      "cell_type": "code",
      "execution_count": null,
      "metadata": {
        "colab": {
          "base_uri": "https://localhost:8080/"
        },
        "id": "xzFC8_3wUMnh",
        "outputId": "4eecd578-4789-4456-b98a-9b845c6667fe"
      },
      "outputs": [
        {
          "name": "stdout",
          "output_type": "stream",
          "text": [
            "Epoch 1/20\n",
            "30/30 [==============================] - 6s 189ms/step - loss: 0.5308 - acc: 0.7929 - val_loss: 0.4147 - val_acc: 0.8611\n",
            "Epoch 2/20\n",
            "30/30 [==============================] - 3s 96ms/step - loss: 0.3434 - acc: 0.8921 - val_loss: 0.3329 - val_acc: 0.8750\n",
            "Epoch 3/20\n",
            "30/30 [==============================] - 2s 56ms/step - loss: 0.2614 - acc: 0.9111 - val_loss: 0.2894 - val_acc: 0.8875\n",
            "Epoch 4/20\n",
            "30/30 [==============================] - 2s 72ms/step - loss: 0.2125 - acc: 0.9298 - val_loss: 0.2832 - val_acc: 0.8872\n",
            "Epoch 5/20\n",
            "30/30 [==============================] - 2s 61ms/step - loss: 0.1796 - acc: 0.9407 - val_loss: 0.2735 - val_acc: 0.8879\n",
            "Epoch 6/20\n",
            "30/30 [==============================] - 2s 78ms/step - loss: 0.1569 - acc: 0.9491 - val_loss: 0.2786 - val_acc: 0.8874\n",
            "Epoch 7/20\n",
            "30/30 [==============================] - 2s 72ms/step - loss: 0.1351 - acc: 0.9573 - val_loss: 0.2924 - val_acc: 0.8814\n",
            "Epoch 8/20\n",
            "30/30 [==============================] - 2s 71ms/step - loss: 0.1169 - acc: 0.9642 - val_loss: 0.3171 - val_acc: 0.8808\n",
            "Epoch 9/20\n",
            "30/30 [==============================] - 2s 58ms/step - loss: 0.1043 - acc: 0.9691 - val_loss: 0.3074 - val_acc: 0.8822\n",
            "Epoch 10/20\n",
            "30/30 [==============================] - 2s 60ms/step - loss: 0.0914 - acc: 0.9732 - val_loss: 0.3256 - val_acc: 0.8790\n",
            "Epoch 11/20\n",
            "30/30 [==============================] - 2s 76ms/step - loss: 0.0803 - acc: 0.9773 - val_loss: 0.3487 - val_acc: 0.8741\n",
            "Epoch 12/20\n",
            "30/30 [==============================] - 2s 63ms/step - loss: 0.0697 - acc: 0.9817 - val_loss: 0.3622 - val_acc: 0.8741\n",
            "Epoch 13/20\n",
            "30/30 [==============================] - 2s 56ms/step - loss: 0.0615 - acc: 0.9845 - val_loss: 0.3783 - val_acc: 0.8746\n",
            "Epoch 14/20\n",
            "30/30 [==============================] - 2s 55ms/step - loss: 0.0531 - acc: 0.9877 - val_loss: 0.4214 - val_acc: 0.8732\n",
            "Epoch 15/20\n",
            "30/30 [==============================] - 1s 47ms/step - loss: 0.0482 - acc: 0.9903 - val_loss: 0.4410 - val_acc: 0.8634\n",
            "Epoch 16/20\n",
            "30/30 [==============================] - 1s 35ms/step - loss: 0.0411 - acc: 0.9924 - val_loss: 0.4329 - val_acc: 0.8749\n",
            "Epoch 17/20\n",
            "30/30 [==============================] - 1s 32ms/step - loss: 0.0368 - acc: 0.9930 - val_loss: 0.5047 - val_acc: 0.8660\n",
            "Epoch 18/20\n",
            "30/30 [==============================] - 1s 44ms/step - loss: 0.0312 - acc: 0.9946 - val_loss: 0.4725 - val_acc: 0.8690\n",
            "Epoch 19/20\n",
            "30/30 [==============================] - 2s 62ms/step - loss: 0.0276 - acc: 0.9960 - val_loss: 0.5520 - val_acc: 0.8644\n",
            "Epoch 20/20\n",
            "30/30 [==============================] - 2s 64ms/step - loss: 0.0239 - acc: 0.9971 - val_loss: 0.5180 - val_acc: 0.8705\n"
          ]
        }
      ],
      "source": [
        "model.compile (optimizer='rmsprop', loss='binary_crossentropy', metrics=['acc'])\n",
        "history = model.fit (partial_x_train, partial_y_train,epochs=20, batch_size=512, validation_data=(x_val, y_val))"
      ]
    },
    {
      "cell_type": "code",
      "execution_count": null,
      "metadata": {
        "colab": {
          "base_uri": "https://localhost:8080/",
          "height": 472
        },
        "id": "XTOnH5i-Yd_t",
        "outputId": "87f6ddf4-578a-40ff-cea3-dcc22e164292"
      },
      "outputs": [
        {
          "data": {
            "image/png": "[encoded data removed]",
            "text/plain": [
              "<Figure size 640x480 with 1 Axes>"
            ]
          },
          "metadata": {},
          "output_type": "display_data"
        }
      ],
      "source": [
        "import matplotlib.pyplot as plt\n",
        "\n",
        "history_dict = history.history\n",
        "loss_values = history_dict['loss']\n",
        "val_loss_values = history_dict['val_loss']\n",
        "epochs = range(1, len(loss_values) + 1)\n",
        "plt.plot(epochs, loss_values, 'bo', label='Training loss')\n",
        "plt.plot(epochs, val_loss_values, 'b', label='Validation loss')\n",
        "plt.title('Training and validation loss')\n",
        "plt.xlabel('Epochs')\n",
        "plt.ylabel('Loss')\n",
        "plt.legend()\n",
        "plt.show()"
      ]
    },
    {
      "cell_type": "code",
      "execution_count": null,
      "metadata": {
        "colab": {
          "base_uri": "https://localhost:8080/",
          "height": 472
        },
        "id": "-WCWzY9nYgl6",
        "outputId": "040695d7-43ce-4823-c72a-8baca5a5543a"
      },
      "outputs": [
        {
          "data": {
            "image/png": "[encoded data removed]",
            "text/plain": [
              "<Figure size 640x480 with 1 Axes>"
            ]
          },
          "metadata": {},
          "output_type": "display_data"
        }
      ],
      "source": [
        "plt.clf() #Clears the figure\n",
        "acc = history_dict['acc']\n",
        "val_acc = history_dict['val_acc']\n",
        "plt.plot(epochs, acc, 'bo', label='Training acc')\n",
        "plt.plot(epochs, val_acc, 'b', label='Validation acc')\n",
        "plt.title('Training and validation accuracy')\n",
        "plt.xlabel('Epochs')\n",
        "plt.ylabel('Accuracy')\n",
        "plt.legend()\n",
        "plt.show()"
      ]
    },
    {
      "cell_type": "markdown",
      "metadata": {
        "id": "BEv2S0DrdjyL"
      },
      "source": [
        "# Reuters"
      ]
    },
    {
      "cell_type": "code",
      "execution_count": null,
      "metadata": {
        "colab": {
          "base_uri": "https://localhost:8080/"
        },
        "id": "kOWtSvuXdMCG",
        "outputId": "fcc608ed-fa40-48a1-9b9e-aaef9ec3c85f"
      },
      "outputs": [
        {
          "name": "stdout",
          "output_type": "stream",
          "text": [
            "Downloading data from https://storage.googleapis.com/tensorflow/tf-keras-datasets/reuters.npz\n",
            "2110848/2110848 [==============================] - 0s 0us/step\n"
          ]
        }
      ],
      "source": [
        "from tensorflow.keras.datasets import reuters\n",
        "(train_data, train_labels), (test_data, test_labels) = reuters.load_data(num_words=10000)"
      ]
    },
    {
      "cell_type": "code",
      "execution_count": null,
      "metadata": {
        "colab": {
          "base_uri": "https://localhost:8080/"
        },
        "id": "yp-EIujjdmCP",
        "outputId": "97455e09-4680-4bb0-c5bd-0d8a92664a86"
      },
      "outputs": [
        {
          "data": {
            "text/plain": [
              "array([list([1, 2, 2, 8, 43, 10, 447, 5, 25, 207, 270, 5, 3095, 111, 16, 369, 186, 90, 67, 7, 89, 5, 19, 102, 6, 19, 124, 15, 90, 67, 84, 22, 482, 26, 7, 48, 4, 49, 8, 864, 39, 209, 154, 6, 151, 6, 83, 11, 15, 22, 155, 11, 15, 7, 48, 9, 4579, 1005, 504, 6, 258, 6, 272, 11, 15, 22, 134, 44, 11, 15, 16, 8, 197, 1245, 90, 67, 52, 29, 209, 30, 32, 132, 6, 109, 15, 17, 12]),\n",
              "       list([1, 3267, 699, 3434, 2295, 56, 2, 7511, 9, 56, 3906, 1073, 81, 5, 1198, 57, 366, 737, 132, 20, 4093, 7, 2, 49, 2295, 2, 1037, 3267, 699, 3434, 8, 7, 10, 241, 16, 855, 129, 231, 783, 5, 4, 587, 2295, 2, 2, 775, 7, 48, 34, 191, 44, 35, 1795, 505, 17, 12]),\n",
              "       list([1, 53, 12, 284, 15, 14, 272, 26, 53, 959, 32, 818, 15, 14, 272, 26, 39, 684, 70, 11, 14, 12, 3886, 18, 180, 183, 187, 70, 11, 14, 102, 32, 11, 29, 53, 44, 704, 15, 14, 19, 758, 15, 53, 959, 47, 1013, 15, 14, 19, 132, 15, 39, 965, 32, 11, 14, 147, 72, 11, 180, 183, 187, 44, 11, 14, 102, 19, 11, 123, 186, 90, 67, 960, 4, 78, 13, 68, 467, 511, 110, 59, 89, 90, 67, 1390, 55, 2678, 92, 617, 80, 1274, 46, 905, 220, 13, 4, 346, 48, 235, 629, 5, 211, 5, 1118, 7, 2, 81, 5, 187, 11, 15, 9, 1709, 201, 5, 47, 3615, 18, 478, 4514, 5, 1118, 7, 232, 2, 71, 5, 160, 63, 11, 9, 2, 81, 5, 102, 59, 11, 17, 12]),\n",
              "       ...,\n",
              "       list([1, 141, 3890, 387, 81, 8, 16, 1629, 10, 340, 1241, 850, 31, 56, 3890, 691, 9, 1241, 71, 9, 5985, 2, 2, 699, 2, 2, 2, 699, 244, 5945, 4, 49, 8, 4, 656, 850, 33, 2993, 9, 2139, 340, 3371, 1493, 9, 2, 22, 2, 1094, 687, 83, 35, 15, 257, 6, 57, 9190, 7, 4, 5956, 654, 5, 2, 6191, 1371, 4, 49, 8, 16, 369, 646, 6, 1076, 7, 124, 407, 17, 12]),\n",
              "       list([1, 53, 46, 957, 26, 14, 74, 132, 26, 39, 46, 258, 3614, 18, 14, 74, 134, 5131, 18, 88, 2321, 72, 11, 14, 1842, 32, 11, 123, 383, 89, 39, 46, 235, 10, 864, 728, 5, 258, 44, 11, 15, 22, 753, 9, 42, 92, 131, 728, 5, 69, 312, 11, 15, 22, 222, 2, 3237, 383, 48, 39, 74, 235, 10, 864, 276, 5, 61, 32, 11, 15, 21, 4, 211, 5, 126, 1072, 42, 92, 131, 46, 19, 352, 11, 15, 22, 710, 220, 9, 42, 92, 131, 276, 5, 59, 61, 11, 15, 22, 10, 455, 7, 1172, 137, 336, 1325, 6, 1532, 142, 971, 6463, 43, 359, 5, 4, 326, 753, 364, 17, 12]),\n",
              "       list([1, 227, 2406, 91, 2, 125, 2855, 21, 4, 3976, 76, 7, 4, 757, 481, 3976, 790, 5259, 5654, 9, 111, 149, 8, 7, 10, 76, 223, 51, 4, 417, 8, 1047, 91, 6917, 1688, 340, 7, 194, 9411, 6, 1894, 21, 127, 2151, 2394, 1456, 6, 3034, 4, 329, 433, 7, 65, 87, 1127, 10, 8219, 1475, 290, 9, 21, 567, 16, 1926, 24, 4, 76, 209, 30, 4033, 6655, 5654, 8, 4, 60, 8, 4, 966, 308, 40, 2575, 129, 2, 295, 277, 1071, 9, 24, 286, 2114, 234, 222, 9, 4, 906, 3994, 8519, 114, 5758, 1752, 7, 4, 113, 17, 12])],\n",
              "      dtype=object)"
            ]
          },
          "execution_count": 73,
          "metadata": {},
          "output_type": "execute_result"
        }
      ],
      "source": [
        "train_data"
      ]
    },
    {
      "cell_type": "code",
      "execution_count": null,
      "metadata": {
        "id": "AFFkSEcCdvkW"
      },
      "outputs": [],
      "source": [
        "def vectorize_sequences(sequences, dimension=10000):\n",
        "    results = np.zeros((len(sequences), dimension))\n",
        "    for i in range (len (sequences)):\n",
        "        for j in range (len (sequences [i])):\n",
        "            results [i] [sequences [i] [j]] = 1.\n",
        "    return results\n",
        "\n",
        "x_train = vectorize_sequences(train_data)\n",
        "x_test = vectorize_sequences(test_data)"
      ]
    },
    {
      "cell_type": "code",
      "execution_count": null,
      "metadata": {
        "id": "vLcxgtAIdz3B"
      },
      "outputs": [],
      "source": [
        "word_index = imdb.get_word_index()\n",
        "\n",
        "reverse_word_index = dict(\n",
        "    [(value, key) for (key, value) in word_index.items()])\n",
        "\n",
        "decoded_review = ' '.join(\n",
        "    [reverse_word_index.get(i - 3, '?') for i in train_data[1]])"
      ]
    },
    {
      "cell_type": "code",
      "execution_count": null,
      "metadata": {
        "id": "Ss9zjTPid6dP"
      },
      "outputs": [],
      "source": [
        "from tensorflow.keras.utils import to_categorical\n",
        "\n",
        "one_hot_train_labels = to_categorical(train_labels)\n",
        "one_hot_test_labels = to_categorical(test_labels)"
      ]
    },
    {
      "cell_type": "code",
      "execution_count": null,
      "metadata": {
        "colab": {
          "base_uri": "https://localhost:8080/"
        },
        "id": "MfnGTiNtfvsw",
        "outputId": "0c73b3a1-0fdd-439b-a7c1-d3580f3aae79"
      },
      "outputs": [
        {
          "data": {
            "text/plain": [
              "array([ 3,  4,  3, ..., 25,  3, 25])"
            ]
          },
          "execution_count": 84,
          "metadata": {},
          "output_type": "execute_result"
        }
      ],
      "source": [
        "train_labels"
      ]
    },
    {
      "cell_type": "code",
      "execution_count": null,
      "metadata": {
        "id": "QV70OoLqgH-S"
      },
      "outputs": [],
      "source": [
        "from tensorflow.keras import models\n",
        "from tensorflow.keras import layers\n",
        "model = models.Sequential()\n",
        "model.add(layers.Dense(64, activation='relu', input_shape=(10000,)))\n",
        "model.add(layers.Dense(64, activation='relu'))\n",
        "model.add(layers.Dense(46, activation='softmax')) #softmax to get values between 0 and 1 and so having a prob distribution of the class"
      ]
    },
    {
      "cell_type": "code",
      "execution_count": null,
      "metadata": {
        "colab": {
          "base_uri": "https://localhost:8080/"
        },
        "id": "t8_15pkugdYC",
        "outputId": "8e012233-4651-4a85-bb72-6aae9b6f7bda"
      },
      "outputs": [
        {
          "name": "stdout",
          "output_type": "stream",
          "text": [
            "Epoch 1/20\n",
            "16/16 [==============================] - 2s 74ms/step - loss: 2.6181 - accuracy: 0.5333 - val_loss: 1.7711 - val_accuracy: 0.6240\n",
            "Epoch 2/20\n",
            "16/16 [==============================] - 1s 51ms/step - loss: 1.4859 - accuracy: 0.6933 - val_loss: 1.3543 - val_accuracy: 0.6960\n",
            "Epoch 3/20\n",
            "16/16 [==============================] - 1s 61ms/step - loss: 1.1424 - accuracy: 0.7541 - val_loss: 1.1733 - val_accuracy: 0.7420\n",
            "Epoch 4/20\n",
            "16/16 [==============================] - 1s 57ms/step - loss: 0.9329 - accuracy: 0.7964 - val_loss: 1.0733 - val_accuracy: 0.7720\n",
            "Epoch 5/20\n",
            "16/16 [==============================] - 1s 54ms/step - loss: 0.7683 - accuracy: 0.8321 - val_loss: 1.0007 - val_accuracy: 0.7900\n",
            "Epoch 6/20\n",
            "16/16 [==============================] - 1s 69ms/step - loss: 0.6373 - accuracy: 0.8649 - val_loss: 0.9476 - val_accuracy: 0.8040\n",
            "Epoch 7/20\n",
            "16/16 [==============================] - 1s 94ms/step - loss: 0.5288 - accuracy: 0.8893 - val_loss: 0.9523 - val_accuracy: 0.7900\n",
            "Epoch 8/20\n",
            "16/16 [==============================] - 1s 79ms/step - loss: 0.4401 - accuracy: 0.9078 - val_loss: 0.8978 - val_accuracy: 0.8030\n",
            "Epoch 9/20\n",
            "16/16 [==============================] - 1s 53ms/step - loss: 0.3716 - accuracy: 0.9211 - val_loss: 0.8914 - val_accuracy: 0.8060\n",
            "Epoch 10/20\n",
            "16/16 [==============================] - 1s 56ms/step - loss: 0.3150 - accuracy: 0.9288 - val_loss: 0.8685 - val_accuracy: 0.8190\n",
            "Epoch 11/20\n",
            "16/16 [==============================] - 1s 58ms/step - loss: 0.2739 - accuracy: 0.9361 - val_loss: 0.8704 - val_accuracy: 0.8160\n",
            "Epoch 12/20\n",
            "16/16 [==============================] - 1s 58ms/step - loss: 0.2418 - accuracy: 0.9445 - val_loss: 0.8870 - val_accuracy: 0.8160\n",
            "Epoch 13/20\n",
            "16/16 [==============================] - 1s 59ms/step - loss: 0.2111 - accuracy: 0.9501 - val_loss: 0.8715 - val_accuracy: 0.8250\n",
            "Epoch 14/20\n",
            "16/16 [==============================] - 1s 59ms/step - loss: 0.1928 - accuracy: 0.9500 - val_loss: 0.8681 - val_accuracy: 0.8240\n",
            "Epoch 15/20\n",
            "16/16 [==============================] - 1s 57ms/step - loss: 0.1780 - accuracy: 0.9514 - val_loss: 0.9013 - val_accuracy: 0.8210\n",
            "Epoch 16/20\n",
            "16/16 [==============================] - 1s 60ms/step - loss: 0.1638 - accuracy: 0.9531 - val_loss: 0.9192 - val_accuracy: 0.8150\n",
            "Epoch 17/20\n",
            "16/16 [==============================] - 1s 55ms/step - loss: 0.1553 - accuracy: 0.9554 - val_loss: 0.9195 - val_accuracy: 0.8180\n",
            "Epoch 18/20\n",
            "16/16 [==============================] - 1s 54ms/step - loss: 0.1424 - accuracy: 0.9562 - val_loss: 0.9391 - val_accuracy: 0.8140\n",
            "Epoch 19/20\n",
            "16/16 [==============================] - 1s 78ms/step - loss: 0.1379 - accuracy: 0.9545 - val_loss: 0.9428 - val_accuracy: 0.8170\n",
            "Epoch 20/20\n",
            "16/16 [==============================] - 1s 87ms/step - loss: 0.1322 - accuracy: 0.9573 - val_loss: 0.9560 - val_accuracy: 0.8120\n"
          ]
        }
      ],
      "source": [
        "model.compile(optimizer='rmsprop', loss='categorical_crossentropy', metrics=['accuracy'])\n",
        "x_val = x_train[:1000]\n",
        "partial_x_train = x_train[1000:]\n",
        "y_val = one_hot_train_labels[:1000]\n",
        "partial_y_train = one_hot_train_labels[1000:]\n",
        "history = model.fit(partial_x_train, partial_y_train, epochs=20, batch_size=512, validation_data=(x_val, y_val))"
      ]
    },
    {
      "cell_type": "code",
      "execution_count": null,
      "metadata": {
        "colab": {
          "base_uri": "https://localhost:8080/",
          "height": 472
        },
        "id": "vE-SHFBBhcPq",
        "outputId": "0972c7c0-346f-485c-b613-08d7eac0f4d3"
      },
      "outputs": [
        {
          "data": {
            "image/png": "[encoded data removed]",
            "text/plain": [
              "<Figure size 640x480 with 1 Axes>"
            ]
          },
          "metadata": {},
          "output_type": "display_data"
        }
      ],
      "source": [
        "import matplotlib.pyplot as plt\n",
        "\n",
        "loss = history.history['loss']\n",
        "val_loss = history.history['val_loss']\n",
        "epochs = range(1, len(loss) + 1)\n",
        "plt.plot(epochs, loss, 'bo', label='Training loss')\n",
        "plt.plot(epochs, val_loss, 'b', label='Validation loss')\n",
        "plt.title('Training and validation loss')\n",
        "plt.xlabel('Epochs')\n",
        "plt.ylabel('Loss')\n",
        "plt.legend()\n",
        "plt.show()"
      ]
    },
    {
      "cell_type": "markdown",
      "metadata": {
        "id": "Abedw-j1j-h9"
      },
      "source": [
        "# Regression"
      ]
    },
    {
      "cell_type": "code",
      "execution_count": null,
      "metadata": {
        "colab": {
          "base_uri": "https://localhost:8080/"
        },
        "id": "RDjKzywVhkkS",
        "outputId": "0316117b-bf78-404a-cfba-68e60232bdef"
      },
      "outputs": [
        {
          "name": "stdout",
          "output_type": "stream",
          "text": [
            "Downloading data from https://storage.googleapis.com/tensorflow/tf-keras-datasets/boston_housing.npz\n",
            "57026/57026 [==============================] - 0s 0us/step\n"
          ]
        }
      ],
      "source": [
        "from tensorflow.keras.datasets import boston_housing\n",
        "(train_data, train_targets), (test_data, test_targets) = boston_housing.load_data()"
      ]
    },
    {
      "cell_type": "code",
      "execution_count": null,
      "metadata": {
        "id": "t6mWUu5IkG6D"
      },
      "outputs": [],
      "source": [
        "mean = train_data.mean(axis=0)\n",
        "train_data -= mean\n",
        "std = train_data.std(axis=0)\n",
        "train_data /= std\n",
        "test_data -= mean\n",
        "test_data /= std"
      ]
    },
    {
      "cell_type": "code",
      "execution_count": null,
      "metadata": {
        "id": "z-e_TI95m0jE"
      },
      "outputs": [],
      "source": [
        "from tensorflow.keras import models\n",
        "from tensorflow.keras import layers\n",
        "def build_model():\n",
        "    model = models.Sequential()\n",
        "    model.add(layers.Dense(64, activation='relu',\n",
        "                       input_shape=(train_data.shape[1],)))\n",
        "    model.add(layers.Dense(64, activation='relu'))\n",
        "    model.add(layers.Dense(1))\n",
        "    model.compile(optimizer='rmsprop', loss='mse', metrics=['mae'])\n",
        "    return model"
      ]
    },
    {
      "cell_type": "code",
      "execution_count": null,
      "metadata": {
        "id": "d8vwJ762ndT2"
      },
      "outputs": [],
      "source": []
    },
    {
      "cell_type": "markdown",
      "metadata": {
        "id": "CuZtvR9RsJzg"
      },
      "source": [
        "# MNIST 2\n"
      ]
    },
    {
      "cell_type": "code",
      "execution_count": null,
      "metadata": {
        "id": "SFPbXGqWsKlT"
      },
      "outputs": [],
      "source": [
        "import tensorflow as tf\n",
        "from tensorflow import keras\n",
        "import numpy as np\n",
        "\n",
        "from tensorflow.keras.datasets import mnist\n",
        "\n",
        "(x_train, y_train), (x_test, y_test) = mnist.load_data()"
      ]
    },
    {
      "cell_type": "code",
      "execution_count": null,
      "metadata": {
        "id": "e82qnM8Sse0t"
      },
      "outputs": [],
      "source": [
        "x_train = x_train.reshape(x_train.shape[0], 28, 28, 1)\n",
        "x_test = x_test.reshape(x_test.shape[0], 28, 28, 1)\n",
        "\n",
        "input_shape = (28, 28, 1)"
      ]
    },
    {
      "cell_type": "code",
      "execution_count": null,
      "metadata": {
        "id": "kc32OjN4tKEw"
      },
      "outputs": [],
      "source": [
        "x_train = x_train.astype('float32')\n",
        "x_test = x_test.astype('float32')\n",
        "\n",
        "x_train /= 255\n",
        "x_test /= 255\n"
      ]
    },
    {
      "cell_type": "code",
      "execution_count": null,
      "metadata": {
        "id": "Ah0vISLfthLS"
      },
      "outputs": [],
      "source": [
        "y_train = keras.utils.to_categorical(y_train, 10)\n",
        "y_test = keras.utils.to_categorical(y_test, 10)"
      ]
    },
    {
      "cell_type": "code",
      "execution_count": null,
      "metadata": {
        "id": "PQ8gPDYdtpBG"
      },
      "outputs": [],
      "source": [
        "from tensorflow.keras.layers import Conv2D, Flatten, MaxPooling2D, Dropout\n",
        "\n",
        "model = Sequential()\n",
        "\n",
        "model.add(Conv2D(32, kernel_size=(3,3), activation='relu', input_shape=input_shape))\n",
        "model.add(Conv2D(64, kernel_size=(3,3), activation='relu'))\n",
        "model.add(MaxPooling2D(pool_size=(2,2)))\n",
        "model.add(Flatten())\n",
        "model.add(Dense(128, activation='relu'))\n",
        "model.add(Dropout(0.5))\n",
        "model.add(Dense(10, activation='softmax'))\n"
      ]
    },
    {
      "cell_type": "code",
      "execution_count": null,
      "metadata": {
        "colab": {
          "base_uri": "https://localhost:8080/"
        },
        "id": "seayfU_mvUlV",
        "outputId": "ee618977-6541-4a5d-fcda-5697c8eb19a7"
      },
      "outputs": [
        {
          "name": "stdout",
          "output_type": "stream",
          "text": [
            "Epoch 1/10\n",
            "118/118 [==============================] - 4s 20ms/step - loss: 1.9876 - accuracy: 0.4154 - val_loss: 1.0550 - val_accuracy: 0.8045\n",
            "Epoch 2/10\n",
            "118/118 [==============================] - 2s 18ms/step - loss: 0.7770 - accuracy: 0.7723 - val_loss: 0.4102 - val_accuracy: 0.8920\n",
            "Epoch 3/10\n",
            "118/118 [==============================] - 2s 19ms/step - loss: 0.5173 - accuracy: 0.8468 - val_loss: 0.3233 - val_accuracy: 0.9087\n",
            "Epoch 4/10\n",
            "118/118 [==============================] - 2s 20ms/step - loss: 0.4317 - accuracy: 0.8700 - val_loss: 0.2817 - val_accuracy: 0.9193\n",
            "Epoch 5/10\n",
            "118/118 [==============================] - 2s 19ms/step - loss: 0.3869 - accuracy: 0.8864 - val_loss: 0.2506 - val_accuracy: 0.9274\n",
            "Epoch 6/10\n",
            "118/118 [==============================] - 2s 19ms/step - loss: 0.3552 - accuracy: 0.8950 - val_loss: 0.2309 - val_accuracy: 0.9332\n",
            "Epoch 7/10\n",
            "118/118 [==============================] - 2s 19ms/step - loss: 0.3339 - accuracy: 0.9012 - val_loss: 0.2190 - val_accuracy: 0.9371\n",
            "Epoch 8/10\n",
            "118/118 [==============================] - 2s 19ms/step - loss: 0.3144 - accuracy: 0.9075 - val_loss: 0.2179 - val_accuracy: 0.9361\n",
            "Epoch 9/10\n",
            "118/118 [==============================] - 2s 20ms/step - loss: 0.2990 - accuracy: 0.9124 - val_loss: 0.1935 - val_accuracy: 0.9435\n",
            "Epoch 10/10\n",
            "118/118 [==============================] - 3s 21ms/step - loss: 0.2858 - accuracy: 0.9160 - val_loss: 0.1815 - val_accuracy: 0.9479\n"
          ]
        },
        {
          "data": {
            "text/plain": [
              "<keras.src.callbacks.History at 0x780a1652e890>"
            ]
          },
          "execution_count": 21,
          "metadata": {},
          "output_type": "execute_result"
        }
      ],
      "source": [
        "model.compile(optimizer='sgd', loss='categorical_crossentropy', metrics=['accuracy'])\n",
        "\n",
        "model.fit(x_train, y_train, batch_size=512, epochs=10, validation_data=(x_test, y_test), verbose=1)"
      ]
    },
    {
      "cell_type": "code",
      "execution_count": null,
      "metadata": {
        "colab": {
          "base_uri": "https://localhost:8080/"
        },
        "id": "MNkHuAqOwW0P",
        "outputId": "1336a5b7-4222-4dfb-d112-bff8c581b297"
      },
      "outputs": [
        {
          "name": "stdout",
          "output_type": "stream",
          "text": [
            "313/313 [==============================] - 1s 3ms/step - loss: 0.1815 - accuracy: 0.9479\n"
          ]
        },
        {
          "data": {
            "text/plain": [
              "[0.18153692781925201, 0.9478999972343445]"
            ]
          },
          "execution_count": 22,
          "metadata": {},
          "output_type": "execute_result"
        }
      ],
      "source": [
        "score = model.evaluate(x_test, y_test)\n",
        "score"
      ]
    },
    {
      "cell_type": "code",
      "execution_count": null,
      "metadata": {
        "id": "YGVgcj7h0Qlw"
      },
      "outputs": [],
      "source": [
        "from tensorflow.keras import datasets\n",
        "\n",
        "(train_images, train_labels), (test_images, test_labels) = datasets.cifar10.load_data()\n"
      ]
    },
    {
      "cell_type": "code",
      "execution_count": null,
      "metadata": {
        "colab": {
          "base_uri": "https://localhost:8080/"
        },
        "id": "9mmpJLzw1xX3",
        "outputId": "9651ffc0-efc8-4c9d-c580-fa43a880f4a4"
      },
      "outputs": [
        {
          "data": {
            "text/plain": [
              "(50000, 32, 32, 3)"
            ]
          },
          "execution_count": 35,
          "metadata": {},
          "output_type": "execute_result"
        }
      ],
      "source": [
        "train_images.shape"
      ]
    },
    {
      "cell_type": "code",
      "execution_count": null,
      "metadata": {
        "id": "YQkaBoWA2Eol"
      },
      "outputs": [],
      "source": [
        "train_images, test_images = train_images/255, test_images/255\n",
        "\n",
        "train_labels = tf.keras.utils.to_categorical(train_labels, 10)\n",
        "test_labels = tf.keras.utils.to_categorical(test_labels, 10)\n",
        "\n"
      ]
    },
    {
      "cell_type": "code",
      "execution_count": null,
      "metadata": {
        "id": "YogtkxJU27OK"
      },
      "outputs": [],
      "source": [
        "model = Sequential()\n",
        "\n",
        "model.add(Conv2D(32, kernel_size=(3,3), activation='relu', input_shape=(32, 32, 3)))\n",
        "\n",
        "model.add(Conv2D(64, kernel_size=(3,3), activation='relu', padding='same'))\n",
        "model.add(Conv2D(64, kernel_size=(3,3), activation='relu', padding='same'))\n",
        "model.add(Conv2D(64, kernel_size=(3,3), activation='relu', padding='same'))\n",
        "model.add(Conv2D(64, kernel_size=(3,3), activation='relu', padding='same'))\n",
        "model.add(Conv2D(64, kernel_size=(3,3), activation='relu', padding='same'))\n",
        "\n",
        "model.add(Flatten())\n",
        "model.add(Dense(64, activation='relu'))\n",
        "model.add(Dropout(0.5))\n",
        "model.add(Dense(10, activation='softmax'))"
      ]
    },
    {
      "cell_type": "code",
      "execution_count": null,
      "metadata": {
        "colab": {
          "base_uri": "https://localhost:8080/"
        },
        "id": "UvuA0E8F2-eq",
        "outputId": "8b188603-7f57-4349-eedc-5e748be0b72d"
      },
      "outputs": [
        {
          "name": "stdout",
          "output_type": "stream",
          "text": [
            "Epoch 1/10\n",
            "98/98 [==============================] - 16s 136ms/step - loss: 2.2278 - accuracy: 0.2501 - val_loss: 1.7654 - val_accuracy: 0.3816\n",
            "Epoch 2/10\n",
            "98/98 [==============================] - 13s 129ms/step - loss: 1.7703 - accuracy: 0.3536 - val_loss: 1.5001 - val_accuracy: 0.4624\n",
            "Epoch 3/10\n",
            "98/98 [==============================] - 12s 124ms/step - loss: 1.6275 - accuracy: 0.4025 - val_loss: 1.4565 - val_accuracy: 0.4875\n",
            "Epoch 4/10\n",
            "98/98 [==============================] - 12s 125ms/step - loss: 1.5199 - accuracy: 0.4418 - val_loss: 1.3143 - val_accuracy: 0.5362\n",
            "Epoch 5/10\n",
            "98/98 [==============================] - 12s 124ms/step - loss: 1.4373 - accuracy: 0.4724 - val_loss: 1.2602 - val_accuracy: 0.5440\n",
            "Epoch 6/10\n",
            "98/98 [==============================] - 13s 131ms/step - loss: 1.3508 - accuracy: 0.5057 - val_loss: 1.1816 - val_accuracy: 0.5787\n",
            "Epoch 7/10\n",
            "98/98 [==============================] - 12s 123ms/step - loss: 1.2598 - accuracy: 0.5409 - val_loss: 1.1086 - val_accuracy: 0.6068\n",
            "Epoch 8/10\n",
            "98/98 [==============================] - 12s 123ms/step - loss: 1.1890 - accuracy: 0.5647 - val_loss: 1.0762 - val_accuracy: 0.6170\n",
            "Epoch 9/10\n",
            "98/98 [==============================] - 12s 124ms/step - loss: 1.1194 - accuracy: 0.5895 - val_loss: 1.0352 - val_accuracy: 0.6400\n",
            "Epoch 10/10\n",
            "98/98 [==============================] - 12s 124ms/step - loss: 1.0694 - accuracy: 0.6083 - val_loss: 1.0539 - val_accuracy: 0.6331\n"
          ]
        },
        {
          "data": {
            "text/plain": [
              "<keras.src.callbacks.History at 0x780a9ff86a70>"
            ]
          },
          "execution_count": 45,
          "metadata": {},
          "output_type": "execute_result"
        }
      ],
      "source": [
        "model.compile(optimizer=tf.keras.optimizers.Adam(), loss='categorical_crossentropy', metrics=['accuracy'])\n",
        "\n",
        "model.fit(train_images, train_labels, batch_size=512, epochs=10, validation_data=(test_images, test_labels), verbose=1)"
      ]
    },
    {
      "cell_type": "code",
      "execution_count": null,
      "metadata": {
        "colab": {
          "base_uri": "https://localhost:8080/"
        },
        "id": "qLdH3cN63Eyy",
        "outputId": "56507267-3b0b-497e-bfb5-5a93193aeca0"
      },
      "outputs": [
        {
          "name": "stdout",
          "output_type": "stream",
          "text": [
            "313/313 [==============================] - 2s 6ms/step - loss: 1.0539 - accuracy: 0.6331\n"
          ]
        },
        {
          "data": {
            "text/plain": [
              "[1.0539051294326782, 0.6330999732017517]"
            ]
          },
          "execution_count": 46,
          "metadata": {},
          "output_type": "execute_result"
        }
      ],
      "source": [
        "score = model.evaluate(test_images, test_labels)\n",
        "score"
      ]
    },
    {
      "cell_type": "markdown",
      "metadata": {
        "id": "A8oo5PeN-l5l"
      },
      "source": [
        "# Functional API"
      ]
    },
    {
      "cell_type": "code",
      "execution_count": null,
      "metadata": {
        "id": "B7J3nfJb-nyD"
      },
      "outputs": [],
      "source": [
        "import numpy as np\n",
        "import keras\n",
        "from keras import layers\n"
      ]
    },
    {
      "cell_type": "code",
      "execution_count": null,
      "metadata": {
        "colab": {
          "base_uri": "https://localhost:8080/"
        },
        "id": "HBK24KuTAVtk",
        "outputId": "36542c46-51bd-4901-906a-5bceeae43f4f"
      },
      "outputs": [
        {
          "name": "stdout",
          "output_type": "stream",
          "text": [
            "Model: \"mnist_model\"\n",
            "_________________________________________________________________\n",
            " Layer (type)                Output Shape              Param #   \n",
            "=================================================================\n",
            " input_3 (InputLayer)        [(None, 784)]             0         \n",
            "                                                                 \n",
            " dense_2 (Dense)             (None, 64)                50240     \n",
            "                                                                 \n",
            " dense_3 (Dense)             (None, 64)                4160      \n",
            "                                                                 \n",
            " dense_4 (Dense)             (None, 10)                650       \n",
            "                                                                 \n",
            "=================================================================\n",
            "Total params: 55050 (215.04 KB)\n",
            "Trainable params: 55050 (215.04 KB)\n",
            "Non-trainable params: 0 (0.00 Byte)\n",
            "_________________________________________________________________\n"
          ]
        }
      ],
      "source": [
        "inputs = keras.Input(shape=(784,))\n",
        "\n",
        "\n",
        "dense = layers.Dense(64, activation=\"relu\")\n",
        "x = dense(inputs)\n",
        "x = layers.Dense(64, activation=\"relu\")(x)\n",
        "outputs = layers.Dense(10)(x)\n",
        "model = keras.Model(inputs=inputs, outputs=outputs, name=\"mnist_model\")\n",
        "\n",
        "\n",
        "model.summary()"
      ]
    },
    {
      "cell_type": "code",
      "execution_count": null,
      "metadata": {
        "id": "TKXkrRkzBoMY"
      },
      "outputs": [],
      "source": [
        "import tensorflow as tf\n",
        "from tensorflow.keras import datasets, layers, models\n",
        "from tensorflow.keras.datasets import fashion_mnist\n",
        "\n",
        "(train_images, train_labels), (test_images, test_labels) = fashion_mnist.load_data()"
      ]
    },
    {
      "cell_type": "code",
      "execution_count": null,
      "metadata": {
        "id": "BeGKdoiJE9_F"
      },
      "outputs": [],
      "source": [
        "train_images = train_images.astype('float32')/255\n",
        "test_images = test_images.astype('float32')/255\n",
        "\n",
        "from tensorflow.keras.utils import to_categorical\n",
        "\n",
        "train_labels = to_categorical(train_labels)\n",
        "test_labels = to_categorical(test_labels)\n",
        "\n"
      ]
    },
    {
      "cell_type": "code",
      "execution_count": null,
      "metadata": {
        "colab": {
          "base_uri": "https://localhost:8080/"
        },
        "id": "9pISp21LFsBw",
        "outputId": "56c8f994-ddc6-414f-b232-f5487c2961b8"
      },
      "outputs": [
        {
          "name": "stdout",
          "output_type": "stream",
          "text": [
            "Model: \"original_img\"\n",
            "_________________________________________________________________\n",
            " Layer (type)                Output Shape              Param #   \n",
            "=================================================================\n",
            " original_img (InputLayer)   [(None, 28, 28, 1)]       0         \n",
            "                                                                 \n",
            " conv2d_8 (Conv2D)           (None, 26, 26, 16)        160       \n",
            "                                                                 \n",
            " conv2d_9 (Conv2D)           (None, 24, 24, 32)        4640      \n",
            "                                                                 \n",
            " max_pooling2d_2 (MaxPoolin  (None, 8, 8, 32)          0         \n",
            " g2D)                                                            \n",
            "                                                                 \n",
            " conv2d_10 (Conv2D)          (None, 6, 6, 32)          9248      \n",
            "                                                                 \n",
            " conv2d_11 (Conv2D)          (None, 4, 4, 16)          4624      \n",
            "                                                                 \n",
            " global_max_pooling2d_2 (Gl  (None, 16)                0         \n",
            " obalMaxPooling2D)                                               \n",
            "                                                                 \n",
            "=================================================================\n",
            "Total params: 18672 (72.94 KB)\n",
            "Trainable params: 18672 (72.94 KB)\n",
            "Non-trainable params: 0 (0.00 Byte)\n",
            "_________________________________________________________________\n"
          ]
        }
      ],
      "source": [
        "encoder_input = tf.keras.Input(shape=(28,28,1), name='original_img')\n",
        "x = layers.Conv2D(16, 3, activation='relu')(encoder_input)\n",
        "x = layers.Conv2D(32, 3, activation='relu')(x)\n",
        "x = layers.MaxPooling2D(3)(x)\n",
        "x = layers.Conv2D(32, 3, activation='relu')(x)\n",
        "x = layers.Conv2D(16, 3, activation='relu')(x)\n",
        "encoder_output = layers.GlobalMaxPooling2D()(x)\n",
        "\n",
        "encoder = tf.keras.Model(encoder_input, encoder_output, name='original_img')\n",
        "encoder.summary()"
      ]
    },
    {
      "cell_type": "code",
      "execution_count": null,
      "metadata": {
        "colab": {
          "base_uri": "https://localhost:8080/",
          "height": 182
        },
        "id": "hQw-ZlPYHL-g",
        "outputId": "cfe42c92-4691-4fe2-dc6a-6b0c2f8de0e8"
      },
      "outputs": [
        {
          "ename": "NameError",
          "evalue": "name 'latent_inputs' is not defined",
          "output_type": "error",
          "traceback": [
            "\u001b[0;31m---------------------------------------------------------------------------\u001b[0m",
            "\u001b[0;31mNameError\u001b[0m                                 Traceback (most recent call last)",
            "\u001b[0;32m<ipython-input-23-811f263a681a>\u001b[0m in \u001b[0;36m<cell line: 9>\u001b[0;34m()\u001b[0m\n\u001b[1;32m      7\u001b[0m \u001b[0mdecoder_output\u001b[0m \u001b[0;34m=\u001b[0m \u001b[0mlayers\u001b[0m\u001b[0;34m.\u001b[0m\u001b[0mConv2D\u001b[0m\u001b[0;34m(\u001b[0m\u001b[0;36m1\u001b[0m\u001b[0;34m,\u001b[0m \u001b[0;36m3\u001b[0m\u001b[0;34m,\u001b[0m \u001b[0mactivation\u001b[0m\u001b[0;34m=\u001b[0m\u001b[0;34m'sigmoid'\u001b[0m\u001b[0;34m)\u001b[0m\u001b[0;34m(\u001b[0m\u001b[0mx\u001b[0m\u001b[0;34m)\u001b[0m\u001b[0;34m\u001b[0m\u001b[0;34m\u001b[0m\u001b[0m\n\u001b[1;32m      8\u001b[0m \u001b[0;34m\u001b[0m\u001b[0m\n\u001b[0;32m----> 9\u001b[0;31m \u001b[0mdecoder\u001b[0m \u001b[0;34m=\u001b[0m \u001b[0mkeras\u001b[0m\u001b[0;34m.\u001b[0m\u001b[0mModel\u001b[0m\u001b[0;34m(\u001b[0m\u001b[0mlatent_inputs\u001b[0m\u001b[0;34m,\u001b[0m \u001b[0mdecoder_outputs\u001b[0m\u001b[0;34m,\u001b[0m \u001b[0mname\u001b[0m\u001b[0;34m=\u001b[0m\u001b[0;34m'decoder'\u001b[0m\u001b[0;34m)\u001b[0m\u001b[0;34m\u001b[0m\u001b[0;34m\u001b[0m\u001b[0m\n\u001b[0m",
            "\u001b[0;31mNameError\u001b[0m: name 'latent_inputs' is not defined"
          ]
        }
      ],
      "source": [
        "decoder_input = tf.keras.Input(shape=(28,28,1), name='img')\n",
        "x = layers.Conv2DTranspose(16, 3, activation='relu')(encoder_input)\n",
        "x = layers.Conv2DTranspose(32, 3, activation='relu')(x)\n",
        "x = layers.UpSampling2D(3)(x)\n",
        "x = layers.Conv2DTranspose(32, 3, activation='relu')(x)\n",
        "x = layers.Conv2DTranspose(16, 3, activation='relu')(x)\n",
        "decoder_output = layers.Conv2D(1, 3, activation='sigmoid')(x)\n",
        "\n",
        "decoder = keras.Model(latent_inputs, decoder_outputs, name='decoder')"
      ]
    },
    {
      "cell_type": "markdown",
      "metadata": {
        "id": "QLHQzuTCMcoW"
      },
      "source": [
        "# VAE"
      ]
    },
    {
      "cell_type": "code",
      "execution_count": null,
      "metadata": {
        "id": "6h8rO3QfL04T"
      },
      "outputs": [],
      "source": [
        "(x_train, _), (x_test, _) = keras.datasets.fashion_mnist.load_data()"
      ]
    },
    {
      "cell_type": "code",
      "execution_count": null,
      "metadata": {
        "id": "7dgxWcQ-KiXA"
      },
      "outputs": [],
      "source": [
        "X = np.concatenate([x_train, x_test], axis=0)\n",
        "X = np.expand_dims(X, -1).astype(\"float32\")/255"
      ]
    },
    {
      "cell_type": "code",
      "execution_count": null,
      "metadata": {
        "colab": {
          "base_uri": "https://localhost:8080/",
          "height": 182
        },
        "id": "GZLTVNQmM089",
        "outputId": "6ee2027e-db86-4d94-e18e-332b2c6bc1a6"
      },
      "outputs": [
        {
          "ename": "NameError",
          "evalue": "name 'VAE' is not defined",
          "output_type": "error",
          "traceback": [
            "\u001b[0;31m---------------------------------------------------------------------------\u001b[0m",
            "\u001b[0;31mNameError\u001b[0m                                 Traceback (most recent call last)",
            "\u001b[0;32m<ipython-input-30-97aebd5a0f15>\u001b[0m in \u001b[0;36m<cell line: 1>\u001b[0;34m()\u001b[0m\n\u001b[0;32m----> 1\u001b[0;31m \u001b[0mvae\u001b[0m \u001b[0;34m=\u001b[0m \u001b[0mVAE\u001b[0m\u001b[0;34m(\u001b[0m\u001b[0mencoder\u001b[0m\u001b[0;34m,\u001b[0m \u001b[0mdecoder\u001b[0m\u001b[0;34m)\u001b[0m\u001b[0;34m\u001b[0m\u001b[0;34m\u001b[0m\u001b[0m\n\u001b[0m\u001b[1;32m      2\u001b[0m \u001b[0mvae\u001b[0m\u001b[0;34m.\u001b[0m\u001b[0mcompile\u001b[0m\u001b[0;34m(\u001b[0m\u001b[0moptimizer\u001b[0m\u001b[0;34m=\u001b[0m\u001b[0mkeras\u001b[0m\u001b[0;34m.\u001b[0m\u001b[0moptimizers\u001b[0m\u001b[0;34m.\u001b[0m\u001b[0mAdam\u001b[0m\u001b[0;34m(\u001b[0m\u001b[0;34m)\u001b[0m\u001b[0;34m,\u001b[0m \u001b[0mrun_eagerly\u001b[0m\u001b[0;34m=\u001b[0m\u001b[0;32mTrue\u001b[0m\u001b[0;34m)\u001b[0m\u001b[0;34m\u001b[0m\u001b[0;34m\u001b[0m\u001b[0m\n\u001b[1;32m      3\u001b[0m \u001b[0mvae\u001b[0m\u001b[0;34m.\u001b[0m\u001b[0mfit\u001b[0m\u001b[0;34m(\u001b[0m\u001b[0mX\u001b[0m\u001b[0;34m,\u001b[0m \u001b[0mepochs\u001b[0m\u001b[0;34m=\u001b[0m\u001b[0;36m30\u001b[0m\u001b[0;34m,\u001b[0m \u001b[0mbatch_size\u001b[0m\u001b[0;34m=\u001b[0m\u001b[0;36m128\u001b[0m\u001b[0;34m)\u001b[0m\u001b[0;34m\u001b[0m\u001b[0;34m\u001b[0m\u001b[0m\n",
            "\u001b[0;31mNameError\u001b[0m: name 'VAE' is not defined"
          ]
        }
      ],
      "source": [
        "vae = VAE(encoder, decoder)\n",
        "vae.compile(optimizer=keras.optimizers.Adam(), run_eagerly=True)\n",
        "vae.fit(X, epochs=30, batch_size=128)"
      ]
    },
    {
      "cell_type": "markdown",
      "metadata": {
        "id": "8DvRM025vsMu"
      },
      "source": [
        "# Convolutional model multi output"
      ]
    },
    {
      "cell_type": "code",
      "execution_count": null,
      "metadata": {
        "id": "zFrZFD21NRq1"
      },
      "outputs": [],
      "source": [
        "import numpy as np\n",
        "import keras\n",
        "from tensorflow.keras import layers\n",
        "\n",
        "N = 10000\n",
        "planes = 31\n",
        "moves = 361\n",
        "input_data = np.random.randint(2, size=(N, 19, 19, planes))\n",
        "input_data = input_data.astype('float32')\n",
        "policy = np.random.randint(moves, size=(N,))\n",
        "policy = keras.utils.to_categorical (policy)\n",
        "value = np.random.randint(2, size=(N,))\n",
        "value = value.astype ('float32')"
      ]
    },
    {
      "cell_type": "code",
      "execution_count": null,
      "metadata": {
        "colab": {
          "base_uri": "https://localhost:8080/"
        },
        "id": "Nu9Hd8UGw6tc",
        "outputId": "415a969e-f2bd-4719-f357-233fe3e752af"
      },
      "outputs": [
        {
          "name": "stdout",
          "output_type": "stream",
          "text": [
            "Model: \"model\"\n",
            "__________________________________________________________________________________________________\n",
            " Layer (type)                Output Shape                 Param #   Connected to                  \n",
            "==================================================================================================\n",
            " board (InputLayer)          [(None, 19, 19, 31)]         0         []                            \n",
            "                                                                                                  \n",
            " conv2d (Conv2D)             (None, 19, 19, 32)           8960      ['board[0][0]']               \n",
            "                                                                                                  \n",
            " conv2d_1 (Conv2D)           (None, 19, 19, 32)           9248      ['conv2d[0][0]']              \n",
            "                                                                                                  \n",
            " conv2d_2 (Conv2D)           (None, 19, 19, 32)           9248      ['conv2d_1[0][0]']            \n",
            "                                                                                                  \n",
            " conv2d_3 (Conv2D)           (None, 19, 19, 32)           9248      ['conv2d_2[0][0]']            \n",
            "                                                                                                  \n",
            " conv2d_4 (Conv2D)           (None, 19, 19, 32)           9248      ['conv2d_3[0][0]']            \n",
            "                                                                                                  \n",
            " conv2d_5 (Conv2D)           (None, 19, 19, 32)           9248      ['conv2d_4[0][0]']            \n",
            "                                                                                                  \n",
            " conv2d_6 (Conv2D)           (None, 19, 19, 1)            289       ['conv2d_5[0][0]']            \n",
            "                                                                                                  \n",
            " flatten (Flatten)           (None, 361)                  0         ['conv2d_6[0][0]']            \n",
            "                                                                                                  \n",
            " flatten_1 (Flatten)         (None, 11552)                0         ['conv2d_5[0][0]']            \n",
            "                                                                                                  \n",
            " policy (Dense)              (None, 361)                  130682    ['flatten[0][0]']             \n",
            "                                                                                                  \n",
            " value (Dense)               (None, 1)                    11553     ['flatten_1[0][0]']           \n",
            "                                                                                                  \n",
            "==================================================================================================\n",
            "Total params: 197724 (772.36 KB)\n",
            "Trainable params: 197724 (772.36 KB)\n",
            "Non-trainable params: 0 (0.00 Byte)\n",
            "__________________________________________________________________________________________________\n"
          ]
        }
      ],
      "source": [
        "input = keras.Input(shape=(19, 19, planes), name='board')\n",
        "\n",
        "x = layers.Conv2D(32, 3, activation='relu', padding='same')(input)\n",
        "x = layers.Conv2D(32, 3, activation='relu', padding='same')(x)\n",
        "x = layers.Conv2D(32, 3, activation='relu', padding='same')(x)\n",
        "x = layers.Conv2D(32, 3, activation='relu', padding='same')(x)\n",
        "x = layers.Conv2D(32, 3, activation='relu', padding='same')(x)\n",
        "x = layers.Conv2D(32, 3, activation='relu', padding='same')(x)\n",
        "\n",
        "policy_head = layers.Conv2D(1, 3, activation='relu', padding='same')(x)\n",
        "policy_head = layers.Flatten()(policy_head)\n",
        "policy_head = layers.Dense(moves, activation='softmax', name='policy')(policy_head)\n",
        "\n",
        "value_head = layers.Flatten()(x)\n",
        "value_head = layers.Dense(1, activation='sigmoid', name='value')(value_head)\n",
        "\n",
        "model = keras.Model(inputs=input, outputs=[policy_head, value_head])\n",
        "model.summary ()"
      ]
    },
    {
      "cell_type": "code",
      "execution_count": null,
      "metadata": {
        "colab": {
          "base_uri": "https://localhost:8080/"
        },
        "id": "IsjVBJTDyA4V",
        "outputId": "0de5f5c2-9d5b-4f39-c686-f688aeeb5231"
      },
      "outputs": [
        {
          "name": "stderr",
          "output_type": "stream",
          "text": [
            "WARNING:absl:`lr` is deprecated in Keras optimizer, please use `learning_rate` or use the legacy optimizer, e.g.,tf.keras.optimizers.legacy.SGD.\n"
          ]
        },
        {
          "name": "stdout",
          "output_type": "stream",
          "text": [
            "Epoch 1/20\n",
            "71/71 [==============================] - 8s 26ms/step - loss: 6.1393 - policy_loss: 5.8892 - value_loss: 0.2501 - val_loss: 6.1401 - val_policy_loss: 5.8891 - val_value_loss: 0.2510\n",
            "Epoch 2/20\n",
            "71/71 [==============================] - 1s 14ms/step - loss: 6.1385 - policy_loss: 5.8886 - value_loss: 0.2499 - val_loss: 6.1396 - val_policy_loss: 5.8890 - val_value_loss: 0.2506\n",
            "Epoch 3/20\n",
            "71/71 [==============================] - 1s 14ms/step - loss: 6.1382 - policy_loss: 5.8884 - value_loss: 0.2498 - val_loss: 6.1399 - val_policy_loss: 5.8891 - val_value_loss: 0.2507\n",
            "Epoch 4/20\n",
            "71/71 [==============================] - 1s 14ms/step - loss: 6.1376 - policy_loss: 5.8880 - value_loss: 0.2496 - val_loss: 6.1404 - val_policy_loss: 5.8891 - val_value_loss: 0.2513\n",
            "Epoch 5/20\n",
            "71/71 [==============================] - 1s 14ms/step - loss: 6.1371 - policy_loss: 5.8875 - value_loss: 0.2495 - val_loss: 6.1400 - val_policy_loss: 5.8891 - val_value_loss: 0.2509\n",
            "Epoch 6/20\n",
            "71/71 [==============================] - 1s 18ms/step - loss: 6.1366 - policy_loss: 5.8871 - value_loss: 0.2494 - val_loss: 6.1403 - val_policy_loss: 5.8895 - val_value_loss: 0.2509\n",
            "Epoch 7/20\n",
            "71/71 [==============================] - 1s 18ms/step - loss: 6.1360 - policy_loss: 5.8867 - value_loss: 0.2493 - val_loss: 6.1401 - val_policy_loss: 5.8894 - val_value_loss: 0.2507\n",
            "Epoch 8/20\n",
            "71/71 [==============================] - 1s 14ms/step - loss: 6.1353 - policy_loss: 5.8862 - value_loss: 0.2491 - val_loss: 6.1412 - val_policy_loss: 5.8896 - val_value_loss: 0.2516\n",
            "Epoch 9/20\n",
            "71/71 [==============================] - 1s 14ms/step - loss: 6.1347 - policy_loss: 5.8858 - value_loss: 0.2490 - val_loss: 6.1403 - val_policy_loss: 5.8895 - val_value_loss: 0.2508\n",
            "Epoch 10/20\n",
            "71/71 [==============================] - 1s 13ms/step - loss: 6.1342 - policy_loss: 5.8853 - value_loss: 0.2489 - val_loss: 6.1401 - val_policy_loss: 5.8895 - val_value_loss: 0.2507\n",
            "Epoch 11/20\n",
            "71/71 [==============================] - 1s 14ms/step - loss: 6.1334 - policy_loss: 5.8847 - value_loss: 0.2487 - val_loss: 6.1408 - val_policy_loss: 5.8898 - val_value_loss: 0.2510\n",
            "Epoch 12/20\n",
            "71/71 [==============================] - 1s 13ms/step - loss: 6.1326 - policy_loss: 5.8841 - value_loss: 0.2485 - val_loss: 6.1398 - val_policy_loss: 5.8892 - val_value_loss: 0.2505\n",
            "Epoch 13/20\n",
            "71/71 [==============================] - 1s 13ms/step - loss: 6.1320 - policy_loss: 5.8837 - value_loss: 0.2484 - val_loss: 6.1409 - val_policy_loss: 5.8897 - val_value_loss: 0.2511\n",
            "Epoch 14/20\n",
            "71/71 [==============================] - 1s 14ms/step - loss: 6.1312 - policy_loss: 5.8831 - value_loss: 0.2481 - val_loss: 6.1415 - val_policy_loss: 5.8897 - val_value_loss: 0.2517\n",
            "Epoch 15/20\n",
            "71/71 [==============================] - 1s 13ms/step - loss: 6.1303 - policy_loss: 5.8823 - value_loss: 0.2480 - val_loss: 6.1404 - val_policy_loss: 5.8896 - val_value_loss: 0.2508\n",
            "Epoch 16/20\n",
            "71/71 [==============================] - 1s 14ms/step - loss: 6.1296 - policy_loss: 5.8818 - value_loss: 0.2478 - val_loss: 6.1411 - val_policy_loss: 5.8899 - val_value_loss: 0.2511\n",
            "Epoch 17/20\n",
            "71/71 [==============================] - 1s 14ms/step - loss: 6.1287 - policy_loss: 5.8810 - value_loss: 0.2476 - val_loss: 6.1409 - val_policy_loss: 5.8901 - val_value_loss: 0.2508\n",
            "Epoch 18/20\n",
            "71/71 [==============================] - 1s 14ms/step - loss: 6.1276 - policy_loss: 5.8802 - value_loss: 0.2474 - val_loss: 6.1411 - val_policy_loss: 5.8896 - val_value_loss: 0.2515\n",
            "Epoch 19/20\n",
            "71/71 [==============================] - 1s 16ms/step - loss: 6.1266 - policy_loss: 5.8795 - value_loss: 0.2471 - val_loss: 6.1415 - val_policy_loss: 5.8899 - val_value_loss: 0.2516\n",
            "Epoch 20/20\n",
            "71/71 [==============================] - 1s 16ms/step - loss: 6.1252 - policy_loss: 5.8784 - value_loss: 0.2468 - val_loss: 6.1446 - val_policy_loss: 5.8896 - val_value_loss: 0.2549\n"
          ]
        },
        {
          "data": {
            "text/plain": [
              "<keras.src.callbacks.History at 0x79dcf48f7310>"
            ]
          },
          "execution_count": 10,
          "metadata": {},
          "output_type": "execute_result"
        }
      ],
      "source": [
        "model.compile(optimizer=keras.optimizers.SGD(lr=0.001),\n",
        "loss={'value': 'mse', 'policy': 'categorical_crossentropy'})\n",
        "model.fit(input_data, {'policy': policy, 'value': value},\n",
        "epochs=20, batch_size=128, validation_split=0.1)"
      ]
    },
    {
      "cell_type": "code",
      "execution_count": null,
      "metadata": {
        "id": "0TkXxytZz3Qg"
      },
      "outputs": [],
      "source": []
    },
    {
      "cell_type": "markdown",
      "metadata": {
        "id": "g5_Vrd9n6Yt4"
      },
      "source": [
        "# Residual Networks"
      ]
    },
    {
      "cell_type": "code",
      "execution_count": null,
      "metadata": {
        "id": "dioDa_E66oCM"
      },
      "outputs": [],
      "source": [
        "import tensorflow as tf\n",
        "from tensorflow.keras import layers"
      ]
    },
    {
      "cell_type": "code",
      "execution_count": null,
      "metadata": {
        "colab": {
          "base_uri": "https://localhost:8080/"
        },
        "id": "74EN4xF36aR7",
        "outputId": "f2cd76c7-fd84-4da7-fe7d-e2841bc865cf"
      },
      "outputs": [
        {
          "name": "stdout",
          "output_type": "stream",
          "text": [
            "Downloading data from https://www.cs.toronto.edu/~kriz/cifar-10-python.tar.gz\n",
            "170498071/170498071 [==============================] - 13s 0us/step\n"
          ]
        }
      ],
      "source": [
        "(x_train, y_train), (x_test, y_test) = tf.keras.datasets.cifar10.load_data()\n",
        "x_train = x_train.astype('float32') / 255.\n",
        "x_test = x_test.astype('float32') / 255.\n",
        "y_train = tf.keras.utils.to_categorical(y_train, 10)\n",
        "y_test = tf.keras.utils.to_categorical(y_test, 10)"
      ]
    },
    {
      "cell_type": "code",
      "execution_count": null,
      "metadata": {
        "id": "aBJSaiNc8PuB"
      },
      "outputs": [],
      "source": [
        "input = layers.Input(shape=(32, 32, 3))\n"
      ]
    },
    {
      "cell_type": "code",
      "execution_count": null,
      "metadata": {
        "id": "cAznf8mD6gW5"
      },
      "outputs": [],
      "source": [
        "x = layers.Conv2D(64, 1, activation='relu', padding='same')(input)\n",
        "for i in range (5):\n",
        "  ident = x\n",
        "  x = layers.Conv2D(64, 3, activation='relu', padding='same')(x)\n",
        "  x = layers.Conv2D(64, 3, activation='relu', padding='same')(x)\n",
        "  x = layers.add([ident,x]) #residual part !\n",
        "flatten = layers.Flatten()(x)\n",
        "dense = layers.Dense(10, activation=\"softmax\")(flatten)\n",
        "model_res = tf.keras.models.Model(inputs=input, outputs=dense)"
      ]
    },
    {
      "cell_type": "code",
      "execution_count": null,
      "metadata": {
        "id": "XHtqLvgj8Reg"
      },
      "outputs": [],
      "source": [
        "y = layers.Conv2D(64, 1, activation='relu', padding='same')(input)\n",
        "for i in range (5):\n",
        "  ident = y\n",
        "  y = layers.Conv2D(64, 3, activation='relu', padding='same')(y)\n",
        "  y = layers.Conv2D(64, 3, activation='relu', padding='same')(y)\n",
        "  y = layers.add([ident,x]) #residual part !\n",
        "flatten = layers.Flatten()(y)\n",
        "dense = layers.Dense(10, activation=\"softmax\")(flatten)\n",
        "model_vanilla = tf.keras.models.Model(inputs=input, outputs=dense)"
      ]
    },
    {
      "cell_type": "code",
      "execution_count": null,
      "metadata": {
        "colab": {
          "base_uri": "https://localhost:8080/"
        },
        "id": "EctQpjwe6zMa",
        "outputId": "7f51f6a5-e508-41e9-a4cb-5a5473a3677c"
      },
      "outputs": [
        {
          "name": "stdout",
          "output_type": "stream",
          "text": [
            "Model: \"model_1\"\n",
            "__________________________________________________________________________________________________\n",
            " Layer (type)                Output Shape                 Param #   Connected to                  \n",
            "==================================================================================================\n",
            " input_1 (InputLayer)        [(None, 32, 32, 3)]          0         []                            \n",
            "                                                                                                  \n",
            " conv2d_7 (Conv2D)           (None, 32, 32, 64)           256       ['input_1[0][0]']             \n",
            "                                                                                                  \n",
            " conv2d_8 (Conv2D)           (None, 32, 32, 64)           36928     ['conv2d_7[0][0]']            \n",
            "                                                                                                  \n",
            " conv2d_9 (Conv2D)           (None, 32, 32, 64)           36928     ['conv2d_8[0][0]']            \n",
            "                                                                                                  \n",
            " add (Add)                   (None, 32, 32, 64)           0         ['conv2d_7[0][0]',            \n",
            "                                                                     'conv2d_9[0][0]']            \n",
            "                                                                                                  \n",
            " conv2d_10 (Conv2D)          (None, 32, 32, 64)           36928     ['add[0][0]']                 \n",
            "                                                                                                  \n",
            " conv2d_11 (Conv2D)          (None, 32, 32, 64)           36928     ['conv2d_10[0][0]']           \n",
            "                                                                                                  \n",
            " add_1 (Add)                 (None, 32, 32, 64)           0         ['add[0][0]',                 \n",
            "                                                                     'conv2d_11[0][0]']           \n",
            "                                                                                                  \n",
            " conv2d_12 (Conv2D)          (None, 32, 32, 64)           36928     ['add_1[0][0]']               \n",
            "                                                                                                  \n",
            " conv2d_13 (Conv2D)          (None, 32, 32, 64)           36928     ['conv2d_12[0][0]']           \n",
            "                                                                                                  \n",
            " add_2 (Add)                 (None, 32, 32, 64)           0         ['add_1[0][0]',               \n",
            "                                                                     'conv2d_13[0][0]']           \n",
            "                                                                                                  \n",
            " conv2d_14 (Conv2D)          (None, 32, 32, 64)           36928     ['add_2[0][0]']               \n",
            "                                                                                                  \n",
            " conv2d_15 (Conv2D)          (None, 32, 32, 64)           36928     ['conv2d_14[0][0]']           \n",
            "                                                                                                  \n",
            " add_3 (Add)                 (None, 32, 32, 64)           0         ['add_2[0][0]',               \n",
            "                                                                     'conv2d_15[0][0]']           \n",
            "                                                                                                  \n",
            " conv2d_16 (Conv2D)          (None, 32, 32, 64)           36928     ['add_3[0][0]']               \n",
            "                                                                                                  \n",
            " conv2d_17 (Conv2D)          (None, 32, 32, 64)           36928     ['conv2d_16[0][0]']           \n",
            "                                                                                                  \n",
            " add_4 (Add)                 (None, 32, 32, 64)           0         ['add_3[0][0]',               \n",
            "                                                                     'conv2d_17[0][0]']           \n",
            "                                                                                                  \n",
            " flatten_2 (Flatten)         (None, 65536)                0         ['add_4[0][0]']               \n",
            "                                                                                                  \n",
            " dense (Dense)               (None, 10)                   655370    ['flatten_2[0][0]']           \n",
            "                                                                                                  \n",
            "==================================================================================================\n",
            "Total params: 1024906 (3.91 MB)\n",
            "Trainable params: 1024906 (3.91 MB)\n",
            "Non-trainable params: 0 (0.00 Byte)\n",
            "__________________________________________________________________________________________________\n"
          ]
        }
      ],
      "source": [
        "model_res.summary()"
      ]
    },
    {
      "cell_type": "code",
      "execution_count": null,
      "metadata": {
        "colab": {
          "background_save": true,
          "base_uri": "https://localhost:8080/"
        },
        "id": "MObFCaO565k6",
        "outputId": "3a6f1547-47f5-4c61-dea9-425321cef799"
      },
      "outputs": [
        {
          "output_type": "stream",
          "name": "stdout",
          "text": [
            "Epoch 1/3\n",
            "163/625 [======>.......................] - ETA: 27:42 - loss: 2.8500 - acc: 0.2591"
          ]
        }
      ],
      "source": [
        "model_res.compile(optimizer=tf.keras.optimizers.RMSprop(1e-3),\n",
        "loss='categorical_crossentropy',\n",
        "metrics=['acc'])\n",
        "model_res.fit(x_train, y_train,\n",
        "batch_size=64,\n",
        "epochs=3,\n",
        "validation_split=0.2)"
      ]
    },
    {
      "cell_type": "code",
      "execution_count": null,
      "metadata": {
        "colab": {
          "background_save": true
        },
        "id": "578BEw906-Y_",
        "outputId": "f1dbfd6a-1a20-4ec1-a986-dde4ba10837a"
      },
      "outputs": [
        {
          "name": "stdout",
          "output_type": "stream",
          "text": [
            "Epoch 1/3\n",
            "625/625 [==============================] - 30s 45ms/step - loss: 1.5011 - acc: 0.5404 - val_loss: 1.1373 - val_acc: 0.6073\n",
            "Epoch 2/3\n",
            "625/625 [==============================] - 28s 44ms/step - loss: 0.9314 - acc: 0.6834 - val_loss: 1.0739 - val_acc: 0.6405\n",
            "Epoch 3/3\n",
            "625/625 [==============================] - 27s 43ms/step - loss: 0.7408 - acc: 0.7469 - val_loss: 1.0107 - val_acc: 0.6681\n"
          ]
        },
        {
          "data": {
            "text/plain": [
              "<keras.src.callbacks.History at 0x79dc2c4af220>"
            ]
          },
          "execution_count": 27,
          "metadata": {},
          "output_type": "execute_result"
        }
      ],
      "source": [
        "model_vanilla.compile(optimizer=tf.keras.optimizers.RMSprop(1e-3),\n",
        "loss='categorical_crossentropy',\n",
        "metrics=['acc'])\n",
        "model_vanilla.fit(x_train, y_train,\n",
        "batch_size=64,\n",
        "epochs=3,\n",
        "validation_split=0.2)"
      ]
    },
    {
      "cell_type": "code",
      "execution_count": null,
      "metadata": {
        "id": "Y-ItES5R8w8A"
      },
      "outputs": [],
      "source": []
    }
  ],
  "metadata": {
    "accelerator": "GPU",
    "colab": {
      "gpuType": "T4",
      "toc_visible": true,
      "provenance": [],
      "authorship_tag": "ABX9TyO8EPfGbelAkVpQoU+if9h0",
      "include_colab_link": true
    },
    "kernelspec": {
      "display_name": "Python 3",
      "name": "python3"
    },
    "language_info": {
      "name": "python"
    }
  },
  "nbformat": 4,
  "nbformat_minor": 0
}