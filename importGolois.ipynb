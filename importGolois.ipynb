{
  "cells": [
    {
      "cell_type": "markdown",
      "metadata": {
        "id": "view-in-github",
        "colab_type": "text"
      },
      "source": [
        "<a href=\"https://colab.research.google.com/github/dbenayoun/IASD/blob/main/importGolois.ipynb\" target=\"_parent\"><img src=\"https://colab.research.google.com/assets/colab-badge.svg\" alt=\"Open In Colab\"/></a>"
      ]
    },
    {
      "cell_type": "code",
      "execution_count": null,
      "metadata": {
        "colab": {
          "base_uri": "https://localhost:8080/"
        },
        "id": "ks7AjhAto2dV",
        "outputId": "041d1309-4372-48a3-c51c-d5dd9e195c48"
      },
      "outputs": [
        {
          "output_type": "stream",
          "name": "stdout",
          "text": [
            "--2024-05-31 09:50:11--  https://www.lamsade.dauphine.fr/~cazenave/project2022.zip\n",
            "Resolving www.lamsade.dauphine.fr (www.lamsade.dauphine.fr)... 193.48.71.250\n",
            "Connecting to www.lamsade.dauphine.fr (www.lamsade.dauphine.fr)|193.48.71.250|:443... connected.\n",
            "HTTP request sent, awaiting response... 200 OK\n",
            "Length: 138884468 (132M) [application/zip]\n",
            "Saving to: ‘project2022.zip’\n",
            "\n",
            "project2022.zip     100%[===================>] 132.45M  28.6MB/s    in 5.4s    \n",
            "\n",
            "2024-05-31 09:50:17 (24.8 MB/s) - ‘project2022.zip’ saved [138884468/138884468]\n",
            "\n",
            "Archive:  project2022.zip\n",
            "  inflating: Board.h                 \n",
            "  inflating: Game.h                  \n",
            "  inflating: Rzone.h                 \n",
            "  inflating: compile.sh              \n",
            "  inflating: compileMAC.sh           \n",
            "  inflating: games.data              \n",
            "  inflating: golois.cpp              \n",
            "  inflating: golois.cpython-310-x86_64-linux-gnu.so  \n",
            "  inflating: golois.cpython-37m-x86_64-linux-gnu.so  \n",
            "  inflating: golois.cpython-38-x86_64-linux-gnu.so  \n",
            "  inflating: golois.cpython-39-x86_64-linux-gnu.so  \n",
            "  inflating: golois.py               \n",
            "  inflating: importGolois.ipynb      \n",
            "  inflating: zip.sh                  \n"
          ]
        }
      ],
      "source": [
        "!wget https://www.lamsade.dauphine.fr/~cazenave/project2022.zip\n",
        "!unzip project2022.zip"
      ]
    },
    {
      "cell_type": "code",
      "execution_count": null,
      "metadata": {
        "colab": {
          "base_uri": "https://localhost:8080/"
        },
        "id": "SNxDy5hTfHs_",
        "outputId": "1899137a-0162-4fd1-9350-aeb4bc301a4d"
      },
      "outputs": [
        {
          "output_type": "stream",
          "name": "stdout",
          "text": [
            "2024-05-31 09:50:28.559491: E external/local_xla/xla/stream_executor/cuda/cuda_dnn.cc:9261] Unable to register cuDNN factory: Attempting to register factory for plugin cuDNN when one has already been registered\n",
            "2024-05-31 09:50:28.559546: E external/local_xla/xla/stream_executor/cuda/cuda_fft.cc:607] Unable to register cuFFT factory: Attempting to register factory for plugin cuFFT when one has already been registered\n",
            "2024-05-31 09:50:28.561592: E external/local_xla/xla/stream_executor/cuda/cuda_blas.cc:1515] Unable to register cuBLAS factory: Attempting to register factory for plugin cuBLAS when one has already been registered\n",
            "2024-05-31 09:50:28.577077: I tensorflow/core/platform/cpu_feature_guard.cc:182] This TensorFlow binary is optimized to use available CPU instructions in performance-critical operations.\n",
            "To enable the following instructions: AVX2 FMA, in other operations, rebuild TensorFlow with the appropriate compiler flags.\n",
            "2024-05-31 09:50:30.383233: W tensorflow/compiler/tf2tensorrt/utils/py_utils.cc:38] TF-TRT Warning: Could not find TensorRT\n",
            "getValidation\n",
            "r.shape = (10000, 19, 19, 31)\n",
            "nbExamples = 10000\n",
            "nbPositionsSGF = 29425326\n",
            "nbPositionsSGF = 29425326\n",
            "generating validation.data\n",
            "2024-05-31 09:51:00.134268: I external/local_xla/xla/stream_executor/cuda/cuda_executor.cc:901] successful NUMA node read from SysFS had negative value (-1), but there must be at least one NUMA node, so returning NUMA node zero. See more at https://github.com/torvalds/linux/blob/v6.0/Documentation/ABI/testing/sysfs-bus-pci#L344-L355\n",
            "2024-05-31 09:51:00.736466: I external/local_xla/xla/stream_executor/cuda/cuda_executor.cc:901] successful NUMA node read from SysFS had negative value (-1), but there must be at least one NUMA node, so returning NUMA node zero. See more at https://github.com/torvalds/linux/blob/v6.0/Documentation/ABI/testing/sysfs-bus-pci#L344-L355\n",
            "2024-05-31 09:51:00.736865: I external/local_xla/xla/stream_executor/cuda/cuda_executor.cc:901] successful NUMA node read from SysFS had negative value (-1), but there must be at least one NUMA node, so returning NUMA node zero. See more at https://github.com/torvalds/linux/blob/v6.0/Documentation/ABI/testing/sysfs-bus-pci#L344-L355\n",
            "2024-05-31 09:51:00.737742: I external/local_xla/xla/stream_executor/cuda/cuda_executor.cc:901] successful NUMA node read from SysFS had negative value (-1), but there must be at least one NUMA node, so returning NUMA node zero. See more at https://github.com/torvalds/linux/blob/v6.0/Documentation/ABI/testing/sysfs-bus-pci#L344-L355\n",
            "2024-05-31 09:51:00.738040: I external/local_xla/xla/stream_executor/cuda/cuda_executor.cc:901] successful NUMA node read from SysFS had negative value (-1), but there must be at least one NUMA node, so returning NUMA node zero. See more at https://github.com/torvalds/linux/blob/v6.0/Documentation/ABI/testing/sysfs-bus-pci#L344-L355\n",
            "2024-05-31 09:51:00.738297: I external/local_xla/xla/stream_executor/cuda/cuda_executor.cc:901] successful NUMA node read from SysFS had negative value (-1), but there must be at least one NUMA node, so returning NUMA node zero. See more at https://github.com/torvalds/linux/blob/v6.0/Documentation/ABI/testing/sysfs-bus-pci#L344-L355\n",
            "2024-05-31 09:51:01.007958: I external/local_xla/xla/stream_executor/cuda/cuda_executor.cc:901] successful NUMA node read from SysFS had negative value (-1), but there must be at least one NUMA node, so returning NUMA node zero. See more at https://github.com/torvalds/linux/blob/v6.0/Documentation/ABI/testing/sysfs-bus-pci#L344-L355\n",
            "2024-05-31 09:51:01.008361: I external/local_xla/xla/stream_executor/cuda/cuda_executor.cc:901] successful NUMA node read from SysFS had negative value (-1), but there must be at least one NUMA node, so returning NUMA node zero. See more at https://github.com/torvalds/linux/blob/v6.0/Documentation/ABI/testing/sysfs-bus-pci#L344-L355\n",
            "2024-05-31 09:51:01.008549: W tensorflow/core/common_runtime/gpu/gpu_bfc_allocator.cc:47] Overriding orig_value setting because the TF_FORCE_GPU_ALLOW_GROWTH environment variable is set. Original config value was 0.\n",
            "2024-05-31 09:51:01.008735: I external/local_xla/xla/stream_executor/cuda/cuda_executor.cc:901] successful NUMA node read from SysFS had negative value (-1), but there must be at least one NUMA node, so returning NUMA node zero. See more at https://github.com/torvalds/linux/blob/v6.0/Documentation/ABI/testing/sysfs-bus-pci#L344-L355\n",
            "2024-05-31 09:51:01.008940: I tensorflow/core/common_runtime/gpu/gpu_device.cc:1929] Created device /job:localhost/replica:0/task:0/device:GPU:0 with 13949 MB memory:  -> device: 0, name: Tesla T4, pci bus id: 0000:00:04.0, compute capability: 7.5\n",
            "Model: \"model\"\n",
            "__________________________________________________________________________________________________\n",
            " Layer (type)                Output Shape                 Param #   Connected to                  \n",
            "==================================================================================================\n",
            " board (InputLayer)          [(None, 19, 19, 31)]         0         []                            \n",
            "                                                                                                  \n",
            " conv2d (Conv2D)             (None, 19, 19, 32)           1024      ['board[0][0]']               \n",
            "                                                                                                  \n",
            " conv2d_1 (Conv2D)           (None, 19, 19, 32)           9248      ['conv2d[0][0]']              \n",
            "                                                                                                  \n",
            " conv2d_2 (Conv2D)           (None, 19, 19, 32)           9248      ['conv2d_1[0][0]']            \n",
            "                                                                                                  \n",
            " conv2d_3 (Conv2D)           (None, 19, 19, 32)           9248      ['conv2d_2[0][0]']            \n",
            "                                                                                                  \n",
            " conv2d_4 (Conv2D)           (None, 19, 19, 32)           9248      ['conv2d_3[0][0]']            \n",
            "                                                                                                  \n",
            " conv2d_5 (Conv2D)           (None, 19, 19, 32)           9248      ['conv2d_4[0][0]']            \n",
            "                                                                                                  \n",
            " conv2d_7 (Conv2D)           (None, 19, 19, 1)            32        ['conv2d_5[0][0]']            \n",
            "                                                                                                  \n",
            " conv2d_6 (Conv2D)           (None, 19, 19, 1)            32        ['conv2d_5[0][0]']            \n",
            "                                                                                                  \n",
            " flatten_1 (Flatten)         (None, 361)                  0         ['conv2d_7[0][0]']            \n",
            "                                                                                                  \n",
            " flatten (Flatten)           (None, 361)                  0         ['conv2d_6[0][0]']            \n",
            "                                                                                                  \n",
            " dense (Dense)               (None, 50)                   18100     ['flatten_1[0][0]']           \n",
            "                                                                                                  \n",
            " policy (Activation)         (None, 361)                  0         ['flatten[0][0]']             \n",
            "                                                                                                  \n",
            " value (Dense)               (None, 1)                    51        ['dense[0][0]']               \n",
            "                                                                                                  \n",
            "==================================================================================================\n",
            "Total params: 65479 (255.78 KB)\n",
            "Trainable params: 65479 (255.78 KB)\n",
            "Non-trainable params: 0 (0.00 Byte)\n",
            "__________________________________________________________________________________________________\n",
            "epoch 1\n",
            "r.shape = (10000, 19, 19, 31)\n",
            "nbExamples = 10000\n",
            "2024-05-31 09:51:05.360251: I external/local_xla/xla/stream_executor/cuda/cuda_dnn.cc:454] Loaded cuDNN version 8906\n",
            "2024-05-31 09:51:07.622842: I external/local_xla/xla/service/service.cc:168] XLA service 0x79d9223ee550 initialized for platform CUDA (this does not guarantee that XLA will be used). Devices:\n",
            "2024-05-31 09:51:07.622903: I external/local_xla/xla/service/service.cc:176]   StreamExecutor device (0): Tesla T4, Compute Capability 7.5\n",
            "WARNING: All log messages before absl::InitializeLog() is called are written to STDERR\n",
            "I0000 00:00:1717149067.755715     560 device_compiler.h:186] Compiled cluster using XLA!  This line is logged at most once for the lifetime of the process.\n",
            "79/79 [==============================] - 7s 16ms/step - loss: 6.5890 - policy_loss: 5.8867 - value_loss: 0.6931 - policy_categorical_accuracy: 0.0040 - value_mse: 0.1215\n",
            "epoch 2\n",
            "r.shape = (10000, 19, 19, 31)\n",
            "nbExamples = 10000\n",
            "79/79 [==============================] - 1s 17ms/step - loss: 6.5855 - policy_loss: 5.8832 - value_loss: 0.6930 - policy_categorical_accuracy: 0.0056 - value_mse: 0.1194\n",
            "epoch 3\n",
            "r.shape = (10000, 19, 19, 31)\n",
            "nbExamples = 10000\n",
            "79/79 [==============================] - 1s 12ms/step - loss: 6.5799 - policy_loss: 5.8776 - value_loss: 0.6930 - policy_categorical_accuracy: 0.0061 - value_mse: 0.1204\n",
            "epoch 4\n",
            "r.shape = (10000, 19, 19, 31)\n",
            "nbExamples = 10000\n",
            "79/79 [==============================] - 1s 13ms/step - loss: 6.5711 - policy_loss: 5.8687 - value_loss: 0.6931 - policy_categorical_accuracy: 0.0089 - value_mse: 0.1207\n",
            "epoch 5\n",
            "r.shape = (10000, 19, 19, 31)\n",
            "nbExamples = 10000\n",
            "79/79 [==============================] - 1s 12ms/step - loss: 6.5573 - policy_loss: 5.8549 - value_loss: 0.6931 - policy_categorical_accuracy: 0.0078 - value_mse: 0.1195\n",
            "epoch 6\n",
            "r.shape = (10000, 19, 19, 31)\n",
            "nbExamples = 10000\n",
            "79/79 [==============================] - 1s 16ms/step - loss: 6.5318 - policy_loss: 5.8295 - value_loss: 0.6929 - policy_categorical_accuracy: 0.0100 - value_mse: 0.1179\n",
            "epoch 7\n",
            "r.shape = (10000, 19, 19, 31)\n",
            "nbExamples = 10000\n",
            "79/79 [==============================] - 1s 17ms/step - loss: 6.4859 - policy_loss: 5.7835 - value_loss: 0.6930 - policy_categorical_accuracy: 0.0107 - value_mse: 0.1202\n",
            "epoch 8\n",
            "r.shape = (10000, 19, 19, 31)\n",
            "nbExamples = 10000\n",
            "79/79 [==============================] - 1s 13ms/step - loss: 6.4158 - policy_loss: 5.7135 - value_loss: 0.6929 - policy_categorical_accuracy: 0.0100 - value_mse: 0.1197\n",
            "epoch 9\n",
            "r.shape = (10000, 19, 19, 31)\n",
            "nbExamples = 10000\n",
            "79/79 [==============================] - 1s 15ms/step - loss: 6.2967 - policy_loss: 5.5944 - value_loss: 0.6930 - policy_categorical_accuracy: 0.0127 - value_mse: 0.1189\n",
            "epoch 10\n",
            "r.shape = (10000, 19, 19, 31)\n",
            "nbExamples = 10000\n",
            "79/79 [==============================] - 1s 16ms/step - loss: 6.1419 - policy_loss: 5.4397 - value_loss: 0.6928 - policy_categorical_accuracy: 0.0132 - value_mse: 0.1189\n",
            "epoch 11\n",
            "r.shape = (10000, 19, 19, 31)\n",
            "nbExamples = 10000\n",
            "79/79 [==============================] - 1s 13ms/step - loss: 5.9486 - policy_loss: 5.2460 - value_loss: 0.6932 - policy_categorical_accuracy: 0.0199 - value_mse: 0.1212\n",
            "epoch 12\n",
            "r.shape = (10000, 19, 19, 31)\n",
            "nbExamples = 10000\n",
            "79/79 [==============================] - 1s 13ms/step - loss: 5.8209 - policy_loss: 5.1186 - value_loss: 0.6929 - policy_categorical_accuracy: 0.0202 - value_mse: 0.1202\n",
            "epoch 13\n",
            "r.shape = (10000, 19, 19, 31)\n",
            "nbExamples = 10000\n",
            "79/79 [==============================] - 1s 14ms/step - loss: 5.6918 - policy_loss: 4.9896 - value_loss: 0.6928 - policy_categorical_accuracy: 0.0304 - value_mse: 0.1189\n",
            "epoch 14\n",
            "r.shape = (10000, 19, 19, 31)\n",
            "nbExamples = 10000\n",
            "79/79 [==============================] - 2s 27ms/step - loss: 5.5867 - policy_loss: 4.8842 - value_loss: 0.6930 - policy_categorical_accuracy: 0.0426 - value_mse: 0.1176\n",
            "epoch 15\n",
            "r.shape = (10000, 19, 19, 31)\n",
            "nbExamples = 10000\n",
            "79/79 [==============================] - 1s 13ms/step - loss: 5.4128 - policy_loss: 4.7105 - value_loss: 0.6930 - policy_categorical_accuracy: 0.0644 - value_mse: 0.1202\n",
            "epoch 16\n",
            "r.shape = (10000, 19, 19, 31)\n",
            "nbExamples = 10000\n",
            "79/79 [==============================] - 1s 13ms/step - loss: 5.2139 - policy_loss: 4.5115 - value_loss: 0.6930 - policy_categorical_accuracy: 0.0862 - value_mse: 0.1182\n",
            "epoch 17\n",
            "r.shape = (10000, 19, 19, 31)\n",
            "nbExamples = 10000\n",
            "79/79 [==============================] - 1s 15ms/step - loss: 5.1055 - policy_loss: 4.4032 - value_loss: 0.6929 - policy_categorical_accuracy: 0.0962 - value_mse: 0.1183\n",
            "epoch 18\n",
            "r.shape = (10000, 19, 19, 31)\n",
            "nbExamples = 10000\n",
            "79/79 [==============================] - 1s 14ms/step - loss: 4.9964 - policy_loss: 4.2939 - value_loss: 0.6930 - policy_categorical_accuracy: 0.1112 - value_mse: 0.1210\n",
            "epoch 19\n",
            "r.shape = (10000, 19, 19, 31)\n",
            "nbExamples = 10000\n",
            "79/79 [==============================] - 1s 13ms/step - loss: 4.9249 - policy_loss: 4.2228 - value_loss: 0.6927 - policy_categorical_accuracy: 0.1253 - value_mse: 0.1173\n",
            "epoch 20\n",
            "r.shape = (10000, 19, 19, 31)\n",
            "nbExamples = 10000\n",
            "79/79 [==============================] - 1s 13ms/step - loss: 4.8517 - policy_loss: 4.1495 - value_loss: 0.6927 - policy_categorical_accuracy: 0.1299 - value_mse: 0.1204\n",
            "r.shape = (10000, 19, 19, 31)\n",
            "nbExamples = 10000\n",
            "val = [4.86825704574585, 4.165775775909424, 0.6930462121963501, 0.13760000467300415, 0.1199965700507164]\n",
            "/usr/local/lib/python3.10/dist-packages/keras/src/engine/training.py:3103: UserWarning: You are saving your model as an HDF5 file via `model.save()`. This file format is considered legacy. We recommend using instead the native Keras format, e.g. `model.save('my_model.keras')`.\n",
            "  saving_api.save_model(\n"
          ]
        }
      ],
      "source": [
        "!python golois.py"
      ]
    },
    {
      "cell_type": "code",
      "source": [
        "import tensorflow as tf\n",
        "import tensorflow.keras as keras\n",
        "import numpy as np\n",
        "from tensorflow.keras import layers\n",
        "from tensorflow.keras import regularizers\n",
        "import gc\n",
        "import pandas as pd\n",
        "from keras.callbacks import LearningRateScheduler\n"
      ],
      "metadata": {
        "id": "G8qzxt_BJHk2"
      },
      "execution_count": null,
      "outputs": []
    },
    {
      "cell_type": "code",
      "source": [
        "import golois\n"
      ],
      "metadata": {
        "id": "l54nCZ20K0sI"
      },
      "execution_count": null,
      "outputs": []
    },
    {
      "cell_type": "code",
      "source": [
        "planes = 31\n",
        "moves = 361\n",
        "N = 10000\n",
        "epochs = 100\n",
        "batch = 128\n",
        "filters = 32"
      ],
      "metadata": {
        "id": "BUdTpO43K3JU"
      },
      "execution_count": null,
      "outputs": []
    },
    {
      "cell_type": "code",
      "source": [
        "input_data = np.random.randint(2, size=(N, 19, 19, planes))\n",
        "input_data = input_data.astype ('float32')\n",
        "\n",
        "policy = np.random.randint(moves, size=(N,))\n",
        "policy = keras.utils.to_categorical (policy)\n",
        "\n",
        "value = np.random.randint(2, size=(N,))\n",
        "value = value.astype ('float32')\n",
        "\n",
        "end = np.random.randint(2, size=(N, 19, 19, 2))\n",
        "end = end.astype ('float32')\n",
        "\n",
        "groups = np.zeros((N, 19, 19, 1))\n",
        "groups = groups.astype ('float32')\n",
        "\n",
        "print (\"getValidation\", flush = True)\n",
        "golois.getValidation (input_data, policy, value, end)"
      ],
      "metadata": {
        "id": "UiuNhKURK-Xj",
        "outputId": "895a7239-6358-4453-c8d3-0b2a814c0ea5",
        "colab": {
          "base_uri": "https://localhost:8080/"
        }
      },
      "execution_count": null,
      "outputs": [
        {
          "output_type": "stream",
          "name": "stdout",
          "text": [
            "getValidation\n"
          ]
        }
      ]
    },
    {
      "cell_type": "markdown",
      "source": [
        "# Best Model so far"
      ],
      "metadata": {
        "id": "SRyTkGC-CoVJ"
      }
    },
    {
      "cell_type": "code",
      "source": [
        "input = keras.Input(shape=(19, 19, planes), name='board')\n",
        "x = layers.Conv2D(filters, 1, activation='relu', padding='same')(input)\n",
        "x = layers.BatchNormalization()(x)\n",
        "\n",
        "for i in range (4):\n",
        "    ident = x\n",
        "    x = layers.Conv2D(filters, 3, activation='relu', padding='same')(x)\n",
        "    x = layers.BatchNormalization()(x) #added batch normalization\n",
        "    x = layers.Conv2D(filters, 3, activation='relu', padding='same')(x)\n",
        "    x = layers.BatchNormalization()(x) #added batch normalization\n",
        "    x = layers.add([x, ident])\n",
        "\n",
        "# Policy head\n",
        "policy_head = layers.Conv2D(1, 1, activation='relu', padding='same', use_bias = False, kernel_regularizer=regularizers.l2(0.0001))(x)\n",
        "policy_head = layers.BatchNormalization()(policy_head)\n",
        "policy_head = layers.Flatten()(policy_head)\n",
        "policy_head = layers.Activation('softmax', name='policy')(policy_head)\n",
        "\n",
        "# Value head\n",
        "value_head = layers.Conv2D(1, 1, activation='relu', padding='same', use_bias = False, kernel_regularizer=regularizers.l2(0.0001))(x)\n",
        "value_head = layers.BatchNormalization()(value_head)\n",
        "value_head = layers.Flatten()(value_head)\n",
        "value_head = layers.Dense(50, activation='relu', kernel_regularizer=regularizers.l2(0.0001))(value_head)\n",
        "value_head = layers.Dropout(0.5)(value_head)\n",
        "value_head = layers.Dense(1, activation='sigmoid', name='value', kernel_regularizer=regularizers.l2(0.0001))(value_head)\n",
        "\n",
        "model = keras.Model(inputs=input, outputs=[policy_head, value_head])\n",
        "\n"
      ],
      "metadata": {
        "id": "M_2vfvHyCnsL"
      },
      "execution_count": null,
      "outputs": []
    },
    {
      "cell_type": "code",
      "source": [
        "model.count_params()"
      ],
      "metadata": {
        "id": "YXTs_I6DD_CD",
        "outputId": "1d416e89-c70d-4611-8156-27f7acf25a4a",
        "colab": {
          "base_uri": "https://localhost:8080/"
        }
      },
      "execution_count": null,
      "outputs": [
        {
          "output_type": "execute_result",
          "data": {
            "text/plain": [
              "94383"
            ]
          },
          "metadata": {},
          "execution_count": 9
        }
      ]
    },
    {
      "cell_type": "markdown",
      "source": [
        "# Testing Model\n"
      ],
      "metadata": {
        "id": "nrg0uSvpCjOS"
      }
    },
    {
      "cell_type": "code",
      "source": [
        "input = keras.Input(shape=(19, 19, planes), name='board')\n",
        "x = layers.Conv2D(filters, 1, activation='relu', padding='same')(input)\n",
        "x = layers.BatchNormalization()(x)\n",
        "\n",
        "for i in range (4):\n",
        "    ident = x\n",
        "    x = layers.Conv2D(filters, 3, activation='relu', padding='same')(x)\n",
        "    x = layers.BatchNormalization()(x) #added batch normalization\n",
        "    x = layers.Activation('relu')(x)\n",
        "    x = layers.DepthwiseConv2D((3,3), padding='same', kernel_regularizer=regularizers.l2(0.0001), use_bias = False)(x)\n",
        "    x = layers.BatchNormalization()(x) #added batch normalization\n",
        "    x = layers.Activation('relu')(x)\n",
        "    x = layers.Conv2D(filters, 3, activation='relu', padding='same')(x)\n",
        "    x = layers.BatchNormalization()(x) #added batch normalization\n",
        "    x = layers.add([x, ident])\n",
        "\n",
        "# Policy head\n",
        "policy_head = layers.Conv2D(1, 1, activation='relu', padding='same', use_bias = False, kernel_regularizer=regularizers.l2(0.0001))(x)\n",
        "policy_head = layers.BatchNormalization()(policy_head)\n",
        "policy_head = layers.Flatten()(policy_head)\n",
        "policy_head = layers.Activation('softmax', name='policy')(policy_head)\n",
        "\n",
        "# Value head\n",
        "value_head = layers.Conv2D(1, 1, activation='relu', padding='same', use_bias = False, kernel_regularizer=regularizers.l2(0.0001))(x)\n",
        "value_head = layers.BatchNormalization()(value_head)\n",
        "value_head = layers.Flatten()(value_head)\n",
        "value_head = layers.Dense(50, activation='relu', kernel_regularizer=regularizers.l2(0.0001))(value_head)\n",
        "value_head = layers.Dropout(0.5)(value_head)\n",
        "value_head = layers.Dense(1, activation='sigmoid', name='value', kernel_regularizer=regularizers.l2(0.0001))(value_head)\n",
        "\n",
        "model = keras.Model(inputs=input, outputs=[policy_head, value_head])\n",
        "\n"
      ],
      "metadata": {
        "id": "0z54-sdFK8z-"
      },
      "execution_count": null,
      "outputs": []
    },
    {
      "cell_type": "code",
      "source": [
        "model.count_params()"
      ],
      "metadata": {
        "id": "umKbj1qfLf3O",
        "outputId": "0cd3b57d-3348-4059-bf15-6c16bc125ab7",
        "colab": {
          "base_uri": "https://localhost:8080/"
        }
      },
      "execution_count": null,
      "outputs": [
        {
          "output_type": "execute_result",
          "data": {
            "text/plain": [
              "115215"
            ]
          },
          "metadata": {},
          "execution_count": 30
        }
      ]
    },
    {
      "cell_type": "markdown",
      "source": [
        "1. added a residual layer\n"
      ],
      "metadata": {
        "id": "wyOE9gvoNkfx"
      }
    },
    {
      "cell_type": "markdown",
      "source": [
        "# Summary"
      ],
      "metadata": {
        "id": "Eutryg_mG7Z_"
      }
    },
    {
      "cell_type": "code",
      "source": [
        "model.summary ()"
      ],
      "metadata": {
        "colab": {
          "base_uri": "https://localhost:8080/"
        },
        "id": "hfX8tJ5r0svt",
        "outputId": "c5b8dbc9-3f89-476e-fcb8-914801322e81"
      },
      "execution_count": null,
      "outputs": [
        {
          "output_type": "stream",
          "name": "stdout",
          "text": [
            "Model: \"model_48\"\n",
            "__________________________________________________________________________________________________\n",
            " Layer (type)                Output Shape                 Param #   Connected to                  \n",
            "==================================================================================================\n",
            " board (InputLayer)          [(None, 19, 19, 31)]         0         []                            \n",
            "                                                                                                  \n",
            " conv2d_374 (Conv2D)         (None, 19, 19, 32)           24832     ['board[0][0]']               \n",
            "                                                                                                  \n",
            " conv2d_375 (Conv2D)         (None, 19, 19, 32)           1024      ['board[0][0]']               \n",
            "                                                                                                  \n",
            " add_212 (Add)               (None, 19, 19, 32)           0         ['conv2d_374[0][0]',          \n",
            "                                                                     'conv2d_375[0][0]']          \n",
            "                                                                                                  \n",
            " batch_normalization_257 (B  (None, 19, 19, 32)           128       ['add_212[0][0]']             \n",
            " atchNormalization)                                                                               \n",
            "                                                                                                  \n",
            " activation_8 (Activation)   (None, 19, 19, 32)           0         ['batch_normalization_257[0][0\n",
            "                                                                    ]']                           \n",
            "                                                                                                  \n",
            " conv2d_376 (Conv2D)         (None, 19, 19, 32)           9248      ['activation_8[0][0]']        \n",
            "                                                                                                  \n",
            " batch_normalization_258 (B  (None, 19, 19, 32)           128       ['conv2d_376[0][0]']          \n",
            " atchNormalization)                                                                               \n",
            "                                                                                                  \n",
            " add_213 (Add)               (None, 19, 19, 32)           0         ['batch_normalization_258[0][0\n",
            "                                                                    ]',                           \n",
            "                                                                     'activation_8[0][0]']        \n",
            "                                                                                                  \n",
            " conv2d_377 (Conv2D)         (None, 19, 19, 32)           9248      ['add_213[0][0]']             \n",
            "                                                                                                  \n",
            " batch_normalization_259 (B  (None, 19, 19, 32)           128       ['conv2d_377[0][0]']          \n",
            " atchNormalization)                                                                               \n",
            "                                                                                                  \n",
            " add_214 (Add)               (None, 19, 19, 32)           0         ['batch_normalization_259[0][0\n",
            "                                                                    ]',                           \n",
            "                                                                     'add_213[0][0]']             \n",
            "                                                                                                  \n",
            " conv2d_378 (Conv2D)         (None, 19, 19, 32)           9248      ['add_214[0][0]']             \n",
            "                                                                                                  \n",
            " batch_normalization_260 (B  (None, 19, 19, 32)           128       ['conv2d_378[0][0]']          \n",
            " atchNormalization)                                                                               \n",
            "                                                                                                  \n",
            " add_215 (Add)               (None, 19, 19, 32)           0         ['batch_normalization_260[0][0\n",
            "                                                                    ]',                           \n",
            "                                                                     'add_214[0][0]']             \n",
            "                                                                                                  \n",
            " conv2d_379 (Conv2D)         (None, 19, 19, 32)           9248      ['add_215[0][0]']             \n",
            "                                                                                                  \n",
            " batch_normalization_261 (B  (None, 19, 19, 32)           128       ['conv2d_379[0][0]']          \n",
            " atchNormalization)                                                                               \n",
            "                                                                                                  \n",
            " add_216 (Add)               (None, 19, 19, 32)           0         ['batch_normalization_261[0][0\n",
            "                                                                    ]',                           \n",
            "                                                                     'add_215[0][0]']             \n",
            "                                                                                                  \n",
            " conv2d_380 (Conv2D)         (None, 19, 19, 32)           9248      ['add_216[0][0]']             \n",
            "                                                                                                  \n",
            " batch_normalization_262 (B  (None, 19, 19, 32)           128       ['conv2d_380[0][0]']          \n",
            " atchNormalization)                                                                               \n",
            "                                                                                                  \n",
            " add_217 (Add)               (None, 19, 19, 32)           0         ['batch_normalization_262[0][0\n",
            "                                                                    ]',                           \n",
            "                                                                     'add_216[0][0]']             \n",
            "                                                                                                  \n",
            " conv2d_381 (Conv2D)         (None, 19, 19, 1)            32        ['add_217[0][0]']             \n",
            "                                                                                                  \n",
            " conv2d_382 (Conv2D)         (None, 19, 19, 1)            32        ['add_217[0][0]']             \n",
            "                                                                                                  \n",
            " batch_normalization_263 (B  (None, 19, 19, 1)            4         ['conv2d_381[0][0]']          \n",
            " atchNormalization)                                                                               \n",
            "                                                                                                  \n",
            " flatten_97 (Flatten)        (None, 361)                  0         ['conv2d_382[0][0]']          \n",
            "                                                                                                  \n",
            " flatten_96 (Flatten)        (None, 361)                  0         ['batch_normalization_263[0][0\n",
            "                                                                    ]']                           \n",
            "                                                                                                  \n",
            " dense_48 (Dense)            (None, 50)                   18100     ['flatten_97[0][0]']          \n",
            "                                                                                                  \n",
            " policy (Activation)         (None, 361)                  0         ['flatten_96[0][0]']          \n",
            "                                                                                                  \n",
            " value (Dense)               (None, 1)                    51        ['dense_48[0][0]']            \n",
            "                                                                                                  \n",
            "==================================================================================================\n",
            "Total params: 91083 (355.79 KB)\n",
            "Trainable params: 90697 (354.29 KB)\n",
            "Non-trainable params: 386 (1.51 KB)\n",
            "__________________________________________________________________________________________________\n"
          ]
        }
      ]
    },
    {
      "cell_type": "markdown",
      "source": [
        "# Compile"
      ],
      "metadata": {
        "id": "N2RolyCyDPX8"
      }
    },
    {
      "cell_type": "code",
      "source": [
        "def step_decay(epoch):\n",
        "    initial_lr = 0.0005\n",
        "    drop = 0.5\n",
        "    epochs_drop = 10.0\n",
        "    lr = initial_lr * (drop ** np.floor((1 + epoch) / epochs_drop))\n",
        "    return lr\n",
        "\n",
        "lr_scheduler = LearningRateScheduler(step_decay)\n",
        "\n",
        "model.compile(optimizer=keras.optimizers.SGD(learning_rate=0.0005, momentum=0.9),\n",
        "              loss={'policy': 'categorical_crossentropy', 'value': 'binary_crossentropy'},\n",
        "              loss_weights={'policy' : 1.0, 'value' : 1.0},\n",
        "              metrics={'policy': 'categorical_accuracy', 'value': 'mse'})\n",
        "\n",
        "for i in range (1, epochs + 1):\n",
        "    print ('epoch ' + str (i))\n",
        "    golois.getBatch (input_data, policy, value, end, groups, i * N)\n",
        "    history = model.fit(input_data,\n",
        "                        {'policy': policy, 'value': value},\n",
        "                        epochs=1, batch_size=batch\n",
        "                        ,callbacks=[lr_scheduler]\n",
        "                        )\n",
        "    if (i % 5 == 0):\n",
        "        gc.collect ()\n",
        "    if (i % epochs == 0):\n",
        "        golois.getValidation (input_data, policy, value, end)\n",
        "        val = model.evaluate (input_data,\n",
        "                              [policy, value], verbose = 0, batch_size=batch)\n",
        "        print (\"val =\", val)\n",
        "        model.save ('test.h5')"
      ],
      "metadata": {
        "id": "g1ZcSYgGL5zr",
        "outputId": "c147a692-21f0-47b3-fb25-41afce5bbeb7",
        "colab": {
          "base_uri": "https://localhost:8080/",
          "height": 596
        }
      },
      "execution_count": null,
      "outputs": [
        {
          "output_type": "stream",
          "name": "stdout",
          "text": [
            "epoch 1\n",
            "79/79 [==============================] - 7s 30ms/step - loss: 6.9700 - policy_loss: 6.0583 - value_loss: 0.9026 - policy_categorical_accuracy: 0.0029 - value_mse: 0.1726 - lr: 5.0000e-04\n",
            "epoch 2\n",
            "79/79 [==============================] - 3s 32ms/step - loss: 6.6512 - policy_loss: 5.8901 - value_loss: 0.7518 - policy_categorical_accuracy: 0.0070 - value_mse: 0.1349 - lr: 5.0000e-04\n",
            "epoch 3\n",
            "79/79 [==============================] - 2s 29ms/step - loss: 6.5616 - policy_loss: 5.8279 - value_loss: 0.7245 - policy_categorical_accuracy: 0.0133 - value_mse: 0.1306 - lr: 5.0000e-04\n",
            "epoch 4\n",
            "79/79 [==============================] - 2s 29ms/step - loss: 6.2501 - policy_loss: 5.5211 - value_loss: 0.7198 - policy_categorical_accuracy: 0.0363 - value_mse: 0.1306 - lr: 5.0000e-04\n",
            "epoch 5\n",
            "79/79 [==============================] - 3s 33ms/step - loss: 5.7884 - policy_loss: 5.0616 - value_loss: 0.7176 - policy_categorical_accuracy: 0.0731 - value_mse: 0.1292 - lr: 5.0000e-04\n",
            "epoch 6\n",
            " 5/79 [>.............................] - ETA: 2s - loss: 5.6336 - policy_loss: 4.8978 - value_loss: 0.7266 - policy_categorical_accuracy: 0.0938 - value_mse: 0.1303"
          ]
        },
        {
          "output_type": "error",
          "ename": "KeyboardInterrupt",
          "evalue": "",
          "traceback": [
            "\u001b[0;31m---------------------------------------------------------------------------\u001b[0m",
            "\u001b[0;31mKeyboardInterrupt\u001b[0m                         Traceback (most recent call last)",
            "\u001b[0;32m<ipython-input-32-92df0728188c>\u001b[0m in \u001b[0;36m<cell line: 15>\u001b[0;34m()\u001b[0m\n\u001b[1;32m     16\u001b[0m     \u001b[0mprint\u001b[0m \u001b[0;34m(\u001b[0m\u001b[0;34m'epoch '\u001b[0m \u001b[0;34m+\u001b[0m \u001b[0mstr\u001b[0m \u001b[0;34m(\u001b[0m\u001b[0mi\u001b[0m\u001b[0;34m)\u001b[0m\u001b[0;34m)\u001b[0m\u001b[0;34m\u001b[0m\u001b[0;34m\u001b[0m\u001b[0m\n\u001b[1;32m     17\u001b[0m     \u001b[0mgolois\u001b[0m\u001b[0;34m.\u001b[0m\u001b[0mgetBatch\u001b[0m \u001b[0;34m(\u001b[0m\u001b[0minput_data\u001b[0m\u001b[0;34m,\u001b[0m \u001b[0mpolicy\u001b[0m\u001b[0;34m,\u001b[0m \u001b[0mvalue\u001b[0m\u001b[0;34m,\u001b[0m \u001b[0mend\u001b[0m\u001b[0;34m,\u001b[0m \u001b[0mgroups\u001b[0m\u001b[0;34m,\u001b[0m \u001b[0mi\u001b[0m \u001b[0;34m*\u001b[0m \u001b[0mN\u001b[0m\u001b[0;34m)\u001b[0m\u001b[0;34m\u001b[0m\u001b[0;34m\u001b[0m\u001b[0m\n\u001b[0;32m---> 18\u001b[0;31m     history = model.fit(input_data,\n\u001b[0m\u001b[1;32m     19\u001b[0m                         \u001b[0;34m{\u001b[0m\u001b[0;34m'policy'\u001b[0m\u001b[0;34m:\u001b[0m \u001b[0mpolicy\u001b[0m\u001b[0;34m,\u001b[0m \u001b[0;34m'value'\u001b[0m\u001b[0;34m:\u001b[0m \u001b[0mvalue\u001b[0m\u001b[0;34m}\u001b[0m\u001b[0;34m,\u001b[0m\u001b[0;34m\u001b[0m\u001b[0;34m\u001b[0m\u001b[0m\n\u001b[1;32m     20\u001b[0m                         \u001b[0mepochs\u001b[0m\u001b[0;34m=\u001b[0m\u001b[0;36m1\u001b[0m\u001b[0;34m,\u001b[0m \u001b[0mbatch_size\u001b[0m\u001b[0;34m=\u001b[0m\u001b[0mbatch\u001b[0m\u001b[0;34m\u001b[0m\u001b[0;34m\u001b[0m\u001b[0m\n",
            "\u001b[0;32m/usr/local/lib/python3.10/dist-packages/keras/src/utils/traceback_utils.py\u001b[0m in \u001b[0;36merror_handler\u001b[0;34m(*args, **kwargs)\u001b[0m\n\u001b[1;32m     63\u001b[0m         \u001b[0mfiltered_tb\u001b[0m \u001b[0;34m=\u001b[0m \u001b[0;32mNone\u001b[0m\u001b[0;34m\u001b[0m\u001b[0;34m\u001b[0m\u001b[0m\n\u001b[1;32m     64\u001b[0m         \u001b[0;32mtry\u001b[0m\u001b[0;34m:\u001b[0m\u001b[0;34m\u001b[0m\u001b[0;34m\u001b[0m\u001b[0m\n\u001b[0;32m---> 65\u001b[0;31m             \u001b[0;32mreturn\u001b[0m \u001b[0mfn\u001b[0m\u001b[0;34m(\u001b[0m\u001b[0;34m*\u001b[0m\u001b[0margs\u001b[0m\u001b[0;34m,\u001b[0m \u001b[0;34m**\u001b[0m\u001b[0mkwargs\u001b[0m\u001b[0;34m)\u001b[0m\u001b[0;34m\u001b[0m\u001b[0;34m\u001b[0m\u001b[0m\n\u001b[0m\u001b[1;32m     66\u001b[0m         \u001b[0;32mexcept\u001b[0m \u001b[0mException\u001b[0m \u001b[0;32mas\u001b[0m \u001b[0me\u001b[0m\u001b[0;34m:\u001b[0m\u001b[0;34m\u001b[0m\u001b[0;34m\u001b[0m\u001b[0m\n\u001b[1;32m     67\u001b[0m             \u001b[0mfiltered_tb\u001b[0m \u001b[0;34m=\u001b[0m \u001b[0m_process_traceback_frames\u001b[0m\u001b[0;34m(\u001b[0m\u001b[0me\u001b[0m\u001b[0;34m.\u001b[0m\u001b[0m__traceback__\u001b[0m\u001b[0;34m)\u001b[0m\u001b[0;34m\u001b[0m\u001b[0;34m\u001b[0m\u001b[0m\n",
            "\u001b[0;32m/usr/local/lib/python3.10/dist-packages/keras/src/engine/training.py\u001b[0m in \u001b[0;36mfit\u001b[0;34m(self, x, y, batch_size, epochs, verbose, callbacks, validation_split, validation_data, shuffle, class_weight, sample_weight, initial_epoch, steps_per_epoch, validation_steps, validation_batch_size, validation_freq, max_queue_size, workers, use_multiprocessing)\u001b[0m\n\u001b[1;32m   1805\u001b[0m                         ):\n\u001b[1;32m   1806\u001b[0m                             \u001b[0mcallbacks\u001b[0m\u001b[0;34m.\u001b[0m\u001b[0mon_train_batch_begin\u001b[0m\u001b[0;34m(\u001b[0m\u001b[0mstep\u001b[0m\u001b[0;34m)\u001b[0m\u001b[0;34m\u001b[0m\u001b[0;34m\u001b[0m\u001b[0m\n\u001b[0;32m-> 1807\u001b[0;31m                             \u001b[0mtmp_logs\u001b[0m \u001b[0;34m=\u001b[0m \u001b[0mself\u001b[0m\u001b[0;34m.\u001b[0m\u001b[0mtrain_function\u001b[0m\u001b[0;34m(\u001b[0m\u001b[0miterator\u001b[0m\u001b[0;34m)\u001b[0m\u001b[0;34m\u001b[0m\u001b[0;34m\u001b[0m\u001b[0m\n\u001b[0m\u001b[1;32m   1808\u001b[0m                             \u001b[0;32mif\u001b[0m \u001b[0mdata_handler\u001b[0m\u001b[0;34m.\u001b[0m\u001b[0mshould_sync\u001b[0m\u001b[0;34m:\u001b[0m\u001b[0;34m\u001b[0m\u001b[0;34m\u001b[0m\u001b[0m\n\u001b[1;32m   1809\u001b[0m                                 \u001b[0mcontext\u001b[0m\u001b[0;34m.\u001b[0m\u001b[0masync_wait\u001b[0m\u001b[0;34m(\u001b[0m\u001b[0;34m)\u001b[0m\u001b[0;34m\u001b[0m\u001b[0;34m\u001b[0m\u001b[0m\n",
            "\u001b[0;32m/usr/local/lib/python3.10/dist-packages/tensorflow/python/util/traceback_utils.py\u001b[0m in \u001b[0;36merror_handler\u001b[0;34m(*args, **kwargs)\u001b[0m\n\u001b[1;32m    148\u001b[0m     \u001b[0mfiltered_tb\u001b[0m \u001b[0;34m=\u001b[0m \u001b[0;32mNone\u001b[0m\u001b[0;34m\u001b[0m\u001b[0;34m\u001b[0m\u001b[0m\n\u001b[1;32m    149\u001b[0m     \u001b[0;32mtry\u001b[0m\u001b[0;34m:\u001b[0m\u001b[0;34m\u001b[0m\u001b[0;34m\u001b[0m\u001b[0m\n\u001b[0;32m--> 150\u001b[0;31m       \u001b[0;32mreturn\u001b[0m \u001b[0mfn\u001b[0m\u001b[0;34m(\u001b[0m\u001b[0;34m*\u001b[0m\u001b[0margs\u001b[0m\u001b[0;34m,\u001b[0m \u001b[0;34m**\u001b[0m\u001b[0mkwargs\u001b[0m\u001b[0;34m)\u001b[0m\u001b[0;34m\u001b[0m\u001b[0;34m\u001b[0m\u001b[0m\n\u001b[0m\u001b[1;32m    151\u001b[0m     \u001b[0;32mexcept\u001b[0m \u001b[0mException\u001b[0m \u001b[0;32mas\u001b[0m \u001b[0me\u001b[0m\u001b[0;34m:\u001b[0m\u001b[0;34m\u001b[0m\u001b[0;34m\u001b[0m\u001b[0m\n\u001b[1;32m    152\u001b[0m       \u001b[0mfiltered_tb\u001b[0m \u001b[0;34m=\u001b[0m \u001b[0m_process_traceback_frames\u001b[0m\u001b[0;34m(\u001b[0m\u001b[0me\u001b[0m\u001b[0;34m.\u001b[0m\u001b[0m__traceback__\u001b[0m\u001b[0;34m)\u001b[0m\u001b[0;34m\u001b[0m\u001b[0;34m\u001b[0m\u001b[0m\n",
            "\u001b[0;32m/usr/local/lib/python3.10/dist-packages/tensorflow/python/eager/polymorphic_function/polymorphic_function.py\u001b[0m in \u001b[0;36m__call__\u001b[0;34m(self, *args, **kwds)\u001b[0m\n\u001b[1;32m    830\u001b[0m \u001b[0;34m\u001b[0m\u001b[0m\n\u001b[1;32m    831\u001b[0m       \u001b[0;32mwith\u001b[0m \u001b[0mOptionalXlaContext\u001b[0m\u001b[0;34m(\u001b[0m\u001b[0mself\u001b[0m\u001b[0;34m.\u001b[0m\u001b[0m_jit_compile\u001b[0m\u001b[0;34m)\u001b[0m\u001b[0;34m:\u001b[0m\u001b[0;34m\u001b[0m\u001b[0;34m\u001b[0m\u001b[0m\n\u001b[0;32m--> 832\u001b[0;31m         \u001b[0mresult\u001b[0m \u001b[0;34m=\u001b[0m \u001b[0mself\u001b[0m\u001b[0;34m.\u001b[0m\u001b[0m_call\u001b[0m\u001b[0;34m(\u001b[0m\u001b[0;34m*\u001b[0m\u001b[0margs\u001b[0m\u001b[0;34m,\u001b[0m \u001b[0;34m**\u001b[0m\u001b[0mkwds\u001b[0m\u001b[0;34m)\u001b[0m\u001b[0;34m\u001b[0m\u001b[0;34m\u001b[0m\u001b[0m\n\u001b[0m\u001b[1;32m    833\u001b[0m \u001b[0;34m\u001b[0m\u001b[0m\n\u001b[1;32m    834\u001b[0m       \u001b[0mnew_tracing_count\u001b[0m \u001b[0;34m=\u001b[0m \u001b[0mself\u001b[0m\u001b[0;34m.\u001b[0m\u001b[0mexperimental_get_tracing_count\u001b[0m\u001b[0;34m(\u001b[0m\u001b[0;34m)\u001b[0m\u001b[0;34m\u001b[0m\u001b[0;34m\u001b[0m\u001b[0m\n",
            "\u001b[0;32m/usr/local/lib/python3.10/dist-packages/tensorflow/python/eager/polymorphic_function/polymorphic_function.py\u001b[0m in \u001b[0;36m_call\u001b[0;34m(self, *args, **kwds)\u001b[0m\n\u001b[1;32m    866\u001b[0m       \u001b[0;31m# In this case we have created variables on the first call, so we run the\u001b[0m\u001b[0;34m\u001b[0m\u001b[0;34m\u001b[0m\u001b[0m\n\u001b[1;32m    867\u001b[0m       \u001b[0;31m# defunned version which is guaranteed to never create variables.\u001b[0m\u001b[0;34m\u001b[0m\u001b[0;34m\u001b[0m\u001b[0m\n\u001b[0;32m--> 868\u001b[0;31m       return tracing_compilation.call_function(\n\u001b[0m\u001b[1;32m    869\u001b[0m           \u001b[0margs\u001b[0m\u001b[0;34m,\u001b[0m \u001b[0mkwds\u001b[0m\u001b[0;34m,\u001b[0m \u001b[0mself\u001b[0m\u001b[0;34m.\u001b[0m\u001b[0m_no_variable_creation_config\u001b[0m\u001b[0;34m\u001b[0m\u001b[0;34m\u001b[0m\u001b[0m\n\u001b[1;32m    870\u001b[0m       )\n",
            "\u001b[0;32m/usr/local/lib/python3.10/dist-packages/tensorflow/python/eager/polymorphic_function/tracing_compilation.py\u001b[0m in \u001b[0;36mcall_function\u001b[0;34m(args, kwargs, tracing_options)\u001b[0m\n\u001b[1;32m    137\u001b[0m   \u001b[0mbound_args\u001b[0m \u001b[0;34m=\u001b[0m \u001b[0mfunction\u001b[0m\u001b[0;34m.\u001b[0m\u001b[0mfunction_type\u001b[0m\u001b[0;34m.\u001b[0m\u001b[0mbind\u001b[0m\u001b[0;34m(\u001b[0m\u001b[0;34m*\u001b[0m\u001b[0margs\u001b[0m\u001b[0;34m,\u001b[0m \u001b[0;34m**\u001b[0m\u001b[0mkwargs\u001b[0m\u001b[0;34m)\u001b[0m\u001b[0;34m\u001b[0m\u001b[0;34m\u001b[0m\u001b[0m\n\u001b[1;32m    138\u001b[0m   \u001b[0mflat_inputs\u001b[0m \u001b[0;34m=\u001b[0m \u001b[0mfunction\u001b[0m\u001b[0;34m.\u001b[0m\u001b[0mfunction_type\u001b[0m\u001b[0;34m.\u001b[0m\u001b[0munpack_inputs\u001b[0m\u001b[0;34m(\u001b[0m\u001b[0mbound_args\u001b[0m\u001b[0;34m)\u001b[0m\u001b[0;34m\u001b[0m\u001b[0;34m\u001b[0m\u001b[0m\n\u001b[0;32m--> 139\u001b[0;31m   return function._call_flat(  # pylint: disable=protected-access\n\u001b[0m\u001b[1;32m    140\u001b[0m       \u001b[0mflat_inputs\u001b[0m\u001b[0;34m,\u001b[0m \u001b[0mcaptured_inputs\u001b[0m\u001b[0;34m=\u001b[0m\u001b[0mfunction\u001b[0m\u001b[0;34m.\u001b[0m\u001b[0mcaptured_inputs\u001b[0m\u001b[0;34m\u001b[0m\u001b[0;34m\u001b[0m\u001b[0m\n\u001b[1;32m    141\u001b[0m   )\n",
            "\u001b[0;32m/usr/local/lib/python3.10/dist-packages/tensorflow/python/eager/polymorphic_function/concrete_function.py\u001b[0m in \u001b[0;36m_call_flat\u001b[0;34m(self, tensor_inputs, captured_inputs)\u001b[0m\n\u001b[1;32m   1321\u001b[0m         and executing_eagerly):\n\u001b[1;32m   1322\u001b[0m       \u001b[0;31m# No tape is watching; skip to running the function.\u001b[0m\u001b[0;34m\u001b[0m\u001b[0;34m\u001b[0m\u001b[0m\n\u001b[0;32m-> 1323\u001b[0;31m       \u001b[0;32mreturn\u001b[0m \u001b[0mself\u001b[0m\u001b[0;34m.\u001b[0m\u001b[0m_inference_function\u001b[0m\u001b[0;34m.\u001b[0m\u001b[0mcall_preflattened\u001b[0m\u001b[0;34m(\u001b[0m\u001b[0margs\u001b[0m\u001b[0;34m)\u001b[0m\u001b[0;34m\u001b[0m\u001b[0;34m\u001b[0m\u001b[0m\n\u001b[0m\u001b[1;32m   1324\u001b[0m     forward_backward = self._select_forward_and_backward_functions(\n\u001b[1;32m   1325\u001b[0m         \u001b[0margs\u001b[0m\u001b[0;34m,\u001b[0m\u001b[0;34m\u001b[0m\u001b[0;34m\u001b[0m\u001b[0m\n",
            "\u001b[0;32m/usr/local/lib/python3.10/dist-packages/tensorflow/python/eager/polymorphic_function/atomic_function.py\u001b[0m in \u001b[0;36mcall_preflattened\u001b[0;34m(self, args)\u001b[0m\n\u001b[1;32m    214\u001b[0m   \u001b[0;32mdef\u001b[0m \u001b[0mcall_preflattened\u001b[0m\u001b[0;34m(\u001b[0m\u001b[0mself\u001b[0m\u001b[0;34m,\u001b[0m \u001b[0margs\u001b[0m\u001b[0;34m:\u001b[0m \u001b[0mSequence\u001b[0m\u001b[0;34m[\u001b[0m\u001b[0mcore\u001b[0m\u001b[0;34m.\u001b[0m\u001b[0mTensor\u001b[0m\u001b[0;34m]\u001b[0m\u001b[0;34m)\u001b[0m \u001b[0;34m->\u001b[0m \u001b[0mAny\u001b[0m\u001b[0;34m:\u001b[0m\u001b[0;34m\u001b[0m\u001b[0;34m\u001b[0m\u001b[0m\n\u001b[1;32m    215\u001b[0m     \u001b[0;34m\"\"\"Calls with flattened tensor inputs and returns the structured output.\"\"\"\u001b[0m\u001b[0;34m\u001b[0m\u001b[0;34m\u001b[0m\u001b[0m\n\u001b[0;32m--> 216\u001b[0;31m     \u001b[0mflat_outputs\u001b[0m \u001b[0;34m=\u001b[0m \u001b[0mself\u001b[0m\u001b[0;34m.\u001b[0m\u001b[0mcall_flat\u001b[0m\u001b[0;34m(\u001b[0m\u001b[0;34m*\u001b[0m\u001b[0margs\u001b[0m\u001b[0;34m)\u001b[0m\u001b[0;34m\u001b[0m\u001b[0;34m\u001b[0m\u001b[0m\n\u001b[0m\u001b[1;32m    217\u001b[0m     \u001b[0;32mreturn\u001b[0m \u001b[0mself\u001b[0m\u001b[0;34m.\u001b[0m\u001b[0mfunction_type\u001b[0m\u001b[0;34m.\u001b[0m\u001b[0mpack_output\u001b[0m\u001b[0;34m(\u001b[0m\u001b[0mflat_outputs\u001b[0m\u001b[0;34m)\u001b[0m\u001b[0;34m\u001b[0m\u001b[0;34m\u001b[0m\u001b[0m\n\u001b[1;32m    218\u001b[0m \u001b[0;34m\u001b[0m\u001b[0m\n",
            "\u001b[0;32m/usr/local/lib/python3.10/dist-packages/tensorflow/python/eager/polymorphic_function/atomic_function.py\u001b[0m in \u001b[0;36mcall_flat\u001b[0;34m(self, *args)\u001b[0m\n\u001b[1;32m    249\u001b[0m         \u001b[0;32mwith\u001b[0m \u001b[0mrecord\u001b[0m\u001b[0;34m.\u001b[0m\u001b[0mstop_recording\u001b[0m\u001b[0;34m(\u001b[0m\u001b[0;34m)\u001b[0m\u001b[0;34m:\u001b[0m\u001b[0;34m\u001b[0m\u001b[0;34m\u001b[0m\u001b[0m\n\u001b[1;32m    250\u001b[0m           \u001b[0;32mif\u001b[0m \u001b[0mself\u001b[0m\u001b[0;34m.\u001b[0m\u001b[0m_bound_context\u001b[0m\u001b[0;34m.\u001b[0m\u001b[0mexecuting_eagerly\u001b[0m\u001b[0;34m(\u001b[0m\u001b[0;34m)\u001b[0m\u001b[0;34m:\u001b[0m\u001b[0;34m\u001b[0m\u001b[0;34m\u001b[0m\u001b[0m\n\u001b[0;32m--> 251\u001b[0;31m             outputs = self._bound_context.call_function(\n\u001b[0m\u001b[1;32m    252\u001b[0m                 \u001b[0mself\u001b[0m\u001b[0;34m.\u001b[0m\u001b[0mname\u001b[0m\u001b[0;34m,\u001b[0m\u001b[0;34m\u001b[0m\u001b[0;34m\u001b[0m\u001b[0m\n\u001b[1;32m    253\u001b[0m                 \u001b[0mlist\u001b[0m\u001b[0;34m(\u001b[0m\u001b[0margs\u001b[0m\u001b[0;34m)\u001b[0m\u001b[0;34m,\u001b[0m\u001b[0;34m\u001b[0m\u001b[0;34m\u001b[0m\u001b[0m\n",
            "\u001b[0;32m/usr/local/lib/python3.10/dist-packages/tensorflow/python/eager/context.py\u001b[0m in \u001b[0;36mcall_function\u001b[0;34m(self, name, tensor_inputs, num_outputs)\u001b[0m\n\u001b[1;32m   1484\u001b[0m     \u001b[0mcancellation_context\u001b[0m \u001b[0;34m=\u001b[0m \u001b[0mcancellation\u001b[0m\u001b[0;34m.\u001b[0m\u001b[0mcontext\u001b[0m\u001b[0;34m(\u001b[0m\u001b[0;34m)\u001b[0m\u001b[0;34m\u001b[0m\u001b[0;34m\u001b[0m\u001b[0m\n\u001b[1;32m   1485\u001b[0m     \u001b[0;32mif\u001b[0m \u001b[0mcancellation_context\u001b[0m \u001b[0;32mis\u001b[0m \u001b[0;32mNone\u001b[0m\u001b[0;34m:\u001b[0m\u001b[0;34m\u001b[0m\u001b[0;34m\u001b[0m\u001b[0m\n\u001b[0;32m-> 1486\u001b[0;31m       outputs = execute.execute(\n\u001b[0m\u001b[1;32m   1487\u001b[0m           \u001b[0mname\u001b[0m\u001b[0;34m.\u001b[0m\u001b[0mdecode\u001b[0m\u001b[0;34m(\u001b[0m\u001b[0;34m\"utf-8\"\u001b[0m\u001b[0;34m)\u001b[0m\u001b[0;34m,\u001b[0m\u001b[0;34m\u001b[0m\u001b[0;34m\u001b[0m\u001b[0m\n\u001b[1;32m   1488\u001b[0m           \u001b[0mnum_outputs\u001b[0m\u001b[0;34m=\u001b[0m\u001b[0mnum_outputs\u001b[0m\u001b[0;34m,\u001b[0m\u001b[0;34m\u001b[0m\u001b[0;34m\u001b[0m\u001b[0m\n",
            "\u001b[0;32m/usr/local/lib/python3.10/dist-packages/tensorflow/python/eager/execute.py\u001b[0m in \u001b[0;36mquick_execute\u001b[0;34m(op_name, num_outputs, inputs, attrs, ctx, name)\u001b[0m\n\u001b[1;32m     51\u001b[0m   \u001b[0;32mtry\u001b[0m\u001b[0;34m:\u001b[0m\u001b[0;34m\u001b[0m\u001b[0;34m\u001b[0m\u001b[0m\n\u001b[1;32m     52\u001b[0m     \u001b[0mctx\u001b[0m\u001b[0;34m.\u001b[0m\u001b[0mensure_initialized\u001b[0m\u001b[0;34m(\u001b[0m\u001b[0;34m)\u001b[0m\u001b[0;34m\u001b[0m\u001b[0;34m\u001b[0m\u001b[0m\n\u001b[0;32m---> 53\u001b[0;31m     tensors = pywrap_tfe.TFE_Py_Execute(ctx._handle, device_name, op_name,\n\u001b[0m\u001b[1;32m     54\u001b[0m                                         inputs, attrs, num_outputs)\n\u001b[1;32m     55\u001b[0m   \u001b[0;32mexcept\u001b[0m \u001b[0mcore\u001b[0m\u001b[0;34m.\u001b[0m\u001b[0m_NotOkStatusException\u001b[0m \u001b[0;32mas\u001b[0m \u001b[0me\u001b[0m\u001b[0;34m:\u001b[0m\u001b[0;34m\u001b[0m\u001b[0;34m\u001b[0m\u001b[0m\n",
            "\u001b[0;31mKeyboardInterrupt\u001b[0m: "
          ]
        }
      ]
    },
    {
      "cell_type": "code",
      "source": [
        "from google.colab import drive\n",
        "drive.mount('/content/drive')"
      ],
      "metadata": {
        "id": "Udq9DJW0RNnx",
        "outputId": "7bee10df-f391-412f-f51c-2b5878d0f5a0",
        "colab": {
          "base_uri": "https://localhost:8080/"
        }
      },
      "execution_count": null,
      "outputs": [
        {
          "output_type": "stream",
          "name": "stdout",
          "text": [
            "Mounted at /content/drive\n"
          ]
        }
      ]
    },
    {
      "cell_type": "code",
      "source": [
        "results = {'Metrics': ['loss', 'policy_loss', 'value_loss', 'policy_categorical_accuracy', 'value_mse'], 'Prev_val': prev_val, 'val': val}\n",
        "pd.DataFrame(results)"
      ],
      "metadata": {
        "id": "YdcpS3lmMhYQ",
        "outputId": "bff7f745-5f8e-4d50-a25e-48d2d5399a14",
        "colab": {
          "base_uri": "https://localhost:8080/",
          "height": 206
        }
      },
      "execution_count": null,
      "outputs": [
        {
          "output_type": "execute_result",
          "data": {
            "text/plain": [
              "                       Metrics  Prev_val       val\n",
              "0                         loss  3.598288  3.665544\n",
              "1                  policy_loss  2.896605  2.965794\n",
              "2                   value_loss  0.692734  0.690543\n",
              "3  policy_categorical_accuracy  0.328700  0.314900\n",
              "4                    value_mse  0.119840  0.118750"
            ],
            "text/html": [
              "\n",
              "  <div id=\"df-34c962a8-b383-485c-be1a-fc9adc1b27c7\" class=\"colab-df-container\">\n",
              "    <div>\n",
              "<style scoped>\n",
              "    .dataframe tbody tr th:only-of-type {\n",
              "        vertical-align: middle;\n",
              "    }\n",
              "\n",
              "    .dataframe tbody tr th {\n",
              "        vertical-align: top;\n",
              "    }\n",
              "\n",
              "    .dataframe thead th {\n",
              "        text-align: right;\n",
              "    }\n",
              "</style>\n",
              "<table border=\"1\" class=\"dataframe\">\n",
              "  <thead>\n",
              "    <tr style=\"text-align: right;\">\n",
              "      <th></th>\n",
              "      <th>Metrics</th>\n",
              "      <th>Prev_val</th>\n",
              "      <th>val</th>\n",
              "    </tr>\n",
              "  </thead>\n",
              "  <tbody>\n",
              "    <tr>\n",
              "      <th>0</th>\n",
              "      <td>loss</td>\n",
              "      <td>3.598288</td>\n",
              "      <td>3.665544</td>\n",
              "    </tr>\n",
              "    <tr>\n",
              "      <th>1</th>\n",
              "      <td>policy_loss</td>\n",
              "      <td>2.896605</td>\n",
              "      <td>2.965794</td>\n",
              "    </tr>\n",
              "    <tr>\n",
              "      <th>2</th>\n",
              "      <td>value_loss</td>\n",
              "      <td>0.692734</td>\n",
              "      <td>0.690543</td>\n",
              "    </tr>\n",
              "    <tr>\n",
              "      <th>3</th>\n",
              "      <td>policy_categorical_accuracy</td>\n",
              "      <td>0.328700</td>\n",
              "      <td>0.314900</td>\n",
              "    </tr>\n",
              "    <tr>\n",
              "      <th>4</th>\n",
              "      <td>value_mse</td>\n",
              "      <td>0.119840</td>\n",
              "      <td>0.118750</td>\n",
              "    </tr>\n",
              "  </tbody>\n",
              "</table>\n",
              "</div>\n",
              "    <div class=\"colab-df-buttons\">\n",
              "\n",
              "  <div class=\"colab-df-container\">\n",
              "    <button class=\"colab-df-convert\" onclick=\"convertToInteractive('df-34c962a8-b383-485c-be1a-fc9adc1b27c7')\"\n",
              "            title=\"Convert this dataframe to an interactive table.\"\n",
              "            style=\"display:none;\">\n",
              "\n",
              "  <svg xmlns=\"http://www.w3.org/2000/svg\" height=\"24px\" viewBox=\"0 -960 960 960\">\n",
              "    <path d=\"M120-120v-720h720v720H120Zm60-500h600v-160H180v160Zm220 220h160v-160H400v160Zm0 220h160v-160H400v160ZM180-400h160v-160H180v160Zm440 0h160v-160H620v160ZM180-180h160v-160H180v160Zm440 0h160v-160H620v160Z\"/>\n",
              "  </svg>\n",
              "    </button>\n",
              "\n",
              "  <style>\n",
              "    .colab-df-container {\n",
              "      display:flex;\n",
              "      gap: 12px;\n",
              "    }\n",
              "\n",
              "    .colab-df-convert {\n",
              "      background-color: #E8F0FE;\n",
              "      border: none;\n",
              "      border-radius: 50%;\n",
              "      cursor: pointer;\n",
              "      display: none;\n",
              "      fill: #1967D2;\n",
              "      height: 32px;\n",
              "      padding: 0 0 0 0;\n",
              "      width: 32px;\n",
              "    }\n",
              "\n",
              "    .colab-df-convert:hover {\n",
              "      background-color: #E2EBFA;\n",
              "      box-shadow: 0px 1px 2px rgba(60, 64, 67, 0.3), 0px 1px 3px 1px rgba(60, 64, 67, 0.15);\n",
              "      fill: #174EA6;\n",
              "    }\n",
              "\n",
              "    .colab-df-buttons div {\n",
              "      margin-bottom: 4px;\n",
              "    }\n",
              "\n",
              "    [theme=dark] .colab-df-convert {\n",
              "      background-color: #3B4455;\n",
              "      fill: #D2E3FC;\n",
              "    }\n",
              "\n",
              "    [theme=dark] .colab-df-convert:hover {\n",
              "      background-color: #434B5C;\n",
              "      box-shadow: 0px 1px 3px 1px rgba(0, 0, 0, 0.15);\n",
              "      filter: drop-shadow(0px 1px 2px rgba(0, 0, 0, 0.3));\n",
              "      fill: #FFFFFF;\n",
              "    }\n",
              "  </style>\n",
              "\n",
              "    <script>\n",
              "      const buttonEl =\n",
              "        document.querySelector('#df-34c962a8-b383-485c-be1a-fc9adc1b27c7 button.colab-df-convert');\n",
              "      buttonEl.style.display =\n",
              "        google.colab.kernel.accessAllowed ? 'block' : 'none';\n",
              "\n",
              "      async function convertToInteractive(key) {\n",
              "        const element = document.querySelector('#df-34c962a8-b383-485c-be1a-fc9adc1b27c7');\n",
              "        const dataTable =\n",
              "          await google.colab.kernel.invokeFunction('convertToInteractive',\n",
              "                                                    [key], {});\n",
              "        if (!dataTable) return;\n",
              "\n",
              "        const docLinkHtml = 'Like what you see? Visit the ' +\n",
              "          '<a target=\"_blank\" href=https://colab.research.google.com/notebooks/data_table.ipynb>data table notebook</a>'\n",
              "          + ' to learn more about interactive tables.';\n",
              "        element.innerHTML = '';\n",
              "        dataTable['output_type'] = 'display_data';\n",
              "        await google.colab.output.renderOutput(dataTable, element);\n",
              "        const docLink = document.createElement('div');\n",
              "        docLink.innerHTML = docLinkHtml;\n",
              "        element.appendChild(docLink);\n",
              "      }\n",
              "    </script>\n",
              "  </div>\n",
              "\n",
              "\n",
              "<div id=\"df-41d32cb3-ef65-41f1-bd27-ae1fb473b9f8\">\n",
              "  <button class=\"colab-df-quickchart\" onclick=\"quickchart('df-41d32cb3-ef65-41f1-bd27-ae1fb473b9f8')\"\n",
              "            title=\"Suggest charts\"\n",
              "            style=\"display:none;\">\n",
              "\n",
              "<svg xmlns=\"http://www.w3.org/2000/svg\" height=\"24px\"viewBox=\"0 0 24 24\"\n",
              "     width=\"24px\">\n",
              "    <g>\n",
              "        <path d=\"M19 3H5c-1.1 0-2 .9-2 2v14c0 1.1.9 2 2 2h14c1.1 0 2-.9 2-2V5c0-1.1-.9-2-2-2zM9 17H7v-7h2v7zm4 0h-2V7h2v10zm4 0h-2v-4h2v4z\"/>\n",
              "    </g>\n",
              "</svg>\n",
              "  </button>\n",
              "\n",
              "<style>\n",
              "  .colab-df-quickchart {\n",
              "      --bg-color: #E8F0FE;\n",
              "      --fill-color: #1967D2;\n",
              "      --hover-bg-color: #E2EBFA;\n",
              "      --hover-fill-color: #174EA6;\n",
              "      --disabled-fill-color: #AAA;\n",
              "      --disabled-bg-color: #DDD;\n",
              "  }\n",
              "\n",
              "  [theme=dark] .colab-df-quickchart {\n",
              "      --bg-color: #3B4455;\n",
              "      --fill-color: #D2E3FC;\n",
              "      --hover-bg-color: #434B5C;\n",
              "      --hover-fill-color: #FFFFFF;\n",
              "      --disabled-bg-color: #3B4455;\n",
              "      --disabled-fill-color: #666;\n",
              "  }\n",
              "\n",
              "  .colab-df-quickchart {\n",
              "    background-color: var(--bg-color);\n",
              "    border: none;\n",
              "    border-radius: 50%;\n",
              "    cursor: pointer;\n",
              "    display: none;\n",
              "    fill: var(--fill-color);\n",
              "    height: 32px;\n",
              "    padding: 0;\n",
              "    width: 32px;\n",
              "  }\n",
              "\n",
              "  .colab-df-quickchart:hover {\n",
              "    background-color: var(--hover-bg-color);\n",
              "    box-shadow: 0 1px 2px rgba(60, 64, 67, 0.3), 0 1px 3px 1px rgba(60, 64, 67, 0.15);\n",
              "    fill: var(--button-hover-fill-color);\n",
              "  }\n",
              "\n",
              "  .colab-df-quickchart-complete:disabled,\n",
              "  .colab-df-quickchart-complete:disabled:hover {\n",
              "    background-color: var(--disabled-bg-color);\n",
              "    fill: var(--disabled-fill-color);\n",
              "    box-shadow: none;\n",
              "  }\n",
              "\n",
              "  .colab-df-spinner {\n",
              "    border: 2px solid var(--fill-color);\n",
              "    border-color: transparent;\n",
              "    border-bottom-color: var(--fill-color);\n",
              "    animation:\n",
              "      spin 1s steps(1) infinite;\n",
              "  }\n",
              "\n",
              "  @keyframes spin {\n",
              "    0% {\n",
              "      border-color: transparent;\n",
              "      border-bottom-color: var(--fill-color);\n",
              "      border-left-color: var(--fill-color);\n",
              "    }\n",
              "    20% {\n",
              "      border-color: transparent;\n",
              "      border-left-color: var(--fill-color);\n",
              "      border-top-color: var(--fill-color);\n",
              "    }\n",
              "    30% {\n",
              "      border-color: transparent;\n",
              "      border-left-color: var(--fill-color);\n",
              "      border-top-color: var(--fill-color);\n",
              "      border-right-color: var(--fill-color);\n",
              "    }\n",
              "    40% {\n",
              "      border-color: transparent;\n",
              "      border-right-color: var(--fill-color);\n",
              "      border-top-color: var(--fill-color);\n",
              "    }\n",
              "    60% {\n",
              "      border-color: transparent;\n",
              "      border-right-color: var(--fill-color);\n",
              "    }\n",
              "    80% {\n",
              "      border-color: transparent;\n",
              "      border-right-color: var(--fill-color);\n",
              "      border-bottom-color: var(--fill-color);\n",
              "    }\n",
              "    90% {\n",
              "      border-color: transparent;\n",
              "      border-bottom-color: var(--fill-color);\n",
              "    }\n",
              "  }\n",
              "</style>\n",
              "\n",
              "  <script>\n",
              "    async function quickchart(key) {\n",
              "      const quickchartButtonEl =\n",
              "        document.querySelector('#' + key + ' button');\n",
              "      quickchartButtonEl.disabled = true;  // To prevent multiple clicks.\n",
              "      quickchartButtonEl.classList.add('colab-df-spinner');\n",
              "      try {\n",
              "        const charts = await google.colab.kernel.invokeFunction(\n",
              "            'suggestCharts', [key], {});\n",
              "      } catch (error) {\n",
              "        console.error('Error during call to suggestCharts:', error);\n",
              "      }\n",
              "      quickchartButtonEl.classList.remove('colab-df-spinner');\n",
              "      quickchartButtonEl.classList.add('colab-df-quickchart-complete');\n",
              "    }\n",
              "    (() => {\n",
              "      let quickchartButtonEl =\n",
              "        document.querySelector('#df-41d32cb3-ef65-41f1-bd27-ae1fb473b9f8 button');\n",
              "      quickchartButtonEl.style.display =\n",
              "        google.colab.kernel.accessAllowed ? 'block' : 'none';\n",
              "    })();\n",
              "  </script>\n",
              "</div>\n",
              "    </div>\n",
              "  </div>\n"
            ],
            "application/vnd.google.colaboratory.intrinsic+json": {
              "type": "dataframe",
              "summary": "{\n  \"name\": \"pd\",\n  \"rows\": 5,\n  \"fields\": [\n    {\n      \"column\": \"Metrics\",\n      \"properties\": {\n        \"dtype\": \"string\",\n        \"num_unique_values\": 5,\n        \"samples\": [\n          \"policy_loss\",\n          \"value_mse\",\n          \"value_loss\"\n        ],\n        \"semantic_type\": \"\",\n        \"description\": \"\"\n      }\n    },\n    {\n      \"column\": \"Prev_val\",\n      \"properties\": {\n        \"dtype\": \"number\",\n        \"std\": 1.6029716672621952,\n        \"min\": 0.11984040588140488,\n        \"max\": 3.59828782081604,\n        \"num_unique_values\": 5,\n        \"samples\": [\n          2.8966052532196045,\n          0.11984040588140488,\n          0.6927337646484375\n        ],\n        \"semantic_type\": \"\",\n        \"description\": \"\"\n      }\n    },\n    {\n      \"column\": \"val\",\n      \"properties\": {\n        \"dtype\": \"number\",\n        \"std\": 1.6426050663345357,\n        \"min\": 0.1187504380941391,\n        \"max\": 3.665544033050537,\n        \"num_unique_values\": 5,\n        \"samples\": [\n          2.9657936096191406,\n          0.1187504380941391,\n          0.690542995929718\n        ],\n        \"semantic_type\": \"\",\n        \"description\": \"\"\n      }\n    }\n  ]\n}"
            }
          },
          "metadata": {},
          "execution_count": 31
        }
      ]
    },
    {
      "cell_type": "code",
      "source": [
        "prev_val = val.copy()"
      ],
      "metadata": {
        "id": "xqbiK4J6NQgi"
      },
      "execution_count": null,
      "outputs": []
    },
    {
      "cell_type": "code",
      "source": [
        "model.save('test_{0}.h5'.format(round(val[3],2)))\n",
        "model.save('/content/drive/MyDrive/Colab Notebooks/Models/David_Benayoun.h5', save_format=\"h5\")\n"
      ],
      "metadata": {
        "colab": {
          "base_uri": "https://localhost:8080/"
        },
        "id": "dwXXeIRO5mjB",
        "outputId": "8ded2e9b-474f-43e8-ef36-65fe89abb5fd"
      },
      "execution_count": null,
      "outputs": [
        {
          "output_type": "stream",
          "name": "stderr",
          "text": [
            "/usr/local/lib/python3.10/dist-packages/keras/src/engine/training.py:3103: UserWarning: You are saving your model as an HDF5 file via `model.save()`. This file format is considered legacy. We recommend using instead the native Keras format, e.g. `model.save('my_model.keras')`.\n",
            "  saving_api.save_model(\n"
          ]
        }
      ]
    },
    {
      "cell_type": "code",
      "source": [
        "model = keras.models.load_model('/content/test_0.35.h5')"
      ],
      "metadata": {
        "id": "3F7VUjrJ8Ij3"
      },
      "execution_count": null,
      "outputs": []
    },
    {
      "cell_type": "code",
      "source": [
        "model.summary()"
      ],
      "metadata": {
        "colab": {
          "base_uri": "https://localhost:8080/"
        },
        "id": "9HbaAX4LAnDy",
        "outputId": "e4c438fd-eda3-4f1c-a7ec-deb60999fd2d"
      },
      "execution_count": null,
      "outputs": [
        {
          "output_type": "stream",
          "name": "stdout",
          "text": [
            "Model: \"model_11\"\n",
            "__________________________________________________________________________________________________\n",
            " Layer (type)                Output Shape                 Param #   Connected to                  \n",
            "==================================================================================================\n",
            " board (InputLayer)          [(None, 19, 19, 31)]         0         []                            \n",
            "                                                                                                  \n",
            " conv2d_100 (Conv2D)         (None, 19, 19, 32)           1024      ['board[0][0]']               \n",
            "                                                                                                  \n",
            " conv2d_101 (Conv2D)         (None, 19, 19, 32)           9248      ['conv2d_100[0][0]']          \n",
            "                                                                                                  \n",
            " batch_normalization_47 (Ba  (None, 19, 19, 32)           128       ['conv2d_101[0][0]']          \n",
            " tchNormalization)                                                                                \n",
            "                                                                                                  \n",
            " add_52 (Add)                (None, 19, 19, 32)           0         ['batch_normalization_47[0][0]\n",
            "                                                                    ',                            \n",
            "                                                                     'conv2d_100[0][0]']          \n",
            "                                                                                                  \n",
            " conv2d_102 (Conv2D)         (None, 19, 19, 32)           9248      ['add_52[0][0]']              \n",
            "                                                                                                  \n",
            " batch_normalization_48 (Ba  (None, 19, 19, 32)           128       ['conv2d_102[0][0]']          \n",
            " tchNormalization)                                                                                \n",
            "                                                                                                  \n",
            " add_53 (Add)                (None, 19, 19, 32)           0         ['batch_normalization_48[0][0]\n",
            "                                                                    ',                            \n",
            "                                                                     'add_52[0][0]']              \n",
            "                                                                                                  \n",
            " conv2d_103 (Conv2D)         (None, 19, 19, 32)           9248      ['add_53[0][0]']              \n",
            "                                                                                                  \n",
            " batch_normalization_49 (Ba  (None, 19, 19, 32)           128       ['conv2d_103[0][0]']          \n",
            " tchNormalization)                                                                                \n",
            "                                                                                                  \n",
            " add_54 (Add)                (None, 19, 19, 32)           0         ['batch_normalization_49[0][0]\n",
            "                                                                    ',                            \n",
            "                                                                     'add_53[0][0]']              \n",
            "                                                                                                  \n",
            " conv2d_104 (Conv2D)         (None, 19, 19, 32)           9248      ['add_54[0][0]']              \n",
            "                                                                                                  \n",
            " batch_normalization_50 (Ba  (None, 19, 19, 32)           128       ['conv2d_104[0][0]']          \n",
            " tchNormalization)                                                                                \n",
            "                                                                                                  \n",
            " add_55 (Add)                (None, 19, 19, 32)           0         ['batch_normalization_50[0][0]\n",
            "                                                                    ',                            \n",
            "                                                                     'add_54[0][0]']              \n",
            "                                                                                                  \n",
            " conv2d_105 (Conv2D)         (None, 19, 19, 1)            32        ['add_55[0][0]']              \n",
            "                                                                                                  \n",
            " conv2d_106 (Conv2D)         (None, 19, 19, 1)            32        ['add_55[0][0]']              \n",
            "                                                                                                  \n",
            " batch_normalization_51 (Ba  (None, 19, 19, 1)            4         ['conv2d_105[0][0]']          \n",
            " tchNormalization)                                                                                \n",
            "                                                                                                  \n",
            " flatten_23 (Flatten)        (None, 361)                  0         ['conv2d_106[0][0]']          \n",
            "                                                                                                  \n",
            " flatten_22 (Flatten)        (None, 361)                  0         ['batch_normalization_51[0][0]\n",
            "                                                                    ']                            \n",
            "                                                                                                  \n",
            " dense_11 (Dense)            (None, 50)                   18100     ['flatten_23[0][0]']          \n",
            "                                                                                                  \n",
            " policy (Activation)         (None, 361)                  0         ['flatten_22[0][0]']          \n",
            "                                                                                                  \n",
            " value (Dense)               (None, 1)                    51        ['dense_11[0][0]']            \n",
            "                                                                                                  \n",
            "==================================================================================================\n",
            "Total params: 56747 (221.67 KB)\n",
            "Trainable params: 56489 (220.66 KB)\n",
            "Non-trainable params: 258 (1.01 KB)\n",
            "__________________________________________________________________________________________________\n"
          ]
        }
      ]
    },
    {
      "cell_type": "code",
      "source": [],
      "metadata": {
        "id": "6IQe3FCTA5tD"
      },
      "execution_count": null,
      "outputs": []
    }
  ],
  "metadata": {
    "accelerator": "GPU",
    "colab": {
      "provenance": [],
      "include_colab_link": true
    },
    "kernelspec": {
      "display_name": "Python 3 (ipykernel)",
      "language": "python",
      "name": "python3"
    },
    "language_info": {
      "codemirror_mode": {
        "name": "ipython",
        "version": 3
      },
      "file_extension": ".py",
      "mimetype": "text/x-python",
      "name": "python",
      "nbconvert_exporter": "python",
      "pygments_lexer": "ipython3",
      "version": "3.10.6"
    }
  },
  "nbformat": 4,
  "nbformat_minor": 0
}