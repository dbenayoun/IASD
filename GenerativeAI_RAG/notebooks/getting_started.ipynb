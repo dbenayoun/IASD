{
 "cells": [
  {
   "cell_type": "code",
   "execution_count": 1,
   "metadata": {},
   "outputs": [
    {
     "name": "stderr",
     "output_type": "stream",
     "text": [
      "C:\\Users\\dbenayou\\AppData\\Local\\Temp\\ipykernel_9488\\1805613297.py:1: DeprecationWarning: \n",
      "Pyarrow will become a required dependency of pandas in the next major release of pandas (pandas 3.0),\n",
      "(to allow more performant data types, such as the Arrow string type, and better interoperability with other libraries)\n",
      "but was not found to be installed on your system.\n",
      "If this would cause problems for you,\n",
      "please provide us feedback at https://github.com/pandas-dev/pandas/issues/54466\n",
      "        \n",
      "  import pandas as pd\n"
     ]
    }
   ],
   "source": [
    "import pandas as pd\n",
    "import numpy as np \n",
    "from flask import Flask\n",
    "import openai\n",
    "\n",
    "pd.set_option('display.max_colwidth', None)"
   ]
  },
  {
   "cell_type": "code",
   "execution_count": 2,
   "metadata": {},
   "outputs": [],
   "source": [
    "data_sample = pd.read_csv(\"../data/twitter_data_clean_sample.csv\")"
   ]
  },
  {
   "cell_type": "code",
   "execution_count": 3,
   "metadata": {},
   "outputs": [
    {
     "data": {
      "text/html": [
       "<div>\n",
       "<style scoped>\n",
       "    .dataframe tbody tr th:only-of-type {\n",
       "        vertical-align: middle;\n",
       "    }\n",
       "\n",
       "    .dataframe tbody tr th {\n",
       "        vertical-align: top;\n",
       "    }\n",
       "\n",
       "    .dataframe thead th {\n",
       "        text-align: right;\n",
       "    }\n",
       "</style>\n",
       "<table border=\"1\" class=\"dataframe\">\n",
       "  <thead>\n",
       "    <tr style=\"text-align: right;\">\n",
       "      <th></th>\n",
       "      <th>customer_tweet</th>\n",
       "      <th>company_tweet</th>\n",
       "      <th>company</th>\n",
       "    </tr>\n",
       "  </thead>\n",
       "  <tbody>\n",
       "    <tr>\n",
       "      <th>0</th>\n",
       "      <td>Ordered this around 2am Friday morning and it made it here already... good job @115830 https://t.co/XXMuII3QwQ</td>\n",
       "      <td>@383517 I am very happy to hear this Pablo:) I hope you enjoy your order.^GA</td>\n",
       "      <td>AmazonHelp</td>\n",
       "    </tr>\n",
       "    <tr>\n",
       "      <th>1</th>\n",
       "      <td>@AmazonHelp what does \"ships in 1-3 weeks\" actually mean? Do you have the item I want in stock or not? Items like this have given me issues</td>\n",
       "      <td>@274096 If your item will ship in 1-3 weeks, this means the item is not in stock and needs to be ordered from our distributor. More info here: https://t.co/V7JYyWd9JF ^RA</td>\n",
       "      <td>AmazonHelp</td>\n",
       "    </tr>\n",
       "    <tr>\n",
       "      <th>2</th>\n",
       "      <td>@115821 // Email from Representative not correct.  There was someone to receive package.  Whoever said different at @118706 is lying.</td>\n",
       "      <td>@528375 I'm sorry you haven't received your package. We'd like to help. Please contact us here: https://t.co/hApLpMlfHN ^AY</td>\n",
       "      <td>AmazonHelp</td>\n",
       "    </tr>\n",
       "    <tr>\n",
       "      <th>3</th>\n",
       "      <td>je l’ai déjà l’application amazon jdevrais être immunisé de vos pubs de merde @115821</td>\n",
       "      <td>@792999 3/3  Ensuite décochez à nouveau les cases que vous aviez sélectionnées.  N'oubliez pas de \"Valider\" pour effectuer vos modifications.  \\r\\nNous espérons que ces informations vous seront utiles.</td>\n",
       "      <td>AmazonHelp</td>\n",
       "    </tr>\n",
       "    <tr>\n",
       "      <th>4</th>\n",
       "      <td>I must say @115830, a package left under a doormat which is full of holes, in the middle of a downpour, is not the best idea #wetelectronics</td>\n",
       "      <td>@776873 I apologize for how your delivery was handled, that is not the experience we want our customers to have. Which courier was assigned delivery of that package, as shown in the order details here:  https://t.co/aaDyEz1VgE ^CH</td>\n",
       "      <td>AmazonHelp</td>\n",
       "    </tr>\n",
       "  </tbody>\n",
       "</table>\n",
       "</div>"
      ],
      "text/plain": [
       "                                                                                                                                 customer_tweet  \\\n",
       "0                                Ordered this around 2am Friday morning and it made it here already... good job @115830 https://t.co/XXMuII3QwQ   \n",
       "1   @AmazonHelp what does \"ships in 1-3 weeks\" actually mean? Do you have the item I want in stock or not? Items like this have given me issues   \n",
       "2         @115821 // Email from Representative not correct.  There was someone to receive package.  Whoever said different at @118706 is lying.   \n",
       "3                                                         je l’ai déjà l’application amazon jdevrais être immunisé de vos pubs de merde @115821   \n",
       "4  I must say @115830, a package left under a doormat which is full of holes, in the middle of a downpour, is not the best idea #wetelectronics   \n",
       "\n",
       "                                                                                                                                                                                                                            company_tweet  \\\n",
       "0                                                                                                                                                            @383517 I am very happy to hear this Pablo:) I hope you enjoy your order.^GA   \n",
       "1                                                              @274096 If your item will ship in 1-3 weeks, this means the item is not in stock and needs to be ordered from our distributor. More info here: https://t.co/V7JYyWd9JF ^RA   \n",
       "2                                                                                                             @528375 I'm sorry you haven't received your package. We'd like to help. Please contact us here: https://t.co/hApLpMlfHN ^AY   \n",
       "3                               @792999 3/3  Ensuite décochez à nouveau les cases que vous aviez sélectionnées.  N'oubliez pas de \"Valider\" pour effectuer vos modifications.  \\r\\nNous espérons que ces informations vous seront utiles.   \n",
       "4  @776873 I apologize for how your delivery was handled, that is not the experience we want our customers to have. Which courier was assigned delivery of that package, as shown in the order details here:  https://t.co/aaDyEz1VgE ^CH   \n",
       "\n",
       "      company  \n",
       "0  AmazonHelp  \n",
       "1  AmazonHelp  \n",
       "2  AmazonHelp  \n",
       "3  AmazonHelp  \n",
       "4  AmazonHelp  "
      ]
     },
     "execution_count": 3,
     "metadata": {},
     "output_type": "execute_result"
    }
   ],
   "source": [
    "data_sample.head()"
   ]
  },
  {
   "cell_type": "code",
   "execution_count": 4,
   "metadata": {},
   "outputs": [
    {
     "data": {
      "text/plain": [
       "company\n",
       "AmazonHelp      100\n",
       "AppleSupport    100\n",
       "SpotifyCares    100\n",
       "Uber_Support    100\n",
       "Name: count, dtype: int64"
      ]
     },
     "execution_count": 4,
     "metadata": {},
     "output_type": "execute_result"
    }
   ],
   "source": [
    "data_sample.company.value_counts()"
   ]
  },
  {
   "cell_type": "code",
   "execution_count": null,
   "metadata": {},
   "outputs": [],
   "source": []
  }
 ],
 "metadata": {
  "kernelspec": {
   "display_name": "flask_env",
   "language": "python",
   "name": "python3"
  },
  "language_info": {
   "codemirror_mode": {
    "name": "ipython",
    "version": 3
   },
   "file_extension": ".py",
   "mimetype": "text/x-python",
   "name": "python",
   "nbconvert_exporter": "python",
   "pygments_lexer": "ipython3",
   "version": "3.11.7"
  }
 },
 "nbformat": 4,
 "nbformat_minor": 2
}
