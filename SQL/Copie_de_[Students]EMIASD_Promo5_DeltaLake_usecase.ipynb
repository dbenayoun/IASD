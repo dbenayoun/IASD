{
  "nbformat": 4,
  "nbformat_minor": 0,
  "metadata": {
    "colab": {
      "provenance": [],
      "collapsed_sections": [
        "uEE-92qgTQ4p"
      ],
      "toc_visible": true
    },
    "kernelspec": {
      "name": "python3",
      "display_name": "Python 3"
    },
    "language_info": {
      "name": "python"
    }
  },
  "cells": [
    {
      "cell_type": "markdown",
      "source": [
        "* Formation Continue EMIASD, Univ. Paris Dauphine, Promo 5\n",
        "* Author: Mohamed-Amine Baazizi\n",
        "* Affiliation: LIP6 - Faculté des Sciences - Sorbonne Université\n",
        "* Email: mohamed-amine.baazizi@lip6.fr\n",
        "* Reusing without consent of the author is strictly forbidden\n",
        "* October 2024\n",
        "\n"
      ],
      "metadata": {
        "id": "GwjrdGLoXzly"
      }
    },
    {
      "cell_type": "markdown",
      "source": [
        "# Homework\n"
      ],
      "metadata": {
        "id": "GunJfIR6YM_h"
      }
    },
    {
      "cell_type": "markdown",
      "source": [
        "## Outline"
      ],
      "metadata": {
        "id": "-kfCqy7EtbGd"
      }
    },
    {
      "cell_type": "markdown",
      "source": [
        "This homework is about building an effective data preparation pipeline.\n",
        "It covers the following aspects covered throughout the session:\n",
        "\n",
        "* ingest raw data, curate it, transform it\n",
        "* load the data into delta tables to enforce constraints and allow updates\n",
        "* chose an optimal data layout to speedup query evaluation\n",
        "\n",
        "It is based on raw data about car prices crawled from a public source.\n",
        "\n",
        "You are kindly asked to understand the data and decide about a relevant analysis (2 or 3 analytical queries) that can be performed on this data.\n",
        "For example, you could suggest to derive insights (min, max, avg) about the price per year of registration.\n",
        "You can use any other descriptive column that you may find useful.\n",
        "You are also kindly invited to briefly comment the choices you made at each phase.\n",
        "\n",
        "\n",
        "\n",
        "\n",
        "\n",
        "\n"
      ],
      "metadata": {
        "id": "GpI9l0JZYRdh"
      }
    },
    {
      "cell_type": "markdown",
      "source": [
        "## Prerequisite"
      ],
      "metadata": {
        "id": "csSU_SanYPJQ"
      }
    },
    {
      "cell_type": "markdown",
      "source": [
        "### System setup"
      ],
      "metadata": {
        "id": "BYxx4XY_TN0H"
      }
    },
    {
      "cell_type": "code",
      "execution_count": null,
      "metadata": {
        "id": "mW_DrY7ZlUj_"
      },
      "outputs": [],
      "source": [
        "%%capture\n",
        "!pip install -q pyspark\n",
        "!pip install -q delta-spark\n",
        "!pip install pyngrok"
      ]
    },
    {
      "cell_type": "code",
      "source": [
        "!pip list|grep spark"
      ],
      "metadata": {
        "colab": {
          "base_uri": "https://localhost:8080/"
        },
        "id": "o1YXYF4nWHNE",
        "outputId": "aeb4074b-2160-4070-c07b-0020cd0010f7"
      },
      "execution_count": null,
      "outputs": [
        {
          "output_type": "stream",
          "name": "stdout",
          "text": [
            "delta-spark                      3.2.0\n",
            "pyspark                          3.5.1\n"
          ]
        }
      ]
    },
    {
      "cell_type": "code",
      "source": [
        "from pyspark import SparkConf\n",
        "from pyspark.context import SparkContext\n",
        "from pyspark.sql import SparkSession\n",
        "\n",
        "local = \"local[*]\"\n",
        "appName = \"Formation Continue EMIASD - Delta Lake \"\n",
        "localConfig = SparkConf().setAppName(appName).setMaster(local).\\\n",
        "  set(\"spark.executor.memory\", \"8G\").\\\n",
        "  set(\"spark.driver.memory\",\"8G\").\\\n",
        "  set(\"spark.sql.catalogImplementation\",\"in-memory\").\\\n",
        "  set(\"spark.sql.extensions\",\"io.delta.sql.DeltaSparkSessionExtension\").\\\n",
        "  set(\"spark.sql.catalog.spark_catalog\",\"org.apache.spark.sql.delta.catalog.DeltaCatalog\").\\\n",
        "  set(\"spark.jars.packages\",\"io.delta:delta-spark_2.12:3.1.0\").\\\n",
        "  set(\"spark.databricks.delta.schema.autoMerge.enabled\",\"true\")\n",
        "\n",
        "\n",
        "spark = SparkSession.builder.config(conf = localConfig).getOrCreate()\n",
        "sc = spark.sparkContext\n",
        "sc.setLogLevel(\"ERROR\")"
      ],
      "metadata": {
        "id": "ZGcYc-DKqpUi"
      },
      "execution_count": null,
      "outputs": []
    },
    {
      "cell_type": "code",
      "source": [
        "spark"
      ],
      "metadata": {
        "id": "tvPytoK4Xl3t"
      },
      "execution_count": null,
      "outputs": []
    },
    {
      "cell_type": "markdown",
      "source": [
        "### Data import"
      ],
      "metadata": {
        "id": "uEE-92qgTQ4p"
      }
    },
    {
      "cell_type": "code",
      "source": [
        "%%capture\n",
        "!wget --no-verbose https://nuage.lip6.fr/s/89BG8HD9r3iE693/download/MLData.tgz -O /tmp/MLData.tgz\n",
        "!tar -xzvf /tmp/MLData.tgz  --directory /tmp/"
      ],
      "metadata": {
        "id": "95fudS-iTbB5"
      },
      "execution_count": null,
      "outputs": []
    },
    {
      "cell_type": "code",
      "source": [
        "!ls -hal /tmp/MLData"
      ],
      "metadata": {
        "colab": {
          "base_uri": "https://localhost:8080/"
        },
        "id": "qiJOcxz1bLJ2",
        "outputId": "cb526fb8-de66-45ef-b0f1-da0841917ffd"
      },
      "execution_count": null,
      "outputs": [
        {
          "output_type": "stream",
          "name": "stdout",
          "text": [
            "total 73M\n",
            "drwxr-xr-x 2  501 staff 4.0K Jan  6  2022 .\n",
            "drwxrwxrwt 1 root root  4.0K May 18 11:19 ..\n",
            "-rw-r--r-- 1  501 staff  66M Jan  6  2022 autos.csv\n",
            "-rw-r--r-- 1  501 staff  176 Jan  6  2022 ._loan.csv\n",
            "-rw-r--r-- 1  501 staff 6.8M Jan  6  2022 loan.csv\n"
          ]
        }
      ]
    },
    {
      "cell_type": "code",
      "source": [
        "query = \"\"\"\n",
        "CREATE TABLE IF NOT EXISTS raw_vehiculePrices\n",
        "USING csv\n",
        "OPTIONS (\n",
        "  header \"true\",\n",
        "  path \"/tmp/MLData/autos.csv\",\n",
        "  inferSchema \"true\"\n",
        ")\n",
        "\"\"\"\n",
        "spark.sql(query)"
      ],
      "metadata": {
        "id": "lDEBF-MkYhvh",
        "colab": {
          "base_uri": "https://localhost:8080/"
        },
        "outputId": "9aa0db3e-70f9-4650-badb-33f98db090aa"
      },
      "execution_count": null,
      "outputs": [
        {
          "output_type": "execute_result",
          "data": {
            "text/plain": [
              "DataFrame[]"
            ]
          },
          "metadata": {},
          "execution_count": 22
        }
      ]
    },
    {
      "cell_type": "markdown",
      "source": [
        "## Phase 0: Understanding the data"
      ],
      "metadata": {
        "id": "0EKaX3uGYiJg"
      }
    },
    {
      "cell_type": "markdown",
      "source": [
        "In this part, you are invited to get some knowledge about the data by reading its schema and extracting  some basic statistical information about the values of columns that you will find interesting."
      ],
      "metadata": {
        "id": "h9yzUuD7uvrD"
      }
    },
    {
      "cell_type": "code",
      "source": [
        "query = \"\"\"\n",
        "DESCRIBE raw_vehiculePrices\n",
        "\"\"\"\n",
        "spark.sql(query).show()"
      ],
      "metadata": {
        "colab": {
          "base_uri": "https://localhost:8080/"
        },
        "id": "Eb6-J0azcBma",
        "outputId": "1fd34be2-7cde-484b-ebd2-97f4acdcca7e"
      },
      "execution_count": null,
      "outputs": [
        {
          "output_type": "stream",
          "name": "stdout",
          "text": [
            "+-------------------+---------+-------+\n",
            "|           col_name|data_type|comment|\n",
            "+-------------------+---------+-------+\n",
            "|        dateCrawled|timestamp|   NULL|\n",
            "|               name|   string|   NULL|\n",
            "|             seller|   string|   NULL|\n",
            "|          offerType|   string|   NULL|\n",
            "|              price|      int|   NULL|\n",
            "|             abtest|   string|   NULL|\n",
            "|        vehicleType|   string|   NULL|\n",
            "| yearOfRegistration|      int|   NULL|\n",
            "|            gearbox|   string|   NULL|\n",
            "|            powerPS|      int|   NULL|\n",
            "|              model|   string|   NULL|\n",
            "|          kilometer|      int|   NULL|\n",
            "|monthOfRegistration|      int|   NULL|\n",
            "|           fuelType|   string|   NULL|\n",
            "|              brand|   string|   NULL|\n",
            "|  notRepairedDamage|   string|   NULL|\n",
            "|        dateCreated|timestamp|   NULL|\n",
            "|       nrOfPictures|      int|   NULL|\n",
            "|         postalCode|      int|   NULL|\n",
            "|           lastSeen|timestamp|   NULL|\n",
            "+-------------------+---------+-------+\n",
            "\n"
          ]
        }
      ]
    },
    {
      "cell_type": "code",
      "source": [
        "query = \"\"\"\n",
        "SELECT * FROM raw_vehiculePrices TABLESAMPLE (5 ROWS);\n",
        "\"\"\"\n",
        "spark.sql(query).show()\n"
      ],
      "metadata": {
        "colab": {
          "base_uri": "https://localhost:8080/"
        },
        "id": "XeJDgTnicSx0",
        "outputId": "5b684d30-2f3c-4d97-e008-13a07b2eb939"
      },
      "execution_count": null,
      "outputs": [
        {
          "output_type": "stream",
          "name": "stdout",
          "text": [
            "+-------------------+--------------------+------+---------+-----+------+-----------+------------------+---------+-------+-----+---------+-------------------+--------+----------+-----------------+-------------------+------------+----------+-------------------+\n",
            "|        dateCrawled|                name|seller|offerType|price|abtest|vehicleType|yearOfRegistration|  gearbox|powerPS|model|kilometer|monthOfRegistration|fuelType|     brand|notRepairedDamage|        dateCreated|nrOfPictures|postalCode|           lastSeen|\n",
            "+-------------------+--------------------+------+---------+-----+------+-----------+------------------+---------+-------+-----+---------+-------------------+--------+----------+-----------------+-------------------+------------+----------+-------------------+\n",
            "|2016-03-24 11:52:17|          Golf_3_1.6|privat|  Angebot|  480|  test|       NULL|              1993|  manuell|      0| golf|   150000|                  0|  benzin|volkswagen|             NULL|2016-03-24 00:00:00|           0|     70435|2016-04-07 03:16:57|\n",
            "|2016-03-24 10:58:45|A5_Sportback_2.7_Tdi|privat|  Angebot|18300|  test|      coupe|              2011|  manuell|    190| NULL|   125000|                  5|  diesel|      audi|               ja|2016-03-24 00:00:00|           0|     66954|2016-04-07 01:46:50|\n",
            "|2016-03-14 12:52:21|Jeep_Grand_Cherok...|privat|  Angebot| 9800|  test|        suv|              2004|automatik|    163|grand|   125000|                  8|  diesel|      jeep|             NULL|2016-03-14 00:00:00|           0|     90480|2016-04-05 12:47:46|\n",
            "|2016-03-17 16:54:04|  GOLF_4_1_4__3T�RER|privat|  Angebot| 1500|  test| kleinwagen|              2001|  manuell|     75| golf|   150000|                  6|  benzin|volkswagen|             nein|2016-03-17 00:00:00|           0|     91074|2016-03-17 17:40:17|\n",
            "|2016-03-31 17:25:20|Skoda_Fabia_1.4_T...|privat|  Angebot| 3600|  test| kleinwagen|              2008|  manuell|     69|fabia|    90000|                  7|  diesel|     skoda|             nein|2016-03-31 00:00:00|           0|     60437|2016-04-06 10:17:21|\n",
            "+-------------------+--------------------+------+---------+-----+------+-----------+------------------+---------+-------+-----+---------+-------------------+--------+----------+-----------------+-------------------+------------+----------+-------------------+\n",
            "\n"
          ]
        }
      ]
    },
    {
      "cell_type": "code",
      "source": [
        "query = \"\"\"\n",
        "SELECT  min(yearOfRegistration), max(yearOfRegistration),\n",
        "          avg(yearOfRegistration), median(yearOfRegistration)\n",
        "FROM raw_vehiculePrices\n",
        "\"\"\"\n",
        "spark.sql(query).show()"
      ],
      "metadata": {
        "colab": {
          "base_uri": "https://localhost:8080/"
        },
        "id": "OHSwz3vShMMx",
        "outputId": "3f06977e-fd19-4974-ef5e-548e508413d1"
      },
      "execution_count": null,
      "outputs": [
        {
          "output_type": "stream",
          "name": "stdout",
          "text": [
            "+-----------------------+-----------------------+-----------------------+--------------------------+\n",
            "|min(yearOfRegistration)|max(yearOfRegistration)|avg(yearOfRegistration)|median(yearOfRegistration)|\n",
            "+-----------------------+-----------------------+-----------------------+--------------------------+\n",
            "|                   1000|                   9999|     2004.5767206439623|                    2003.0|\n",
            "+-----------------------+-----------------------+-----------------------+--------------------------+\n",
            "\n"
          ]
        }
      ]
    },
    {
      "cell_type": "code",
      "source": [
        "# query = \"\"\"\n",
        "# SELECT  yearOfRegistration, count(*)\n",
        "# FROM vehiculePrices\n",
        "# GROUP BY yearOfRegistration\n",
        "# order by 1 desc,2 desc\n",
        "# \"\"\"\n",
        "# spark.sql(query).show(150)"
      ],
      "metadata": {
        "id": "y43pSPgweGPF"
      },
      "execution_count": null,
      "outputs": []
    },
    {
      "cell_type": "code",
      "source": [
        "query = \"\"\"\n",
        "SELECT  min(price), max(price),\n",
        "          avg(price), median(price)\n",
        "FROM raw_vehiculePrices\n",
        "\"\"\"\n",
        "spark.sql(query).show()"
      ],
      "metadata": {
        "colab": {
          "base_uri": "https://localhost:8080/"
        },
        "id": "L07JiYkMe8Ss",
        "outputId": "6f0b62ec-8410-457d-eb4e-5af83485a5bf"
      },
      "execution_count": null,
      "outputs": [
        {
          "output_type": "stream",
          "name": "stdout",
          "text": [
            "+----------+----------+------------------+-------------+\n",
            "|min(price)|max(price)|        avg(price)|median(price)|\n",
            "+----------+----------+------------------+-------------+\n",
            "|         0|2147483647|17286.338865535483|       2950.0|\n",
            "+----------+----------+------------------+-------------+\n",
            "\n"
          ]
        }
      ]
    },
    {
      "cell_type": "code",
      "source": [
        "query = \"\"\"\n",
        "SELECT  min(kilometer), max(kilometer),\n",
        "          avg(kilometer), median(kilometer)\n",
        "FROM raw_vehiculePrices\n",
        "\"\"\"\n",
        "spark.sql(query).show()"
      ],
      "metadata": {
        "colab": {
          "base_uri": "https://localhost:8080/"
        },
        "id": "1i5aH7TuiB7U",
        "outputId": "e8d1949c-716a-4737-e32c-61c2711572f4"
      },
      "execution_count": null,
      "outputs": [
        {
          "output_type": "stream",
          "name": "stdout",
          "text": [
            "+--------------+--------------+------------------+-----------------+\n",
            "|min(kilometer)|max(kilometer)|    avg(kilometer)|median(kilometer)|\n",
            "+--------------+--------------+------------------+-----------------+\n",
            "|          5000|        150000|125618.56044408226|         150000.0|\n",
            "+--------------+--------------+------------------+-----------------+\n",
            "\n"
          ]
        }
      ]
    },
    {
      "cell_type": "markdown",
      "source": [],
      "metadata": {
        "id": "FN-QFBVmwL-X"
      }
    },
    {
      "cell_type": "markdown",
      "source": [
        "## Phase 1: Cleaning the data and selecting relevant columns"
      ],
      "metadata": {
        "id": "5eQ7H8YNvJ-C"
      }
    },
    {
      "cell_type": "markdown",
      "source": [
        "In this part you are invited to decide which columns are useful for you analysis and to perform some cleaning on the data by removing outlier values (e.g. remove records with strange values for a specific column).\n",
        "The result of your cleaning and selection should be stored in a table called `phase1`"
      ],
      "metadata": {
        "id": "aElQN6zKvLrO"
      }
    },
    {
      "cell_type": "code",
      "source": [],
      "metadata": {
        "id": "EPN6EUQGwpgJ"
      },
      "execution_count": null,
      "outputs": []
    },
    {
      "cell_type": "code",
      "source": [],
      "metadata": {
        "id": "krsvswNBwpYh"
      },
      "execution_count": null,
      "outputs": []
    },
    {
      "cell_type": "markdown",
      "source": [
        "Give a brief summary of your choices"
      ],
      "metadata": {
        "id": "Bi9Ni16awq_N"
      }
    },
    {
      "cell_type": "markdown",
      "source": [
        "## Phase 2: Organizing the data"
      ],
      "metadata": {
        "id": "imiDhnt7Ymi3"
      }
    },
    {
      "cell_type": "markdown",
      "source": [
        "In this part you are invited to load the data into delta tables where you will define meaningful constraints and conditions to be fulfiled by any future incoming data.\n",
        "The result of this phase should a delta table called `deltaPrices`"
      ],
      "metadata": {
        "id": "9EEhbLS3w5G4"
      }
    },
    {
      "cell_type": "code",
      "source": [],
      "metadata": {
        "id": "BkWSLKNFYrmb"
      },
      "execution_count": null,
      "outputs": []
    },
    {
      "cell_type": "code",
      "source": [],
      "metadata": {
        "id": "kjuBWpDSxZmV"
      },
      "execution_count": null,
      "outputs": []
    },
    {
      "cell_type": "markdown",
      "source": [
        "Comment on the constraints you added\n",
        "\n",
        "...."
      ],
      "metadata": {
        "id": "C0YP77iE0-O6"
      }
    },
    {
      "cell_type": "markdown",
      "source": [
        "## Phase 3: Analysing the data and ensuring query evaluation effeciency"
      ],
      "metadata": {
        "id": "fki_wgyWxL1C"
      }
    },
    {
      "cell_type": "markdown",
      "source": [
        "Suggest 2 or 3 meaningfull queries as described above and suggest a data organization scheme for optimizing one such query of your choice."
      ],
      "metadata": {
        "id": "t4BJIJ4y0Y8b"
      }
    },
    {
      "cell_type": "code",
      "source": [
        "from pyngrok import ngrok, conf\n",
        "import getpass\n",
        "\n",
        "print(\"Enter your authtoken, which can be copied \"\n",
        "\"from https://dashboard.ngrok.com/get-started/your-authtoken\")\n",
        "conf.get_default().auth_token = getpass.getpass()\n",
        "\n",
        "ui_port = 4040\n",
        "public_url = ngrok.connect(ui_port).public_url\n",
        "print(f\" * ngrok tunnel \\\"{public_url}\\\" -> \\\"http://127.0.0.1:{ui_port}\\\"\")"
      ],
      "metadata": {
        "id": "CTP7VHrjxVKX"
      },
      "execution_count": null,
      "outputs": []
    },
    {
      "cell_type": "code",
      "source": [],
      "metadata": {
        "id": "Zp1zEzkZxOaY"
      },
      "execution_count": null,
      "outputs": []
    },
    {
      "cell_type": "markdown",
      "source": [
        "## Ingesting new data and reruning analytics  "
      ],
      "metadata": {
        "id": "BOfKxBYryX8Y"
      }
    },
    {
      "cell_type": "markdown",
      "source": [
        "In this part you are invited to suggest the insertion of fictious new data that conforms to the schema established in phase 2 and to rerun some queries of phase 3 to see the evolution of the result. Ideally, write a query that compares an aggregation value in two different versions of the data by exploiting the delta history feature."
      ],
      "metadata": {
        "id": "QSfuBf4KyiuZ"
      }
    },
    {
      "cell_type": "code",
      "source": [],
      "metadata": {
        "id": "DVOHuzPWyiGp"
      },
      "execution_count": null,
      "outputs": []
    },
    {
      "cell_type": "code",
      "source": [],
      "metadata": {
        "id": "Aa7FU_EOzQ7O"
      },
      "execution_count": null,
      "outputs": []
    }
  ]
}