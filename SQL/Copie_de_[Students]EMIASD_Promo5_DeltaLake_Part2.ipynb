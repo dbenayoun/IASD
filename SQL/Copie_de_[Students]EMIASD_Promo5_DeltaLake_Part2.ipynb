{
  "nbformat": 4,
  "nbformat_minor": 0,
  "metadata": {
    "colab": {
      "provenance": [],
      "toc_visible": true,
      "collapsed_sections": [
        "uEE-92qgTQ4p",
        "PPmP7vcOr6XX",
        "LFk6LjuF6YLI"
      ]
    },
    "kernelspec": {
      "name": "python3",
      "display_name": "Python 3"
    },
    "language_info": {
      "name": "python"
    }
  },
  "cells": [
    {
      "cell_type": "markdown",
      "source": [
        "* Formation Continue EMIASD, Univ. Paris Dauphine, Promo 5\n",
        "* Author: Mohamed-Amine Baazizi\n",
        "* Affiliation: LIP6 - Faculté des Sciences - Sorbonne Université\n",
        "* Email: mohamed-amine.baazizi@lip6.fr\n",
        "* Reusing without consent of the author is strictly forbidden\n",
        "* October 2024\n",
        "\n"
      ],
      "metadata": {
        "id": "GwjrdGLoXzly"
      }
    },
    {
      "cell_type": "markdown",
      "source": [
        "# Delta Lake\n"
      ],
      "metadata": {
        "id": "GunJfIR6YM_h"
      }
    },
    {
      "cell_type": "markdown",
      "source": [
        "## Outline"
      ],
      "metadata": {
        "id": "-kfCqy7EtbGd"
      }
    },
    {
      "cell_type": "markdown",
      "source": [
        "This lab is dedicated to practicing Delta Lake. It begins with a set of demos meant to illustrate the usage of Delta, on small examples.\n",
        "A use case based on realistic data is then presented and followed by the analysis of query plans generated for Delta operations.\n",
        "\n",
        "\n",
        "For the official documentation visit https://docs.delta.io/latest/index.html\n",
        "\n",
        "\n",
        "\n",
        "\n",
        "\n",
        "\n",
        "\n"
      ],
      "metadata": {
        "id": "GpI9l0JZYRdh"
      }
    },
    {
      "cell_type": "markdown",
      "source": [
        "## Prerequisite"
      ],
      "metadata": {
        "id": "csSU_SanYPJQ"
      }
    },
    {
      "cell_type": "markdown",
      "source": [
        "### System setup"
      ],
      "metadata": {
        "id": "BYxx4XY_TN0H"
      }
    },
    {
      "cell_type": "code",
      "execution_count": null,
      "metadata": {
        "id": "mW_DrY7ZlUj_"
      },
      "outputs": [],
      "source": [
        "%%capture\n",
        "!pip install -q pyspark\n",
        "!pip install -q delta-spark\n",
        "!pip install pyngrok"
      ]
    },
    {
      "cell_type": "code",
      "source": [
        "!pip list|grep spark"
      ],
      "metadata": {
        "colab": {
          "base_uri": "https://localhost:8080/"
        },
        "id": "o1YXYF4nWHNE",
        "outputId": "04b2d6ed-78fc-4256-e090-85cf2634b3cf"
      },
      "execution_count": null,
      "outputs": [
        {
          "output_type": "stream",
          "name": "stdout",
          "text": [
            "delta-spark                      3.2.0\n",
            "pyspark                          3.5.1\n"
          ]
        }
      ]
    },
    {
      "cell_type": "code",
      "source": [
        "from pyspark import SparkConf\n",
        "from pyspark.context import SparkContext\n",
        "from pyspark.sql import SparkSession\n",
        "\n",
        "local = \"local[*]\"\n",
        "appName = \"Formation Continue EMIASD - Delta Lake \"\n",
        "localConfig = SparkConf().setAppName(appName).setMaster(local).\\\n",
        "  set(\"spark.executor.memory\", \"8G\").\\\n",
        "  set(\"spark.driver.memory\",\"8G\").\\\n",
        "  set(\"spark.sql.catalogImplementation\",\"in-memory\").\\\n",
        "  set(\"spark.sql.extensions\",\"io.delta.sql.DeltaSparkSessionExtension\").\\\n",
        "  set(\"spark.sql.catalog.spark_catalog\",\"org.apache.spark.sql.delta.catalog.DeltaCatalog\").\\\n",
        "  set(\"spark.jars.packages\",\"io.delta:delta-spark_2.12:3.1.0\").\\\n",
        "  set(\"spark.databricks.delta.schema.autoMerge.enabled\",\"true\")\n",
        "\n",
        "\n",
        "spark = SparkSession.builder.config(conf = localConfig).getOrCreate()\n",
        "sc = spark.sparkContext\n",
        "sc.setLogLevel(\"ERROR\")"
      ],
      "metadata": {
        "id": "ZGcYc-DKqpUi"
      },
      "execution_count": null,
      "outputs": []
    },
    {
      "cell_type": "code",
      "source": [
        "spark"
      ],
      "metadata": {
        "colab": {
          "base_uri": "https://localhost:8080/",
          "height": 222
        },
        "id": "tvPytoK4Xl3t",
        "outputId": "e4e4589e-a0cd-48b4-97f9-bf608d5e3be0"
      },
      "execution_count": null,
      "outputs": [
        {
          "output_type": "execute_result",
          "data": {
            "text/plain": [
              "<pyspark.sql.session.SparkSession at 0x7b62ecf1ab00>"
            ],
            "text/html": [
              "\n",
              "            <div>\n",
              "                <p><b>SparkSession - in-memory</b></p>\n",
              "                \n",
              "        <div>\n",
              "            <p><b>SparkContext</b></p>\n",
              "\n",
              "            <p><a href=\"http://7134299d0478:4040\">Spark UI</a></p>\n",
              "\n",
              "            <dl>\n",
              "              <dt>Version</dt>\n",
              "                <dd><code>v3.5.1</code></dd>\n",
              "              <dt>Master</dt>\n",
              "                <dd><code>local[*]</code></dd>\n",
              "              <dt>AppName</dt>\n",
              "                <dd><code>ADIA certificate - Delta Lake </code></dd>\n",
              "            </dl>\n",
              "        </div>\n",
              "        \n",
              "            </div>\n",
              "        "
            ]
          },
          "metadata": {},
          "execution_count": 71
        }
      ]
    },
    {
      "cell_type": "markdown",
      "source": [
        "### Data import"
      ],
      "metadata": {
        "id": "uEE-92qgTQ4p"
      }
    },
    {
      "cell_type": "code",
      "source": [
        "%%capture\n",
        "! wget https://nuage.lip6.fr/s/BbQ9rzGHKJexKYp/download/sales.tar -O /tmp/sales.tar\n",
        "!mkdir /tmp/delta\n",
        "! tar xvf /tmp/sales.tar -C /tmp/delta\n"
      ],
      "metadata": {
        "id": "95fudS-iTbB5"
      },
      "execution_count": null,
      "outputs": []
    },
    {
      "cell_type": "code",
      "source": [
        "!ls /tmp/delta/sales"
      ],
      "metadata": {
        "colab": {
          "base_uri": "https://localhost:8080/"
        },
        "id": "o7YspSlaTdTh",
        "outputId": "2bf8b76a-e5b1-41e6-9427-d082bc092227"
      },
      "execution_count": null,
      "outputs": [
        {
          "output_type": "stream",
          "name": "stdout",
          "text": [
            "march23_sales.csv  salesOriginal.csv\n"
          ]
        }
      ]
    },
    {
      "cell_type": "markdown",
      "source": [
        "## Demo1: first steps"
      ],
      "metadata": {
        "id": "PPmP7vcOr6XX"
      }
    },
    {
      "cell_type": "markdown",
      "source": [
        "### load the data into delta"
      ],
      "metadata": {
        "id": "6sBb4C8GteZR"
      }
    },
    {
      "cell_type": "code",
      "source": [
        "query = \"\"\"\n",
        "CREATE TABLE delta.`/tmp/delta-table` USING DELTA AS SELECT col1 as id FROM VALUES 0,1,2,3,4;\n",
        "\"\"\"\n",
        "spark.sql(query)\n"
      ],
      "metadata": {
        "colab": {
          "base_uri": "https://localhost:8080/"
        },
        "id": "4pqEJ8Q5Y4SX",
        "outputId": "743ee8df-6180-4835-9576-b78a2ad8a317"
      },
      "execution_count": null,
      "outputs": [
        {
          "output_type": "execute_result",
          "data": {
            "text/plain": [
              "DataFrame[]"
            ]
          },
          "metadata": {},
          "execution_count": 21
        }
      ]
    },
    {
      "cell_type": "code",
      "source": [
        "query = \"\"\"\n",
        "SELECT * FROM delta.`/tmp/delta-table`;\n",
        "\"\"\"\n",
        "spark.sql(query).show()"
      ],
      "metadata": {
        "colab": {
          "base_uri": "https://localhost:8080/"
        },
        "id": "0biz8Q2kZGh5",
        "outputId": "31704743-0963-4b77-91a8-7c2ccc6f5dc1"
      },
      "execution_count": null,
      "outputs": [
        {
          "output_type": "stream",
          "name": "stdout",
          "text": [
            "+---+\n",
            "| id|\n",
            "+---+\n",
            "|  2|\n",
            "|  3|\n",
            "|  4|\n",
            "|  0|\n",
            "|  1|\n",
            "+---+\n",
            "\n"
          ]
        }
      ]
    },
    {
      "cell_type": "markdown",
      "source": [
        "### update the data\n",
        "#### overwrite"
      ],
      "metadata": {
        "id": "7gC5yWqIti5z"
      }
    },
    {
      "cell_type": "code",
      "source": [
        "query = \"\"\"\n",
        "INSERT OVERWRITE delta.`/tmp/delta-table` SELECT col1 as id FROM VALUES 5,6,7,8,9;\n",
        "\"\"\"\n",
        "spark.sql(query)\n"
      ],
      "metadata": {
        "colab": {
          "base_uri": "https://localhost:8080/"
        },
        "id": "54vtYTfOZWMg",
        "outputId": "f1bd01f2-d35b-42b0-9bcb-6125f6baca3c"
      },
      "execution_count": null,
      "outputs": [
        {
          "output_type": "execute_result",
          "data": {
            "text/plain": [
              "DataFrame[]"
            ]
          },
          "metadata": {},
          "execution_count": 14
        }
      ]
    },
    {
      "cell_type": "code",
      "source": [
        "query = \"\"\"\n",
        "SELECT * FROM delta.`/tmp/delta-table`;\n",
        "\"\"\"\n",
        "spark.sql(query).show()"
      ],
      "metadata": {
        "colab": {
          "base_uri": "https://localhost:8080/"
        },
        "id": "d4UkNiH4ZanE",
        "outputId": "23e8e9f4-a956-4f8c-b13e-0260ea47f649"
      },
      "execution_count": null,
      "outputs": [
        {
          "output_type": "stream",
          "name": "stdout",
          "text": [
            "+---+\n",
            "| id|\n",
            "+---+\n",
            "|  7|\n",
            "|  8|\n",
            "|  9|\n",
            "|  5|\n",
            "|  6|\n",
            "+---+\n",
            "\n"
          ]
        }
      ]
    },
    {
      "cell_type": "markdown",
      "source": [
        "#### conditional overwrite"
      ],
      "metadata": {
        "id": "n51K-OE-zEbi"
      }
    },
    {
      "cell_type": "code",
      "source": [
        "query = \"\"\"\n",
        "UPDATE delta.`/tmp/delta-table` SET id = id + 100 WHERE id % 2 == 0;\n",
        "\"\"\"\n",
        "spark.sql(query)\n"
      ],
      "metadata": {
        "colab": {
          "base_uri": "https://localhost:8080/"
        },
        "id": "PgZYQlzKZmC-",
        "outputId": "85920103-a252-4cc6-82d7-085391deb3c7"
      },
      "execution_count": null,
      "outputs": [
        {
          "output_type": "execute_result",
          "data": {
            "text/plain": [
              "DataFrame[num_affected_rows: bigint]"
            ]
          },
          "metadata": {},
          "execution_count": 18
        }
      ]
    },
    {
      "cell_type": "code",
      "source": [
        "query = \"\"\"\n",
        "SELECT * FROM delta.`/tmp/delta-table`;\n",
        "\"\"\"\n",
        "spark.sql(query).show()"
      ],
      "metadata": {
        "colab": {
          "base_uri": "https://localhost:8080/"
        },
        "id": "ZGyGJUbTZ5Tk",
        "outputId": "9df8c23e-f0b2-41b4-d491-c4f0e67ddb30"
      },
      "execution_count": null,
      "outputs": [
        {
          "output_type": "stream",
          "name": "stdout",
          "text": [
            "+---+\n",
            "| id|\n",
            "+---+\n",
            "|  7|\n",
            "|108|\n",
            "|  9|\n",
            "|  5|\n",
            "|106|\n",
            "+---+\n",
            "\n"
          ]
        }
      ]
    },
    {
      "cell_type": "code",
      "source": [
        "query = \"\"\"\n",
        "DELETE FROM delta.`/tmp/delta-table` WHERE id % 2 == 0;\n",
        "\"\"\"\n",
        "spark.sql(query)"
      ],
      "metadata": {
        "colab": {
          "base_uri": "https://localhost:8080/"
        },
        "id": "WEOePP5UaIhx",
        "outputId": "7137a51c-ecd9-4026-938d-5d39a59749e6"
      },
      "execution_count": null,
      "outputs": [
        {
          "output_type": "execute_result",
          "data": {
            "text/plain": [
              "DataFrame[num_affected_rows: bigint]"
            ]
          },
          "metadata": {},
          "execution_count": 20
        }
      ]
    },
    {
      "cell_type": "code",
      "source": [
        "query = \"\"\"\n",
        "SELECT * FROM delta.`/tmp/delta-table`;\n",
        "\"\"\"\n",
        "spark.sql(query).show()"
      ],
      "metadata": {
        "colab": {
          "base_uri": "https://localhost:8080/"
        },
        "id": "Tycomqu-aIfb",
        "outputId": "83be5c7b-c1f3-4aa3-e9e4-921097f90d6e"
      },
      "execution_count": null,
      "outputs": [
        {
          "output_type": "stream",
          "name": "stdout",
          "text": [
            "+---+\n",
            "| id|\n",
            "+---+\n",
            "|  7|\n",
            "|  9|\n",
            "|  5|\n",
            "+---+\n",
            "\n"
          ]
        }
      ]
    },
    {
      "cell_type": "code",
      "source": [
        "query = \"\"\"\n",
        "CREATE TEMP VIEW newData AS SELECT col1 AS id FROM VALUES 1,3,5,7,9,11,13,15,17,19;\n",
        "\"\"\"\n",
        "spark.sql(query)"
      ],
      "metadata": {
        "colab": {
          "base_uri": "https://localhost:8080/"
        },
        "id": "vwV6XupUaPIL",
        "outputId": "d0ce6356-f424-4c4d-afae-0a0e96f87c58"
      },
      "execution_count": null,
      "outputs": [
        {
          "output_type": "execute_result",
          "data": {
            "text/plain": [
              "DataFrame[]"
            ]
          },
          "metadata": {},
          "execution_count": 23
        }
      ]
    },
    {
      "cell_type": "code",
      "source": [
        "query = \"\"\"\n",
        "SELECT * FROM `newData`;\n",
        "\"\"\"\n",
        "spark.sql(query).show()"
      ],
      "metadata": {
        "colab": {
          "base_uri": "https://localhost:8080/"
        },
        "id": "M96V_5IBaZhE",
        "outputId": "571f80d2-35d4-4c4e-afe8-81cad0619311"
      },
      "execution_count": null,
      "outputs": [
        {
          "output_type": "stream",
          "name": "stdout",
          "text": [
            "+---+\n",
            "| id|\n",
            "+---+\n",
            "|  1|\n",
            "|  3|\n",
            "|  5|\n",
            "|  7|\n",
            "|  9|\n",
            "| 11|\n",
            "| 13|\n",
            "| 15|\n",
            "| 17|\n",
            "| 19|\n",
            "+---+\n",
            "\n"
          ]
        }
      ]
    },
    {
      "cell_type": "code",
      "source": [
        "query = \"\"\"\n",
        "MERGE INTO delta.`/tmp/delta-table` AS oldData\n",
        "USING newData\n",
        "ON oldData.id = newData.id\n",
        "WHEN MATCHED\n",
        "  THEN UPDATE SET id = newData.id\n",
        "WHEN NOT MATCHED\n",
        "  THEN INSERT (id) VALUES (newData.id);\n",
        "\"\"\"\n",
        "spark.sql(query)"
      ],
      "metadata": {
        "colab": {
          "base_uri": "https://localhost:8080/"
        },
        "id": "3bPAmhZlaWez",
        "outputId": "bb574dc5-9f07-45e1-9552-d06fd368195a"
      },
      "execution_count": null,
      "outputs": [
        {
          "output_type": "execute_result",
          "data": {
            "text/plain": [
              "DataFrame[num_affected_rows: bigint, num_updated_rows: bigint, num_deleted_rows: bigint, num_inserted_rows: bigint]"
            ]
          },
          "metadata": {},
          "execution_count": 37
        }
      ]
    },
    {
      "cell_type": "code",
      "source": [
        "query = \"\"\"\n",
        "SELECT * FROM delta.`/tmp/delta-table`;\n",
        "\"\"\"\n",
        "spark.sql(query).show()"
      ],
      "metadata": {
        "colab": {
          "base_uri": "https://localhost:8080/"
        },
        "id": "EVIy7AOmaPA5",
        "outputId": "e571e46f-aacf-4417-85b0-b1484d7d7252"
      },
      "execution_count": null,
      "outputs": [
        {
          "output_type": "stream",
          "name": "stdout",
          "text": [
            "+---+\n",
            "| id|\n",
            "+---+\n",
            "|  1|\n",
            "|  3|\n",
            "|  5|\n",
            "|  7|\n",
            "|  9|\n",
            "| 11|\n",
            "| 13|\n",
            "| 15|\n",
            "| 17|\n",
            "| 19|\n",
            "+---+\n",
            "\n"
          ]
        }
      ]
    },
    {
      "cell_type": "markdown",
      "source": [
        "### view history"
      ],
      "metadata": {
        "id": "LFk6LjuF6YLI"
      }
    },
    {
      "cell_type": "code",
      "source": [
        "query = \"\"\"\n",
        "SELECT * FROM delta.`/tmp/delta-table` VERSION AS OF 0;\n",
        "\"\"\"\n",
        "spark.sql(query).show()"
      ],
      "metadata": {
        "colab": {
          "base_uri": "https://localhost:8080/"
        },
        "id": "4M23w7FrbuRj",
        "outputId": "27508774-9022-4bda-fece-3bb199c67b9e"
      },
      "execution_count": null,
      "outputs": [
        {
          "output_type": "stream",
          "name": "stdout",
          "text": [
            "+---+\n",
            "| id|\n",
            "+---+\n",
            "|  2|\n",
            "|  3|\n",
            "|  4|\n",
            "|  0|\n",
            "|  1|\n",
            "+---+\n",
            "\n"
          ]
        }
      ]
    },
    {
      "cell_type": "code",
      "source": [
        "query = \"\"\"\n",
        "SELECT * FROM delta.`/tmp/delta-table` VERSION AS OF 1;\n",
        "\"\"\"\n",
        "spark.sql(query).show()"
      ],
      "metadata": {
        "colab": {
          "base_uri": "https://localhost:8080/"
        },
        "id": "BxTIpNxYbzDV",
        "outputId": "0985c725-c741-49e9-cd6b-800a8658f45e"
      },
      "execution_count": null,
      "outputs": [
        {
          "output_type": "stream",
          "name": "stdout",
          "text": [
            "+---+\n",
            "| id|\n",
            "+---+\n",
            "|  7|\n",
            "|  8|\n",
            "|  9|\n",
            "|  5|\n",
            "|  6|\n",
            "+---+\n",
            "\n"
          ]
        }
      ]
    },
    {
      "cell_type": "markdown",
      "source": [
        "## Creating synthetic data\n"
      ],
      "metadata": {
        "id": "8h6Zc1bPoAUB"
      }
    },
    {
      "cell_type": "markdown",
      "source": [
        "### Persons"
      ],
      "metadata": {
        "id": "IQBLb81vr2_o"
      }
    },
    {
      "cell_type": "code",
      "source": [
        "query = \"\"\"\n",
        "CREATE TABLE delta.`/tmp/persons` USING DELTA AS\n",
        "SELECT col1 as serial, col2 as name, col3 as age, col4 as address\n",
        "FROM VALUES (\"12345\", \"Alice\", 25, \"123 Main St\"),\n",
        "            (\"67890\", \"Bob\", 30, \"456 Oak Ave\"),\n",
        "            (\"24680\", \"Charlie\", 35, \"789 Elm St\");\n",
        "\"\"\"\n",
        "spark.sql(query)\n"
      ],
      "metadata": {
        "colab": {
          "base_uri": "https://localhost:8080/"
        },
        "id": "Mz04HT1LqHms",
        "outputId": "6719fa68-2bbd-4973-c2e4-dc32312c4663"
      },
      "execution_count": null,
      "outputs": [
        {
          "output_type": "execute_result",
          "data": {
            "text/plain": [
              "DataFrame[]"
            ]
          },
          "metadata": {},
          "execution_count": 7
        }
      ]
    },
    {
      "cell_type": "code",
      "source": [
        "query = \"\"\"\n",
        "SELECT * FROM delta.`/tmp/persons`;\n",
        "\"\"\"\n",
        "spark.sql(query).show()"
      ],
      "metadata": {
        "colab": {
          "base_uri": "https://localhost:8080/"
        },
        "id": "BRS4ng1Exzty",
        "outputId": "2ae1895e-4e91-4354-af12-84398263eebb"
      },
      "execution_count": null,
      "outputs": [
        {
          "output_type": "stream",
          "name": "stdout",
          "text": [
            "+------+-------+---+-----------+\n",
            "|serial|   name|age|    address|\n",
            "+------+-------+---+-----------+\n",
            "| 12345|  Alice| 25|123 Main St|\n",
            "| 67890|    Bob| 30|456 Oak Ave|\n",
            "| 24680|Charlie| 35| 789 Elm St|\n",
            "+------+-------+---+-----------+\n",
            "\n"
          ]
        }
      ]
    },
    {
      "cell_type": "code",
      "source": [
        "query = \"\"\"\n",
        "CREATE TEMP VIEW newPersons AS\n",
        "SELECT col1 as serial, col2 as name, col3 as age, col4 as address\n",
        "FROM VALUES (\"78120\", \"Dan\", 42, \"432 Holly Rd\"), (\"97362\", \"Lorry\", 40, \"290 Wise Ave\"), (\"12345\", \"Alice\", 25, \"123 Main St\")\n",
        "\"\"\"\n",
        "spark.sql(query)"
      ],
      "metadata": {
        "colab": {
          "base_uri": "https://localhost:8080/"
        },
        "id": "r7wKrQvYyCT_",
        "outputId": "717f9cdf-7509-4c4f-cfae-ccef19160eb2"
      },
      "execution_count": null,
      "outputs": [
        {
          "output_type": "execute_result",
          "data": {
            "text/plain": [
              "DataFrame[]"
            ]
          },
          "metadata": {},
          "execution_count": 9
        }
      ]
    },
    {
      "cell_type": "code",
      "source": [
        "query = \"\"\"\n",
        "SELECT * from newPersons\n",
        "\"\"\"\n",
        "spark.sql(query).show()"
      ],
      "metadata": {
        "colab": {
          "base_uri": "https://localhost:8080/"
        },
        "id": "GjBg5aKyqjjk",
        "outputId": "e435165e-32b0-4921-fb6c-8de03cdc2e6c"
      },
      "execution_count": null,
      "outputs": [
        {
          "output_type": "stream",
          "name": "stdout",
          "text": [
            "+------+-----+---+------------+\n",
            "|serial| name|age|     address|\n",
            "+------+-----+---+------------+\n",
            "| 78120|  Dan| 42|432 Holly Rd|\n",
            "| 97362|Lorry| 40|290 Wise Ave|\n",
            "| 12345|Alice| 25| 123 Main St|\n",
            "+------+-----+---+------------+\n",
            "\n"
          ]
        }
      ]
    },
    {
      "cell_type": "markdown",
      "source": [
        "### Salaries"
      ],
      "metadata": {
        "id": "hrInpLvgod65"
      }
    },
    {
      "cell_type": "code",
      "source": [
        "query = \"\"\"\n",
        "CREATE TABLE delta.`/tmp/salaries` USING DELTA AS\n",
        "SELECT col1 as serial, col2 as salary\n",
        "FROM VALUES (\"12345\", 45000),\n",
        "        (\"67890\", 52000),\n",
        "        (\"24680\", 36000),\n",
        "        (\"78120\", 60000),\n",
        "        (\"97362\",38000)\n",
        "\"\"\"\n",
        "spark.sql(query)"
      ],
      "metadata": {
        "colab": {
          "base_uri": "https://localhost:8080/"
        },
        "id": "MVChthzayPAH",
        "outputId": "0c71c151-7d28-4ec8-981b-6c61498937db"
      },
      "execution_count": null,
      "outputs": [
        {
          "output_type": "execute_result",
          "data": {
            "text/plain": [
              "DataFrame[]"
            ]
          },
          "metadata": {},
          "execution_count": 11
        }
      ]
    },
    {
      "cell_type": "code",
      "source": [
        "query = \"\"\"\n",
        "SELECT * from delta.`/tmp/salaries`\n",
        "\"\"\"\n",
        "spark.sql(query).show()"
      ],
      "metadata": {
        "colab": {
          "base_uri": "https://localhost:8080/"
        },
        "id": "Q1Z-4SS8yO0_",
        "outputId": "3e768693-5f32-497a-9ead-1116469c0f6e"
      },
      "execution_count": null,
      "outputs": [
        {
          "output_type": "stream",
          "name": "stdout",
          "text": [
            "+------+------+\n",
            "|serial|salary|\n",
            "+------+------+\n",
            "| 24680| 36000|\n",
            "| 78120| 60000|\n",
            "| 97362| 38000|\n",
            "| 12345| 45000|\n",
            "| 67890| 52000|\n",
            "+------+------+\n",
            "\n"
          ]
        }
      ]
    },
    {
      "cell_type": "code",
      "source": [
        "query = \"\"\"\n",
        "CREATE TEMP VIEW newSalaries AS\n",
        "SELECT col1 as serial, col2 as salary\n",
        "FROM VALUES (\"12345\", 47000),\n",
        "        (\"67890\", 50000),\n",
        "        (\"24680\", 46000),\n",
        "        (\"78120\", 61000),\n",
        "        (\"97362\",39000)\n",
        "\"\"\"\n",
        "spark.sql(query)"
      ],
      "metadata": {
        "colab": {
          "base_uri": "https://localhost:8080/"
        },
        "id": "TgVPE7qXytsy",
        "outputId": "74534896-766c-4593-b546-447c14a8d242"
      },
      "execution_count": null,
      "outputs": [
        {
          "output_type": "execute_result",
          "data": {
            "text/plain": [
              "DataFrame[]"
            ]
          },
          "metadata": {},
          "execution_count": 13
        }
      ]
    },
    {
      "cell_type": "code",
      "source": [
        "query = \"\"\"\n",
        "SELECT * from newSalaries\n",
        "\"\"\"\n",
        "spark.sql(query).show()"
      ],
      "metadata": {
        "colab": {
          "base_uri": "https://localhost:8080/"
        },
        "id": "XodXLDZGytly",
        "outputId": "633cdf6e-983a-4c8e-cc73-3ce8aa4da480"
      },
      "execution_count": null,
      "outputs": [
        {
          "output_type": "stream",
          "name": "stdout",
          "text": [
            "+------+------+\n",
            "|serial|salary|\n",
            "+------+------+\n",
            "| 12345| 47000|\n",
            "| 67890| 50000|\n",
            "| 24680| 46000|\n",
            "| 78120| 61000|\n",
            "| 97362| 39000|\n",
            "+------+------+\n",
            "\n"
          ]
        }
      ]
    },
    {
      "cell_type": "markdown",
      "source": [
        "### Sales"
      ],
      "metadata": {
        "id": "qvCkgOJ2o51k"
      }
    },
    {
      "cell_type": "code",
      "source": [
        "query = \"\"\"\n",
        "CREATE TABLE delta.`/tmp/sales` USING DELTA AS\n",
        "SELECT col1 as product_id, col2 as quantity, col3 as totalprice\n",
        "FROM VALUES (\"CHA_2\",2,60),(\"BED_4\",1,300),(\"SHO_15\",2,60)\n",
        "\"\"\"\n",
        "spark.sql(query)"
      ],
      "metadata": {
        "colab": {
          "base_uri": "https://localhost:8080/"
        },
        "id": "UHT6rUe3zGtE",
        "outputId": "e1fb0163-766a-4c67-80dd-ce33f1fd6b21"
      },
      "execution_count": null,
      "outputs": [
        {
          "output_type": "execute_result",
          "data": {
            "text/plain": [
              "DataFrame[]"
            ]
          },
          "metadata": {},
          "execution_count": 15
        }
      ]
    },
    {
      "cell_type": "code",
      "source": [
        "query = \"\"\"\n",
        "SELECT * FROM delta.`/tmp/sales`\n",
        "\"\"\"\n",
        "spark.sql(query).show()"
      ],
      "metadata": {
        "colab": {
          "base_uri": "https://localhost:8080/"
        },
        "id": "IcvSG8Bs1qJu",
        "outputId": "02606852-b1de-49b7-e2fb-1d26e7a4093f"
      },
      "execution_count": null,
      "outputs": [
        {
          "output_type": "stream",
          "name": "stdout",
          "text": [
            "+----------+--------+----------+\n",
            "|product_id|quantity|totalprice|\n",
            "+----------+--------+----------+\n",
            "|     BED_4|       1|       300|\n",
            "|    SHO_15|       2|        60|\n",
            "|     CHA_2|       2|        60|\n",
            "+----------+--------+----------+\n",
            "\n"
          ]
        }
      ]
    },
    {
      "cell_type": "code",
      "source": [
        "query = \"\"\"\n",
        "CREATE TABLE delta.`/tmp/salesStatus` USING DELTA AS\n",
        "SELECT product_id, quantity, totalprice, 'available' as status\n",
        "FROM delta.`/tmp/sales`\n",
        "\"\"\"\n",
        "spark.sql(query)"
      ],
      "metadata": {
        "colab": {
          "base_uri": "https://localhost:8080/"
        },
        "id": "loBnyH7QGVc1",
        "outputId": "eee415a2-788d-4495-91d4-e7aa5837108b"
      },
      "execution_count": null,
      "outputs": [
        {
          "output_type": "execute_result",
          "data": {
            "text/plain": [
              "DataFrame[]"
            ]
          },
          "metadata": {},
          "execution_count": 23
        }
      ]
    },
    {
      "cell_type": "code",
      "source": [
        "query = \"\"\"\n",
        "SELECT * FROM delta.`/tmp/salesStatus`\n",
        "\"\"\"\n",
        "spark.sql(query).show()"
      ],
      "metadata": {
        "colab": {
          "base_uri": "https://localhost:8080/"
        },
        "id": "i389omYMGoeL",
        "outputId": "d3a5a01c-3a0a-4228-a813-5001fb45c3b9"
      },
      "execution_count": null,
      "outputs": [
        {
          "output_type": "stream",
          "name": "stdout",
          "text": [
            "+----------+--------+----------+---------+\n",
            "|product_id|quantity|totalprice|   status|\n",
            "+----------+--------+----------+---------+\n",
            "|     BED_4|       1|       300|available|\n",
            "|    SHO_15|       2|        60|available|\n",
            "|     CHA_2|       2|        60|available|\n",
            "+----------+--------+----------+---------+\n",
            "\n"
          ]
        }
      ]
    },
    {
      "cell_type": "code",
      "source": [
        "query = \"\"\"\n",
        "CREATE TEMP VIEW newSales AS\n",
        "SELECT col1 as product_id, col2 as quantity, col3 as totalprice\n",
        "FROM VALUES (\"SHO_15\",3,90),(\"CHA_2\",1,30),(\"BED_6\",1,200)\n",
        "\n",
        "\"\"\"\n",
        "spark.sql(query)\n"
      ],
      "metadata": {
        "colab": {
          "base_uri": "https://localhost:8080/"
        },
        "id": "o80YSQtzzGnM",
        "outputId": "506a6896-858f-4c03-92e0-3edae6038048"
      },
      "execution_count": null,
      "outputs": [
        {
          "output_type": "execute_result",
          "data": {
            "text/plain": [
              "DataFrame[]"
            ]
          },
          "metadata": {},
          "execution_count": 17
        }
      ]
    },
    {
      "cell_type": "code",
      "source": [
        "query = \"\"\"\n",
        "SELECT * FROM newSales\n",
        "\"\"\"\n",
        "spark.sql(query).show()"
      ],
      "metadata": {
        "colab": {
          "base_uri": "https://localhost:8080/"
        },
        "id": "Ede4oEeM2Wz1",
        "outputId": "594f9fcb-645e-4315-bf36-61b5f79b0ffe"
      },
      "execution_count": null,
      "outputs": [
        {
          "output_type": "stream",
          "name": "stdout",
          "text": [
            "+----------+--------+----------+\n",
            "|product_id|quantity|totalprice|\n",
            "+----------+--------+----------+\n",
            "|    SHO_15|       3|        90|\n",
            "|     CHA_2|       1|        30|\n",
            "|     BED_6|       1|       200|\n",
            "+----------+--------+----------+\n",
            "\n"
          ]
        }
      ]
    },
    {
      "cell_type": "markdown",
      "source": [
        "### Products"
      ],
      "metadata": {
        "id": "29J3fU3po_v0"
      }
    },
    {
      "cell_type": "code",
      "source": [
        "query = \"\"\"\n",
        "CREATE TEMP VIEW products AS\n",
        "SELECT col1 as product_id, col2 as category, col3 as color\n",
        "FROM VALUES (\"CHA_2\",\"Furniture\",\"blue\"),(\"BED_4\",\"Furniture\",\"brown\"),(\"SHO_15\",\"Cloth\",\"black\")\n",
        "\n",
        "\"\"\"\n",
        "spark.sql(query)"
      ],
      "metadata": {
        "colab": {
          "base_uri": "https://localhost:8080/"
        },
        "id": "aTPJFSMp2bh7",
        "outputId": "cd3db31b-f100-422c-f080-955aeb5697d3"
      },
      "execution_count": null,
      "outputs": [
        {
          "output_type": "execute_result",
          "data": {
            "text/plain": [
              "DataFrame[]"
            ]
          },
          "metadata": {},
          "execution_count": 19
        }
      ]
    },
    {
      "cell_type": "code",
      "source": [
        "query = \"\"\"\n",
        "SELECT * FROM products\n",
        "\"\"\"\n",
        "spark.sql(query).show()"
      ],
      "metadata": {
        "colab": {
          "base_uri": "https://localhost:8080/"
        },
        "id": "8RWuphHw2j-7",
        "outputId": "1d3c56f7-6291-4cca-b7f7-69e6d9cda491"
      },
      "execution_count": null,
      "outputs": [
        {
          "output_type": "stream",
          "name": "stdout",
          "text": [
            "+----------+---------+-----+\n",
            "|product_id| category|color|\n",
            "+----------+---------+-----+\n",
            "|     CHA_2|Furniture| blue|\n",
            "|     BED_4|Furniture|brown|\n",
            "|    SHO_15|    Cloth|black|\n",
            "+----------+---------+-----+\n",
            "\n"
          ]
        }
      ]
    },
    {
      "cell_type": "markdown",
      "source": [
        "## Demo2: delta operations"
      ],
      "metadata": {
        "id": "OkgbLaJW-P0w"
      }
    },
    {
      "cell_type": "markdown",
      "source": [
        "### Q1. Adding new tuples\n",
        "Consider the Delta table `person` with the following columns: serial, name, age, and address. You have a new dataset `newPersons` with the same columns, but with additional records. Write a merge statement to update the Delta table with the new records.\n"
      ],
      "metadata": {
        "id": "aRP_QqBQN8W1"
      }
    },
    {
      "cell_type": "code",
      "source": [
        "query = \"\"\"\n",
        "MERGE INTO delta.`/tmp/persons` AS oldData\n",
        "USING newPersons\n",
        "ON oldData.serial = newPersons.serial\n",
        "WHEN NOT MATCHED\n",
        "  THEN INSERT *;\n",
        "\"\"\"\n",
        "spark.sql(query).show()"
      ],
      "metadata": {
        "colab": {
          "base_uri": "https://localhost:8080/"
        },
        "id": "GuQOLNgsEvLM",
        "outputId": "3655837f-cd2e-44e2-e820-43aac07752a8"
      },
      "execution_count": null,
      "outputs": [
        {
          "output_type": "stream",
          "name": "stdout",
          "text": [
            "+-----------------+----------------+----------------+-----------------+\n",
            "|num_affected_rows|num_updated_rows|num_deleted_rows|num_inserted_rows|\n",
            "+-----------------+----------------+----------------+-----------------+\n",
            "|                2|               0|               0|                2|\n",
            "+-----------------+----------------+----------------+-----------------+\n",
            "\n"
          ]
        }
      ]
    },
    {
      "cell_type": "code",
      "source": [
        "query = \"\"\"\n",
        "SELECT * FROM\n",
        "delta.`/tmp/persons`\n",
        "\"\"\"\n",
        "spark.sql(query).show()"
      ],
      "metadata": {
        "colab": {
          "base_uri": "https://localhost:8080/"
        },
        "id": "RkPVm4KAGcJ3",
        "outputId": "9f31b6b5-7000-4201-a06e-1050e82fd4b5"
      },
      "execution_count": null,
      "outputs": [
        {
          "output_type": "stream",
          "name": "stdout",
          "text": [
            "+------+-------+---+------------+\n",
            "|serial|   name|age|     address|\n",
            "+------+-------+---+------------+\n",
            "| 97362|  Lorry| 40|290 Wise Ave|\n",
            "| 12345|  Alice| 25| 123 Main St|\n",
            "| 78120|    Dan| 42|432 Holly Rd|\n",
            "| 67890|    Bob| 30| 456 Oak Ave|\n",
            "| 24680|Charlie| 35|  789 Elm St|\n",
            "+------+-------+---+------------+\n",
            "\n"
          ]
        }
      ]
    },
    {
      "cell_type": "markdown",
      "source": [
        "### Q2: updating existing tuples\n",
        "Assume you have a Delta table `salaries` with columns serial and salary. You want to update the salary of the employees who earn less than 50,000. You have a new dataset, `newSalaries` with the same columns but with updated salary information. Write a merge statement to update the `salaries` table with the new salary information.\n"
      ],
      "metadata": {
        "id": "nKD875I8OYT_"
      }
    },
    {
      "cell_type": "code",
      "source": [
        "query = \"\"\"\n",
        "MERGE INTO delta.`/tmp/salaries` AS oldData\n",
        "USING newSalaries\n",
        "ON oldData.serial = newSalaries.serial\n",
        "WHEN MATCHED AND oldData.salary<50000\n",
        "  THEN UPDATE SET oldData.salary=newSalaries.salary;\n",
        "\"\"\"\n",
        "spark.sql(query).show()"
      ],
      "metadata": {
        "colab": {
          "base_uri": "https://localhost:8080/"
        },
        "id": "YutXzBL8Gp1U",
        "outputId": "c1bb68ce-27ba-4f9d-b3e7-0e9a36aea2f3"
      },
      "execution_count": null,
      "outputs": [
        {
          "output_type": "stream",
          "name": "stdout",
          "text": [
            "+-----------------+----------------+----------------+-----------------+\n",
            "|num_affected_rows|num_updated_rows|num_deleted_rows|num_inserted_rows|\n",
            "+-----------------+----------------+----------------+-----------------+\n",
            "|                3|               3|               0|                0|\n",
            "+-----------------+----------------+----------------+-----------------+\n",
            "\n"
          ]
        }
      ]
    },
    {
      "cell_type": "code",
      "source": [
        "query = \"\"\"\n",
        "SELECT * FROM\n",
        "delta.`/tmp/salaries`\n",
        "\"\"\"\n",
        "spark.sql(query).show()"
      ],
      "metadata": {
        "colab": {
          "base_uri": "https://localhost:8080/"
        },
        "id": "zgv1dfHtGpy1",
        "outputId": "b053306d-1d2e-4ee2-c00b-cdb4b7e00de8"
      },
      "execution_count": null,
      "outputs": [
        {
          "output_type": "stream",
          "name": "stdout",
          "text": [
            "+------+------+\n",
            "|serial|salary|\n",
            "+------+------+\n",
            "| 24680| 46000|\n",
            "| 78120| 60000|\n",
            "| 97362| 39000|\n",
            "| 12345| 47000|\n",
            "| 67890| 52000|\n",
            "+------+------+\n",
            "\n"
          ]
        }
      ]
    },
    {
      "cell_type": "markdown",
      "source": [
        "### Q3: adding new tuples and updating existing ones\n",
        "You have a Delta table `sales` with columns `product_id`, `quantity`, and `totalprice`. Write a merge statement to insert the new products from a dataframe `newSales` into `sales` and to make sure that, for existing products `sales` has the sum of the quantity and totalprice.\n"
      ],
      "metadata": {
        "id": "hU_0ZWKHoqwj"
      }
    },
    {
      "cell_type": "code",
      "source": [
        "query = \"\"\"\n",
        "MERGE INTO delta.`/tmp/sales` AS oldData\n",
        "USING newSales\n",
        "ON oldData.product_id = newSales.product_id\n",
        "WHEN MATCHED\n",
        "  THEN UPDATE SET oldData.quantity = oldData.quantity + newSales.quantity,\n",
        "                  oldData.totalprice = oldData.totalprice + newSales.totalprice\n",
        "WHEN NOT MATCHED\n",
        "  THEN INSERT *\n",
        "\"\"\"\n",
        "spark.sql(query).show()"
      ],
      "metadata": {
        "colab": {
          "base_uri": "https://localhost:8080/"
        },
        "id": "CiHqjAQxIbAP",
        "outputId": "3864c027-7c32-48e8-bfdb-7522ff618d50"
      },
      "execution_count": null,
      "outputs": [
        {
          "output_type": "stream",
          "name": "stdout",
          "text": [
            "+-----------------+----------------+----------------+-----------------+\n",
            "|num_affected_rows|num_updated_rows|num_deleted_rows|num_inserted_rows|\n",
            "+-----------------+----------------+----------------+-----------------+\n",
            "|                3|               2|               0|                1|\n",
            "+-----------------+----------------+----------------+-----------------+\n",
            "\n"
          ]
        }
      ]
    },
    {
      "cell_type": "code",
      "source": [
        "query = \"\"\"\n",
        "SELECT * FROM\n",
        "delta.`/tmp/sales`\n",
        "\"\"\"\n",
        "spark.sql(query).show()"
      ],
      "metadata": {
        "colab": {
          "base_uri": "https://localhost:8080/"
        },
        "id": "BA6nfkPGIa5D",
        "outputId": "aa81675e-2d8c-437f-dfca-b67fcebfa67a"
      },
      "execution_count": null,
      "outputs": [
        {
          "output_type": "stream",
          "name": "stdout",
          "text": [
            "+----------+--------+----------+\n",
            "|product_id|quantity|totalprice|\n",
            "+----------+--------+----------+\n",
            "|     BED_4|       1|       300|\n",
            "|     BED_6|       1|       200|\n",
            "|     CHA_2|       3|        90|\n",
            "|    SHO_15|       5|       150|\n",
            "+----------+--------+----------+\n",
            "\n"
          ]
        }
      ]
    },
    {
      "cell_type": "markdown",
      "source": [
        "### Q4: Merge tables with different schemas\n",
        "Consier the delta table `sales`.  Write a merge statement to augment `sales` with the cateogry and the color of the products by using an auxiliary table `Products` whose schema is `product_id`, `category` and `color` and such that `product_id` can used for matching the tuples of `sales`."
      ],
      "metadata": {
        "id": "cOCzQqTmy7h9"
      }
    },
    {
      "cell_type": "code",
      "source": [
        "query = \"\"\"\n",
        "MERGE INTO delta.`/tmp/sales` oldData\n",
        "USING products\n",
        "ON oldData.product_id = products.product_id\n",
        "WHEN MATCHED\n",
        "  THEN UPDATE SET *\n",
        "WHEN NOT MATCHED\n",
        "  THEN INSERT *\n",
        "\"\"\"\n",
        "spark.sql(query).show()"
      ],
      "metadata": {
        "colab": {
          "base_uri": "https://localhost:8080/"
        },
        "id": "eNPS7CN5Kj-v",
        "outputId": "044c3191-9aed-482e-d053-11b4e061c684"
      },
      "execution_count": null,
      "outputs": [
        {
          "output_type": "stream",
          "name": "stdout",
          "text": [
            "+-----------------+----------------+----------------+-----------------+\n",
            "|num_affected_rows|num_updated_rows|num_deleted_rows|num_inserted_rows|\n",
            "+-----------------+----------------+----------------+-----------------+\n",
            "|                3|               3|               0|                0|\n",
            "+-----------------+----------------+----------------+-----------------+\n",
            "\n"
          ]
        }
      ]
    },
    {
      "cell_type": "code",
      "source": [
        "query = \"\"\"\n",
        "SELECT * FROM delta.`/tmp/sales`\n",
        "\"\"\"\n",
        "spark.sql(query).show()"
      ],
      "metadata": {
        "colab": {
          "base_uri": "https://localhost:8080/"
        },
        "id": "jGPtjZOcLhWr",
        "outputId": "b9a08054-9a03-40d0-bf1a-9a4dfd63a363"
      },
      "execution_count": null,
      "outputs": [
        {
          "output_type": "stream",
          "name": "stdout",
          "text": [
            "+----------+--------+----------+---------+-----+\n",
            "|product_id|quantity|totalprice| category|color|\n",
            "+----------+--------+----------+---------+-----+\n",
            "|     BED_4|       1|       300|Furniture|brown|\n",
            "|     BED_6|       1|       200|     NULL| NULL|\n",
            "|     CHA_2|       3|        90|Furniture| blue|\n",
            "|    SHO_15|       5|       150|    Cloth|black|\n",
            "+----------+--------+----------+---------+-----+\n",
            "\n"
          ]
        }
      ]
    },
    {
      "cell_type": "markdown",
      "source": [
        "### Q5: updating existing tuples when not matched by source\n",
        "Consier the delta table `salesStatus` which extends the table `sales` with the column `status` meant to track the availability of products.\n",
        "Write a merge statement that:\n",
        "- updates the quantity of products in `salesStatus` by considering sales reported in `newSales` like in Q3 above and\n",
        "- marks the status of the products which are not reported in `newSales` as 'unavailable'"
      ],
      "metadata": {
        "id": "iLZxdogbGs05"
      }
    },
    {
      "cell_type": "code",
      "source": [
        "query = \"\"\"\n",
        "MERGE INTO delta.`/tmp/salesStatus` AS oldData\n",
        "USING newSales\n",
        "ON oldData.product_id = newSales.product_id\n",
        "WHEN MATCHED\n",
        "  THEN UPDATE SET oldData.quantity = oldData.quantity + newSales.quantity,\n",
        "                  oldData.totalprice = oldData.totalprice + newSales.totalprice\n",
        "WHEN NOT MATCHED BY SOURCE\n",
        "  THEN UPDATE SET oldData.status = 'unavailable'\n",
        "\"\"\"\n",
        "spark.sql(query).show()"
      ],
      "metadata": {
        "colab": {
          "base_uri": "https://localhost:8080/"
        },
        "id": "LawVDl8JIQyI",
        "outputId": "fd09b6b4-fb23-4dda-cdf0-72f18a3b220d"
      },
      "execution_count": null,
      "outputs": [
        {
          "output_type": "stream",
          "name": "stdout",
          "text": [
            "+-----------------+----------------+----------------+-----------------+\n",
            "|num_affected_rows|num_updated_rows|num_deleted_rows|num_inserted_rows|\n",
            "+-----------------+----------------+----------------+-----------------+\n",
            "|                3|               3|               0|                0|\n",
            "+-----------------+----------------+----------------+-----------------+\n",
            "\n"
          ]
        }
      ]
    },
    {
      "cell_type": "code",
      "source": [
        "query = \"\"\"\n",
        "SELECT * FROM delta.`/tmp/salesStatus`\n",
        "\"\"\"\n",
        "spark.sql(query).show()"
      ],
      "metadata": {
        "colab": {
          "base_uri": "https://localhost:8080/"
        },
        "id": "HGoK-tEEIVBc",
        "outputId": "4c55dad2-5e0d-4695-c46f-ca0916a44b5c"
      },
      "execution_count": null,
      "outputs": [
        {
          "output_type": "stream",
          "name": "stdout",
          "text": [
            "+----------+--------+----------+-----------+\n",
            "|product_id|quantity|totalprice|     status|\n",
            "+----------+--------+----------+-----------+\n",
            "|     BED_4|       1|       300|unavailable|\n",
            "|     CHA_2|       3|        90|  available|\n",
            "|    SHO_15|       5|       150|  available|\n",
            "+----------+--------+----------+-----------+\n",
            "\n"
          ]
        }
      ]
    },
    {
      "cell_type": "markdown",
      "source": [
        "## Demo 3: Attaching constraints"
      ],
      "metadata": {
        "id": "D6Q_U_6R1yBP"
      }
    },
    {
      "cell_type": "markdown",
      "source": [
        "### Not-null constraint"
      ],
      "metadata": {
        "id": "wWeLbIQj1-3D"
      }
    },
    {
      "cell_type": "code",
      "source": [
        "query = \"\"\"\n",
        "CREATE TABLE default.persons (\n",
        "    serial INT NOT NULL,\n",
        "    name STRING,\n",
        "    birthDate TIMESTAMP,\n",
        "    address STRING\n",
        "  ) USING DELTA;\n",
        "\"\"\"\n",
        "spark.sql(query)"
      ],
      "metadata": {
        "colab": {
          "base_uri": "https://localhost:8080/"
        },
        "id": "5TqMXDUD13mQ",
        "outputId": "43f29f79-cf6d-4183-eaf0-87702cd85390"
      },
      "execution_count": null,
      "outputs": [
        {
          "output_type": "execute_result",
          "data": {
            "text/plain": [
              "DataFrame[]"
            ]
          },
          "metadata": {},
          "execution_count": 7
        }
      ]
    },
    {
      "cell_type": "code",
      "source": [
        "query = \"\"\"insert into default.persons values (12345, \"Alice\",\"2000-02-01\" ,\"123 Main St\") \"\"\"\n",
        "spark.sql(query)"
      ],
      "metadata": {
        "colab": {
          "base_uri": "https://localhost:8080/"
        },
        "id": "ILZAiGWN3HzV",
        "outputId": "35b13dd4-5280-4070-cff5-231bda7ee802"
      },
      "execution_count": null,
      "outputs": [
        {
          "output_type": "execute_result",
          "data": {
            "text/plain": [
              "DataFrame[]"
            ]
          },
          "metadata": {},
          "execution_count": 8
        }
      ]
    },
    {
      "cell_type": "code",
      "source": [
        "query = \"\"\"select * from default.persons \"\"\"\n",
        "spark.sql(query).show()"
      ],
      "metadata": {
        "colab": {
          "base_uri": "https://localhost:8080/"
        },
        "id": "C7yIbaHm3bmb",
        "outputId": "29fea89e-795e-4922-d57a-c4d5c8a4a01b"
      },
      "execution_count": null,
      "outputs": [
        {
          "output_type": "stream",
          "name": "stdout",
          "text": [
            "+------+-----+-------------------+-----------+\n",
            "|serial| name|          birthDate|    address|\n",
            "+------+-----+-------------------+-----------+\n",
            "| 12345|Alice|2000-02-01 00:00:00|123 Main St|\n",
            "+------+-----+-------------------+-----------+\n",
            "\n"
          ]
        }
      ]
    },
    {
      "cell_type": "markdown",
      "source": [
        "Can we run the following statement?"
      ],
      "metadata": {
        "id": "8ukalnEM3tw0"
      }
    },
    {
      "cell_type": "code",
      "source": [
        "# query = \"\"\"insert into default.persons values (null, \"Bob\",\"1996-03-14\" ,\"456 Oak Ave\") \"\"\"\n",
        "# spark.sql(query).show()"
      ],
      "metadata": {
        "id": "e4QMxLUrMUsu"
      },
      "execution_count": null,
      "outputs": []
    },
    {
      "cell_type": "markdown",
      "source": [
        "### Predicate constraint"
      ],
      "metadata": {
        "id": "OCQ_46q02BDs"
      }
    },
    {
      "cell_type": "code",
      "source": [
        "spark.sql(\"\"\" ALTER TABLE default.persons ADD CONSTRAINT birthdate CHECK (birthDate > '2000-01-01'); \"\"\")"
      ],
      "metadata": {
        "colab": {
          "base_uri": "https://localhost:8080/"
        },
        "id": "yuhD3yaL2GU8",
        "outputId": "20fcaf1e-573c-406d-8bd8-02bd5308b3e9"
      },
      "execution_count": null,
      "outputs": [
        {
          "output_type": "execute_result",
          "data": {
            "text/plain": [
              "DataFrame[]"
            ]
          },
          "metadata": {},
          "execution_count": 62
        }
      ]
    },
    {
      "cell_type": "code",
      "source": [
        "spark.sql(\"\"\"SHOW TBLPROPERTIES default.persons\"\"\").show(truncate=False)"
      ],
      "metadata": {
        "colab": {
          "base_uri": "https://localhost:8080/"
        },
        "id": "wWsQJYGi4n0A",
        "outputId": "9a4d7436-d00f-4b37-ea25-690292a1303c"
      },
      "execution_count": null,
      "outputs": [
        {
          "output_type": "stream",
          "name": "stdout",
          "text": [
            "+---------------------------+------------------------+\n",
            "|key                        |value                   |\n",
            "+---------------------------+------------------------+\n",
            "|delta.constraints.birthdate|birthDate > '2000-01-01'|\n",
            "|delta.minReaderVersion     |1                       |\n",
            "|delta.minWriterVersion     |3                       |\n",
            "+---------------------------+------------------------+\n",
            "\n"
          ]
        }
      ]
    },
    {
      "cell_type": "code",
      "source": [
        "spark.sql(\"\"\"insert into default.persons values (47962, \"Bob\",\"2003-03-14\" ,\"456 Oak Ave\") \"\"\")"
      ],
      "metadata": {
        "colab": {
          "base_uri": "https://localhost:8080/"
        },
        "id": "L2jaoF7H35Uj",
        "outputId": "84276ae1-a40c-4644-bf36-abd464e2595f"
      },
      "execution_count": null,
      "outputs": [
        {
          "output_type": "execute_result",
          "data": {
            "text/plain": [
              "DataFrame[]"
            ]
          },
          "metadata": {},
          "execution_count": 64
        }
      ]
    },
    {
      "cell_type": "markdown",
      "source": [
        "Can we run the following statement?"
      ],
      "metadata": {
        "id": "hESBMIS434pn"
      }
    },
    {
      "cell_type": "code",
      "source": [
        "# spark.sql(\"\"\"insert into default.persons values (47962, \"Bob\",\"1999-03-14\" ,\"456 Oak Ave\") \"\"\")"
      ],
      "metadata": {
        "id": "O_zZuSuZlJPD"
      },
      "execution_count": null,
      "outputs": []
    },
    {
      "cell_type": "markdown",
      "source": [
        "### Generated columns\n",
        "The following  delta table contains three columns `year`, `month` and `day` that must correspond to the date elements in the `saledate` column."
      ],
      "metadata": {
        "id": "HVCjZ2MyDGS5"
      }
    },
    {
      "cell_type": "code",
      "source": [
        "from delta.tables import *\n",
        "DeltaTable.createOrReplace(spark) \\\n",
        "  .tableName(\"default.sales\") \\\n",
        "  .addColumn(\"saleid\", \"STRING\") \\\n",
        "  .addColumn(\"saledate\", \"TIMESTAMP\") \\\n",
        "  .addColumn(\"quantity\", \"INT\") \\\n",
        "  .addColumn(\"year\", \"INT\", generatedAlwaysAs=\"YEAR(saledate)\") \\\n",
        "  .addColumn(\"month\", \"INT\", generatedAlwaysAs=\"MONTH(saledate)\") \\\n",
        "  .addColumn(\"day\", \"INT\", generatedAlwaysAs=\"DAYOFMONTH(saledate)\") \\\n",
        "  .partitionedBy(\"year\", \"month\") \\\n",
        "  .execute()"
      ],
      "metadata": {
        "colab": {
          "base_uri": "https://localhost:8080/"
        },
        "id": "nDQp6eD7G-rG",
        "outputId": "134e221d-d010-47af-a61f-92806121be7b"
      },
      "execution_count": null,
      "outputs": [
        {
          "output_type": "execute_result",
          "data": {
            "text/plain": [
              "<delta.tables.DeltaTable at 0x7e6b8421d330>"
            ]
          },
          "metadata": {},
          "execution_count": 14
        }
      ]
    },
    {
      "cell_type": "code",
      "source": [
        "spark.sql(\"\"\" insert into default.sales\n",
        "            values ('S000000124','2023-02-26 00:00:00',2.0,2023,02,26)  \"\"\")"
      ],
      "metadata": {
        "colab": {
          "base_uri": "https://localhost:8080/"
        },
        "id": "h77HzhcKIPpi",
        "outputId": "c6d6ea1f-af97-4b82-ef06-17b2daf7f499"
      },
      "execution_count": null,
      "outputs": [
        {
          "output_type": "stream",
          "name": "stdout",
          "text": [
            "++\n",
            "||\n",
            "++\n",
            "++\n",
            "\n"
          ]
        }
      ]
    },
    {
      "cell_type": "code",
      "source": [
        "spark.sql(\"\"\" select * from default.sales \"\"\").show()"
      ],
      "metadata": {
        "colab": {
          "base_uri": "https://localhost:8080/"
        },
        "id": "KqE9dVCNIVm0",
        "outputId": "3b073a0c-13ee-4529-b47b-073d831792e6"
      },
      "execution_count": null,
      "outputs": [
        {
          "output_type": "stream",
          "name": "stdout",
          "text": [
            "+----------+-------------------+--------+----+-----+---+\n",
            "|    saleid|           saledate|quantity|year|month|day|\n",
            "+----------+-------------------+--------+----+-----+---+\n",
            "|S000000124|2023-02-26 00:00:00|       2|2023|    2| 26|\n",
            "+----------+-------------------+--------+----+-----+---+\n",
            "\n"
          ]
        }
      ]
    },
    {
      "cell_type": "markdown",
      "source": [
        "can we run the following command?"
      ],
      "metadata": {
        "id": "R0ag38IaIgvW"
      }
    },
    {
      "cell_type": "code",
      "source": [
        "# spark.sql(\"\"\" insert into default.sales values ('S000000124','2024-02-26 00:00:00',2.0,2023,02,26)  \"\"\")"
      ],
      "metadata": {
        "id": "YaBbdOXvIan7"
      },
      "execution_count": null,
      "outputs": []
    },
    {
      "cell_type": "markdown",
      "source": [
        "## Exercice to solve"
      ],
      "metadata": {
        "id": "JgchT6SU7-xR"
      }
    },
    {
      "cell_type": "markdown",
      "source": [
        "### Data import"
      ],
      "metadata": {
        "id": "Z1G5IVktAXSx"
      }
    },
    {
      "cell_type": "code",
      "source": [
        "query = \"\"\"\n",
        "CREATE TABLE IF NOT EXISTS salesOriginal\n",
        "USING csv\n",
        "OPTIONS (\n",
        "  header \"true\",\n",
        "  path \"/tmp/delta/sales/salesOriginal.csv\",\n",
        "  inferSchema \"true\"\n",
        ")\n",
        "\"\"\"\n",
        "spark.sql(query)"
      ],
      "metadata": {
        "colab": {
          "base_uri": "https://localhost:8080/"
        },
        "id": "ordeWbBrN4nx",
        "outputId": "caa5c529-e750-4afe-f56f-7c012846cd17"
      },
      "execution_count": null,
      "outputs": [
        {
          "output_type": "execute_result",
          "data": {
            "text/plain": [
              "DataFrame[]"
            ]
          },
          "metadata": {},
          "execution_count": 27
        }
      ]
    },
    {
      "cell_type": "code",
      "source": [
        "query = \"\"\"\n",
        "DESCRIBE salesOriginal\n",
        "\"\"\"\n",
        "spark.sql(query).show()"
      ],
      "metadata": {
        "colab": {
          "base_uri": "https://localhost:8080/"
        },
        "id": "g0Edbb9NQMdt",
        "outputId": "ad601588-d54d-4b5e-f82f-60775b74a30f"
      },
      "execution_count": null,
      "outputs": [
        {
          "output_type": "stream",
          "name": "stdout",
          "text": [
            "+-------------+---------+-------+\n",
            "|     col_name|data_type|comment|\n",
            "+-------------+---------+-------+\n",
            "|       saleid|   string|   NULL|\n",
            "|     saledate|     date|   NULL|\n",
            "|     quantity|   double|   NULL|\n",
            "|    unitprice|   double|   NULL|\n",
            "|       shopid|   string|   NULL|\n",
            "|         city|   string|   NULL|\n",
            "|        state|   string|   NULL|\n",
            "|      country|   string|   NULL|\n",
            "|     shopsize|   string|   NULL|\n",
            "|    productid|   string|   NULL|\n",
            "|     category|   string|   NULL|\n",
            "|  subcategory|   string|   NULL|\n",
            "|         size|   string|   NULL|\n",
            "|purchaseprice|   double|   NULL|\n",
            "|        color|   string|   NULL|\n",
            "|        brand|   string|   NULL|\n",
            "+-------------+---------+-------+\n",
            "\n"
          ]
        }
      ]
    },
    {
      "cell_type": "code",
      "source": [
        "query = \"\"\"\n",
        "CREATE TABLE IF NOT EXISTS march23_sales\n",
        "USING csv\n",
        "OPTIONS (\n",
        "  header \"true\",\n",
        "  path \"/tmp/delta/sales/march23_sales.csv\",\n",
        "  inferSchema \"true\"\n",
        ")\n",
        "\"\"\"\n",
        "spark.sql(query)"
      ],
      "metadata": {
        "colab": {
          "base_uri": "https://localhost:8080/"
        },
        "id": "s0W7igW8QZbn",
        "outputId": "9481d982-9017-4ef2-9c89-c2077e86e710"
      },
      "execution_count": null,
      "outputs": [
        {
          "output_type": "execute_result",
          "data": {
            "text/plain": [
              "DataFrame[]"
            ]
          },
          "metadata": {},
          "execution_count": 69
        }
      ]
    },
    {
      "cell_type": "code",
      "source": [
        "query = \"\"\"\n",
        "DESCRIBE march23_sales\n",
        "\"\"\"\n",
        "spark.sql(query).show()"
      ],
      "metadata": {
        "colab": {
          "base_uri": "https://localhost:8080/"
        },
        "id": "v_tVBHO4QdNU",
        "outputId": "8b00dbcb-6f31-4d5d-e37f-40177ebce3f5"
      },
      "execution_count": null,
      "outputs": [
        {
          "output_type": "stream",
          "name": "stdout",
          "text": [
            "+----------+---------+-------+\n",
            "|  col_name|data_type|comment|\n",
            "+----------+---------+-------+\n",
            "|product_id|   string|   NULL|\n",
            "|  quantity|      int|   NULL|\n",
            "|totalprice|      int|   NULL|\n",
            "+----------+---------+-------+\n",
            "\n"
          ]
        }
      ]
    },
    {
      "cell_type": "markdown",
      "source": [
        "### Creation of the delta tables"
      ],
      "metadata": {
        "id": "6e_agqb2v0n2"
      }
    },
    {
      "cell_type": "code",
      "source": [
        "query = \"\"\"\n",
        "CREATE TABLE delta.`/tmp/deltaSales` USING DELTA AS SELECT * FROM salesOriginal;\n",
        "\"\"\"\n",
        "spark.sql(query)"
      ],
      "metadata": {
        "colab": {
          "base_uri": "https://localhost:8080/"
        },
        "id": "mWVBUgduQtNF",
        "outputId": "332ef7c1-c62d-40e6-f3fe-2611ca41a4d5"
      },
      "execution_count": null,
      "outputs": [
        {
          "output_type": "execute_result",
          "data": {
            "text/plain": [
              "DataFrame[]"
            ]
          },
          "metadata": {},
          "execution_count": 31
        }
      ]
    },
    {
      "cell_type": "code",
      "source": [
        "query = \"\"\"\n",
        "SELECT * FROM  delta.`/tmp/deltaSales`\n",
        "\"\"\"\n",
        "spark.sql(query).show(5)"
      ],
      "metadata": {
        "colab": {
          "base_uri": "https://localhost:8080/"
        },
        "id": "HvFi5eYOREaI",
        "outputId": "ef2b4874-a8d5-4337-c5e3-cb00f2d1eb0c"
      },
      "execution_count": null,
      "outputs": [
        {
          "output_type": "stream",
          "name": "stdout",
          "text": [
            "+----------+----------+--------+---------+------+-------------+----------+-------+--------+---------+---------+-----------+------+-------------+-----+-----+\n",
            "|    saleid|  saledate|quantity|unitprice|shopid|         city|     state|country|shopsize|productid| category|subcategory|  size|purchaseprice|color|brand|\n",
            "+----------+----------+--------+---------+------+-------------+----------+-------+--------+---------+---------+-----------+------+-------------+-----+-----+\n",
            "|S000000124|2023-02-26|     2.0|     60.0|shop_4|San Francisco|California|    USA|   small|    CHA_2|Furniture|      Chair|  NULL|         48.0| blue|Basic|\n",
            "|S000000125|2023-02-25|     1.0|    150.0|shop_5|      Houston|     Texas|    USA|   small|    BED_3|Furniture|        Bed|Single|        127.0|  red| Mega|\n",
            "|S000000126|2023-02-24|     1.0|    300.0|shop_6|  San Antonio|     Texas|    USA|   small|    BED_4|Furniture|        Bed|Double|        252.0|brown|Basic|\n",
            "|S000000127|2023-02-23|     1.0|    395.0|shop_7|      Chicago|  Illinois|    USA|   small|    BED_5|Furniture|        Bed| Queen|        333.0|black| Mega|\n",
            "|S000000128|2023-02-22|     4.0|    440.0|shop_8|   Regensburg|   Bavaria|Germany|   small|    BED_6|Furniture|        Bed|  King|        375.0|white|Basic|\n",
            "+----------+----------+--------+---------+------+-------------+----------+-------+--------+---------+---------+-----------+------+-------------+-----+-----+\n",
            "only showing top 5 rows\n",
            "\n"
          ]
        }
      ]
    },
    {
      "cell_type": "markdown",
      "source": [
        "### Adding new records\n",
        "Write a merge statement to insert the march 2023 records into `deltaSales`"
      ],
      "metadata": {
        "id": "Dmo8PBuNAK_o"
      }
    },
    {
      "cell_type": "code",
      "source": [
        "query = \"\"\"\n",
        "\n",
        "MERGE INTO delta.`/tmp/deltaSales` AS oldData\n",
        "USING march23_sales\n",
        "ON ..\n",
        "WHEN ..\n",
        "  THEN ..;\n",
        "\"\"\"\n",
        "spark.sql(query).show()"
      ],
      "metadata": {
        "colab": {
          "base_uri": "https://localhost:8080/"
        },
        "id": "_vms7G0-SprG",
        "outputId": "dabfeb8d-dcfe-4197-91a0-a4cffcd34ae5"
      },
      "execution_count": null,
      "outputs": [
        {
          "output_type": "stream",
          "name": "stdout",
          "text": [
            "+-----------------+----------------+----------------+-----------------+\n",
            "|num_affected_rows|num_updated_rows|num_deleted_rows|num_inserted_rows|\n",
            "+-----------------+----------------+----------------+-----------------+\n",
            "|               84|               0|               0|               84|\n",
            "+-----------------+----------------+----------------+-----------------+\n",
            "\n"
          ]
        }
      ]
    },
    {
      "cell_type": "markdown",
      "source": [
        "### Updating records\n",
        "Write update statements that increases the unitprice of products sold on 2023, based on their category, as follows: furniture -> 5%, others -> 10%"
      ],
      "metadata": {
        "id": "jJ0GWq2OAR06"
      }
    },
    {
      "cell_type": "code",
      "source": [
        "query = \"\"\"\n",
        "UPDATE delta.`/tmp/deltaSales`\n",
        "SET ..\n",
        "WHERE ..\n",
        "\"\"\"\n",
        "spark.sql(query).show()"
      ],
      "metadata": {
        "id": "UPs31eToTAwT"
      },
      "execution_count": null,
      "outputs": []
    },
    {
      "cell_type": "code",
      "source": [
        "query = \"\"\"\n",
        "UPDATE delta.`/tmp/deltaSales`\n",
        "SET ..\n",
        "WHERE ..\n",
        "\"\"\"\n",
        "spark.sql(query).show()"
      ],
      "metadata": {
        "colab": {
          "base_uri": "https://localhost:8080/"
        },
        "id": "XYz5VmL-U2qn",
        "outputId": "d40eb913-db01-4fa7-d0b8-4512ba51f168"
      },
      "execution_count": null,
      "outputs": [
        {
          "output_type": "stream",
          "name": "stdout",
          "text": [
            "+-----------------+\n",
            "|num_affected_rows|\n",
            "+-----------------+\n",
            "|             1680|\n",
            "+-----------------+\n",
            "\n"
          ]
        }
      ]
    },
    {
      "cell_type": "markdown",
      "source": [
        "### Removing old records\n",
        "remove all sales older than 01-Jan-2023. How many records remain?"
      ],
      "metadata": {
        "id": "hNyHm2oly6Cg"
      }
    },
    {
      "cell_type": "code",
      "source": [
        "query = \"\"\"\n",
        "DELETE FROM delta.`/tmp/deltaSales`\n",
        "WHERE ...\n",
        "\"\"\"\n",
        "spark.sql(query).show()"
      ],
      "metadata": {
        "colab": {
          "base_uri": "https://localhost:8080/"
        },
        "id": "3OQOnU2nVMpV",
        "outputId": "8e175280-fc32-4633-f6c7-95fced803654"
      },
      "execution_count": null,
      "outputs": [
        {
          "output_type": "stream",
          "name": "stdout",
          "text": [
            "+-----------------+\n",
            "|num_affected_rows|\n",
            "+-----------------+\n",
            "|             2438|\n",
            "+-----------------+\n",
            "\n"
          ]
        }
      ]
    },
    {
      "cell_type": "markdown",
      "source": [
        "### History viewing\n"
      ],
      "metadata": {
        "id": "3y09Br-I04C8"
      }
    },
    {
      "cell_type": "code",
      "source": [
        "query = \"\"\"\n",
        "DESCRIBE HISTORY delta.`/tmp/deltaSales`\n",
        "\"\"\"\n",
        "spark.sql(query).show()"
      ],
      "metadata": {
        "colab": {
          "base_uri": "https://localhost:8080/"
        },
        "id": "LWrOrQfDVfms",
        "outputId": "f63f53de-4140-4dc2-be64-6ec85a97f7ed"
      },
      "execution_count": null,
      "outputs": [
        {
          "output_type": "stream",
          "name": "stdout",
          "text": [
            "+-------+--------------------+------+--------+--------------------+--------------------+----+--------+---------+-----------+--------------+-------------+--------------------+------------+--------------------+\n",
            "|version|           timestamp|userId|userName|           operation| operationParameters| job|notebook|clusterId|readVersion|isolationLevel|isBlindAppend|    operationMetrics|userMetadata|          engineInfo|\n",
            "+-------+--------------------+------+--------+--------------------+--------------------+----+--------+---------+-----------+--------------+-------------+--------------------+------------+--------------------+\n",
            "|      4|2024-05-11 14:59:...|  NULL|    NULL|              DELETE|{predicate -> [\"(...|NULL|    NULL|     NULL|          3|  Serializable|        false|{numRemovedFiles ...|        NULL|Apache-Spark/3.5....|\n",
            "|      3|2024-05-11 14:59:...|  NULL|    NULL|              UPDATE|{predicate -> [\"(...|NULL|    NULL|     NULL|          2|  Serializable|        false|{numRemovedFiles ...|        NULL|Apache-Spark/3.5....|\n",
            "|      2|2024-05-11 14:59:...|  NULL|    NULL|              UPDATE|{predicate -> [\"(...|NULL|    NULL|     NULL|          1|  Serializable|        false|{numRemovedFiles ...|        NULL|Apache-Spark/3.5....|\n",
            "|      1|2024-05-11 14:59:...|  NULL|    NULL|               MERGE|{predicate -> [\"(...|NULL|    NULL|     NULL|          0|  Serializable|        false|{numTargetRowsCop...|        NULL|Apache-Spark/3.5....|\n",
            "|      0|2024-05-11 14:58:...|  NULL|    NULL|CREATE TABLE AS S...|{isManaged -> fal...|NULL|    NULL|     NULL|       NULL|  Serializable|         true|{numFiles -> 1, n...|        NULL|Apache-Spark/3.5....|\n",
            "+-------+--------------------+------+--------+--------------------+--------------------+----+--------+---------+-----------+--------------+-------------+--------------------+------------+--------------------+\n",
            "\n"
          ]
        }
      ]
    },
    {
      "cell_type": "markdown",
      "source": [
        "### Restoring to a previous version"
      ],
      "metadata": {
        "id": "a1YclKosWbn5"
      }
    },
    {
      "cell_type": "code",
      "source": [
        "query = \"\"\"\n",
        "RESTORE TABLE delta.`/tmp/deltaSales` TO VERSION AS OF 2\n",
        "\"\"\"\n",
        "spark.sql(query).show()\n"
      ],
      "metadata": {
        "colab": {
          "base_uri": "https://localhost:8080/"
        },
        "id": "ChaMilCYWbQ2",
        "outputId": "49200862-bd96-4c97-c7b7-2902bde7993e"
      },
      "execution_count": null,
      "outputs": [
        {
          "output_type": "stream",
          "name": "stdout",
          "text": [
            "+------------------------+--------------------------+-----------------+------------------+------------------+-------------------+\n",
            "|table_size_after_restore|num_of_files_after_restore|num_removed_files|num_restored_files|removed_files_size|restored_files_size|\n",
            "+------------------------+--------------------------+-----------------+------------------+------------------+-------------------+\n",
            "|                   43891|                         2|                2|                 2|             28336|              43891|\n",
            "+------------------------+--------------------------+-----------------+------------------+------------------+-------------------+\n",
            "\n"
          ]
        }
      ]
    },
    {
      "cell_type": "code",
      "source": [
        "query = \"\"\"\n",
        "DESCRIBE HISTORY delta.`/tmp/deltaSales`\n",
        "\"\"\"\n",
        "spark.sql(query).show()"
      ],
      "metadata": {
        "colab": {
          "base_uri": "https://localhost:8080/"
        },
        "id": "CqQT52ChWqd1",
        "outputId": "6d70fe4f-4000-4e49-a24c-1dabf7da26c1"
      },
      "execution_count": null,
      "outputs": [
        {
          "output_type": "stream",
          "name": "stdout",
          "text": [
            "+-------+--------------------+------+--------+--------------------+--------------------+----+--------+---------+-----------+--------------+-------------+--------------------+------------+--------------------+\n",
            "|version|           timestamp|userId|userName|           operation| operationParameters| job|notebook|clusterId|readVersion|isolationLevel|isBlindAppend|    operationMetrics|userMetadata|          engineInfo|\n",
            "+-------+--------------------+------+--------+--------------------+--------------------+----+--------+---------+-----------+--------------+-------------+--------------------+------------+--------------------+\n",
            "|      5|2024-05-11 15:00:...|  NULL|    NULL|             RESTORE|{version -> 2, ti...|NULL|    NULL|     NULL|          4|  Serializable|        false|{numRestoredFiles...|        NULL|Apache-Spark/3.5....|\n",
            "|      4|2024-05-11 14:59:...|  NULL|    NULL|              DELETE|{predicate -> [\"(...|NULL|    NULL|     NULL|          3|  Serializable|        false|{numRemovedFiles ...|        NULL|Apache-Spark/3.5....|\n",
            "|      3|2024-05-11 14:59:...|  NULL|    NULL|              UPDATE|{predicate -> [\"(...|NULL|    NULL|     NULL|          2|  Serializable|        false|{numRemovedFiles ...|        NULL|Apache-Spark/3.5....|\n",
            "|      2|2024-05-11 14:59:...|  NULL|    NULL|              UPDATE|{predicate -> [\"(...|NULL|    NULL|     NULL|          1|  Serializable|        false|{numRemovedFiles ...|        NULL|Apache-Spark/3.5....|\n",
            "|      1|2024-05-11 14:59:...|  NULL|    NULL|               MERGE|{predicate -> [\"(...|NULL|    NULL|     NULL|          0|  Serializable|        false|{numTargetRowsCop...|        NULL|Apache-Spark/3.5....|\n",
            "|      0|2024-05-11 14:58:...|  NULL|    NULL|CREATE TABLE AS S...|{isManaged -> fal...|NULL|    NULL|     NULL|       NULL|  Serializable|         true|{numFiles -> 1, n...|        NULL|Apache-Spark/3.5....|\n",
            "+-------+--------------------+------+--------+--------------------+--------------------+----+--------+---------+-----------+--------------+-------------+--------------------+------------+--------------------+\n",
            "\n"
          ]
        }
      ]
    },
    {
      "cell_type": "markdown",
      "source": [
        "### Vacuuming old records\n",
        "Permanently remove the deleted records using `vacuum`. Check the history again and make sure that the removal has been performed."
      ],
      "metadata": {
        "id": "n26NZ5ity-Rj"
      }
    },
    {
      "cell_type": "code",
      "source": [
        "query = \"\"\"\n",
        "VACUUM delta.`/tmp/deltaSales`\n",
        "\"\"\"\n",
        "spark.sql(query).show()"
      ],
      "metadata": {
        "id": "heTG79_7YWfy",
        "colab": {
          "base_uri": "https://localhost:8080/"
        },
        "outputId": "0f9b4fbf-1523-4a13-ecfa-52dd99981b4d"
      },
      "execution_count": null,
      "outputs": [
        {
          "output_type": "stream",
          "name": "stdout",
          "text": [
            "+--------------------+\n",
            "|                path|\n",
            "+--------------------+\n",
            "|file:/tmp/deltaSales|\n",
            "+--------------------+\n",
            "\n"
          ]
        }
      ]
    },
    {
      "cell_type": "code",
      "source": [
        "query = \"\"\"\n",
        "DESCRIBE HISTORY delta.`/tmp/deltaSales`\n",
        "\"\"\"\n",
        "spark.sql(query).show()"
      ],
      "metadata": {
        "colab": {
          "base_uri": "https://localhost:8080/"
        },
        "id": "Aj-BO1c2WK3x",
        "outputId": "9cdc016e-d915-4867-f0a2-a5c41fc7a27a"
      },
      "execution_count": null,
      "outputs": [
        {
          "output_type": "stream",
          "name": "stdout",
          "text": [
            "+-------+--------------------+------+--------+--------------------+--------------------+----+--------+---------+-----------+-----------------+-------------+--------------------+------------+--------------------+\n",
            "|version|           timestamp|userId|userName|           operation| operationParameters| job|notebook|clusterId|readVersion|   isolationLevel|isBlindAppend|    operationMetrics|userMetadata|          engineInfo|\n",
            "+-------+--------------------+------+--------+--------------------+--------------------+----+--------+---------+-----------+-----------------+-------------+--------------------+------------+--------------------+\n",
            "|      7|2024-05-11 15:02:...|  NULL|    NULL|          VACUUM END|{status -> COMPLE...|NULL|    NULL|     NULL|          6|SnapshotIsolation|         true|{numDeletedFiles ...|        NULL|Apache-Spark/3.5....|\n",
            "|      6|2024-05-11 15:02:...|  NULL|    NULL|        VACUUM START|{retentionCheckEn...|NULL|    NULL|     NULL|          5|SnapshotIsolation|         true|{numFilesToDelete...|        NULL|Apache-Spark/3.5....|\n",
            "|      5|2024-05-11 15:00:...|  NULL|    NULL|             RESTORE|{version -> 2, ti...|NULL|    NULL|     NULL|          4|     Serializable|        false|{numRestoredFiles...|        NULL|Apache-Spark/3.5....|\n",
            "|      4|2024-05-11 14:59:...|  NULL|    NULL|              DELETE|{predicate -> [\"(...|NULL|    NULL|     NULL|          3|     Serializable|        false|{numRemovedFiles ...|        NULL|Apache-Spark/3.5....|\n",
            "|      3|2024-05-11 14:59:...|  NULL|    NULL|              UPDATE|{predicate -> [\"(...|NULL|    NULL|     NULL|          2|     Serializable|        false|{numRemovedFiles ...|        NULL|Apache-Spark/3.5....|\n",
            "|      2|2024-05-11 14:59:...|  NULL|    NULL|              UPDATE|{predicate -> [\"(...|NULL|    NULL|     NULL|          1|     Serializable|        false|{numRemovedFiles ...|        NULL|Apache-Spark/3.5....|\n",
            "|      1|2024-05-11 14:59:...|  NULL|    NULL|               MERGE|{predicate -> [\"(...|NULL|    NULL|     NULL|          0|     Serializable|        false|{numTargetRowsCop...|        NULL|Apache-Spark/3.5....|\n",
            "|      0|2024-05-11 14:58:...|  NULL|    NULL|CREATE TABLE AS S...|{isManaged -> fal...|NULL|    NULL|     NULL|       NULL|     Serializable|         true|{numFiles -> 1, n...|        NULL|Apache-Spark/3.5....|\n",
            "+-------+--------------------+------+--------+--------------------+--------------------+----+--------+---------+-----------+-----------------+-------------+--------------------+------------+--------------------+\n",
            "\n"
          ]
        }
      ]
    },
    {
      "cell_type": "markdown",
      "source": [
        "## Change data feed"
      ],
      "metadata": {
        "id": "R7oLc2P-juaY"
      }
    },
    {
      "cell_type": "markdown",
      "source": [
        "### Table creation with CDF activated"
      ],
      "metadata": {
        "id": "GZ9_0glRj150"
      }
    },
    {
      "cell_type": "code",
      "source": [
        "query = \"\"\"\n",
        "CREATE TABLE IF NOT EXISTS salesOriginal\n",
        "USING csv\n",
        "OPTIONS (\n",
        "  header \"true\",\n",
        "  path \"/tmp/delta/sales/salesOriginal.csv\",\n",
        "  inferSchema \"true\"\n",
        ")\n",
        "\"\"\"\n",
        "spark.sql(query)"
      ],
      "metadata": {
        "colab": {
          "base_uri": "https://localhost:8080/"
        },
        "id": "DVjvb3jNjxW-",
        "outputId": "67789d1b-0ad7-4f89-a7b3-5bd8667fe2fc"
      },
      "execution_count": null,
      "outputs": [
        {
          "output_type": "execute_result",
          "data": {
            "text/plain": [
              "DataFrame[]"
            ]
          },
          "metadata": {},
          "execution_count": 77
        }
      ]
    },
    {
      "cell_type": "code",
      "source": [
        "query = \"\"\"\n",
        "CREATE TABLE delta.`/tmp/deltaSalesCDF` USING DELTA TBLPROPERTIES (delta.enableChangeDataFeed = true)\n",
        "AS SELECT * FROM salesOriginal\n",
        "\"\"\"\n",
        "spark.sql(query)"
      ],
      "metadata": {
        "colab": {
          "base_uri": "https://localhost:8080/"
        },
        "id": "RBYOz4X2j-xT",
        "outputId": "90406103-cd13-4977-ef13-b61c485f4e45"
      },
      "execution_count": null,
      "outputs": [
        {
          "output_type": "execute_result",
          "data": {
            "text/plain": [
              "DataFrame[]"
            ]
          },
          "metadata": {},
          "execution_count": 78
        }
      ]
    },
    {
      "cell_type": "markdown",
      "source": [
        "### CDF for Updates"
      ],
      "metadata": {
        "id": "OmzXP3nNkhxi"
      }
    },
    {
      "cell_type": "code",
      "source": [
        "query = \"\"\"\n",
        "UPDATE delta.`/tmp/deltaSalesCDF`\n",
        "SET unitprice = unitprice * 1.05\n",
        "WHERE saledate >= '2023-02-01' and category='Cloth'\n",
        "\"\"\"\n",
        "spark.sql(query).show()"
      ],
      "metadata": {
        "colab": {
          "base_uri": "https://localhost:8080/"
        },
        "id": "DLJ8O6lWkkhE",
        "outputId": "79c0b0f7-1bd4-43a3-eede-62b0084b0720"
      },
      "execution_count": null,
      "outputs": [
        {
          "output_type": "stream",
          "name": "stdout",
          "text": [
            "+-----------------+\n",
            "|num_affected_rows|\n",
            "+-----------------+\n",
            "|              765|\n",
            "+-----------------+\n",
            "\n"
          ]
        }
      ]
    },
    {
      "cell_type": "code",
      "source": [
        "query = \"\"\"\n",
        "SELECT * FROM table_changes_by_path('/tmp/deltaSalesCDF', 0)\n",
        "\"\"\"\n",
        "spark.sql(query)\n"
      ],
      "metadata": {
        "colab": {
          "base_uri": "https://localhost:8080/"
        },
        "id": "VxKvoYpfjwys",
        "outputId": "1570fcf7-5b2b-4a83-9f5f-53635e31551c"
      },
      "execution_count": null,
      "outputs": [
        {
          "output_type": "execute_result",
          "data": {
            "text/plain": [
              "DataFrame[saleid: string, saledate: date, quantity: double, unitprice: double, shopid: string, city: string, state: string, country: string, shopsize: string, productid: string, category: string, subcategory: string, size: string, purchaseprice: double, color: string, brand: string, _change_type: string, _commit_version: bigint, _commit_timestamp: timestamp]"
            ]
          },
          "metadata": {},
          "execution_count": 94
        }
      ]
    },
    {
      "cell_type": "code",
      "source": [
        "query = \"\"\"\n",
        "SELECT _change_type, _commit_version, _commit_timestamp, count(*)\n",
        "FROM table_changes_by_path('/tmp/deltaSalesCDF', 0)\n",
        "GROUP BY _change_type, _commit_version, _commit_timestamp\n",
        "\"\"\"\n",
        "spark.sql(query).show()"
      ],
      "metadata": {
        "colab": {
          "base_uri": "https://localhost:8080/"
        },
        "id": "d76UtMwblcHo",
        "outputId": "87304815-c749-46cd-c9ca-6ce64acaf748"
      },
      "execution_count": null,
      "outputs": [
        {
          "output_type": "stream",
          "name": "stdout",
          "text": [
            "+----------------+---------------+--------------------+--------+\n",
            "|    _change_type|_commit_version|   _commit_timestamp|count(1)|\n",
            "+----------------+---------------+--------------------+--------+\n",
            "|          insert|              0|2024-05-11 16:51:...|    4916|\n",
            "| update_preimage|              1|2024-05-11 16:53:...|     765|\n",
            "|update_postimage|              1|2024-05-11 16:53:...|     765|\n",
            "+----------------+---------------+--------------------+--------+\n",
            "\n"
          ]
        }
      ]
    },
    {
      "cell_type": "code",
      "source": [
        "query = \"\"\"\n",
        "SELECT saleid, _change_type, unitprice\n",
        "FROM table_changes_by_path('/tmp/deltaSalesCDF', 0)\n",
        "WHERE saledate >= '2023-02-01' and category='Cloth' and _commit_version = 1\n",
        "CLUSTER BY saleid\n",
        "\"\"\"\n",
        "spark.sql(query).show()"
      ],
      "metadata": {
        "colab": {
          "base_uri": "https://localhost:8080/"
        },
        "id": "vVQbly6BkXeY",
        "outputId": "dc63e6f9-e795-4dec-efc9-891c21747306"
      },
      "execution_count": null,
      "outputs": [
        {
          "output_type": "stream",
          "name": "stdout",
          "text": [
            "+----------+----------------+------------------+\n",
            "|    saleid|    _change_type|         unitprice|\n",
            "+----------+----------------+------------------+\n",
            "|S000000374| update_preimage|              20.0|\n",
            "|S000000374|update_postimage|              21.0|\n",
            "|S000000609| update_preimage|              60.0|\n",
            "|S000000609|update_postimage|              63.0|\n",
            "|S000001229| update_preimage|              22.0|\n",
            "|S000001229|update_postimage|              23.1|\n",
            "|S000004225| update_preimage|              60.0|\n",
            "|S000004225|update_postimage|              63.0|\n",
            "|S000002542| update_preimage|              60.0|\n",
            "|S000002542|update_postimage|              63.0|\n",
            "|S000003739| update_preimage|              60.0|\n",
            "|S000003739|update_postimage|              63.0|\n",
            "|S000000483| update_preimage|              49.0|\n",
            "|S000000483|update_postimage|             51.45|\n",
            "|S000000851| update_preimage|              60.0|\n",
            "|S000000851|update_postimage|              63.0|\n",
            "|S000003365| update_preimage|              24.0|\n",
            "|S000003365|update_postimage|25.200000000000003|\n",
            "|S000003375| update_preimage|              60.0|\n",
            "|S000003375|update_postimage|              63.0|\n",
            "+----------+----------------+------------------+\n",
            "only showing top 20 rows\n",
            "\n"
          ]
        }
      ]
    },
    {
      "cell_type": "markdown",
      "source": [
        "### CDF for Deletes"
      ],
      "metadata": {
        "id": "OseLpQxFnKCB"
      }
    },
    {
      "cell_type": "code",
      "source": [
        "query = \"\"\"\n",
        "DELETE FROM delta.`/tmp/deltaSalesCDF`\n",
        "WHERE city = 'Chicago' and category='Cloth'\n",
        "\"\"\"\n",
        "spark.sql(query).show()"
      ],
      "metadata": {
        "colab": {
          "base_uri": "https://localhost:8080/"
        },
        "id": "384NC-GZnO9w",
        "outputId": "fc5daf63-02a2-42ac-f298-ce21a1148ea4"
      },
      "execution_count": null,
      "outputs": [
        {
          "output_type": "stream",
          "name": "stdout",
          "text": [
            "+-----------------+\n",
            "|num_affected_rows|\n",
            "+-----------------+\n",
            "|              244|\n",
            "+-----------------+\n",
            "\n"
          ]
        }
      ]
    },
    {
      "cell_type": "code",
      "source": [
        "query = \"\"\"\n",
        "SELECT _change_type, _commit_version, _commit_timestamp, count(*)\n",
        "FROM table_changes_by_path('/tmp/deltaSalesCDF', 0)\n",
        "GROUP BY _change_type, _commit_version, _commit_timestamp\n",
        "\"\"\"\n",
        "spark.sql(query).show()"
      ],
      "metadata": {
        "colab": {
          "base_uri": "https://localhost:8080/"
        },
        "id": "j2hfvqPWnO2p",
        "outputId": "01badad0-a2c8-4088-a6a6-ad44d374cda7"
      },
      "execution_count": null,
      "outputs": [
        {
          "output_type": "stream",
          "name": "stdout",
          "text": [
            "+----------------+---------------+--------------------+--------+\n",
            "|    _change_type|_commit_version|   _commit_timestamp|count(1)|\n",
            "+----------------+---------------+--------------------+--------+\n",
            "|          delete|              2|2024-05-11 17:10:...|     244|\n",
            "|          insert|              0|2024-05-11 16:51:...|    4916|\n",
            "| update_preimage|              1|2024-05-11 16:53:...|     765|\n",
            "|update_postimage|              1|2024-05-11 16:53:...|     765|\n",
            "+----------------+---------------+--------------------+--------+\n",
            "\n"
          ]
        }
      ]
    },
    {
      "cell_type": "markdown",
      "source": [
        "Retrieve the deleted records"
      ],
      "metadata": {
        "id": "dvxfKgRCoyTD"
      }
    },
    {
      "cell_type": "code",
      "source": [
        "query = \"\"\"\n",
        "SELECT distinct city, category\n",
        "FROM table_changes_by_path('/tmp/deltaSalesCDF', 2)\n",
        "\"\"\"\n",
        "spark.sql(query).show()"
      ],
      "metadata": {
        "colab": {
          "base_uri": "https://localhost:8080/"
        },
        "id": "oTEnGL67ovj4",
        "outputId": "a613b27c-2ded-4733-8043-ab00590e3210"
      },
      "execution_count": null,
      "outputs": [
        {
          "output_type": "stream",
          "name": "stdout",
          "text": [
            "+-------+--------+\n",
            "|   city|category|\n",
            "+-------+--------+\n",
            "|Chicago|   Cloth|\n",
            "+-------+--------+\n",
            "\n"
          ]
        }
      ]
    },
    {
      "cell_type": "markdown",
      "source": [
        "## Query plan analysis"
      ],
      "metadata": {
        "id": "Sp41GQxObYwK"
      }
    },
    {
      "cell_type": "markdown",
      "source": [
        "impact of clustering on query plans"
      ],
      "metadata": {
        "id": "FK0LmP96bc-e"
      }
    },
    {
      "cell_type": "code",
      "source": [
        "spark.conf.set(\"spark.sql.adaptive.enabled\", False)"
      ],
      "metadata": {
        "id": "pjkiFbq7gLny"
      },
      "execution_count": null,
      "outputs": []
    },
    {
      "cell_type": "code",
      "source": [
        "from pyngrok import ngrok, conf\n",
        "import getpass\n",
        "\n",
        "print(\"Enter your authtoken, which can be copied \"\n",
        "\"from https://dashboard.ngrok.com/get-started/your-authtoken\")\n",
        "conf.get_default().auth_token = getpass.getpass()\n",
        "\n",
        "ui_port = 4040\n",
        "public_url = ngrok.connect(ui_port).public_url\n",
        "print(f\" * ngrok tunnel \\\"{public_url}\\\" -> \\\"http://127.0.0.1:{ui_port}\\\"\")"
      ],
      "metadata": {
        "colab": {
          "base_uri": "https://localhost:8080/"
        },
        "id": "3WOUAa-pSzUo",
        "outputId": "bb50f568-1388-45d3-d28c-4100e25facff"
      },
      "execution_count": null,
      "outputs": [
        {
          "output_type": "stream",
          "name": "stdout",
          "text": [
            "Enter your authtoken, which can be copied from https://dashboard.ngrok.com/get-started/your-authtoken\n",
            "··········\n"
          ]
        },
        {
          "output_type": "stream",
          "name": "stderr",
          "text": [
            "WARNING:pyngrok.process.ngrok:t=2024-05-11T15:03:10+0000 lvl=warn msg=\"can't bind default web address, trying alternatives\" obj=web addr=127.0.0.1:4040\n"
          ]
        },
        {
          "output_type": "stream",
          "name": "stdout",
          "text": [
            " * ngrok tunnel \"https://c59b-35-247-76-174.ngrok-free.app\" -> \"http://127.0.0.1:4040\"\n"
          ]
        }
      ]
    },
    {
      "cell_type": "markdown",
      "source": [
        "### Creation of the partitionned delta tables"
      ],
      "metadata": {
        "id": "wChWGI4xdc9a"
      }
    },
    {
      "cell_type": "code",
      "source": [
        "query = \"\"\"\n",
        "CREATE TABLE IF NOT EXISTS salesOriginal\n",
        "USING csv\n",
        "OPTIONS (\n",
        "  header \"true\",\n",
        "  path \"/tmp/delta/sales/salesOriginal.csv\",\n",
        "  inferSchema \"true\"\n",
        ")\n",
        "\"\"\"\n",
        "spark.sql(query)"
      ],
      "metadata": {
        "colab": {
          "base_uri": "https://localhost:8080/"
        },
        "id": "81GCzQ8ST2yz",
        "outputId": "03aefb3c-7f22-46f6-ed88-a0a4979dddfc"
      },
      "execution_count": null,
      "outputs": [
        {
          "output_type": "execute_result",
          "data": {
            "text/plain": [
              "DataFrame[]"
            ]
          },
          "metadata": {},
          "execution_count": 44
        }
      ]
    },
    {
      "cell_type": "markdown",
      "source": [
        "#### Partition by one column"
      ],
      "metadata": {
        "id": "qouNuKmLQTMm"
      }
    },
    {
      "cell_type": "code",
      "source": [
        "query = \"\"\"\n",
        "CREATE TABLE delta.`/tmp/deltaSalesPerCity` USING DELTA PARTITIONED BY (city)\n",
        "AS SELECT * FROM salesOriginal\n",
        "\"\"\"\n",
        "spark.sql(query)"
      ],
      "metadata": {
        "colab": {
          "base_uri": "https://localhost:8080/"
        },
        "id": "XAL25djdbdMB",
        "outputId": "558b1da3-92d7-4e61-dcce-557312f94872"
      },
      "execution_count": null,
      "outputs": [
        {
          "output_type": "execute_result",
          "data": {
            "text/plain": [
              "DataFrame[]"
            ]
          },
          "metadata": {},
          "execution_count": 45
        }
      ]
    },
    {
      "cell_type": "code",
      "source": [
        "query = \"\"\"\n",
        "DESCRIBE delta.`/tmp/deltaSalesPerCity`\n",
        "\"\"\"\n",
        "spark.sql(query).show(truncate=False)"
      ],
      "metadata": {
        "colab": {
          "base_uri": "https://localhost:8080/"
        },
        "id": "cMR7VCgydiZn",
        "outputId": "5d4f3375-765c-494c-ed06-ebdc938a2104"
      },
      "execution_count": null,
      "outputs": [
        {
          "output_type": "stream",
          "name": "stdout",
          "text": [
            "+-----------------------+---------+-------+\n",
            "|col_name               |data_type|comment|\n",
            "+-----------------------+---------+-------+\n",
            "|saleid                 |string   |NULL   |\n",
            "|saledate               |date     |NULL   |\n",
            "|quantity               |double   |NULL   |\n",
            "|unitprice              |double   |NULL   |\n",
            "|shopid                 |string   |NULL   |\n",
            "|city                   |string   |NULL   |\n",
            "|state                  |string   |NULL   |\n",
            "|country                |string   |NULL   |\n",
            "|shopsize               |string   |NULL   |\n",
            "|productid              |string   |NULL   |\n",
            "|category               |string   |NULL   |\n",
            "|subcategory            |string   |NULL   |\n",
            "|size                   |string   |NULL   |\n",
            "|purchaseprice          |double   |NULL   |\n",
            "|color                  |string   |NULL   |\n",
            "|brand                  |string   |NULL   |\n",
            "|# Partition Information|         |       |\n",
            "|# col_name             |data_type|comment|\n",
            "|city                   |string   |NULL   |\n",
            "+-----------------------+---------+-------+\n",
            "\n"
          ]
        }
      ]
    },
    {
      "cell_type": "code",
      "source": [
        "! ls /tmp/deltaSalesPerCity"
      ],
      "metadata": {
        "colab": {
          "base_uri": "https://localhost:8080/"
        },
        "id": "eJ6lXtoedtTT",
        "outputId": "6fa7b605-56d0-46a9-9e90-570cca53f4c7"
      },
      "execution_count": null,
      "outputs": [
        {
          "output_type": "stream",
          "name": "stdout",
          "text": [
            "'city=Bergamo'\t'city=Houston'\t    'city=New York'    'city=San Antonio'     _delta_log\n",
            "'city=Chicago'\t'city=Los Angeles'  'city=Offenbach'   'city=San Diego'\n",
            "'city=Chieti'\t'city=Milan'\t    'city=Pescara'     'city=San Francisco'\n",
            "'city=Fulda'\t'city=Munich'\t    'city=Regensburg'  'city=San Jose'\n"
          ]
        }
      ]
    },
    {
      "cell_type": "code",
      "source": [
        "! ls /tmp/deltaSalesPerCity/'city=Bergamo'"
      ],
      "metadata": {
        "colab": {
          "base_uri": "https://localhost:8080/"
        },
        "id": "lsrBHb1vd5G5",
        "outputId": "0f562063-f997-4038-a4dc-2bffa6dca2f0"
      },
      "execution_count": null,
      "outputs": [
        {
          "output_type": "stream",
          "name": "stdout",
          "text": [
            "part-00000-2aaadd4a-3cf8-436f-b236-b4a8924c3d43.c000.snappy.parquet\n"
          ]
        }
      ]
    },
    {
      "cell_type": "code",
      "source": [
        "query = \"\"\"\n",
        "CREATE TABLE delta.`/tmp/deltaSalesPerCityCategory` USING DELTA PARTITIONED BY (city,category)\n",
        "AS SELECT * FROM salesOriginal\n",
        "\"\"\"\n",
        "spark.sql(query)"
      ],
      "metadata": {
        "colab": {
          "base_uri": "https://localhost:8080/"
        },
        "id": "OFlYJvLNdIiC",
        "outputId": "2be79971-2b54-49f7-fceb-20c92ce8e37c"
      },
      "execution_count": null,
      "outputs": [
        {
          "output_type": "execute_result",
          "data": {
            "text/plain": [
              "DataFrame[]"
            ]
          },
          "metadata": {},
          "execution_count": 49
        }
      ]
    },
    {
      "cell_type": "markdown",
      "source": [
        "#### Partition by two columns"
      ],
      "metadata": {
        "id": "6jbB6lVIQcUb"
      }
    },
    {
      "cell_type": "code",
      "source": [
        "query = \"\"\"\n",
        "DESCRIBE delta.`/tmp/deltaSalesPerCityCategory`\n",
        "\"\"\"\n",
        "spark.sql(query).show(truncate=False)"
      ],
      "metadata": {
        "colab": {
          "base_uri": "https://localhost:8080/"
        },
        "id": "mH77O5MVdY_t",
        "outputId": "6685682a-504c-419b-a26a-1dd880989415"
      },
      "execution_count": null,
      "outputs": [
        {
          "output_type": "stream",
          "name": "stdout",
          "text": [
            "+-----------------------+---------+-------+\n",
            "|col_name               |data_type|comment|\n",
            "+-----------------------+---------+-------+\n",
            "|saleid                 |string   |NULL   |\n",
            "|saledate               |date     |NULL   |\n",
            "|quantity               |double   |NULL   |\n",
            "|unitprice              |double   |NULL   |\n",
            "|shopid                 |string   |NULL   |\n",
            "|city                   |string   |NULL   |\n",
            "|state                  |string   |NULL   |\n",
            "|country                |string   |NULL   |\n",
            "|shopsize               |string   |NULL   |\n",
            "|productid              |string   |NULL   |\n",
            "|category               |string   |NULL   |\n",
            "|subcategory            |string   |NULL   |\n",
            "|size                   |string   |NULL   |\n",
            "|purchaseprice          |double   |NULL   |\n",
            "|color                  |string   |NULL   |\n",
            "|brand                  |string   |NULL   |\n",
            "|# Partition Information|         |       |\n",
            "|# col_name             |data_type|comment|\n",
            "|city                   |string   |NULL   |\n",
            "|category               |string   |NULL   |\n",
            "+-----------------------+---------+-------+\n",
            "\n"
          ]
        }
      ]
    },
    {
      "cell_type": "code",
      "source": [
        "! ls /tmp/deltaSalesPerCityCategory"
      ],
      "metadata": {
        "colab": {
          "base_uri": "https://localhost:8080/"
        },
        "id": "sCOh_T95ddDE",
        "outputId": "d0f9bcf1-3038-4314-c490-508bab525f07"
      },
      "execution_count": null,
      "outputs": [
        {
          "output_type": "stream",
          "name": "stdout",
          "text": [
            "'city=Bergamo'\t'city=Houston'\t    'city=New York'    'city=San Antonio'     _delta_log\n",
            "'city=Chicago'\t'city=Los Angeles'  'city=Offenbach'   'city=San Diego'\n",
            "'city=Chieti'\t'city=Milan'\t    'city=Pescara'     'city=San Francisco'\n",
            "'city=Fulda'\t'city=Munich'\t    'city=Regensburg'  'city=San Jose'\n"
          ]
        }
      ]
    },
    {
      "cell_type": "code",
      "source": [
        "! ls /tmp/deltaSalesPerCityCategory/'city=Bergamo'"
      ],
      "metadata": {
        "colab": {
          "base_uri": "https://localhost:8080/"
        },
        "id": "n5v17k81dodg",
        "outputId": "38b4f719-9ad5-46f6-bb35-521f0069797a"
      },
      "execution_count": null,
      "outputs": [
        {
          "output_type": "stream",
          "name": "stdout",
          "text": [
            "'category=Cloth'  'category=Furniture'\n"
          ]
        }
      ]
    },
    {
      "cell_type": "markdown",
      "source": [
        "### Comparing the query plans"
      ],
      "metadata": {
        "id": "sp2_U2rfeSLr"
      }
    },
    {
      "cell_type": "markdown",
      "source": [
        "#### selection query on the partitionning column"
      ],
      "metadata": {
        "id": "FXEjT5Y_g3Ry"
      }
    },
    {
      "cell_type": "code",
      "source": [
        "query = \"\"\"\n",
        "SELECT sum(quantity) as sumQty, max(unitprice) as maxPrice\n",
        "FROM salesOriginal\n",
        "WHERE city in('San Francisco', 'Chicago')\n",
        "\"\"\"\n",
        "spark.sql(query).collect()"
      ],
      "metadata": {
        "colab": {
          "base_uri": "https://localhost:8080/"
        },
        "id": "mNrjessAfmdc",
        "outputId": "c4e572c4-f63d-4d38-cab5-4bddf41894f3"
      },
      "execution_count": null,
      "outputs": [
        {
          "output_type": "execute_result",
          "data": {
            "text/plain": [
              "[Row(sumQty=1214.0, maxPrice=440.0)]"
            ]
          },
          "metadata": {},
          "execution_count": 54
        }
      ]
    },
    {
      "cell_type": "code",
      "source": [
        "query = \"\"\"\n",
        "SELECT sum(quantity) as sumQty, max(unitprice) as maxPrice\n",
        "FROM delta.`/tmp/deltaSalesPerCity`\n",
        "WHERE city in('San Francisco', 'Chicago')\n",
        "\"\"\"\n",
        "spark.sql(query).collect()"
      ],
      "metadata": {
        "colab": {
          "base_uri": "https://localhost:8080/"
        },
        "id": "Hb5EZGayf71D",
        "outputId": "dafea727-54d9-4ee2-aa6b-e770b0a701d2"
      },
      "execution_count": null,
      "outputs": [
        {
          "output_type": "execute_result",
          "data": {
            "text/plain": [
              "[Row(sumQty=1214.0, maxPrice=440.0)]"
            ]
          },
          "metadata": {},
          "execution_count": 55
        }
      ]
    },
    {
      "cell_type": "code",
      "source": [
        "query = \"\"\"\n",
        "SELECT sum(quantity) as sumQty, max(unitprice) as maxPrice\n",
        "FROM salesOriginal\n",
        "WHERE category = 'Cloth'\n",
        "\"\"\"\n",
        "spark.sql(query).collect()"
      ],
      "metadata": {
        "colab": {
          "base_uri": "https://localhost:8080/"
        },
        "id": "y9L3-WJASETG",
        "outputId": "258e9259-da4d-4a62-f0f0-0c01bfb6d487"
      },
      "execution_count": null,
      "outputs": [
        {
          "output_type": "execute_result",
          "data": {
            "text/plain": [
              "[Row(sumQty=5208.0, maxPrice=60.0)]"
            ]
          },
          "metadata": {},
          "execution_count": 60
        }
      ]
    },
    {
      "cell_type": "code",
      "source": [
        "query = \"\"\"\n",
        "SELECT sum(quantity) as sumQty, max(unitprice) as maxPrice\n",
        "FROM delta.`/tmp/deltaSalesPerCityCategory`\n",
        "WHERE category = 'Cloth'\n",
        "\"\"\"\n",
        "spark.sql(query).collect()"
      ],
      "metadata": {
        "colab": {
          "base_uri": "https://localhost:8080/"
        },
        "id": "pTp7SO8eSC9s",
        "outputId": "8c832d15-5318-4d34-9bc5-063210ae784e"
      },
      "execution_count": null,
      "outputs": [
        {
          "output_type": "execute_result",
          "data": {
            "text/plain": [
              "[Row(sumQty=5208.0, maxPrice=60.0)]"
            ]
          },
          "metadata": {},
          "execution_count": 61
        }
      ]
    },
    {
      "cell_type": "markdown",
      "source": [
        "observe the metrics reporting the number of files read, and size of data read"
      ],
      "metadata": {
        "id": "vdUN-E9zhK4C"
      }
    },
    {
      "cell_type": "markdown",
      "source": [
        "#### selection query on a column not used for partitionning"
      ],
      "metadata": {
        "id": "tbe8NswrWrsz"
      }
    },
    {
      "cell_type": "code",
      "source": [
        "query = \"\"\"\n",
        "SELECT sum(quantity) as sumQty, max(unitprice) as maxPrice\n",
        "FROM salesOriginal\n",
        "WHERE country in ('Germany', 'Italy')\n",
        "\"\"\"\n",
        "spark.sql(query).collect()"
      ],
      "metadata": {
        "colab": {
          "base_uri": "https://localhost:8080/"
        },
        "id": "jnrw7x9pW12_",
        "outputId": "518da93c-7e40-4038-b481-eb77dfdd823b"
      },
      "execution_count": null,
      "outputs": [
        {
          "output_type": "execute_result",
          "data": {
            "text/plain": [
              "[Row(sumQty=3232.0, maxPrice=440.0)]"
            ]
          },
          "metadata": {},
          "execution_count": 56
        }
      ]
    },
    {
      "cell_type": "code",
      "source": [
        "query = \"\"\"\n",
        "SELECT sum(quantity) as sumQty, max(unitprice) as maxPrice\n",
        "FROM delta.`/tmp/deltaSalesPerCity`\n",
        "WHERE country in ('Germany', 'Italy')\n",
        "\"\"\"\n",
        "spark.sql(query).collect()"
      ],
      "metadata": {
        "colab": {
          "base_uri": "https://localhost:8080/"
        },
        "id": "OMxYv41aW4BR",
        "outputId": "206b0c63-ee02-4efc-b9bd-d81e39de7a3b"
      },
      "execution_count": null,
      "outputs": [
        {
          "output_type": "execute_result",
          "data": {
            "text/plain": [
              "[Row(sumQty=3232.0, maxPrice=440.0)]"
            ]
          },
          "metadata": {},
          "execution_count": 57
        }
      ]
    },
    {
      "cell_type": "markdown",
      "source": [
        "#### aggregation query on the partitionning column"
      ],
      "metadata": {
        "id": "MppWYwCjezIP"
      }
    },
    {
      "cell_type": "code",
      "source": [
        "query = \"\"\"\n",
        "SELECT city, sum(quantity) as sumQty, max(unitprice) as maxPrice\n",
        "FROM salesOriginal\n",
        "group by city\n",
        "\"\"\"\n",
        "spark.sql(query).collect()[0]"
      ],
      "metadata": {
        "colab": {
          "base_uri": "https://localhost:8080/"
        },
        "id": "_8puO38ad0Ax",
        "outputId": "e9a201cc-75a9-4448-967e-242ef6a65ab9"
      },
      "execution_count": null,
      "outputs": [
        {
          "output_type": "execute_result",
          "data": {
            "text/plain": [
              "Row(city='Fulda', sumQty=405.0, maxPrice=440.0)"
            ]
          },
          "metadata": {},
          "execution_count": 62
        }
      ]
    },
    {
      "cell_type": "code",
      "source": [
        "query = \"\"\"\n",
        "SELECT city, sum(quantity) as sumQty, max(unitprice) as maxPrice\n",
        "FROM delta.`/tmp/deltaSalesPerCity`\n",
        "group by city\n",
        "\"\"\"\n",
        "spark.sql(query).collect()[0]"
      ],
      "metadata": {
        "colab": {
          "base_uri": "https://localhost:8080/"
        },
        "id": "VhXpTsWqeyW3",
        "outputId": "daa49466-9dbb-4035-b700-91c7e58ac58d"
      },
      "execution_count": null,
      "outputs": [
        {
          "output_type": "execute_result",
          "data": {
            "text/plain": [
              "Row(city='Fulda', sumQty=405.0, maxPrice=440.0)"
            ]
          },
          "metadata": {},
          "execution_count": 63
        }
      ]
    },
    {
      "cell_type": "markdown",
      "source": [
        "#### aggregation query on a column not used for partitionning"
      ],
      "metadata": {
        "id": "Cf_TDu65ZXGX"
      }
    },
    {
      "cell_type": "code",
      "source": [
        "query = \"\"\"\n",
        "SELECT country, sum(quantity) as sumQty, max(unitprice) as maxPrice\n",
        "FROM salesOriginal\n",
        "group by country\n",
        "\"\"\"\n",
        "spark.sql(query).collect()[0]"
      ],
      "metadata": {
        "colab": {
          "base_uri": "https://localhost:8080/"
        },
        "id": "16TGl-v1ZhjN",
        "outputId": "65d3f7eb-68bf-490d-a44d-80be7fa86b9a"
      },
      "execution_count": null,
      "outputs": [
        {
          "output_type": "execute_result",
          "data": {
            "text/plain": [
              "Row(country='Germany', sumQty=1616.0, maxPrice=440.0)"
            ]
          },
          "metadata": {},
          "execution_count": 64
        }
      ]
    },
    {
      "cell_type": "code",
      "source": [
        "query = \"\"\"\n",
        "SELECT country, sum(quantity) as sumQty, max(unitprice) as maxPrice\n",
        "FROM delta.`/tmp/deltaSalesPerCity`\n",
        "group by country\n",
        "\"\"\"\n",
        "spark.sql(query).collect()[0]"
      ],
      "metadata": {
        "colab": {
          "base_uri": "https://localhost:8080/"
        },
        "id": "-VPmkIpJZhSg",
        "outputId": "1c94bbe9-598a-4482-fabf-dabc4bd8d9d7"
      },
      "execution_count": null,
      "outputs": [
        {
          "output_type": "execute_result",
          "data": {
            "text/plain": [
              "Row(country='Germany', sumQty=1616.0, maxPrice=440.0)"
            ]
          },
          "metadata": {},
          "execution_count": 65
        }
      ]
    }
  ]
}